{
 "cells": [
  {
   "cell_type": "markdown",
   "metadata": {},
   "source": [
    "## [Remove Adjacent 移除相鄰的（？）](https://codeforces.com/problemset/problem/1321/C)\n",
    "\n",
    "### 目標：給定小寫字母串，盡可能移除最多的字母，然後回傳移除的字母數\n",
    "### 規則: 要移除的字母有以下條件：左或右的字母必須至少有一者是它的前一個字母\n",
    "#### 以 bacabcab 為例，可以移除第一個字母，因為b的右邊有a，是b的前一個字母"
   ]
  },
  {
   "cell_type": "code",
   "execution_count": 1,
   "metadata": {},
   "outputs": [],
   "source": [
    "s = 'bacabcab'"
   ]
  },
  {
   "cell_type": "code",
   "execution_count": 3,
   "metadata": {},
   "outputs": [],
   "source": [
    "s = list(map(ord,s))"
   ]
  },
  {
   "cell_type": "code",
   "execution_count": 47,
   "metadata": {},
   "outputs": [],
   "source": [
    "def removeable(s,i): #檢驗a中的某一元素是否可以移除，如果可以，便移除\n",
    "    ans =[]\n",
    "    if i != 0:\n",
    "        ans.append(s[i]-s[i-1] == 1)\n",
    "    if i != len(s)-1:\n",
    "        ans.append(s[i]-s[i+1] == 1)\n",
    "    if True in ans:\n",
    "        return True\n",
    "    else:\n",
    "        return False\n",
    "def find(s,k):\n",
    "    whe = []\n",
    "    for i in range(len(s)):\n",
    "        if s[i] == k:\n",
    "            whe.append(i)\n",
    "    return whe"
   ]
  },
  {
   "cell_type": "code",
   "execution_count": 54,
   "metadata": {},
   "outputs": [
    {
     "name": "stdout",
     "output_type": "stream",
     "text": [
      "bacabcab\n",
      "4\n"
     ]
    }
   ],
   "source": [
    "s = list(map(ord,input('')))\n",
    "k = 1\n",
    "n=0\n",
    "while k == 1: \n",
    "    k = 0\n",
    "    pa = False\n",
    "    s_ = set(s)\n",
    "    s_ =sorted(s_,reverse=True)\n",
    "    for o in s_:\n",
    "        #print(o)\n",
    "        if pa == True:\n",
    "            break\n",
    "        for l in find(s,o):\n",
    "            if pa == True:\n",
    "                break\n",
    "            if removeable(s,l):\n",
    "               # print('-',s[l])\n",
    "                del s[l]\n",
    "                k=1\n",
    "                n = n+1\n",
    "                pa = True\n",
    "                \n",
    "    if k == 0:\n",
    "        break\n",
    "print(n)"
   ]
  },
  {
   "cell_type": "code",
   "execution_count": null,
   "metadata": {},
   "outputs": [],
   "source": []
  }
 ],
 "metadata": {
  "kernelspec": {
   "display_name": "Python 3",
   "language": "python",
   "name": "python3"
  },
  "language_info": {
   "codemirror_mode": {
    "name": "ipython",
    "version": 3
   },
   "file_extension": ".py",
   "mimetype": "text/x-python",
   "name": "python",
   "nbconvert_exporter": "python",
   "pygments_lexer": "ipython3",
   "version": "3.7.4"
  }
 },
 "nbformat": 4,
 "nbformat_minor": 2
}
