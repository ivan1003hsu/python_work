{
 "cells": [
  {
   "cell_type": "markdown",
   "metadata": {},
   "source": [
    "## [失效的像素](https://codeforces.com/problemset/problem/1315/A)\n",
    "\n",
    "### 目標：有一個螢幕有$a*b$個像素，但不幸壞了其中一個，若今天要放大螢幕，求最大能放大的長方形區域像素數。\n",
    "### 輸入：\n",
    "* 第一行：進行次數\n",
    "* 第二行：輸入四個整數，依序是$a b x y$，其中$(x,y)$就是壞掉的像素座標\n",
    "\n",
    "### 輸出：\n",
    "* 像素數"
   ]
  },
  {
   "cell_type": "code",
   "execution_count": 18,
   "metadata": {},
   "outputs": [
    {
     "name": "stdout",
     "output_type": "stream",
     "text": [
      "3\n",
      "8 8 0 0\n",
      "1 10 0 3\n",
      "17 31 10 4\n",
      "64\n",
      "7\n",
      "459\n"
     ]
    }
   ],
   "source": [
    "TIMES = int(input())\n",
    "ANS=[]\n",
    "for TIME in range(TIMES):\n",
    "    abxy=list(map(int,input().split(' ')))\n",
    "    ## y-1*a, (b-y*)a, (x-1)*b, (a-x)*b\n",
    "    ANS.append(max(abxy[0]*(abxy[3]-1),abxy[0]*(abxy[1]-abxy[3]),(abxy[2]-1)*abxy[1],(abxy[0]-abxy[2])*abxy[3]))\n",
    "for ans in ANS:\n",
    "    print(ans)"
   ]
  },
  {
   "cell_type": "markdown",
   "metadata": {},
   "source": [
    "note:"
   ]
  },
  {
   "cell_type": "markdown",
   "metadata": {},
   "source": [
    "。有效像素 ＊失效像素\n",
    "以輸入8 8 0 0 為例"
   ]
  },
  {
   "cell_type": "markdown",
   "metadata": {},
   "source": [
    "＊  。  。  。  。  。  。  。\n",
    "\n",
    "。  。  。  。  。  。  。  。\n",
    "\n",
    "。  。  。  。  。  。  。  。\n",
    "\n",
    "。  。  。  。  。  。  。  。\n",
    "\n",
    "。  。  。  。  。  。  。  。\n",
    "\n",
    "。  。  。  。  。  。  。  。\n",
    "\n",
    "。  。  。  。  。  。  。  。\n",
    "\n",
    "。  。  。  。  。  。  。  。"
   ]
  },
  {
   "cell_type": "markdown",
   "metadata": {},
   "source": [
    "output:56"
   ]
  },
  {
   "cell_type": "code",
   "execution_count": null,
   "metadata": {},
   "outputs": [],
   "source": []
  }
 ],
 "metadata": {
  "kernelspec": {
   "display_name": "Python 3",
   "language": "python",
   "name": "python3"
  },
  "language_info": {
   "codemirror_mode": {
    "name": "ipython",
    "version": 3
   },
   "file_extension": ".py",
   "mimetype": "text/x-python",
   "name": "python",
   "nbconvert_exporter": "python",
   "pygments_lexer": "ipython3",
   "version": "3.7.4"
  }
 },
 "nbformat": 4,
 "nbformat_minor": 2
}
