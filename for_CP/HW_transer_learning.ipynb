{
  "nbformat": 4,
  "nbformat_minor": 0,
  "metadata": {
    "colab": {
      "name": "HW_transer_learning.ipynb",
      "provenance": [],
      "authorship_tag": "ABX9TyMDGCpke00TTenZJCu/WmCt",
      "include_colab_link": true
    },
    "kernelspec": {
      "name": "python3",
      "display_name": "Python 3"
    },
    "accelerator": "TPU"
  },
  "cells": [
    {
      "cell_type": "markdown",
      "metadata": {
        "id": "view-in-github",
        "colab_type": "text"
      },
      "source": [
        "<a href=\"https://colab.research.google.com/github/ivan1003hsu/python_work/blob/master/for_CP/HW_transer_learning.ipynb\" target=\"_parent\"><img src=\"https://colab.research.google.com/assets/colab-badge.svg\" alt=\"Open In Colab\"/></a>"
      ]
    },
    {
      "cell_type": "code",
      "metadata": {
        "id": "vXtlRJxQER_q",
        "colab_type": "code",
        "colab": {}
      },
      "source": [
        "import numpy as np\n",
        "import tensorflow as tf"
      ],
      "execution_count": 0,
      "outputs": []
    },
    {
      "cell_type": "code",
      "metadata": {
        "id": "8NngV5VyFtWl",
        "colab_type": "code",
        "colab": {}
      },
      "source": [
        "from tensorflow.keras.layers import Input\n",
        "from tensorflow.keras.layers import Conv2D, MaxPooling2D, Add, ReLU, Dense, BatchNormalization, Flatten\n",
        "from tensorflow.keras.models import Model\n",
        "from tensorflow.keras.optimizers import Adam\n",
        "from tensorflow.keras.utils import to_categorical\n"
      ],
      "execution_count": 0,
      "outputs": []
    },
    {
      "cell_type": "code",
      "metadata": {
        "id": "OVw5z3JAi3tk",
        "colab_type": "code",
        "colab": {}
      },
      "source": [
        "from tensorflow.keras import datasets\n",
        "\n",
        "# Load CIFAR 100\n",
        "(U_train, v_train0), (U_test, v_test0) = datasets.cifar100.load_data()\n",
        "\n",
        "# Normalize the range of featurs\n",
        "U_train = U_train / U_train.max()\n",
        "U_test = U_test / U_test.max()\n",
        "\n",
        "# One-hot encoding\n",
        "v_train = to_categorical(v_train0, 100)\n",
        "v_test = to_categorical(v_test0, 100)"
      ],
      "execution_count": 0,
      "outputs": []
    },
    {
      "cell_type": "code",
      "metadata": {
        "id": "IGHRTdNN543y",
        "colab_type": "code",
        "outputId": "88f397f8-6768-42bb-c389-336dfcb59e26",
        "colab": {
          "base_uri": "https://localhost:8080/",
          "height": 265
        }
      },
      "source": [
        "import matplotlib.pyplot as plt\n",
        "idx = np.random.randint(U_train.shape[0])\n",
        "U_sample = U_train[idx]\n",
        "v_sample = v_train0[idx].squeeze()\n",
        "print(v_sample)\n",
        "plt.imshow(U_sample)\n",
        "plt.axis('off');"
      ],
      "execution_count": 11,
      "outputs": [
        {
          "output_type": "stream",
          "text": [
            "91\n"
          ],
          "name": "stdout"
        },
        {
          "output_type": "display_data",
          "data": {
            "image/png": "[encoded data removed]",
            "text/plain": [
              "<Figure size 432x288 with 1 Axes>"
            ]
          },
          "metadata": {
            "tags": [],
            "needs_background": "light"
          }
        }
      ]
    },
    {
      "cell_type": "markdown",
      "metadata": {
        "id": "MQOWfFjV9kHs",
        "colab_type": "text"
      },
      "source": [
        "## ----------------先訓練一個100分類的model-------------------\n"
      ]
    },
    {
      "cell_type": "code",
      "metadata": {
        "id": "ydt0ym0I6UG9",
        "colab_type": "code",
        "colab": {}
      },
      "source": [
        "def resnet_CNN2(a,f_n=16,f_size=(3,3),activation='relu'):\n",
        "    #a1 = Conv2D(int(f_n/2) ,(1,1), activation=activation, padding='same')(a) ##減小參數數，參考inception v2\n",
        "    a1 = Conv2D(f_n ,f_size, activation=activation, padding='same')(a)\n",
        "    a1 = BatchNormalization()(a1)\n",
        "    a = Add()([a,a1])\n",
        "    a = ReLU()(a)\n",
        "    return a"
      ],
      "execution_count": 0,
      "outputs": []
    },
    {
      "cell_type": "code",
      "metadata": {
        "id": "mk892ItA6hMY",
        "colab_type": "code",
        "colab": {}
      },
      "source": [
        "inputx = Input(shape=(32,32,3,))\n",
        "x = Conv2D(16,(2,2), padding='same',activation='relu')(inputx)\n",
        "x = resnet_CNN2(x)\n",
        "x = MaxPooling2D(2,2)(x)\n",
        "\n",
        "x = Conv2D(32,(2,2), padding='same',activation='relu')(x)\n",
        "x = resnet_CNN2(x, f_n=32)\n",
        "x = MaxPooling2D(2,2)(x)\n",
        "\n",
        "x = Conv2D(64,(2,2), padding='same',activation='relu')(x)\n",
        "x = resnet_CNN2(x, f_n=64)\n",
        "x = MaxPooling2D(2,2)(x)\n",
        "\n",
        "x = Conv2D(128,(2,2), padding='same',activation='relu')(x)\n",
        "x = resnet_CNN2(x, f_n=128)\n",
        "x = MaxPooling2D(2,2)(x)\n",
        "\n",
        "x = Flatten()(x)\n",
        "x = Dense(128, activation='relu')(x）\n",
        "x = Dense(128, activation='relu')(x)\n",
        "x = Dense(100, activation='softmax')(x)\n",
        "Hundred_class_M = Model(inputs=inputx, outputs=x)"
      ],
      "execution_count": 0,
      "outputs": []
    },
    {
      "cell_type": "code",
      "metadata": {
        "id": "KCaU5KJhlAqn",
        "colab_type": "code",
        "outputId": "21f1b8f4-c2a0-4de5-c21e-59caf43f9daf",
        "colab": {
          "base_uri": "https://localhost:8080/",
          "height": 1000
        }
      },
      "source": [
        "Hundred_class_M.compile(loss='categorical_crossentropy', optimizer=Adam(), metrics=['accuracy'])\n",
        "Hundred_class_M.summary()"
      ],
      "execution_count": 39,
      "outputs": [
        {
          "output_type": "stream",
          "text": [
            "Model: \"model_6\"\n",
            "__________________________________________________________________________________________________\n",
            "Layer (type)                    Output Shape         Param #     Connected to                     \n",
            "==================================================================================================\n",
            "input_10 (InputLayer)           [(None, 32, 32, 3)]  0                                            \n",
            "__________________________________________________________________________________________________\n",
            "conv2d_110 (Conv2D)             (None, 32, 32, 16)   208         input_10[0][0]                   \n",
            "__________________________________________________________________________________________________\n",
            "conv2d_111 (Conv2D)             (None, 32, 32, 16)   2320        conv2d_110[0][0]                 \n",
            "__________________________________________________________________________________________________\n",
            "batch_normalization_127 (BatchN (None, 32, 32, 16)   64          conv2d_111[0][0]                 \n",
            "__________________________________________________________________________________________________\n",
            "add_60 (Add)                    (None, 32, 32, 16)   0           conv2d_110[0][0]                 \n",
            "                                                                 batch_normalization_127[0][0]    \n",
            "__________________________________________________________________________________________________\n",
            "re_lu_60 (ReLU)                 (None, 32, 32, 16)   0           add_60[0][0]                     \n",
            "__________________________________________________________________________________________________\n",
            "max_pooling2d_32 (MaxPooling2D) (None, 16, 16, 16)   0           re_lu_60[0][0]                   \n",
            "__________________________________________________________________________________________________\n",
            "conv2d_112 (Conv2D)             (None, 16, 16, 32)   2080        max_pooling2d_32[0][0]           \n",
            "__________________________________________________________________________________________________\n",
            "conv2d_113 (Conv2D)             (None, 16, 16, 32)   9248        conv2d_112[0][0]                 \n",
            "__________________________________________________________________________________________________\n",
            "batch_normalization_128 (BatchN (None, 16, 16, 32)   128         conv2d_113[0][0]                 \n",
            "__________________________________________________________________________________________________\n",
            "add_61 (Add)                    (None, 16, 16, 32)   0           conv2d_112[0][0]                 \n",
            "                                                                 batch_normalization_128[0][0]    \n",
            "__________________________________________________________________________________________________\n",
            "re_lu_61 (ReLU)                 (None, 16, 16, 32)   0           add_61[0][0]                     \n",
            "__________________________________________________________________________________________________\n",
            "max_pooling2d_33 (MaxPooling2D) (None, 8, 8, 32)     0           re_lu_61[0][0]                   \n",
            "__________________________________________________________________________________________________\n",
            "conv2d_114 (Conv2D)             (None, 8, 8, 64)     8256        max_pooling2d_33[0][0]           \n",
            "__________________________________________________________________________________________________\n",
            "conv2d_115 (Conv2D)             (None, 8, 8, 64)     36928       conv2d_114[0][0]                 \n",
            "__________________________________________________________________________________________________\n",
            "batch_normalization_129 (BatchN (None, 8, 8, 64)     256         conv2d_115[0][0]                 \n",
            "__________________________________________________________________________________________________\n",
            "add_62 (Add)                    (None, 8, 8, 64)     0           conv2d_114[0][0]                 \n",
            "                                                                 batch_normalization_129[0][0]    \n",
            "__________________________________________________________________________________________________\n",
            "re_lu_62 (ReLU)                 (None, 8, 8, 64)     0           add_62[0][0]                     \n",
            "__________________________________________________________________________________________________\n",
            "max_pooling2d_34 (MaxPooling2D) (None, 4, 4, 64)     0           re_lu_62[0][0]                   \n",
            "__________________________________________________________________________________________________\n",
            "conv2d_116 (Conv2D)             (None, 4, 4, 128)    32896       max_pooling2d_34[0][0]           \n",
            "__________________________________________________________________________________________________\n",
            "conv2d_117 (Conv2D)             (None, 4, 4, 128)    147584      conv2d_116[0][0]                 \n",
            "__________________________________________________________________________________________________\n",
            "batch_normalization_130 (BatchN (None, 4, 4, 128)    512         conv2d_117[0][0]                 \n",
            "__________________________________________________________________________________________________\n",
            "add_63 (Add)                    (None, 4, 4, 128)    0           conv2d_116[0][0]                 \n",
            "                                                                 batch_normalization_130[0][0]    \n",
            "__________________________________________________________________________________________________\n",
            "re_lu_63 (ReLU)                 (None, 4, 4, 128)    0           add_63[0][0]                     \n",
            "__________________________________________________________________________________________________\n",
            "max_pooling2d_35 (MaxPooling2D) (None, 2, 2, 128)    0           re_lu_63[0][0]                   \n",
            "__________________________________________________________________________________________________\n",
            "flatten_8 (Flatten)             (None, 512)          0           max_pooling2d_35[0][0]           \n",
            "__________________________________________________________________________________________________\n",
            "dense_12 (Dense)                (None, 128)          65664       flatten_8[0][0]                  \n",
            "__________________________________________________________________________________________________\n",
            "dense_13 (Dense)                (None, 128)          16512       dense_12[0][0]                   \n",
            "__________________________________________________________________________________________________\n",
            "dense_14 (Dense)                (None, 100)          12900       dense_13[0][0]                   \n",
            "==================================================================================================\n",
            "Total params: 335,556\n",
            "Trainable params: 335,076\n",
            "Non-trainable params: 480\n",
            "__________________________________________________________________________________________________\n"
          ],
          "name": "stdout"
        }
      ]
    },
    {
      "cell_type": "code",
      "metadata": {
        "id": "YpynThHjmR52",
        "colab_type": "code",
        "outputId": "0ed3189a-1348-47b7-f956-aebe12be61d7",
        "colab": {
          "base_uri": "https://localhost:8080/",
          "height": 901
        }
      },
      "source": [
        "mycallback = [tf.keras.callbacks.EarlyStopping(monitor='val_loss', min_delta=0, patience=10, verbose=0, mode='auto', baseline=None, restore_best_weights=False)]\n",
        "\n",
        "history = Hundred_class_M.fit(U_train,v_train, batch_size=2048, epochs=100,validation_data=(U_test, v_test), callbacks=mycallback)"
      ],
      "execution_count": 42,
      "outputs": [
        {
          "output_type": "stream",
          "text": [
            "Epoch 1/100\n",
            "25/25 [==============================] - 165s 7s/step - loss: 2.8362 - accuracy: 0.2899 - val_loss: 4.6026 - val_accuracy: 0.0140\n",
            "Epoch 2/100\n",
            "25/25 [==============================] - 165s 7s/step - loss: 2.6914 - accuracy: 0.3192 - val_loss: 4.5982 - val_accuracy: 0.0131\n",
            "Epoch 3/100\n",
            "25/25 [==============================] - 167s 7s/step - loss: 2.5448 - accuracy: 0.3500 - val_loss: 4.5917 - val_accuracy: 0.0148\n",
            "Epoch 4/100\n",
            "25/25 [==============================] - 168s 7s/step - loss: 2.4025 - accuracy: 0.3814 - val_loss: 4.5753 - val_accuracy: 0.0194\n",
            "Epoch 5/100\n",
            "25/25 [==============================] - 168s 7s/step - loss: 2.2750 - accuracy: 0.4057 - val_loss: 4.5567 - val_accuracy: 0.0208\n",
            "Epoch 6/100\n",
            "25/25 [==============================] - 168s 7s/step - loss: 2.1499 - accuracy: 0.4325 - val_loss: 4.5269 - val_accuracy: 0.0312\n",
            "Epoch 7/100\n",
            "25/25 [==============================] - 168s 7s/step - loss: 2.0333 - accuracy: 0.4614 - val_loss: 4.4987 - val_accuracy: 0.0379\n",
            "Epoch 8/100\n",
            "25/25 [==============================] - 164s 7s/step - loss: 1.9183 - accuracy: 0.4874 - val_loss: 4.4354 - val_accuracy: 0.0539\n",
            "Epoch 9/100\n",
            "25/25 [==============================] - 165s 7s/step - loss: 1.7772 - accuracy: 0.5203 - val_loss: 4.3560 - val_accuracy: 0.0529\n",
            "Epoch 10/100\n",
            "25/25 [==============================] - 165s 7s/step - loss: 1.6575 - accuracy: 0.5470 - val_loss: 4.1785 - val_accuracy: 0.0772\n",
            "Epoch 11/100\n",
            "25/25 [==============================] - 165s 7s/step - loss: 1.5474 - accuracy: 0.5771 - val_loss: 4.1173 - val_accuracy: 0.0841\n",
            "Epoch 12/100\n",
            "25/25 [==============================] - 166s 7s/step - loss: 1.4365 - accuracy: 0.6030 - val_loss: 4.0431 - val_accuracy: 0.0939\n",
            "Epoch 13/100\n",
            "25/25 [==============================] - 166s 7s/step - loss: 1.3082 - accuracy: 0.6378 - val_loss: 3.9962 - val_accuracy: 0.1209\n",
            "Epoch 14/100\n",
            "25/25 [==============================] - 165s 7s/step - loss: 1.2063 - accuracy: 0.6624 - val_loss: 4.1045 - val_accuracy: 0.1182\n",
            "Epoch 15/100\n",
            "25/25 [==============================] - 166s 7s/step - loss: 1.0952 - accuracy: 0.6928 - val_loss: 4.0368 - val_accuracy: 0.1475\n",
            "Epoch 16/100\n",
            "25/25 [==============================] - 166s 7s/step - loss: 0.9961 - accuracy: 0.7179 - val_loss: 3.5070 - val_accuracy: 0.2122\n",
            "Epoch 17/100\n",
            "25/25 [==============================] - 166s 7s/step - loss: 0.9006 - accuracy: 0.7447 - val_loss: 3.6749 - val_accuracy: 0.2154\n",
            "Epoch 18/100\n",
            "25/25 [==============================] - 165s 7s/step - loss: 0.8270 - accuracy: 0.7634 - val_loss: 3.6208 - val_accuracy: 0.2345\n",
            "Epoch 19/100\n",
            "25/25 [==============================] - 164s 7s/step - loss: 0.7321 - accuracy: 0.7927 - val_loss: 3.7931 - val_accuracy: 0.2483\n",
            "Epoch 20/100\n",
            "25/25 [==============================] - 163s 7s/step - loss: 0.6577 - accuracy: 0.8122 - val_loss: 3.7283 - val_accuracy: 0.2582\n",
            "Epoch 21/100\n",
            "25/25 [==============================] - 164s 7s/step - loss: 0.6032 - accuracy: 0.8242 - val_loss: 4.0691 - val_accuracy: 0.2588\n",
            "Epoch 22/100\n",
            "25/25 [==============================] - 165s 7s/step - loss: 0.5130 - accuracy: 0.8558 - val_loss: 4.1278 - val_accuracy: 0.2668\n",
            "Epoch 23/100\n",
            "25/25 [==============================] - 164s 7s/step - loss: 0.4625 - accuracy: 0.8687 - val_loss: 4.3673 - val_accuracy: 0.2802\n",
            "Epoch 24/100\n",
            "25/25 [==============================] - 165s 7s/step - loss: 0.3887 - accuracy: 0.8920 - val_loss: 4.6193 - val_accuracy: 0.2650\n",
            "Epoch 25/100\n",
            "25/25 [==============================] - 165s 7s/step - loss: 0.3347 - accuracy: 0.9087 - val_loss: 4.7522 - val_accuracy: 0.2685\n",
            "Epoch 26/100\n",
            "25/25 [==============================] - 165s 7s/step - loss: 0.2891 - accuracy: 0.9233 - val_loss: 5.0798 - val_accuracy: 0.2697\n"
          ],
          "name": "stdout"
        }
      ]
    },
    {
      "cell_type": "code",
      "metadata": {
        "id": "wa0YmUaWmnW-",
        "colab_type": "code",
        "outputId": "90844eba-b59f-4998-e76d-684a441416ec",
        "colab": {
          "base_uri": "https://localhost:8080/",
          "height": 573
        }
      },
      "source": [
        "# 绘制训练 & 验证的准确率值\n",
        "plt.plot(history.history['accuracy'])\n",
        "plt.plot(history.history['val_accuracy'])\n",
        "plt.title('Model accuracy')\n",
        "plt.ylabel('Accuracy')\n",
        "plt.xlabel('Epoch')\n",
        "plt.legend(['Train', 'Test'], loc='upper left')\n",
        "plt.show()\n",
        "\n",
        "# 绘制训练 & 验证的损失值\n",
        "plt.plot(history.history['loss'])\n",
        "plt.plot(history.history['val_loss'])\n",
        "plt.title('Model loss')\n",
        "plt.ylabel('Loss')\n",
        "plt.xlabel('Epoch')\n",
        "plt.legend(['Train', 'Test'], loc='upper left')\n",
        "plt.show()"
      ],
      "execution_count": 43,
      "outputs": [
        {
          "output_type": "display_data",
          "data": {
            "image/png": "[encoded data removed]",
            "text/plain": [
              "<Figure size 432x288 with 1 Axes>"
            ]
          },
          "metadata": {
            "tags": [],
            "needs_background": "light"
          }
        },
        {
          "output_type": "display_data",
          "data": {
            "image/png": "[encoded data removed]",
            "text/plain": [
              "<Figure size 432x288 with 1 Axes>"
            ]
          },
          "metadata": {
            "tags": [],
            "needs_background": "light"
          }
        }
      ]
    },
    {
      "cell_type": "code",
      "metadata": {
        "id": "j124E3vXOn56",
        "colab_type": "code",
        "outputId": "edf8abc7-698a-41c0-9f14-40f99b6fa7b1",
        "colab": {
          "base_uri": "https://localhost:8080/",
          "height": 34
        }
      },
      "source": [
        "import os\n",
        "from google.colab import drive\n",
        "drive.mount('/content/drive/')\n",
        "\n",
        "path = \"/content/drive/My Drive/Colab Notebooks/\"\n",
        "\n",
        "os.chdir(path)\n",
        "os.listdir(path)\n",
        "Hundred_class_M.save('Hundred_class_M.h5')"
      ],
      "execution_count": 47,
      "outputs": [
        {
          "output_type": "stream",
          "text": [
            "Drive already mounted at /content/drive/; to attempt to forcibly remount, call drive.mount(\"/content/drive/\", force_remount=True).\n"
          ],
          "name": "stdout"
        }
      ]
    },
    {
      "cell_type": "markdown",
      "metadata": {
        "id": "nSLAuj5h6Ued",
        "colab_type": "text"
      },
      "source": [
        "## =============================100分類訓練完畢================================="
      ]
    },
    {
      "cell_type": "markdown",
      "metadata": {
        "id": "vl5agBJJO5cy",
        "colab_type": "text"
      },
      "source": [
        "下面製作凍結的model"
      ]
    },
    {
      "cell_type": "code",
      "metadata": {
        "id": "eGwB8OSKjsCt",
        "colab_type": "code",
        "colab": {}
      },
      "source": [
        "import numpy as np\n",
        "import tensorflow as tf\n",
        "from tensorflow.keras.layers import Input\n",
        "from tensorflow.keras.layers import Conv2D, MaxPooling2D, Add, ReLU, Dense, BatchNormalization, Flatten\n",
        "from tensorflow.keras.models import Model\n",
        "from tensorflow.keras.optimizers import Adam\n",
        "from tensorflow.keras import datasets\n",
        "import matplotlib.pyplot as plt\n",
        "from tensorflow.keras.utils import to_categorical\n"
      ],
      "execution_count": 0,
      "outputs": []
    },
    {
      "cell_type": "code",
      "metadata": {
        "id": "-RjGsPpH2WAJ",
        "colab_type": "code",
        "outputId": "18139d5f-f734-4e77-ebfc-0a36eda61da1",
        "colab": {
          "base_uri": "https://localhost:8080/",
          "height": 34
        }
      },
      "source": [
        "import os\n",
        "from google.colab import drive\n",
        "drive.mount('/content/drive/')\n",
        "\n",
        "path = \"/content/drive/My Drive/Colab Notebooks/\"\n",
        "\n",
        "os.chdir(path)\n",
        "os.listdir(path)\n",
        "Hundred_class_M = tf.keras.models.load_model('Hundred_class_M.h5')"
      ],
      "execution_count": 48,
      "outputs": [
        {
          "output_type": "stream",
          "text": [
            "Drive already mounted at /content/drive/; to attempt to forcibly remount, call drive.mount(\"/content/drive/\", force_remount=True).\n"
          ],
          "name": "stdout"
        }
      ]
    },
    {
      "cell_type": "code",
      "metadata": {
        "id": "JL8bQLWs-mvM",
        "colab_type": "code",
        "outputId": "a4e19c24-f134-45e6-c55a-8e4f6bce7461",
        "colab": {
          "base_uri": "https://localhost:8080/",
          "height": 1000
        }
      },
      "source": [
        "outputx = Hundred_class_M.layers[-4].output\n",
        "hundred_class_M = Model(inputs=Hundred_class_M.input, outputs=outputx)\n",
        "for layer in hundred_class_M.layers:\n",
        "  layer.trainable = False\n",
        "hundred_class_M.summary()"
      ],
      "execution_count": 50,
      "outputs": [
        {
          "output_type": "stream",
          "text": [
            "Model: \"model_8\"\n",
            "__________________________________________________________________________________________________\n",
            "Layer (type)                    Output Shape         Param #     Connected to                     \n",
            "==================================================================================================\n",
            "input_10 (InputLayer)           [(None, 32, 32, 3)]  0                                            \n",
            "__________________________________________________________________________________________________\n",
            "conv2d_110 (Conv2D)             (None, 32, 32, 16)   208         input_10[0][0]                   \n",
            "__________________________________________________________________________________________________\n",
            "conv2d_111 (Conv2D)             (None, 32, 32, 16)   2320        conv2d_110[0][0]                 \n",
            "__________________________________________________________________________________________________\n",
            "batch_normalization_127 (BatchN (None, 32, 32, 16)   64          conv2d_111[0][0]                 \n",
            "__________________________________________________________________________________________________\n",
            "add_60 (Add)                    (None, 32, 32, 16)   0           conv2d_110[0][0]                 \n",
            "                                                                 batch_normalization_127[0][0]    \n",
            "__________________________________________________________________________________________________\n",
            "re_lu_60 (ReLU)                 (None, 32, 32, 16)   0           add_60[0][0]                     \n",
            "__________________________________________________________________________________________________\n",
            "max_pooling2d_32 (MaxPooling2D) (None, 16, 16, 16)   0           re_lu_60[0][0]                   \n",
            "__________________________________________________________________________________________________\n",
            "conv2d_112 (Conv2D)             (None, 16, 16, 32)   2080        max_pooling2d_32[0][0]           \n",
            "__________________________________________________________________________________________________\n",
            "conv2d_113 (Conv2D)             (None, 16, 16, 32)   9248        conv2d_112[0][0]                 \n",
            "__________________________________________________________________________________________________\n",
            "batch_normalization_128 (BatchN (None, 16, 16, 32)   128         conv2d_113[0][0]                 \n",
            "__________________________________________________________________________________________________\n",
            "add_61 (Add)                    (None, 16, 16, 32)   0           conv2d_112[0][0]                 \n",
            "                                                                 batch_normalization_128[0][0]    \n",
            "__________________________________________________________________________________________________\n",
            "re_lu_61 (ReLU)                 (None, 16, 16, 32)   0           add_61[0][0]                     \n",
            "__________________________________________________________________________________________________\n",
            "max_pooling2d_33 (MaxPooling2D) (None, 8, 8, 32)     0           re_lu_61[0][0]                   \n",
            "__________________________________________________________________________________________________\n",
            "conv2d_114 (Conv2D)             (None, 8, 8, 64)     8256        max_pooling2d_33[0][0]           \n",
            "__________________________________________________________________________________________________\n",
            "conv2d_115 (Conv2D)             (None, 8, 8, 64)     36928       conv2d_114[0][0]                 \n",
            "__________________________________________________________________________________________________\n",
            "batch_normalization_129 (BatchN (None, 8, 8, 64)     256         conv2d_115[0][0]                 \n",
            "__________________________________________________________________________________________________\n",
            "add_62 (Add)                    (None, 8, 8, 64)     0           conv2d_114[0][0]                 \n",
            "                                                                 batch_normalization_129[0][0]    \n",
            "__________________________________________________________________________________________________\n",
            "re_lu_62 (ReLU)                 (None, 8, 8, 64)     0           add_62[0][0]                     \n",
            "__________________________________________________________________________________________________\n",
            "max_pooling2d_34 (MaxPooling2D) (None, 4, 4, 64)     0           re_lu_62[0][0]                   \n",
            "__________________________________________________________________________________________________\n",
            "conv2d_116 (Conv2D)             (None, 4, 4, 128)    32896       max_pooling2d_34[0][0]           \n",
            "__________________________________________________________________________________________________\n",
            "conv2d_117 (Conv2D)             (None, 4, 4, 128)    147584      conv2d_116[0][0]                 \n",
            "__________________________________________________________________________________________________\n",
            "batch_normalization_130 (BatchN (None, 4, 4, 128)    512         conv2d_117[0][0]                 \n",
            "__________________________________________________________________________________________________\n",
            "add_63 (Add)                    (None, 4, 4, 128)    0           conv2d_116[0][0]                 \n",
            "                                                                 batch_normalization_130[0][0]    \n",
            "__________________________________________________________________________________________________\n",
            "re_lu_63 (ReLU)                 (None, 4, 4, 128)    0           add_63[0][0]                     \n",
            "__________________________________________________________________________________________________\n",
            "max_pooling2d_35 (MaxPooling2D) (None, 2, 2, 128)    0           re_lu_63[0][0]                   \n",
            "__________________________________________________________________________________________________\n",
            "flatten_8 (Flatten)             (None, 512)          0           max_pooling2d_35[0][0]           \n",
            "==================================================================================================\n",
            "Total params: 240,480\n",
            "Trainable params: 0\n",
            "Non-trainable params: 240,480\n",
            "__________________________________________________________________________________________________\n"
          ],
          "name": "stdout"
        }
      ]
    },
    {
      "cell_type": "markdown",
      "metadata": {
        "id": "oqzNKaVONjRT",
        "colab_type": "text"
      },
      "source": [
        "載入10分類的資料"
      ]
    },
    {
      "cell_type": "code",
      "metadata": {
        "id": "8KMCX2ikF6sn",
        "colab_type": "code",
        "outputId": "6a895017-c039-4d83-d6d2-b7a4a63e5447",
        "colab": {
          "base_uri": "https://localhost:8080/",
          "height": 51
        }
      },
      "source": [
        "(X_train, y_train0), (X_test, y_test0) = datasets.cifar10.load_data()\n",
        "\n",
        "X_train = X_train / X_train.max()\n",
        "X_test = X_test / X_test.max()\n",
        "\n",
        "y_train = to_categorical(y_train0, 10)\n",
        "y_test = to_categorical(y_test0, 10)"
      ],
      "execution_count": 51,
      "outputs": [
        {
          "output_type": "stream",
          "text": [
            "Downloading data from https://www.cs.toronto.edu/~kriz/cifar-10-python.tar.gz\n",
            "170500096/170498071 [==============================] - 2s 0us/step\n"
          ],
          "name": "stdout"
        }
      ]
    },
    {
      "cell_type": "code",
      "metadata": {
        "id": "AIvKC5LCjo1q",
        "colab_type": "code",
        "colab": {}
      },
      "source": [
        "inputy = hundred_class_M.output\n",
        "y = Dense(64, activation='relu')(inputy)\n",
        "#y = Dense(128, activation='relu')(y)\n",
        "y = Dense(10, activation='softmax')(y)\n",
        "Ten_class_M = Model(inputs=hundred_class_M.input, outputs=y)"
      ],
      "execution_count": 0,
      "outputs": []
    },
    {
      "cell_type": "code",
      "metadata": {
        "id": "3lq3xbHp9uEr",
        "colab_type": "code",
        "outputId": "fd65883d-2b28-4ad6-c4db-2a52e3857c0c",
        "colab": {
          "base_uri": "https://localhost:8080/",
          "height": 1000
        }
      },
      "source": [
        "Ten_class_M.compile(loss='categorical_crossentropy', optimizer=Adam(), metrics=['accuracy'])\n",
        "Ten_class_M.summary()"
      ],
      "execution_count": 56,
      "outputs": [
        {
          "output_type": "stream",
          "text": [
            "Model: \"model_10\"\n",
            "__________________________________________________________________________________________________\n",
            "Layer (type)                    Output Shape         Param #     Connected to                     \n",
            "==================================================================================================\n",
            "input_10 (InputLayer)           [(None, 32, 32, 3)]  0                                            \n",
            "__________________________________________________________________________________________________\n",
            "conv2d_110 (Conv2D)             (None, 32, 32, 16)   208         input_10[0][0]                   \n",
            "__________________________________________________________________________________________________\n",
            "conv2d_111 (Conv2D)             (None, 32, 32, 16)   2320        conv2d_110[0][0]                 \n",
            "__________________________________________________________________________________________________\n",
            "batch_normalization_127 (BatchN (None, 32, 32, 16)   64          conv2d_111[0][0]                 \n",
            "__________________________________________________________________________________________________\n",
            "add_60 (Add)                    (None, 32, 32, 16)   0           conv2d_110[0][0]                 \n",
            "                                                                 batch_normalization_127[0][0]    \n",
            "__________________________________________________________________________________________________\n",
            "re_lu_60 (ReLU)                 (None, 32, 32, 16)   0           add_60[0][0]                     \n",
            "__________________________________________________________________________________________________\n",
            "max_pooling2d_32 (MaxPooling2D) (None, 16, 16, 16)   0           re_lu_60[0][0]                   \n",
            "__________________________________________________________________________________________________\n",
            "conv2d_112 (Conv2D)             (None, 16, 16, 32)   2080        max_pooling2d_32[0][0]           \n",
            "__________________________________________________________________________________________________\n",
            "conv2d_113 (Conv2D)             (None, 16, 16, 32)   9248        conv2d_112[0][0]                 \n",
            "__________________________________________________________________________________________________\n",
            "batch_normalization_128 (BatchN (None, 16, 16, 32)   128         conv2d_113[0][0]                 \n",
            "__________________________________________________________________________________________________\n",
            "add_61 (Add)                    (None, 16, 16, 32)   0           conv2d_112[0][0]                 \n",
            "                                                                 batch_normalization_128[0][0]    \n",
            "__________________________________________________________________________________________________\n",
            "re_lu_61 (ReLU)                 (None, 16, 16, 32)   0           add_61[0][0]                     \n",
            "__________________________________________________________________________________________________\n",
            "max_pooling2d_33 (MaxPooling2D) (None, 8, 8, 32)     0           re_lu_61[0][0]                   \n",
            "__________________________________________________________________________________________________\n",
            "conv2d_114 (Conv2D)             (None, 8, 8, 64)     8256        max_pooling2d_33[0][0]           \n",
            "__________________________________________________________________________________________________\n",
            "conv2d_115 (Conv2D)             (None, 8, 8, 64)     36928       conv2d_114[0][0]                 \n",
            "__________________________________________________________________________________________________\n",
            "batch_normalization_129 (BatchN (None, 8, 8, 64)     256         conv2d_115[0][0]                 \n",
            "__________________________________________________________________________________________________\n",
            "add_62 (Add)                    (None, 8, 8, 64)     0           conv2d_114[0][0]                 \n",
            "                                                                 batch_normalization_129[0][0]    \n",
            "__________________________________________________________________________________________________\n",
            "re_lu_62 (ReLU)                 (None, 8, 8, 64)     0           add_62[0][0]                     \n",
            "__________________________________________________________________________________________________\n",
            "max_pooling2d_34 (MaxPooling2D) (None, 4, 4, 64)     0           re_lu_62[0][0]                   \n",
            "__________________________________________________________________________________________________\n",
            "conv2d_116 (Conv2D)             (None, 4, 4, 128)    32896       max_pooling2d_34[0][0]           \n",
            "__________________________________________________________________________________________________\n",
            "conv2d_117 (Conv2D)             (None, 4, 4, 128)    147584      conv2d_116[0][0]                 \n",
            "__________________________________________________________________________________________________\n",
            "batch_normalization_130 (BatchN (None, 4, 4, 128)    512         conv2d_117[0][0]                 \n",
            "__________________________________________________________________________________________________\n",
            "add_63 (Add)                    (None, 4, 4, 128)    0           conv2d_116[0][0]                 \n",
            "                                                                 batch_normalization_130[0][0]    \n",
            "__________________________________________________________________________________________________\n",
            "re_lu_63 (ReLU)                 (None, 4, 4, 128)    0           add_63[0][0]                     \n",
            "__________________________________________________________________________________________________\n",
            "max_pooling2d_35 (MaxPooling2D) (None, 2, 2, 128)    0           re_lu_63[0][0]                   \n",
            "__________________________________________________________________________________________________\n",
            "flatten_8 (Flatten)             (None, 512)          0           max_pooling2d_35[0][0]           \n",
            "__________________________________________________________________________________________________\n",
            "dense_17 (Dense)                (None, 64)           32832       flatten_8[0][0]                  \n",
            "__________________________________________________________________________________________________\n",
            "dense_18 (Dense)                (None, 10)           650         dense_17[0][0]                   \n",
            "==================================================================================================\n",
            "Total params: 273,962\n",
            "Trainable params: 33,482\n",
            "Non-trainable params: 240,480\n",
            "__________________________________________________________________________________________________\n"
          ],
          "name": "stdout"
        }
      ]
    },
    {
      "cell_type": "code",
      "metadata": {
        "id": "hPFehuqL-CST",
        "colab_type": "code",
        "outputId": "1558ac75-25ea-45f6-850e-703ed3e5ffdb",
        "colab": {
          "base_uri": "https://localhost:8080/",
          "height": 697
        }
      },
      "source": [
        "mycallback = [tf.keras.callbacks.EarlyStopping(monitor='val_loss', min_delta=0, patience=5, verbose=0, mode='auto', baseline=None, restore_best_weights=False)]\n",
        "\n",
        "history2 = Ten_class_M.fit(X_train,y_train, batch_size=2048, epochs=20,validation_data=(X_test, y_test), callbacks=mycallback)"
      ],
      "execution_count": 57,
      "outputs": [
        {
          "output_type": "stream",
          "text": [
            "Epoch 1/20\n",
            "25/25 [==============================] - 44s 2s/step - loss: 2.8793 - accuracy: 0.1657 - val_loss: 2.1230 - val_accuracy: 0.2269\n",
            "Epoch 2/20\n",
            "25/25 [==============================] - 43s 2s/step - loss: 1.9776 - accuracy: 0.2833 - val_loss: 1.8264 - val_accuracy: 0.3381\n",
            "Epoch 3/20\n",
            "25/25 [==============================] - 44s 2s/step - loss: 1.7244 - accuracy: 0.3785 - val_loss: 1.6490 - val_accuracy: 0.3985\n",
            "Epoch 4/20\n",
            "25/25 [==============================] - 44s 2s/step - loss: 1.5793 - accuracy: 0.4254 - val_loss: 1.5520 - val_accuracy: 0.4324\n",
            "Epoch 5/20\n",
            "25/25 [==============================] - 46s 2s/step - loss: 1.4909 - accuracy: 0.4561 - val_loss: 1.4921 - val_accuracy: 0.4564\n",
            "Epoch 6/20\n",
            "25/25 [==============================] - 43s 2s/step - loss: 1.4330 - accuracy: 0.4758 - val_loss: 1.4529 - val_accuracy: 0.4681\n",
            "Epoch 7/20\n",
            "25/25 [==============================] - 43s 2s/step - loss: 1.3902 - accuracy: 0.4935 - val_loss: 1.4285 - val_accuracy: 0.4777\n",
            "Epoch 8/20\n",
            "25/25 [==============================] - 44s 2s/step - loss: 1.3591 - accuracy: 0.5046 - val_loss: 1.4058 - val_accuracy: 0.4837\n",
            "Epoch 9/20\n",
            "25/25 [==============================] - 44s 2s/step - loss: 1.3330 - accuracy: 0.5149 - val_loss: 1.3912 - val_accuracy: 0.4873\n",
            "Epoch 10/20\n",
            "25/25 [==============================] - 44s 2s/step - loss: 1.3122 - accuracy: 0.5245 - val_loss: 1.3802 - val_accuracy: 0.4935\n",
            "Epoch 11/20\n",
            "25/25 [==============================] - 44s 2s/step - loss: 1.2948 - accuracy: 0.5303 - val_loss: 1.3691 - val_accuracy: 0.4971\n",
            "Epoch 12/20\n",
            "25/25 [==============================] - 44s 2s/step - loss: 1.2789 - accuracy: 0.5358 - val_loss: 1.3622 - val_accuracy: 0.5024\n",
            "Epoch 13/20\n",
            "25/25 [==============================] - 44s 2s/step - loss: 1.2654 - accuracy: 0.5423 - val_loss: 1.3544 - val_accuracy: 0.5072\n",
            "Epoch 14/20\n",
            "25/25 [==============================] - 44s 2s/step - loss: 1.2545 - accuracy: 0.5483 - val_loss: 1.3524 - val_accuracy: 0.5095\n",
            "Epoch 15/20\n",
            "25/25 [==============================] - 44s 2s/step - loss: 1.2423 - accuracy: 0.5513 - val_loss: 1.3467 - val_accuracy: 0.5108\n",
            "Epoch 16/20\n",
            "25/25 [==============================] - 43s 2s/step - loss: 1.2327 - accuracy: 0.5531 - val_loss: 1.3469 - val_accuracy: 0.5120\n",
            "Epoch 17/20\n",
            "25/25 [==============================] - 43s 2s/step - loss: 1.2237 - accuracy: 0.5581 - val_loss: 1.3421 - val_accuracy: 0.5112\n",
            "Epoch 18/20\n",
            "25/25 [==============================] - 44s 2s/step - loss: 1.2149 - accuracy: 0.5618 - val_loss: 1.3404 - val_accuracy: 0.5152\n",
            "Epoch 19/20\n",
            "25/25 [==============================] - 44s 2s/step - loss: 1.2078 - accuracy: 0.5645 - val_loss: 1.3352 - val_accuracy: 0.5163\n",
            "Epoch 20/20\n",
            "25/25 [==============================] - 44s 2s/step - loss: 1.1977 - accuracy: 0.5679 - val_loss: 1.3336 - val_accuracy: 0.5172\n"
          ],
          "name": "stdout"
        }
      ]
    },
    {
      "cell_type": "code",
      "metadata": {
        "id": "2Kd2J1jvhTQG",
        "colab_type": "code",
        "outputId": "9a513f5d-e505-4085-e50c-948b50cf359c",
        "colab": {
          "base_uri": "https://localhost:8080/",
          "height": 573
        }
      },
      "source": [
        "import matplotlib.pyplot as plt\n",
        "\n",
        "# 绘制训练 & 验证的准确率值\n",
        "plt.plot(history2.history['accuracy'])\n",
        "plt.plot(history2.history['val_accuracy'])\n",
        "plt.title('Model accuracy')\n",
        "plt.ylabel('Accuracy')\n",
        "plt.xlabel('Epoch')\n",
        "plt.legend(['Train', 'Test'], loc='upper left')\n",
        "plt.show()\n",
        "\n",
        "# 绘制训练 & 验证的损失值\n",
        "plt.plot(history2.history['loss'])\n",
        "plt.plot(history2.history['val_loss'])\n",
        "plt.title('Model loss')\n",
        "plt.ylabel('Loss')\n",
        "plt.xlabel('Epoch')\n",
        "plt.legend(['Train', 'Test'], loc='upper left')\n",
        "plt.show()"
      ],
      "execution_count": 58,
      "outputs": [
        {
          "output_type": "display_data",
          "data": {
            "image/png": "[encoded data removed]",
            "text/plain": [
              "<Figure size 432x288 with 1 Axes>"
            ]
          },
          "metadata": {
            "tags": [],
            "needs_background": "light"
          }
        },
        {
          "output_type": "display_data",
          "data": {
            "image/png": "[encoded data removed]",
            "text/plain": [
              "<Figure size 432x288 with 1 Axes>"
            ]
          },
          "metadata": {
            "tags": [],
            "needs_background": "light"
          }
        }
      ]
    },
    {
      "cell_type": "markdown",
      "metadata": {
        "id": "VrWW_dpJOkY0",
        "colab_type": "text"
      },
      "source": [
        "繼續訓練"
      ]
    },
    {
      "cell_type": "code",
      "metadata": {
        "id": "KAsLP23hOdj0",
        "colab_type": "code",
        "colab": {
          "base_uri": "https://localhost:8080/",
          "height": 459
        },
        "outputId": "af52ca66-89bd-473d-ed73-719b68776d0d"
      },
      "source": [
        "mycallback = [tf.keras.callbacks.EarlyStopping(monitor='val_loss', min_delta=0, patience=5, verbose=0, mode='auto', baseline=None, restore_best_weights=False)]\n",
        "\n",
        "history2 = Ten_class_M.fit(X_train,y_train, batch_size=2048, epochs=20,validation_data=(X_test, y_test), callbacks=mycallback)"
      ],
      "execution_count": 59,
      "outputs": [
        {
          "output_type": "stream",
          "text": [
            "Epoch 1/20\n",
            "25/25 [==============================] - 43s 2s/step - loss: 1.1907 - accuracy: 0.5712 - val_loss: 1.3320 - val_accuracy: 0.5192\n",
            "Epoch 2/20\n",
            "25/25 [==============================] - 44s 2s/step - loss: 1.1845 - accuracy: 0.5737 - val_loss: 1.3317 - val_accuracy: 0.5205\n",
            "Epoch 3/20\n",
            "25/25 [==============================] - 43s 2s/step - loss: 1.1761 - accuracy: 0.5769 - val_loss: 1.3325 - val_accuracy: 0.5159\n",
            "Epoch 4/20\n",
            "25/25 [==============================] - 44s 2s/step - loss: 1.1701 - accuracy: 0.5788 - val_loss: 1.3312 - val_accuracy: 0.5164\n",
            "Epoch 5/20\n",
            "25/25 [==============================] - 44s 2s/step - loss: 1.1636 - accuracy: 0.5822 - val_loss: 1.3313 - val_accuracy: 0.5193\n",
            "Epoch 6/20\n",
            "25/25 [==============================] - 44s 2s/step - loss: 1.1562 - accuracy: 0.5850 - val_loss: 1.3302 - val_accuracy: 0.5179\n",
            "Epoch 7/20\n",
            "25/25 [==============================] - 44s 2s/step - loss: 1.1491 - accuracy: 0.5870 - val_loss: 1.3321 - val_accuracy: 0.5201\n",
            "Epoch 8/20\n",
            "25/25 [==============================] - 44s 2s/step - loss: 1.1426 - accuracy: 0.5904 - val_loss: 1.3297 - val_accuracy: 0.5203\n",
            "Epoch 9/20\n",
            "25/25 [==============================] - 43s 2s/step - loss: 1.1352 - accuracy: 0.5932 - val_loss: 1.3306 - val_accuracy: 0.5190\n",
            "Epoch 10/20\n",
            "25/25 [==============================] - 43s 2s/step - loss: 1.1296 - accuracy: 0.5953 - val_loss: 1.3321 - val_accuracy: 0.5186\n",
            "Epoch 11/20\n",
            "25/25 [==============================] - 43s 2s/step - loss: 1.1248 - accuracy: 0.5972 - val_loss: 1.3379 - val_accuracy: 0.5185\n",
            "Epoch 12/20\n",
            "25/25 [==============================] - 44s 2s/step - loss: 1.1187 - accuracy: 0.6003 - val_loss: 1.3376 - val_accuracy: 0.5175\n",
            "Epoch 13/20\n",
            "25/25 [==============================] - 44s 2s/step - loss: 1.1110 - accuracy: 0.6012 - val_loss: 1.3386 - val_accuracy: 0.5193\n"
          ],
          "name": "stdout"
        }
      ]
    },
    {
      "cell_type": "code",
      "metadata": {
        "id": "9LBpShC3Ohz2",
        "colab_type": "code",
        "colab": {
          "base_uri": "https://localhost:8080/",
          "height": 573
        },
        "outputId": "a61ebe19-07f4-4849-8e75-df0abe11d3d4"
      },
      "source": [
        "# 绘制训练 & 验证的准确率值\n",
        "plt.plot(history2.history['accuracy'])\n",
        "plt.plot(history2.history['val_accuracy'])\n",
        "plt.title('Model accuracy')\n",
        "plt.ylabel('Accuracy')\n",
        "plt.xlabel('Epoch')\n",
        "plt.legend(['Train', 'Test'], loc='upper left')\n",
        "plt.show()\n",
        "\n",
        "# 绘制训练 & 验证的损失值\n",
        "plt.plot(history2.history['loss'])\n",
        "plt.plot(history2.history['val_loss'])\n",
        "plt.title('Model loss')\n",
        "plt.ylabel('Loss')\n",
        "plt.xlabel('Epoch')\n",
        "plt.legend(['Train', 'Test'], loc='upper left')\n",
        "plt.show()"
      ],
      "execution_count": 60,
      "outputs": [
        {
          "output_type": "display_data",
          "data": {
            "image/png": "[encoded data removed]",
            "text/plain": [
              "<Figure size 432x288 with 1 Axes>"
            ]
          },
          "metadata": {
            "tags": [],
            "needs_background": "light"
          }
        },
        {
          "output_type": "display_data",
          "data": {
            "image/png": "[encoded data removed]",
            "text/plain": [
              "<Figure size 432x288 with 1 Axes>"
            ]
          },
          "metadata": {
            "tags": [],
            "needs_background": "light"
          }
        }
      ]
    },
    {
      "cell_type": "code",
      "metadata": {
        "id": "x3MIpakCRCx7",
        "colab_type": "code",
        "colab": {}
      },
      "source": [
        "Ten_class_M.save('Ten_class_M.h5')"
      ],
      "execution_count": 0,
      "outputs": []
    },
    {
      "cell_type": "code",
      "metadata": {
        "id": "_1L1CiLqRRJI",
        "colab_type": "code",
        "colab": {}
      },
      "source": [
        ""
      ],
      "execution_count": 0,
      "outputs": []
    }
  ]
}