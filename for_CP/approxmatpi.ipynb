{
 "cells": [
  {
   "cell_type": "code",
   "execution_count": 1,
   "metadata": {},
   "outputs": [],
   "source": [
    "import numpy as np\n",
    "import matplotlib.pyplot as plt"
   ]
  },
  {
   "cell_type": "code",
   "execution_count": 53,
   "metadata": {},
   "outputs": [],
   "source": [
    "from ipywidgets import interact_manual\n",
    "from ipywidgets import interact"
   ]
  },
  {
   "cell_type": "code",
   "execution_count": 49,
   "metadata": {},
   "outputs": [],
   "source": [
    "def f(x):\n",
    "    return x*np.sin(np.pi/x) #內接x邊形\n",
    "def F(x):\n",
    "    return x*np.tan(np.pi/x) #外接x邊形\n",
    "def plott(x):\n",
    "    t = np.arange(1,x+2)\n",
    "    x_ = np.cos((2*np.pi/x)*t)\n",
    "    y_ = np.sin((2*np.pi/x)*t)\n",
    "    plt.plot(x_,y_)\n",
    "    #畫內接x邊形\n",
    "    t0 = np.arange(1000)\n",
    "    x0 = np.cos((2*np.pi/1000)*t0)\n",
    "    y0 = np.sin((2*np.pi/1000)*t0)\n",
    "    plt.plot(x0,y0)\n",
    "    #畫圓\n",
    "    x__ = np.cos((2*np.pi/x)*t)/np.cos(np.pi/x)\n",
    "    y__ = np.sin((2*np.pi/x)*t)/np.cos(np.pi/x)\n",
    "    plt.plot(x__,y__)\n",
    "    #畫外接x邊型\n",
    "def approxmatepi(x):\n",
    "    plott(x)\n",
    "    print(\"內接{}邊形:{}\".format(x,f(x)))\n",
    "    print(\"外接{}邊形:{}\".format(x,F(x)))\n",
    "    avg = (f(x)+F(x))/2\n",
    "    print(\"平均值：\",avg)"
   ]
  },
  {
   "cell_type": "code",
   "execution_count": 50,
   "metadata": {},
   "outputs": [
    {
     "name": "stdout",
     "output_type": "stream",
     "text": [
      "內接100000邊形:3.1415926530730216\n",
      "外接100000邊形:3.1415926546233357\n",
      "平均值： 3.1415926538481784\n"
     ]
    },
    {
     "data": {
      "image/png": "[encoded data removed]",
      "text/plain": [
       "<Figure size 432x288 with 1 Axes>"
      ]
     },
     "metadata": {
      "needs_background": "light"
     },
     "output_type": "display_data"
    }
   ],
   "source": [
    "approxmatepi(100000)"
   ]
  },
  {
   "cell_type": "code",
   "execution_count": 52,
   "metadata": {},
   "outputs": [
    {
     "data": {
      "application/vnd.jupyter.widget-view+json": {
       "model_id": "f92944f86a9144e3b968c5994aade3d5",
       "version_major": 2,
       "version_minor": 0
      },
      "text/plain": [
       "interactive(children=(IntSlider(value=6, description='x', max=10, min=3), Button(description='Run Interact', s…"
      ]
     },
     "metadata": {},
     "output_type": "display_data"
    },
    {
     "data": {
      "text/plain": [
       "<function __main__.approxmatepi(x)>"
      ]
     },
     "execution_count": 52,
     "metadata": {},
     "output_type": "execute_result"
    }
   ],
   "source": [
    "interact_manual(approxmatepi, x=(3,10))"
   ]
  },
  {
   "cell_type": "code",
   "execution_count": null,
   "metadata": {},
   "outputs": [],
   "source": []
  }
 ],
 "metadata": {
  "kernelspec": {
   "display_name": "Python 3",
   "language": "python",
   "name": "python3"
  },
  "language_info": {
   "codemirror_mode": {
    "name": "ipython",
    "version": 3
   },
   "file_extension": ".py",
   "mimetype": "text/x-python",
   "name": "python",
   "nbconvert_exporter": "python",
   "pygments_lexer": "ipython3",
   "version": "3.7.4"
  }
 },
 "nbformat": 4,
 "nbformat_minor": 2
}
