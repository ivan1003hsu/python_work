{
 "cells": [
  {
   "cell_type": "markdown",
   "metadata": {},
   "source": [
    "## [Even Subset Sum Problem子集合加總偶數問題](https://codeforces.com/problemset/problem/1323/A)"
   ]
  },
  {
   "cell_type": "markdown",
   "metadata": {},
   "source": [
    "### 目標：給定array，找出其子集，使加總為偶數，或判定為不可能\n",
    "### 輸入："
   ]
  },
  {
   "cell_type": "markdown",
   "metadata": {},
   "source": [
    "* 第一行：為要執行的次數\n",
    "* 第二行：此次執行的array的個數\n",
    "* 第三行：此次執行的array"
   ]
  },
  {
   "cell_type": "markdown",
   "metadata": {},
   "source": [
    "### 輸出：\n",
    "* 第一行：子集的元素數\n",
    "* 第二行：所需元素在原array中的位置\n",
    "* 若不可能，印出-1"
   ]
  },
  {
   "cell_type": "code",
   "execution_count": 25,
   "metadata": {},
   "outputs": [
    {
     "name": "stdout",
     "output_type": "stream",
     "text": [
      "3\n",
      "3\n",
      "1 4 3\n",
      "2\n",
      "3 5\n",
      "1\n",
      "15\n",
      "output=\n",
      " 1\n",
      "2\n",
      "2\n",
      "1 2\n",
      "-1\n",
      "\n"
     ]
    }
   ],
   "source": [
    "TIMES = int(input())\n",
    "ANS=''\n",
    "for times in range(TIMES):\n",
    "    n = int(input())\n",
    "    arr = list(map(int,input().split(' ')))\n",
    "    odd = []\n",
    "    for i in range(n):\n",
    "        if arr[i]%2==0:\n",
    "            ANS = ANS +'1\\n' + str(i+1) +'\\n'\n",
    "            break\n",
    "        else:\n",
    "            if n==1:\n",
    "                ANS = ANS + '-1\\n'\n",
    "                break\n",
    "            odd.append(i)\n",
    "            if len(odd)==2:\n",
    "                ANS = ANS +'2\\n' + str(odd[0]+1) +' ' + str(odd[1]+1) +'\\n'\n",
    "                break\n",
    "print('output=\\n',ANS)"
   ]
  }
 ],
 "metadata": {
  "kernelspec": {
   "display_name": "Python 3",
   "language": "python",
   "name": "python3"
  },
  "language_info": {
   "codemirror_mode": {
    "name": "ipython",
    "version": 3
   },
   "file_extension": ".py",
   "mimetype": "text/x-python",
   "name": "python",
   "nbconvert_exporter": "python",
   "pygments_lexer": "ipython3",
   "version": "3.7.4"
  }
 },
 "nbformat": 4,
 "nbformat_minor": 2
}
