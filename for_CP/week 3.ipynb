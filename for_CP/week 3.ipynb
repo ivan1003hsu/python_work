{
 "cells": [
  {
   "cell_type": "code",
   "execution_count": 1,
   "metadata": {},
   "outputs": [],
   "source": [
    "import numpy as np\n",
    "import matplotlib.pyplot as plt\n",
    "import tensorflow as tf"
   ]
  },
  {
   "cell_type": "code",
   "execution_count": 2,
   "metadata": {},
   "outputs": [],
   "source": [
    "from tensorflow.keras.datasets import mnist"
   ]
  },
  {
   "cell_type": "code",
   "execution_count": 3,
   "metadata": {},
   "outputs": [],
   "source": [
    "(x_train, y_train), (x_test,y_test)= mnist.load_data()"
   ]
  },
  {
   "cell_type": "code",
   "execution_count": 4,
   "metadata": {},
   "outputs": [],
   "source": [
    "x_train = x_train.reshape(len(x_train),784)/255\n",
    "x_test = x_test.reshape(len(x_test),784)/255"
   ]
  },
  {
   "cell_type": "code",
   "execution_count": 5,
   "metadata": {},
   "outputs": [],
   "source": [
    "from tensorflow.keras.utils import to_categorical"
   ]
  },
  {
   "cell_type": "code",
   "execution_count": 6,
   "metadata": {},
   "outputs": [],
   "source": [
    "y_train = to_categorical(y_train,10)\n",
    "y_test = to_categorical(y_test,10)"
   ]
  },
  {
   "cell_type": "code",
   "execution_count": 7,
   "metadata": {},
   "outputs": [],
   "source": [
    "from tensorflow.keras.models import Sequential\n",
    "from tensorflow.keras.layers import Dense\n",
    "from tensorflow.keras.optimizers import SGD"
   ]
  },
  {
   "cell_type": "code",
   "execution_count": 8,
   "metadata": {},
   "outputs": [],
   "source": [
    "model = Sequential()"
   ]
  },
  {
   "cell_type": "code",
   "execution_count": 9,
   "metadata": {},
   "outputs": [],
   "source": [
    "model.add(Dense(87,input_dim=784, activation='relu'))"
   ]
  },
  {
   "cell_type": "code",
   "execution_count": 10,
   "metadata": {},
   "outputs": [],
   "source": [
    "model.add(Dense(87,activation='relu'))\n",
    "model.add(Dense(10,activation='softmax'))"
   ]
  },
  {
   "cell_type": "code",
   "execution_count": 11,
   "metadata": {},
   "outputs": [],
   "source": [
    "model.compile(loss='mse', optimizer=SGD(lr=0.087), metrics=['accuracy'])"
   ]
  },
  {
   "cell_type": "code",
   "execution_count": 12,
   "metadata": {},
   "outputs": [
    {
     "name": "stdout",
     "output_type": "stream",
     "text": [
      "Model: \"sequential\"\n",
      "_________________________________________________________________\n",
      "Layer (type)                 Output Shape              Param #   \n",
      "=================================================================\n",
      "dense (Dense)                (None, 87)                68295     \n",
      "_________________________________________________________________\n",
      "dense_1 (Dense)              (None, 87)                7656      \n",
      "_________________________________________________________________\n",
      "dense_2 (Dense)              (None, 10)                880       \n",
      "=================================================================\n",
      "Total params: 76,831\n",
      "Trainable params: 76,831\n",
      "Non-trainable params: 0\n",
      "_________________________________________________________________\n"
     ]
    }
   ],
   "source": [
    "model.summary()"
   ]
  },
  {
   "cell_type": "code",
   "execution_count": 13,
   "metadata": {},
   "outputs": [
    {
     "data": {
      "text/plain": [
       "68295"
      ]
     },
     "execution_count": 13,
     "metadata": {},
     "output_type": "execute_result"
    }
   ],
   "source": [
    "784*87 +87"
   ]
  },
  {
   "cell_type": "code",
   "execution_count": 14,
   "metadata": {},
   "outputs": [
    {
     "name": "stdout",
     "output_type": "stream",
     "text": [
      "Train on 60000 samples\n",
      "Epoch 1/20\n",
      "60000/60000 [==============================] - 3s 46us/sample - loss: 0.0837 - accuracy: 0.3600\n",
      "Epoch 2/20\n",
      "60000/60000 [==============================] - 2s 35us/sample - loss: 0.0530 - accuracy: 0.6892\n",
      "Epoch 3/20\n",
      "60000/60000 [==============================] - 2s 35us/sample - loss: 0.0291 - accuracy: 0.8480\n",
      "Epoch 4/20\n",
      "60000/60000 [==============================] - 2s 35us/sample - loss: 0.0215 - accuracy: 0.8766\n",
      "Epoch 5/20\n",
      "60000/60000 [==============================] - 2s 36us/sample - loss: 0.0185 - accuracy: 0.8881\n",
      "Epoch 6/20\n",
      "60000/60000 [==============================] - 2s 38us/sample - loss: 0.0168 - accuracy: 0.8962\n",
      "Epoch 7/20\n",
      "60000/60000 [==============================] - 2s 38us/sample - loss: 0.0157 - accuracy: 0.9020\n",
      "Epoch 8/20\n",
      "60000/60000 [==============================] - 2s 38us/sample - loss: 0.0149 - accuracy: 0.9063\n",
      "Epoch 9/20\n",
      "60000/60000 [==============================] - 2s 38us/sample - loss: 0.0143 - accuracy: 0.9101\n",
      "Epoch 10/20\n",
      "60000/60000 [==============================] - 2s 37us/sample - loss: 0.0138 - accuracy: 0.9125\n",
      "Epoch 11/20\n",
      "60000/60000 [==============================] - 2s 38us/sample - loss: 0.0133 - accuracy: 0.9155\n",
      "Epoch 12/20\n",
      "60000/60000 [==============================] - 2s 39us/sample - loss: 0.0129 - accuracy: 0.9181\n",
      "Epoch 13/20\n",
      "60000/60000 [==============================] - 2s 38us/sample - loss: 0.0126 - accuracy: 0.9202\n",
      "Epoch 14/20\n",
      "60000/60000 [==============================] - 2s 38us/sample - loss: 0.0122 - accuracy: 0.9222\n",
      "Epoch 15/20\n",
      "60000/60000 [==============================] - 2s 39us/sample - loss: 0.0119 - accuracy: 0.9244\n",
      "Epoch 16/20\n",
      "60000/60000 [==============================] - 2s 38us/sample - loss: 0.0117 - accuracy: 0.9258\n",
      "Epoch 17/20\n",
      "60000/60000 [==============================] - 2s 38us/sample - loss: 0.0114 - accuracy: 0.9272\n",
      "Epoch 18/20\n",
      "60000/60000 [==============================] - 2s 39us/sample - loss: 0.0112 - accuracy: 0.9295\n",
      "Epoch 19/20\n",
      "60000/60000 [==============================] - 2s 38us/sample - loss: 0.0109 - accuracy: 0.9307\n",
      "Epoch 20/20\n",
      "60000/60000 [==============================] - 2s 38us/sample - loss: 0.0107 - accuracy: 0.9322\n"
     ]
    },
    {
     "data": {
      "text/plain": [
       "<tensorflow.python.keras.callbacks.History at 0x64353fc10>"
      ]
     },
     "execution_count": 14,
     "metadata": {},
     "output_type": "execute_result"
    }
   ],
   "source": [
    "model.fit(x_train, y_train, batch_size=100, epochs=20)"
   ]
  },
  {
   "cell_type": "code",
   "execution_count": 15,
   "metadata": {},
   "outputs": [],
   "source": [
    "result = model.predict_classes(x_test)"
   ]
  },
  {
   "cell_type": "code",
   "execution_count": 18,
   "metadata": {},
   "outputs": [],
   "source": [
    "from ipywidgets import interact"
   ]
  },
  {
   "cell_type": "code",
   "execution_count": 21,
   "metadata": {},
   "outputs": [],
   "source": [
    "def showresult(x):\n",
    "    print('神經網路預測：', result[x])\n",
    "    print('答案：',y_test[x])"
   ]
  },
  {
   "cell_type": "code",
   "execution_count": 22,
   "metadata": {},
   "outputs": [
    {
     "data": {
      "application/vnd.jupyter.widget-view+json": {
       "model_id": "8f45e6b772fd4424a3af947117639f04",
       "version_major": 2,
       "version_minor": 0
      },
      "text/plain": [
       "interactive(children=(IntSlider(value=4999, description='x', max=9999), Output()), _dom_classes=('widget-inter…"
      ]
     },
     "metadata": {},
     "output_type": "display_data"
    },
    {
     "data": {
      "text/plain": [
       "<function __main__.showresult(x)>"
      ]
     },
     "execution_count": 22,
     "metadata": {},
     "output_type": "execute_result"
    }
   ],
   "source": [
    "interact(showresult, x=(0,9999))"
   ]
  },
  {
   "cell_type": "code",
   "execution_count": null,
   "metadata": {},
   "outputs": [],
   "source": [
    "plt.imshow(x_test[1].reshape(28,28),cmap='Greys')"
   ]
  },
  {
   "cell_type": "code",
   "execution_count": null,
   "metadata": {},
   "outputs": [],
   "source": []
  }
 ],
 "metadata": {
  "kernelspec": {
   "display_name": "Python 3",
   "language": "python",
   "name": "python3"
  },
  "language_info": {
   "codemirror_mode": {
    "name": "ipython",
    "version": 3
   },
   "file_extension": ".py",
   "mimetype": "text/x-python",
   "name": "python",
   "nbconvert_exporter": "python",
   "pygments_lexer": "ipython3",
   "version": "3.7.4"
  }
 },
 "nbformat": 4,
 "nbformat_minor": 2
}
