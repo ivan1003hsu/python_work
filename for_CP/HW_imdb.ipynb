{
 "cells": [
  {
   "cell_type": "code",
   "execution_count": 1,
   "metadata": {},
   "outputs": [],
   "source": [
    "%matplotlib inline\n",
    "import numpy as np\n",
    "import matplotlib.pyplot as plt\n",
    "import tensorflow as tf"
   ]
  },
  {
   "cell_type": "code",
   "execution_count": 2,
   "metadata": {},
   "outputs": [],
   "source": [
    "import os\n",
    "os.environ[\"KMP_DUPLICATE_LIB_OK\"]=\"TRUE\""
   ]
  },
  {
   "cell_type": "code",
   "execution_count": 3,
   "metadata": {},
   "outputs": [],
   "source": [
    "from tensorflow.keras.preprocessing import sequence\n",
    "from tensorflow.keras.models import Sequential\n",
    "from tensorflow.keras.layers import Dense, Embedding\n",
    "from tensorflow.keras.layers import LSTM\n",
    "from tensorflow.keras.datasets import imdb"
   ]
  },
  {
   "cell_type": "code",
   "execution_count": 4,
   "metadata": {},
   "outputs": [],
   "source": [
    "from tensorflow.keras.layers import GRU"
   ]
  },
  {
   "cell_type": "markdown",
   "metadata": {},
   "source": [
    "#### 導入資料"
   ]
  },
  {
   "cell_type": "code",
   "execution_count": 5,
   "metadata": {},
   "outputs": [],
   "source": [
    "(x_train, y_train), (x_test, y_test) = imdb.load_data(num_words=10000)"
   ]
  },
  {
   "cell_type": "code",
   "execution_count": 6,
   "metadata": {},
   "outputs": [],
   "source": [
    "x_train_ = sequence.pad_sequences(x_train, maxlen=100)\n",
    "x_test_ = sequence.pad_sequences(x_test, maxlen=100)"
   ]
  },
  {
   "cell_type": "markdown",
   "metadata": {},
   "source": [
    "# 建立神經網路-LSTM"
   ]
  },
  {
   "cell_type": "code",
   "execution_count": 7,
   "metadata": {},
   "outputs": [],
   "source": [
    "model = Sequential()"
   ]
  },
  {
   "cell_type": "code",
   "execution_count": 8,
   "metadata": {},
   "outputs": [],
   "source": [
    "model.add(Embedding(10000,128))\n",
    "model.add(LSTM(128, dropout=0.2, recurrent_dropout=0.2))\n",
    "model.add(Dense(1, activation='sigmoid'))"
   ]
  },
  {
   "cell_type": "code",
   "execution_count": 9,
   "metadata": {},
   "outputs": [],
   "source": [
    "model.compile(loss='binary_crossentropy', optimizer='adam', metrics=['accuracy'])"
   ]
  },
  {
   "cell_type": "code",
   "execution_count": 10,
   "metadata": {},
   "outputs": [
    {
     "name": "stdout",
     "output_type": "stream",
     "text": [
      "Model: \"sequential\"\n",
      "_________________________________________________________________\n",
      "Layer (type)                 Output Shape              Param #   \n",
      "=================================================================\n",
      "embedding (Embedding)        (None, None, 128)         1280000   \n",
      "_________________________________________________________________\n",
      "lstm (LSTM)                  (None, 128)               131584    \n",
      "_________________________________________________________________\n",
      "dense (Dense)                (None, 1)                 129       \n",
      "=================================================================\n",
      "Total params: 1,411,713\n",
      "Trainable params: 1,411,713\n",
      "Non-trainable params: 0\n",
      "_________________________________________________________________\n"
     ]
    }
   ],
   "source": [
    "model.summary()"
   ]
  },
  {
   "cell_type": "markdown",
   "metadata": {},
   "source": [
    "### 參數數計算：\n",
    "### 一個 LSTM的神經元有 f閘  , i閘 , o閘 ,和一個用於更新cell state的Ｃ‘ ，然後輸出 C 和 hidden_state\n",
    "* f閘: 前一個hidden_state \\* 權重 ＋ 輸入 \\* 權重2 + 偏值 ，然後再作用於 sigmoid ，共（輸入數＋LSTM神經元數＋1）個參數\n",
    "* i閘: 前一個hidden_state \\* 權重 ＋ 輸入 \\* 權重2 + 偏值 ，然後再作用於 sigmoid ，共（輸入數＋LSTM神經元數＋1）個參數\n",
    "* z閘: 前一個hidden_state \\* 權重 ＋ 輸入 \\* 權重2 + 偏值 ，然後再作用於 sigmoid ，共（輸入數＋LSTM神經元數＋1）個參數\n",
    "* Ｃ’: 前一個hidden_state \\* 權重 ＋ 輸入 \\* 權重2 + 偏值 ，然後再作用於 tanh    ，共（輸入數＋LSTM神經元數＋1）個參數\n",
    "* Ｃ ：f閘 \\* 前一個Ｃ ＋ i閘 \\* Ｃ ，共零個參數\n",
    "* hidden_state： o閘 \\* tanh( Ｃ‘） ，共零個參數\n",
    "### 輸入是128,  LSTM的神經元數是128 ，於是一個LSTM有（128+128+1)*4個參數\n",
    "### 所以這一層有（１２８＋１２８＋１）* 4 * 128個參數"
   ]
  },
  {
   "cell_type": "code",
   "execution_count": 21,
   "metadata": {},
   "outputs": [
    {
     "data": {
      "text/plain": [
       "131584"
      ]
     },
     "execution_count": 21,
     "metadata": {},
     "output_type": "execute_result"
    }
   ],
   "source": [
    "(128+128+1)*4*128"
   ]
  },
  {
   "cell_type": "markdown",
   "metadata": {},
   "source": [
    "#### 訓練"
   ]
  },
  {
   "cell_type": "code",
   "execution_count": 11,
   "metadata": {},
   "outputs": [
    {
     "name": "stdout",
     "output_type": "stream",
     "text": [
      "Train on 25000 samples, validate on 25000 samples\n",
      "Epoch 1/10\n",
      "25000/25000 [==============================] - 273s 11ms/sample - loss: 0.4593 - accuracy: 0.7866 - val_loss: 0.3753 - val_accuracy: 0.8357\n",
      "Epoch 2/10\n",
      "25000/25000 [==============================] - 273s 11ms/sample - loss: 0.3263 - accuracy: 0.8628 - val_loss: 0.3611 - val_accuracy: 0.8424\n",
      "Epoch 3/10\n",
      "25000/25000 [==============================] - 269s 11ms/sample - loss: 0.2654 - accuracy: 0.8931 - val_loss: 0.3773 - val_accuracy: 0.8340\n",
      "Epoch 4/10\n",
      "25000/25000 [==============================] - 264s 11ms/sample - loss: 0.2074 - accuracy: 0.9200 - val_loss: 0.4416 - val_accuracy: 0.8427\n",
      "Epoch 5/10\n",
      "25000/25000 [==============================] - 264s 11ms/sample - loss: 0.1677 - accuracy: 0.9371 - val_loss: 0.4419 - val_accuracy: 0.8288\n",
      "Epoch 6/10\n",
      "25000/25000 [==============================] - 265s 11ms/sample - loss: 0.1268 - accuracy: 0.9538 - val_loss: 0.5619 - val_accuracy: 0.8315\n",
      "Epoch 7/10\n",
      "25000/25000 [==============================] - 267s 11ms/sample - loss: 0.0998 - accuracy: 0.9655 - val_loss: 0.5537 - val_accuracy: 0.8362\n",
      "Epoch 8/10\n",
      "25000/25000 [==============================] - 265s 11ms/sample - loss: 0.0871 - accuracy: 0.9690 - val_loss: 0.5770 - val_accuracy: 0.8296\n",
      "Epoch 9/10\n",
      "25000/25000 [==============================] - 265s 11ms/sample - loss: 0.0641 - accuracy: 0.9789 - val_loss: 0.6664 - val_accuracy: 0.8348\n",
      "Epoch 10/10\n",
      "25000/25000 [==============================] - 265s 11ms/sample - loss: 0.0521 - accuracy: 0.9833 - val_loss: 0.7310 - val_accuracy: 0.8346\n"
     ]
    },
    {
     "data": {
      "text/plain": [
       "<tensorflow.python.keras.callbacks.History at 0x64261ad10>"
      ]
     },
     "execution_count": 11,
     "metadata": {},
     "output_type": "execute_result"
    }
   ],
   "source": [
    "model.fit(x_train_ ,y_train, batch_size=32, epochs=10, validation_data=(x_test_,y_test))"
   ]
  },
  {
   "cell_type": "markdown",
   "metadata": {},
   "source": [
    "#### 查看準確率"
   ]
  },
  {
   "cell_type": "code",
   "execution_count": 13,
   "metadata": {},
   "outputs": [
    {
     "data": {
      "text/plain": [
       "[0.7310195725655556, 0.8346]"
      ]
     },
     "execution_count": 13,
     "metadata": {},
     "output_type": "execute_result"
    }
   ],
   "source": [
    "model.evaluate(x_test_, y_test, verbose=0)"
   ]
  },
  {
   "cell_type": "markdown",
   "metadata": {},
   "source": [
    "* 準確率為 83.46%"
   ]
  },
  {
   "cell_type": "markdown",
   "metadata": {},
   "source": [
    "# 建立神經網路-GRU"
   ]
  },
  {
   "cell_type": "code",
   "execution_count": 13,
   "metadata": {},
   "outputs": [],
   "source": [
    "model2 = Sequential()"
   ]
  },
  {
   "cell_type": "code",
   "execution_count": 14,
   "metadata": {},
   "outputs": [],
   "source": [
    "model2.add(Embedding(10000,128))\n",
    "model2.add(GRU(128, dropout=0.2, recurrent_dropout=0.2))\n",
    "model2.add(Dense(1, activation='sigmoid'))"
   ]
  },
  {
   "cell_type": "code",
   "execution_count": 15,
   "metadata": {},
   "outputs": [],
   "source": [
    "model2.compile(loss='binary_crossentropy', optimizer='adam', metrics=['accuracy'])"
   ]
  },
  {
   "cell_type": "code",
   "execution_count": 16,
   "metadata": {},
   "outputs": [
    {
     "name": "stdout",
     "output_type": "stream",
     "text": [
      "Model: \"sequential\"\n",
      "_________________________________________________________________\n",
      "Layer (type)                 Output Shape              Param #   \n",
      "=================================================================\n",
      "embedding (Embedding)        (None, None, 128)         1280000   \n",
      "_________________________________________________________________\n",
      "gru (GRU)                    (None, 128)               99072     \n",
      "_________________________________________________________________\n",
      "dense (Dense)                (None, 1)                 129       \n",
      "=================================================================\n",
      "Total params: 1,379,201\n",
      "Trainable params: 1,379,201\n",
      "Non-trainable params: 0\n",
      "_________________________________________________________________\n"
     ]
    }
   ],
   "source": [
    "model2.summary()"
   ]
  },
  {
   "cell_type": "markdown",
   "metadata": {},
   "source": [
    "### 參數數計算\n",
    "### 一個GRU的神經元有 r閘, z閘, 和一個更新用的S' ，然後輸出Ｓ\n",
    "* r閘：前一個Ｓ \\* 權重 ＋ 輸入 \\* 權重2 ＋ 偏值 ，然後作用於 sigmoid ，共（輸入數 ＋ GRU神經元數 ＋ 1 ）個參數\n",
    "* z閘：前一個Ｓ \\* 權重 ＋ 輸入 \\* 權重2 ＋ 偏值 ，然後作用於 sigmoid ，共（輸入數 ＋ GRU神經元數 ＋ 1 ）個參數\n",
    "* S' ：前一個Ｓ \\* r閘 \\*權重  + 輸入 \\* 權重2 ＋ 偏值 ，然後作用於 tanh    ，共（輸入數 ＋ GRU神經元數 ＋ 1 ）個參數\n",
    "* S  ：（1-z閘）\\* 前一個S ＋ z閘 \\* S' ， 零個參數\n",
    "\n",
    "### 輸入數是 128 ， GRU神經元數是128， 共 （(128+128+1)\\*3*128 個參數"
   ]
  },
  {
   "cell_type": "code",
   "execution_count": 17,
   "metadata": {},
   "outputs": [
    {
     "data": {
      "text/plain": [
       "98688"
      ]
     },
     "execution_count": 17,
     "metadata": {},
     "output_type": "execute_result"
    }
   ],
   "source": [
    "(128+128+1)*3*128 "
   ]
  },
  {
   "cell_type": "markdown",
   "metadata": {},
   "source": [
    "### 然而計算結果不符合預期，實際上是(128+128+2)\\*3*128 \n",
    "猜測：應該是 輸入 和 前一個Ｓ都各有一個偏值"
   ]
  },
  {
   "cell_type": "markdown",
   "metadata": {},
   "source": [
    "#### 訓練"
   ]
  },
  {
   "cell_type": "code",
   "execution_count": 19,
   "metadata": {},
   "outputs": [
    {
     "name": "stdout",
     "output_type": "stream",
     "text": [
      "Train on 25000 samples\n",
      "25000/25000 [==============================] - 219s 9ms/sample - loss: 9.9332 - accuracy: 0.6767\n"
     ]
    },
    {
     "data": {
      "text/plain": [
       "<tensorflow.python.keras.callbacks.History at 0x6428a1d90>"
      ]
     },
     "execution_count": 19,
     "metadata": {},
     "output_type": "execute_result"
    }
   ],
   "source": [
    "model2.fit(x_train_, y_train)"
   ]
  },
  {
   "cell_type": "markdown",
   "metadata": {},
   "source": [
    "#### 查看準確率"
   ]
  },
  {
   "cell_type": "code",
   "execution_count": 22,
   "metadata": {},
   "outputs": [
    {
     "data": {
      "text/plain": [
       "[0.567109863204956, 0.7]"
      ]
     },
     "execution_count": 22,
     "metadata": {},
     "output_type": "execute_result"
    }
   ],
   "source": [
    "model2.evaluate(x_test_,y_test,verbose=0)"
   ]
  },
  {
   "cell_type": "markdown",
   "metadata": {},
   "source": [
    "* 準確率為:70%"
   ]
  },
  {
   "cell_type": "markdown",
   "metadata": {},
   "source": [
    "### 看起來LSTM在這個模型好像要準確一些\n",
    "### 為了讓model公平（？）一些，調整GRU的神經元數，使其參數數約等於LSTM的"
   ]
  },
  {
   "cell_type": "code",
   "execution_count": 25,
   "metadata": {},
   "outputs": [],
   "source": [
    "model2 = Sequential()"
   ]
  },
  {
   "cell_type": "code",
   "execution_count": 26,
   "metadata": {},
   "outputs": [],
   "source": [
    "model2.add(Embedding(10000,128))\n",
    "model2.add(GRU(154, dropout=0.2, recurrent_dropout=0.2))\n",
    "model2.add(Dense(1, activation='sigmoid'))"
   ]
  },
  {
   "cell_type": "code",
   "execution_count": 27,
   "metadata": {},
   "outputs": [],
   "source": [
    "model2.compile(loss='binary_crossentropy', optimizer='adam', metrics=['accuracy'])"
   ]
  },
  {
   "cell_type": "code",
   "execution_count": 28,
   "metadata": {},
   "outputs": [
    {
     "name": "stdout",
     "output_type": "stream",
     "text": [
      "Model: \"sequential_1\"\n",
      "_________________________________________________________________\n",
      "Layer (type)                 Output Shape              Param #   \n",
      "=================================================================\n",
      "embedding_1 (Embedding)      (None, None, 128)         1280000   \n",
      "_________________________________________________________________\n",
      "gru_1 (GRU)                  (None, 154)               131208    \n",
      "_________________________________________________________________\n",
      "dense_1 (Dense)              (None, 1)                 155       \n",
      "=================================================================\n",
      "Total params: 1,411,363\n",
      "Trainable params: 1,411,363\n",
      "Non-trainable params: 0\n",
      "_________________________________________________________________\n"
     ]
    }
   ],
   "source": [
    "model2.summary()"
   ]
  },
  {
   "cell_type": "markdown",
   "metadata": {},
   "source": [
    "#### 參數數計算"
   ]
  },
  {
   "cell_type": "code",
   "execution_count": 30,
   "metadata": {},
   "outputs": [
    {
     "data": {
      "text/plain": [
       "131208"
      ]
     },
     "execution_count": 30,
     "metadata": {},
     "output_type": "execute_result"
    }
   ],
   "source": [
    "(154+128+2)*3*154"
   ]
  },
  {
   "cell_type": "markdown",
   "metadata": {},
   "source": [
    "#### 訓練"
   ]
  },
  {
   "cell_type": "code",
   "execution_count": 31,
   "metadata": {},
   "outputs": [
    {
     "name": "stdout",
     "output_type": "stream",
     "text": [
      "Train on 25000 samples\n",
      "25000/25000 [==============================] - 236s 9ms/sample - loss: 23.2446 - accuracy: 0.6790\n"
     ]
    },
    {
     "data": {
      "text/plain": [
       "<tensorflow.python.keras.callbacks.History at 0x6453c3cd0>"
      ]
     },
     "execution_count": 31,
     "metadata": {},
     "output_type": "execute_result"
    }
   ],
   "source": [
    "model2.fit(x_train_, y_train)"
   ]
  },
  {
   "cell_type": "markdown",
   "metadata": {},
   "source": [
    "#### 查看準確率"
   ]
  },
  {
   "cell_type": "code",
   "execution_count": 33,
   "metadata": {},
   "outputs": [
    {
     "data": {
      "text/plain": [
       "[0.5779512642192841, 0.68708]"
      ]
     },
     "execution_count": 33,
     "metadata": {},
     "output_type": "execute_result"
    }
   ],
   "source": [
    "model2.evaluate(x_test_,y_test,verbose=0)"
   ]
  },
  {
   "cell_type": "markdown",
   "metadata": {},
   "source": [
    "* 準確率為：68.71%"
   ]
  },
  {
   "cell_type": "markdown",
   "metadata": {},
   "source": [
    "# 結論：LSTM在這個模型好像真的要準確一些"
   ]
  },
  {
   "cell_type": "code",
   "execution_count": null,
   "metadata": {},
   "outputs": [],
   "source": []
  }
 ],
 "metadata": {
  "kernelspec": {
   "display_name": "Python 3",
   "language": "python",
   "name": "python3"
  },
  "language_info": {
   "codemirror_mode": {
    "name": "ipython",
    "version": 3
   },
   "file_extension": ".py",
   "mimetype": "text/x-python",
   "name": "python",
   "nbconvert_exporter": "python",
   "pygments_lexer": "ipython3",
   "version": "3.7.4"
  }
 },
 "nbformat": 4,
 "nbformat_minor": 2
}
