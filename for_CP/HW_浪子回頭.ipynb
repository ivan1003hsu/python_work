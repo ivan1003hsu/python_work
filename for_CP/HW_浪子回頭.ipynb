{
 "cells": [
  {
   "cell_type": "code",
   "execution_count": 2,
   "metadata": {},
   "outputs": [],
   "source": [
    "import numpy as np\n",
    "import time"
   ]
  },
  {
   "cell_type": "code",
   "execution_count": 20,
   "metadata": {},
   "outputs": [
    {
     "name": "stdout",
     "output_type": "stream",
     "text": [
      "兩次平時考各占15%,期中期末考各占35%\n",
      "請以百分比輸入：\n",
      "請輸入第一次平時考成績：0.35\n",
      "請輸入第二次平時考成績：0.51\n",
      "請輸入期中考成績：0.47\n",
      "請輸入「預計」期末考成績：0.32\n",
      "你的成績不慎理想但，你有努力...\n",
      "所以調整成績為：0.6 0.6 0.6 0.6 \n",
      "學期成績為： 0.6 恭喜pass!\n",
      "\u001b[1;35m 只要努力，就會有回報！ \u001b[0m!\n"
     ]
    }
   ],
   "source": [
    "print('兩次平時考各占15%,期中期末考各占35%')\n",
    "time.sleep(1)\n",
    "print('請以百分比輸入：')\n",
    "g1 = float(input('請輸入第一次平時考成績：'))\n",
    "g2 = float(input('請輸入第二次平時考成績：'))\n",
    "g3 = float(input('請輸入期中考成績：'))\n",
    "g4 = float(input('請輸入「預計」期末考成績：'))\n",
    "if 15*(g1+g2)+35*(g3+g4)>60:\n",
    "    print('你的成績是：',0.15*(g1+g2)+0.35*(g3+g4),'恭喜pass!')\n",
    "elif(g4>g3 or g3>g2 or g2>g1):\n",
    "    print('你的成績不慎理想但，你有努力...')\n",
    "    time.sleep(1)\n",
    "    print('所以調整成績為：',end='')\n",
    "    l = [g1,g2,g3,g4]\n",
    "    for i in range(4):\n",
    "        if l[i] < 0.6:\n",
    "            l[i] = 0.6\n",
    "        print(l[i], end=' ') \n",
    "    print('\\n學期成績為：',0.15*(l[0]+l[1])+0.35*(l[2]+l[3]),'恭喜pass!')\n",
    "    print('\\033[1;35m 只要努力，就會有回報！ \\033[0m!')\n",
    "else:\n",
    "    print('你的成績是：',0.15*(g1+g2)+0.35*(g3+g4),'下去！')"
   ]
  },
  {
   "cell_type": "code",
   "execution_count": null,
   "metadata": {},
   "outputs": [],
   "source": []
  },
  {
   "cell_type": "code",
   "execution_count": null,
   "metadata": {},
   "outputs": [],
   "source": []
  }
 ],
 "metadata": {
  "kernelspec": {
   "display_name": "Python 3",
   "language": "python",
   "name": "python3"
  },
  "language_info": {
   "codemirror_mode": {
    "name": "ipython",
    "version": 3
   },
   "file_extension": ".py",
   "mimetype": "text/x-python",
   "name": "python",
   "nbconvert_exporter": "python",
   "pygments_lexer": "ipython3",
   "version": "3.7.4"
  }
 },
 "nbformat": 4,
 "nbformat_minor": 4
}
