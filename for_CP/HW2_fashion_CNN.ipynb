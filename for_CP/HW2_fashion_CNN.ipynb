{
 "cells": [
  {
   "cell_type": "code",
   "execution_count": 1,
   "metadata": {},
   "outputs": [],
   "source": [
    "%matplotlib inline\n",
    "import numpy as np\n",
    "import matplotlib.pyplot as plt\n",
    "import tensorflow as tf"
   ]
  },
  {
   "cell_type": "code",
   "execution_count": 2,
   "metadata": {},
   "outputs": [],
   "source": [
    "from tensorflow.keras.datasets import fashion_mnist\n",
    "(x_train, y_train), (x_test, y_test) = fashion_mnist.load_data()"
   ]
  },
  {
   "cell_type": "code",
   "execution_count": 3,
   "metadata": {},
   "outputs": [
    {
     "name": "stdout",
     "output_type": "stream",
     "text": [
      "T-shirt/top\n"
     ]
    },
    {
     "data": {
      "image/png": "[encoded data removed]",
      "text/plain": [
       "<Figure size 432x288 with 1 Axes>"
      ]
     },
     "metadata": {
      "needs_background": "light"
     },
     "output_type": "display_data"
    }
   ],
   "source": [
    "n=1\n",
    "class_names = ['T-shirt/top', 'Trouser', 'Pullover', 'Dress', 'Coat',\n",
    "               'Sandal', 'Shirt', 'Sneaker', 'Bag', 'Ankle boot']\n",
    "print(class_names[y_train[n]])\n",
    "plt.imshow(x_train[n], cmap='Greys');"
   ]
  },
  {
   "cell_type": "code",
   "execution_count": 4,
   "metadata": {},
   "outputs": [],
   "source": [
    "from tensorflow.keras.utils import to_categorical"
   ]
  },
  {
   "cell_type": "code",
   "execution_count": 5,
   "metadata": {},
   "outputs": [],
   "source": [
    "y_train = to_categorical(y_train)\n",
    "y_test_ = to_categorical(y_test)"
   ]
  },
  {
   "cell_type": "code",
   "execution_count": 6,
   "metadata": {},
   "outputs": [],
   "source": [
    "x_train = x_train/255\n",
    "x_test = x_test/255"
   ]
  },
  {
   "cell_type": "code",
   "execution_count": 7,
   "metadata": {},
   "outputs": [],
   "source": [
    "x_train = x_train.reshape(60000, 28, 28, 1)\n",
    "x_test = x_test.reshape(10000, 28, 28, 1)"
   ]
  },
  {
   "cell_type": "code",
   "execution_count": 8,
   "metadata": {},
   "outputs": [],
   "source": [
    "from tensorflow.keras.models import Sequential\n",
    "from tensorflow.keras.layers import Conv2D, MaxPooling2D\n",
    "from tensorflow.keras.layers import Dense, Flatten\n",
    "from tensorflow.keras.optimizers import SGD"
   ]
  },
  {
   "cell_type": "code",
   "execution_count": 9,
   "metadata": {},
   "outputs": [],
   "source": [
    "model = Sequential()"
   ]
  },
  {
   "cell_type": "code",
   "execution_count": 10,
   "metadata": {},
   "outputs": [],
   "source": [
    "model.add(Conv2D(16, (3,3), padding='same', input_shape=(28,28,1), activation = 'relu'))\n",
    "#output: 28,28,16"
   ]
  },
  {
   "cell_type": "code",
   "execution_count": 11,
   "metadata": {},
   "outputs": [],
   "source": [
    "model.add(MaxPooling2D(pool_size=(2,2)))\n",
    "#output: 14,14,16"
   ]
  },
  {
   "cell_type": "code",
   "execution_count": 12,
   "metadata": {},
   "outputs": [],
   "source": [
    "model.add(Conv2D(32, (3,3), padding='same', activation = 'relu'))\n",
    "#output: 14,14,32"
   ]
  },
  {
   "cell_type": "code",
   "execution_count": 13,
   "metadata": {},
   "outputs": [],
   "source": [
    "model.add(MaxPooling2D(pool_size=(2,2)))\n",
    "#output: 7,7,32"
   ]
  },
  {
   "cell_type": "code",
   "execution_count": 14,
   "metadata": {},
   "outputs": [],
   "source": [
    "model.add(Conv2D(64, (3,3), padding='same', activation = 'relu'))\n",
    "#output: 7,7,64"
   ]
  },
  {
   "cell_type": "code",
   "execution_count": 15,
   "metadata": {},
   "outputs": [],
   "source": [
    "model.add(MaxPooling2D(pool_size=(2,2)))\n",
    "#output: ?,?,64"
   ]
  },
  {
   "cell_type": "code",
   "execution_count": 16,
   "metadata": {},
   "outputs": [],
   "source": [
    "model.add(Flatten())\n",
    "#output: ?*?*64"
   ]
  },
  {
   "cell_type": "code",
   "execution_count": 17,
   "metadata": {},
   "outputs": [],
   "source": [
    "model.add(Dense(30, activation='relu'))"
   ]
  },
  {
   "cell_type": "code",
   "execution_count": 18,
   "metadata": {},
   "outputs": [],
   "source": [
    "model.add(Dense(10, activation='softmax'))"
   ]
  },
  {
   "cell_type": "code",
   "execution_count": 19,
   "metadata": {},
   "outputs": [],
   "source": [
    "model.compile(loss='mse', optimizer=SGD(lr=0.05), metrics=['accuracy'])"
   ]
  },
  {
   "cell_type": "code",
   "execution_count": 20,
   "metadata": {},
   "outputs": [
    {
     "name": "stdout",
     "output_type": "stream",
     "text": [
      "Model: \"sequential\"\n",
      "_________________________________________________________________\n",
      "Layer (type)                 Output Shape              Param #   \n",
      "=================================================================\n",
      "conv2d (Conv2D)              (None, 28, 28, 16)        160       \n",
      "_________________________________________________________________\n",
      "max_pooling2d (MaxPooling2D) (None, 14, 14, 16)        0         \n",
      "_________________________________________________________________\n",
      "conv2d_1 (Conv2D)            (None, 14, 14, 32)        4640      \n",
      "_________________________________________________________________\n",
      "max_pooling2d_1 (MaxPooling2 (None, 7, 7, 32)          0         \n",
      "_________________________________________________________________\n",
      "conv2d_2 (Conv2D)            (None, 7, 7, 64)          18496     \n",
      "_________________________________________________________________\n",
      "max_pooling2d_2 (MaxPooling2 (None, 3, 3, 64)          0         \n",
      "_________________________________________________________________\n",
      "flatten (Flatten)            (None, 576)               0         \n",
      "_________________________________________________________________\n",
      "dense (Dense)                (None, 30)                17310     \n",
      "_________________________________________________________________\n",
      "dense_1 (Dense)              (None, 10)                310       \n",
      "=================================================================\n",
      "Total params: 40,916\n",
      "Trainable params: 40,916\n",
      "Non-trainable params: 0\n",
      "_________________________________________________________________\n"
     ]
    }
   ],
   "source": [
    "model.summary()"
   ]
  },
  {
   "cell_type": "markdown",
   "metadata": {},
   "source": [
    "### 這裡可以看到，用Max_pooling2d (pool_size=(2,2)) 對於奇數的size而言的輸出結果似乎是向上取整\n",
    "###  而[這裡](http://hk.uwenku.com/question/p-mzkfyqwq-vw.html)有個可參考的來源\n",
    "### 具體如何分割，待查證"
   ]
  },
  {
   "cell_type": "markdown",
   "metadata": {},
   "source": [
    "## Conv2d的參數數= (filter的元素數（權重）＊輸入的channel個數 + 1（filter的偏值）)＊filter的個數 \n",
    "* $160 = (3*3*1+1)*16$\n",
    "* $4640 = (3*3*16+1)*32$\n",
    "* $18496 = (3*3*32+1)*64$\n",
    "## Flatten output = 元素數＊channel數\n",
    "* $576 = 3*3*64$"
   ]
  },
  {
   "cell_type": "code",
   "execution_count": 21,
   "metadata": {},
   "outputs": [],
   "source": [
    "import os\n",
    "os.environ[\"KMP_DUPLICATE_LIB_OK\"]=\"TRUE\""
   ]
  },
  {
   "cell_type": "code",
   "execution_count": 22,
   "metadata": {},
   "outputs": [
    {
     "name": "stdout",
     "output_type": "stream",
     "text": [
      "Train on 60000 samples\n",
      "Epoch 1/20\n",
      "60000/60000 [==============================] - 20s 339us/sample - loss: 0.0894 - accuracy: 0.1880\n",
      "Epoch 2/20\n",
      "60000/60000 [==============================] - 20s 331us/sample - loss: 0.0878 - accuracy: 0.3721\n",
      "Epoch 3/20\n",
      "60000/60000 [==============================] - 20s 334us/sample - loss: 0.0807 - accuracy: 0.4369\n",
      "Epoch 4/20\n",
      "60000/60000 [==============================] - 20s 334us/sample - loss: 0.0524 - accuracy: 0.6423\n",
      "Epoch 5/20\n",
      "60000/60000 [==============================] - 20s 335us/sample - loss: 0.0389 - accuracy: 0.7289\n",
      "Epoch 6/20\n",
      "60000/60000 [==============================] - 20s 335us/sample - loss: 0.0354 - accuracy: 0.7524\n",
      "Epoch 7/20\n",
      "60000/60000 [==============================] - 20s 335us/sample - loss: 0.0334 - accuracy: 0.7665\n",
      "Epoch 8/20\n",
      "60000/60000 [==============================] - 21s 343us/sample - loss: 0.0315 - accuracy: 0.7812\n",
      "Epoch 9/20\n",
      "60000/60000 [==============================] - 20s 338us/sample - loss: 0.0301 - accuracy: 0.7912\n",
      "Epoch 10/20\n",
      "60000/60000 [==============================] - 20s 334us/sample - loss: 0.0289 - accuracy: 0.7991\n",
      "Epoch 11/20\n",
      "60000/60000 [==============================] - 20s 336us/sample - loss: 0.0280 - accuracy: 0.8063\n",
      "Epoch 12/20\n",
      "60000/60000 [==============================] - 20s 330us/sample - loss: 0.0273 - accuracy: 0.8115\n",
      "Epoch 13/20\n",
      "60000/60000 [==============================] - 20s 334us/sample - loss: 0.0264 - accuracy: 0.8182\n",
      "Epoch 14/20\n",
      "60000/60000 [==============================] - 20s 333us/sample - loss: 0.0258 - accuracy: 0.8220\n",
      "Epoch 15/20\n",
      "60000/60000 [==============================] - 20s 333us/sample - loss: 0.0253 - accuracy: 0.8245\n",
      "Epoch 16/20\n",
      "60000/60000 [==============================] - 20s 333us/sample - loss: 0.0248 - accuracy: 0.8297\n",
      "Epoch 17/20\n",
      "60000/60000 [==============================] - 20s 333us/sample - loss: 0.0242 - accuracy: 0.8341\n",
      "Epoch 18/20\n",
      "60000/60000 [==============================] - 20s 334us/sample - loss: 0.0237 - accuracy: 0.8370\n",
      "Epoch 19/20\n",
      "60000/60000 [==============================] - 20s 338us/sample - loss: 0.0234 - accuracy: 0.8395\n",
      "Epoch 20/20\n",
      "60000/60000 [==============================] - 20s 336us/sample - loss: 0.0229 - accuracy: 0.8429\n"
     ]
    },
    {
     "data": {
      "text/plain": [
       "<tensorflow.python.keras.callbacks.History at 0x6684e67d0>"
      ]
     },
     "execution_count": 22,
     "metadata": {},
     "output_type": "execute_result"
    }
   ],
   "source": [
    "model.fit(x_train, y_train, batch_size=100, epochs=20)"
   ]
  },
  {
   "cell_type": "code",
   "execution_count": 23,
   "metadata": {},
   "outputs": [],
   "source": [
    "y_predict = model.predict_classes(x_test)\n",
    "def showpredict(n):\n",
    "    print('model預測：',class_names[y_predict[n]])\n",
    "    print('答案是：',class_names[y_test[n]])\n",
    "    plt.imshow(x_test[n].reshape(28,28), cmap='Greys');"
   ]
  },
  {
   "cell_type": "code",
   "execution_count": 24,
   "metadata": {},
   "outputs": [],
   "source": [
    "from ipywidgets import interact_manual"
   ]
  },
  {
   "cell_type": "code",
   "execution_count": 25,
   "metadata": {},
   "outputs": [
    {
     "data": {
      "application/vnd.jupyter.widget-view+json": {
       "model_id": "552d9731610046c6a57542bc0b69023f",
       "version_major": 2,
       "version_minor": 0
      },
      "text/plain": [
       "interactive(children=(IntSlider(value=4999, description='n', max=9999), Button(description='Run Interact', sty…"
      ]
     },
     "metadata": {},
     "output_type": "display_data"
    },
    {
     "data": {
      "text/plain": [
       "<function __main__.showpredict(n)>"
      ]
     },
     "execution_count": 25,
     "metadata": {},
     "output_type": "execute_result"
    }
   ],
   "source": [
    "interact_manual(showpredict, n=(0,len(x_test)-1))"
   ]
  },
  {
   "cell_type": "code",
   "execution_count": 28,
   "metadata": {},
   "outputs": [
    {
     "name": "stdout",
     "output_type": "stream",
     "text": [
      "正確率為： 0.84\n"
     ]
    }
   ],
   "source": [
    "score = model.evaluate(x_test, y_test_, verbose=0)\n",
    "print(\"正確率為：\", score[1])"
   ]
  },
  {
   "cell_type": "markdown",
   "metadata": {},
   "source": [
    "### verbose = 0 為安靜模式, verbose = 1 為日誌模式\n",
    "### 參考：https://keras.io/zh/models/model/#evaluate"
   ]
  },
  {
   "cell_type": "code",
   "execution_count": 30,
   "metadata": {},
   "outputs": [],
   "source": [
    "model.save('4_7my_CNNmodel.h5')"
   ]
  },
  {
   "cell_type": "code",
   "execution_count": null,
   "metadata": {},
   "outputs": [],
   "source": []
  }
 ],
 "metadata": {
  "kernelspec": {
   "display_name": "Python 3",
   "language": "python",
   "name": "python3"
  },
  "language_info": {
   "codemirror_mode": {
    "name": "ipython",
    "version": 3
   },
   "file_extension": ".py",
   "mimetype": "text/x-python",
   "name": "python",
   "nbconvert_exporter": "python",
   "pygments_lexer": "ipython3",
   "version": "3.7.4"
  }
 },
 "nbformat": 4,
 "nbformat_minor": 2
}
