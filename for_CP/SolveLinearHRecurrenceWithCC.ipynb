{
 "cells": [
  {
   "cell_type": "code",
   "execution_count": 5,
   "metadata": {},
   "outputs": [],
   "source": [
    "import numpy as np\n",
    "import sympy as sp\n",
    "from IPython.display import display, Math"
   ]
  },
  {
   "cell_type": "code",
   "execution_count": 111,
   "metadata": {},
   "outputs": [
    {
     "name": "stdout",
     "output_type": "stream",
     "text": [
      "設置遞迴項數>>2\n",
      "輸入a_n-1係數1\n",
      "輸入a_n-2係數1\n",
      "起始條件：\n",
      "輸入a_1為：1\n",
      "輸入a_2為：1\n",
      "-------------\n",
      "起始條件：\n",
      "a_1=1\n",
      "a_2=1\n",
      "-------------\n",
      "遞迴關係式：\n",
      "\n",
      "a_n = 1*a_n-1+1*a_n-2 ,n>= 3\n",
      "-------------\n"
     ]
    },
    {
     "data": {
      "text/plain": [
       "'一般式:a_n = '"
      ]
     },
     "metadata": {},
     "output_type": "display_data"
    },
    {
     "data": {
      "text/latex": [
       "$\\displaystyle \\frac{2^{- n} \\sqrt{5} \\left(- \\left(1 - \\sqrt{5}\\right)^{n} + \\left(1 + \\sqrt{5}\\right)^{n}\\right)}{5}$"
      ],
      "text/plain": [
       "2**(-n)*sqrt(5)*(-(1 - sqrt(5))**n + (1 + sqrt(5))**n)/5"
      ]
     },
     "metadata": {},
     "output_type": "display_data"
    }
   ],
   "source": [
    "k_ = input(\"設置遞迴項數>>\")\n",
    "k = int(k_)\n",
    "C=[]\n",
    "func1=r**2 #func1: r^k = c_1*r^(k-1).....+c_k=0\n",
    "sp.var(\"r\")\n",
    "for i in range(k):\n",
    "    c=int(input(\"輸入a_n-{}係數\".format(i+1)))\n",
    "    C.append(c)\n",
    "    func1 += -1*(c*r**(k-i-1))\n",
    "R = sp.solve(func1,r)\n",
    "if len(R)== k: ##無重根\n",
    "    alphas = sp.var(\"α1:\"+str(k+1))\n",
    "    n = sp.var(\"n\")\n",
    "    #func2: α_1*r_1**n + α_2*r_2**n.....α_k*r_k**n\n",
    "    func2 = 0\n",
    "    for i in range(k):\n",
    "        func2 += alphas[i]*R[i]**n\n",
    "    \n",
    "    print(\"起始條件：\")\n",
    "    A=[]\n",
    "    func2s=[]\n",
    "    #func2s = [α_1*r_1**1 + α_2*r_2**1= a_1.....α_k*r_k**1 - a_1,..., ]\n",
    "    for i in range(k):\n",
    "        a=input(\"輸入a_{}為：\".format(i+1))\n",
    "        a=int(a)\n",
    "        A.append(a)\n",
    "        func2s.append(func2.subs({n:i+1})-a)\n",
    "    alphas_value=sp.solve(func2s,alphas)\n",
    "    print(\"-------------\")\n",
    "    print(\"起始條件：\")\n",
    "    Ans=0\n",
    "    for i in range(k):\n",
    "        Ans += alphas_value[alphas[i]]*R[i]**n\n",
    "        print(\"a_{}={}\".format(i+1,A[i]))\n",
    "    print(\"-------------\")\n",
    "    print(\"遞迴關係式：\\n\")\n",
    "    Re='a_n = ' + str(C[0]) +'*a_n-1'\n",
    "    for i in range(1,k):\n",
    "        Re += '+' + str(C[i]) + \"*a_n-\" + str(i+1)\n",
    "    print(Re,',n>=',k+1)\n",
    "    print(\"-------------\")\n",
    "    display(\"一般式:a_n = ,sp.simplify(Ans))\n",
    "else:\n",
    "    print(\"待續\")"
   ]
  },
  {
   "cell_type": "code",
   "execution_count": 97,
   "metadata": {},
   "outputs": [],
   "source": [
    "aaa = sp.solve(func2s,alphas)"
   ]
  },
  {
   "cell_type": "markdown",
   "metadata": {},
   "source": [
    "#### h96ej0 u vm, 5j6rmp "
   ]
  },
  {
   "cell_type": "code",
   "execution_count": 101,
   "metadata": {},
   "outputs": [
    {
     "data": {
      "text/latex": [
       "$\\displaystyle \\frac{\\sqrt{5}}{5}$"
      ],
      "text/plain": [
       "sqrt(5)/5"
      ]
     },
     "execution_count": 101,
     "metadata": {},
     "output_type": "execute_result"
    }
   ],
   "source": [
    "aaa[alphas[1]]"
   ]
  },
  {
   "cell_type": "code",
   "execution_count": 106,
   "metadata": {},
   "outputs": [
    {
     "data": {
      "text/latex": [
       "$\\displaystyle - \\frac{\\sqrt{5} \\left(\\frac{1}{2} - \\frac{\\sqrt{5}}{2}\\right)^{n}}{5} + \\frac{\\sqrt{5} \\left(\\frac{1}{2} + \\frac{\\sqrt{5}}{2}\\right)^{n}}{5}$"
      ],
      "text/plain": [
       "-sqrt(5)*(1/2 - sqrt(5)/2)**n/5 + sqrt(5)*(1/2 + sqrt(5)/2)**n/5"
      ]
     },
     "execution_count": 106,
     "metadata": {},
     "output_type": "execute_result"
    }
   ],
   "source": [
    "Ans"
   ]
  },
  {
   "cell_type": "code",
   "execution_count": null,
   "metadata": {},
   "outputs": [],
   "source": []
  }
 ],
 "metadata": {
  "kernelspec": {
   "display_name": "Python 3",
   "language": "python",
   "name": "python3"
  },
  "language_info": {
   "codemirror_mode": {
    "name": "ipython",
    "version": 3
   },
   "file_extension": ".py",
   "mimetype": "text/x-python",
   "name": "python",
   "nbconvert_exporter": "python",
   "pygments_lexer": "ipython3",
   "version": "3.7.4"
  }
 },
 "nbformat": 4,
 "nbformat_minor": 2
}
