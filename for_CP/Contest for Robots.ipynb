{
 "cells": [
  {
   "cell_type": "markdown",
   "metadata": {},
   "source": [
    "## [Contest for Robots機器人競賽](https://codeforces.com/problemset/problem/1321/A)\n",
    "\n",
    "#### 劇情：Polycarp準備了一個測試，用來鑑別機器人的答題能力：共有$n$題，每題的分數都是不小於1的整數，今天有兩家公司Robo-Coder Inc. 和 BionicSolver Industries 分別要來參加測試，而Polycarp知道所有機器人的優缺點，因此他可以透過調整配分來指定 Robo-Coder Inc.獲勝，但又不能太明顯，因此要「減小最高得分的分數」。\n",
    "\n",
    "\n",
    "### 目的：找到最高配分的最小值，並印出\n",
    "### 規則：每題的分數都是不小於1的整數...（見 [原題目](https://codeforces.com/problemset/problem/1321/A)）"
   ]
  },
  {
   "cell_type": "code",
   "execution_count": 6,
   "metadata": {},
   "outputs": [
    {
     "name": "stdout",
     "output_type": "stream",
     "text": [
      "9\n",
      "1 0 0 0 0 0 0 0 1\n",
      "0 1 1 0 1 1 1 1 0\n",
      "4\n"
     ]
    }
   ],
   "source": [
    "n = int(input())\n",
    "robo = input().split(' ')\n",
    "bio = input().split(' ')\n",
    "w = 0\n",
    "l = 0\n",
    "for i in range(n):\n",
    "    if robo[i]>bio[i]:\n",
    "        w +=1\n",
    "    elif robo[i]<bio[i]:\n",
    "        l +=1\n",
    "if w==0:\n",
    "    print('-1')\n",
    "else:\n",
    "    print(int(l/w)+1)"
   ]
  },
  {
   "cell_type": "code",
   "execution_count": null,
   "metadata": {},
   "outputs": [],
   "source": []
  }
 ],
 "metadata": {
  "kernelspec": {
   "display_name": "Python 3",
   "language": "python",
   "name": "python3"
  },
  "language_info": {
   "codemirror_mode": {
    "name": "ipython",
    "version": 3
   },
   "file_extension": ".py",
   "mimetype": "text/x-python",
   "name": "python",
   "nbconvert_exporter": "python",
   "pygments_lexer": "ipython3",
   "version": "3.7.4"
  }
 },
 "nbformat": 4,
 "nbformat_minor": 2
}
