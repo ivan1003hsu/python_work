{
 "cells": [
  {
   "cell_type": "code",
   "execution_count": 2,
   "metadata": {},
   "outputs": [],
   "source": [
    "%matplotlib inline\n",
    "import numpy as np\n",
    "import matplotlib.pyplot as plt"
   ]
  },
  {
   "cell_type": "code",
   "execution_count": 3,
   "metadata": {},
   "outputs": [],
   "source": [
    "import tensorflow as tf"
   ]
  },
  {
   "cell_type": "code",
   "execution_count": 4,
   "metadata": {},
   "outputs": [],
   "source": [
    "from tensorflow.keras.datasets import fashion_mnist"
   ]
  },
  {
   "cell_type": "code",
   "execution_count": 5,
   "metadata": {},
   "outputs": [],
   "source": [
    "(x_train, y_train), (x_test, y_test) = fashion_mnist.load_data() "
   ]
  },
  {
   "cell_type": "code",
   "execution_count": 6,
   "metadata": {},
   "outputs": [
    {
     "name": "stdout",
     "output_type": "stream",
     "text": [
      "T-shirt/top\n"
     ]
    },
    {
     "data": {
      "image/png": "[encoded data removed]",
      "text/plain": [
       "<Figure size 432x288 with 1 Axes>"
      ]
     },
     "metadata": {
      "needs_background": "light"
     },
     "output_type": "display_data"
    }
   ],
   "source": [
    "n=1\n",
    "class_names = ['T-shirt/top', 'Trouser', 'Pullover', 'Dress', 'Coat',\n",
    "               'Sandal', 'Shirt', 'Sneaker', 'Bag', 'Ankle boot']\n",
    "print(class_names[y_train[n]])\n",
    "plt.imshow(x_train[n], cmap='Greys');"
   ]
  },
  {
   "cell_type": "code",
   "execution_count": 7,
   "metadata": {},
   "outputs": [
    {
     "data": {
      "text/plain": [
       "60000"
      ]
     },
     "execution_count": 7,
     "metadata": {},
     "output_type": "execute_result"
    }
   ],
   "source": [
    "len(x_train)"
   ]
  },
  {
   "cell_type": "code",
   "execution_count": 8,
   "metadata": {},
   "outputs": [
    {
     "data": {
      "text/plain": [
       "(28, 28)"
      ]
     },
     "execution_count": 8,
     "metadata": {},
     "output_type": "execute_result"
    }
   ],
   "source": [
    "x_train[0].shape"
   ]
  },
  {
   "cell_type": "code",
   "execution_count": 9,
   "metadata": {},
   "outputs": [],
   "source": [
    "x_train = x_train.reshape(len(x_train),784)/255\n",
    "x_test = x_test.reshape(len(x_test), 784)/255"
   ]
  },
  {
   "cell_type": "code",
   "execution_count": 10,
   "metadata": {},
   "outputs": [],
   "source": [
    "from tensorflow.keras.utils import to_categorical\n",
    "y_train = to_categorical(y_train,10)\n",
    "y_test_ = to_categorical(y_test,10)"
   ]
  },
  {
   "cell_type": "code",
   "execution_count": 11,
   "metadata": {},
   "outputs": [],
   "source": [
    "from tensorflow.keras.models import Sequential\n",
    "from tensorflow.keras.layers import Dense\n",
    "from tensorflow.keras.optimizers import SGD"
   ]
  },
  {
   "cell_type": "code",
   "execution_count": 12,
   "metadata": {},
   "outputs": [],
   "source": [
    "model = Sequential()"
   ]
  },
  {
   "cell_type": "code",
   "execution_count": 13,
   "metadata": {},
   "outputs": [],
   "source": [
    "model.add(Dense(10, input_dim=784, activation='relu'))\n",
    "model.add(Dense(20, activation='relu'))\n",
    "model.add(Dense(30, activation='relu'))"
   ]
  },
  {
   "cell_type": "code",
   "execution_count": 14,
   "metadata": {},
   "outputs": [],
   "source": [
    "model.add(Dense(10, activation='softmax'))"
   ]
  },
  {
   "cell_type": "code",
   "execution_count": 15,
   "metadata": {},
   "outputs": [],
   "source": [
    "model.compile(loss='mse', optimizer=SGD(lr=0.05), metrics=['accuracy'])"
   ]
  },
  {
   "cell_type": "code",
   "execution_count": 16,
   "metadata": {},
   "outputs": [
    {
     "name": "stdout",
     "output_type": "stream",
     "text": [
      "Model: \"sequential\"\n",
      "_________________________________________________________________\n",
      "Layer (type)                 Output Shape              Param #   \n",
      "=================================================================\n",
      "dense (Dense)                (None, 10)                7850      \n",
      "_________________________________________________________________\n",
      "dense_1 (Dense)              (None, 20)                220       \n",
      "_________________________________________________________________\n",
      "dense_2 (Dense)              (None, 30)                630       \n",
      "_________________________________________________________________\n",
      "dense_3 (Dense)              (None, 10)                310       \n",
      "=================================================================\n",
      "Total params: 9,010\n",
      "Trainable params: 9,010\n",
      "Non-trainable params: 0\n",
      "_________________________________________________________________\n"
     ]
    }
   ],
   "source": [
    "model.summary()"
   ]
  },
  {
   "cell_type": "markdown",
   "metadata": {},
   "source": [
    "## Param = 輸入*權重 + 偏値\n",
    "\n",
    "* $7850 = 784*10 + 10$\n",
    "\n",
    "* $220 = 10*20 +20 $\n",
    "\n",
    "* $630 = 20*30 + 30 $"
   ]
  },
  {
   "cell_type": "code",
   "execution_count": 17,
   "metadata": {},
   "outputs": [],
   "source": [
    "import os\n",
    "os.environ[\"KMP_DUPLICATE_LIB_OK\"]=\"TRUE\""
   ]
  },
  {
   "cell_type": "code",
   "execution_count": 27,
   "metadata": {},
   "outputs": [
    {
     "name": "stdout",
     "output_type": "stream",
     "text": [
      "Train on 60000 samples\n",
      "Epoch 1/20\n",
      "60000/60000 [==============================] - 2s 30us/sample - loss: 0.0283 - accuracy: 0.8097\n",
      "Epoch 2/20\n",
      "60000/60000 [==============================] - 2s 29us/sample - loss: 0.0278 - accuracy: 0.8134\n",
      "Epoch 3/20\n",
      "60000/60000 [==============================] - 2s 28us/sample - loss: 0.0273 - accuracy: 0.8160\n",
      "Epoch 4/20\n",
      "60000/60000 [==============================] - 2s 28us/sample - loss: 0.0269 - accuracy: 0.8184\n",
      "Epoch 5/20\n",
      "60000/60000 [==============================] - 2s 28us/sample - loss: 0.0265 - accuracy: 0.8206\n",
      "Epoch 6/20\n",
      "60000/60000 [==============================] - 2s 28us/sample - loss: 0.0262 - accuracy: 0.8226\n",
      "Epoch 7/20\n",
      "60000/60000 [==============================] - 2s 28us/sample - loss: 0.0258 - accuracy: 0.8246\n",
      "Epoch 8/20\n",
      "60000/60000 [==============================] - 2s 28us/sample - loss: 0.0256 - accuracy: 0.8262\n",
      "Epoch 9/20\n",
      "60000/60000 [==============================] - 2s 28us/sample - loss: 0.0253 - accuracy: 0.8277\n",
      "Epoch 10/20\n",
      "60000/60000 [==============================] - 2s 29us/sample - loss: 0.0250 - accuracy: 0.8293\n",
      "Epoch 11/20\n",
      "60000/60000 [==============================] - 2s 29us/sample - loss: 0.0247 - accuracy: 0.8311\n",
      "Epoch 12/20\n",
      "60000/60000 [==============================] - 2s 29us/sample - loss: 0.0245 - accuracy: 0.8330\n",
      "Epoch 13/20\n",
      "60000/60000 [==============================] - 2s 29us/sample - loss: 0.0243 - accuracy: 0.8332\n",
      "Epoch 14/20\n",
      "60000/60000 [==============================] - 2s 29us/sample - loss: 0.0241 - accuracy: 0.8341\n",
      "Epoch 15/20\n",
      "60000/60000 [==============================] - 2s 30us/sample - loss: 0.0239 - accuracy: 0.8366\n",
      "Epoch 16/20\n",
      "60000/60000 [==============================] - 2s 29us/sample - loss: 0.0237 - accuracy: 0.8377\n",
      "Epoch 17/20\n",
      "60000/60000 [==============================] - 2s 30us/sample - loss: 0.0236 - accuracy: 0.8380\n",
      "Epoch 18/20\n",
      "60000/60000 [==============================] - 2s 30us/sample - loss: 0.0234 - accuracy: 0.8401\n",
      "Epoch 19/20\n",
      "60000/60000 [==============================] - 2s 31us/sample - loss: 0.0232 - accuracy: 0.8412\n",
      "Epoch 20/20\n",
      "60000/60000 [==============================] - 2s 31us/sample - loss: 0.0231 - accuracy: 0.8416\n"
     ]
    },
    {
     "data": {
      "text/plain": [
       "<tensorflow.python.keras.callbacks.History at 0x67398d5d0>"
      ]
     },
     "execution_count": 27,
     "metadata": {},
     "output_type": "execute_result"
    }
   ],
   "source": [
    "model.fit(x_train, y_train, batch_size=100, epochs=20)"
   ]
  },
  {
   "cell_type": "code",
   "execution_count": 19,
   "metadata": {},
   "outputs": [],
   "source": [
    "def score(model, x_test, y_test):\n",
    "    y_predict = model.predict_classes(x_test)\n",
    "    l = y_predict - y_test\n",
    "    l = list(l)\n",
    "    trues= l.count(0)\n",
    "    return trues/len(x_test)"
   ]
  },
  {
   "cell_type": "code",
   "execution_count": 24,
   "metadata": {},
   "outputs": [],
   "source": [
    "y_predict = model.predict_classes(x_test)\n",
    "def showpredict(n):\n",
    "    print('model預測：',class_names[y_predict[n]])\n",
    "    print('答案是：',class_names[y_test[n]])\n",
    "    plt.imshow(x_test[n].reshape(28,28), cmap='Greys');"
   ]
  },
  {
   "cell_type": "code",
   "execution_count": 28,
   "metadata": {},
   "outputs": [
    {
     "name": "stdout",
     "output_type": "stream",
     "text": [
      "正確率： 0.8267\n"
     ]
    }
   ],
   "source": [
    "print('正確率：',score(model,x_test,y_test))"
   ]
  },
  {
   "cell_type": "code",
   "execution_count": 22,
   "metadata": {},
   "outputs": [],
   "source": [
    "from ipywidgets import interact_manual"
   ]
  },
  {
   "cell_type": "code",
   "execution_count": 29,
   "metadata": {},
   "outputs": [
    {
     "data": {
      "application/vnd.jupyter.widget-view+json": {
       "model_id": "9703d093e5d54e04a5d105a117be9023",
       "version_major": 2,
       "version_minor": 0
      },
      "text/plain": [
       "interactive(children=(IntSlider(value=4999, description='n', max=9999), Button(description='Run Interact', sty…"
      ]
     },
     "metadata": {},
     "output_type": "display_data"
    },
    {
     "data": {
      "text/plain": [
       "<function __main__.showpredict(n)>"
      ]
     },
     "execution_count": 29,
     "metadata": {},
     "output_type": "execute_result"
    }
   ],
   "source": [
    "interact_manual(showpredict, n=(0,len(x_test)-1))"
   ]
  },
  {
   "cell_type": "code",
   "execution_count": null,
   "metadata": {},
   "outputs": [],
   "source": []
  }
 ],
 "metadata": {
  "kernelspec": {
   "display_name": "Python 3",
   "language": "python",
   "name": "python3"
  },
  "language_info": {
   "codemirror_mode": {
    "name": "ipython",
    "version": 3
   },
   "file_extension": ".py",
   "mimetype": "text/x-python",
   "name": "python",
   "nbconvert_exporter": "python",
   "pygments_lexer": "ipython3",
   "version": "3.7.4"
  }
 },
 "nbformat": 4,
 "nbformat_minor": 2
}
