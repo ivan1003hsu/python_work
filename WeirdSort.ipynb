{
 "cells": [
  {
   "cell_type": "markdown",
   "metadata": {},
   "source": [
    "## [奇怪的排列](https://codeforces.com/contest/1311/problem/B?fbclid=IwAR2OXW3oCyLv5b1OhzZHGFQNVN7RmHwQjRtazftGr-oQQl6PXflhNjO1h1c)\n",
    "### given a = $[a_1,a_2,...,a_n]$\n",
    "### given p = $[p_1,p_2,...,p_m] ,其中   1 \\le p_i  \\le n$\n",
    "### 判斷「規定只能交換 a中第$p_i$個 和 第$p_i+1$個元素，使其升序排列」的可能性"
   ]
  },
  {
   "cell_type": "code",
   "execution_count": 64,
   "metadata": {},
   "outputs": [],
   "source": [
    "a = [1,4,6,3,7,2]\n",
    "p = [3,4]"
   ]
  },
  {
   "cell_type": "code",
   "execution_count": 90,
   "metadata": {},
   "outputs": [],
   "source": [
    "def sw(a,i):    #交換\n",
    "    a_ = a               #...a_i-1, a_i, a_i+1, ...\n",
    "    a_.insert(i-1,a[i])  #...a_i-1, a_i+1, a_i, a_i+1, ...\n",
    "    del a_[i+1]          #...a_i-1, a_i+1, a_i, ...\n",
    "    return a_"
   ]
  },
  {
   "cell_type": "code",
   "execution_count": 65,
   "metadata": {},
   "outputs": [],
   "source": [
    "def checkter(a): #檢查是否到終點\n",
    "    a_ = sorted(a)\n",
    "    return a==a_"
   ]
  },
  {
   "cell_type": "code",
   "execution_count": 82,
   "metadata": {},
   "outputs": [],
   "source": [
    "def checksw(a,i):  #檢查交換之必要\n",
    "    return a[(i-1)]>a[i]"
   ]
  },
  {
   "cell_type": "code",
   "execution_count": 66,
   "metadata": {},
   "outputs": [
    {
     "name": "stdout",
     "output_type": "stream",
     "text": [
      "no\n"
     ]
    }
   ],
   "source": [
    "while checkter(a)==False:\n",
    "    k=0\n",
    "    for i in p:\n",
    "        if checksw(a,i):\n",
    "            a = sw(a,i)\n",
    "            k=1 #紀錄有做交換\n",
    "            print(a)\n",
    "    if k == 0:\n",
    "        break\n",
    "if checkter(a):\n",
    "    print('yes')\n",
    "else: \n",
    "    print('no')"
   ]
  },
  {
   "cell_type": "markdown",
   "metadata": {},
   "source": [
    "## 依照題目改成他要的輸入規則\n",
    "### 輸入規則請參閱：[奇怪的排列](https://codeforces.com/contest/1311/problem/B?fbclid=IwAR2OXW3oCyLv5b1OhzZHGFQNVN7RmHwQjRtazftGr-oQQl6PXflhNjO1h1c)"
   ]
  },
  {
   "cell_type": "code",
   "execution_count": 102,
   "metadata": {},
   "outputs": [
    {
     "name": "stdout",
     "output_type": "stream",
     "text": [
      "次數:6\n",
      "這是a和p的元素數:3 2\n",
      "這是a:3 2 1\n",
      "這是p:1 2\n",
      "這是a和p的元素數:4 2\n",
      "這是a:4 1 2 3\n",
      "這是p:3 2\n",
      "這是a和p的元素數:5 1\n",
      "這是a:1 2 3 4 5\n",
      "這是p:1\n",
      "這是a和p的元素數:4 2\n",
      "這是a:2 1 4 3\n",
      "這是p:1 3\n",
      "這是a和p的元素數:4 2\n",
      "這是a:4 3 2 1\n",
      "這是p:1 3\n",
      "這是a和p的元素數:5 2\n",
      "這是a:2 1 2 3 3\n",
      "這是p:1 4\n",
      "YES\n",
      "NO\n",
      "YES\n",
      "YES\n",
      "NO\n",
      "YES\n"
     ]
    }
   ],
   "source": [
    "TIMES = int(input('次數:'))\n",
    "ANS = []\n",
    "for T in range(TIMES):\n",
    "    ap_size = input('這是a和p的元素數:')\n",
    "    a = input('這是a:').split(' ')\n",
    "    p = input('這是p:').split(' ')\n",
    "    p = list(map(int,p))\n",
    "    while checkter(a) == False:\n",
    "        k=0\n",
    "        for i in p:\n",
    "            if checksw(a,i):\n",
    "                a = sw(a,i)\n",
    "                k=1 #紀錄有做交換\n",
    "        if k == 0:\n",
    "            break\n",
    "    if checkter(a):\n",
    "        ANS.append('YES')\n",
    "    else: \n",
    "        ANS.append('NO')\n",
    "for i in ANS:\n",
    "    print(i)"
   ]
  },
  {
   "cell_type": "code",
   "execution_count": null,
   "metadata": {},
   "outputs": [],
   "source": []
  }
 ],
 "metadata": {
  "kernelspec": {
   "display_name": "Python 3",
   "language": "python",
   "name": "python3"
  },
  "language_info": {
   "codemirror_mode": {
    "name": "ipython",
    "version": 3
   },
   "file_extension": ".py",
   "mimetype": "text/x-python",
   "name": "python",
   "nbconvert_exporter": "python",
   "pygments_lexer": "ipython3",
   "version": "3.7.4"
  }
 },
 "nbformat": 4,
 "nbformat_minor": 2
}
