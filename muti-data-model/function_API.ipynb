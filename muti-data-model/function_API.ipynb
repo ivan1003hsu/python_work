{
 "cells": [
  {
   "cell_type": "code",
   "execution_count": 2,
   "metadata": {},
   "outputs": [],
   "source": [
    "%matplotlib inline\n",
    "import numpy as np\n",
    "import matplotlib.pyplot as plt\n",
    "import tensorflow as tf"
   ]
  },
  {
   "cell_type": "code",
   "execution_count": 3,
   "metadata": {},
   "outputs": [],
   "source": [
    "from tensorflow.keras.datasets import fashion_mnist\n",
    "(x_train, y_train), (x_test, y_test) = fashion_mnist.load_data()"
   ]
  },
  {
   "cell_type": "code",
   "execution_count": 4,
   "metadata": {},
   "outputs": [
    {
     "name": "stdout",
     "output_type": "stream",
     "text": [
      "T-shirt/top\n"
     ]
    },
    {
     "data": {
      "image/png": "[encoded data removed]",
      "text/plain": [
       "<Figure size 432x288 with 1 Axes>"
      ]
     },
     "metadata": {
      "needs_background": "light"
     },
     "output_type": "display_data"
    }
   ],
   "source": [
    "n=1\n",
    "class_names = ['T-shirt/top', 'Trouser', 'Pullover', 'Dress', 'Coat',\n",
    "               'Sandal', 'Shirt', 'Sneaker', 'Bag', 'Ankle boot']\n",
    "print(class_names[y_train[n]])\n",
    "plt.imshow(x_train[n], cmap='Greys');"
   ]
  },
  {
   "cell_type": "code",
   "execution_count": 5,
   "metadata": {},
   "outputs": [],
   "source": [
    "from tensorflow.keras.utils import to_categorical\n",
    "y_train = to_categorical(y_train)\n",
    "y_test_ = to_categorical(y_test)"
   ]
  },
  {
   "cell_type": "code",
   "execution_count": 6,
   "metadata": {},
   "outputs": [],
   "source": [
    "x_train = x_train/255\n",
    "x_test = x_test/255"
   ]
  },
  {
   "cell_type": "code",
   "execution_count": 7,
   "metadata": {},
   "outputs": [],
   "source": [
    "x_train = x_train.reshape(60000, 28, 28, 1)\n",
    "x_test = x_test.reshape(10000, 28, 28, 1)"
   ]
  },
  {
   "cell_type": "code",
   "execution_count": 8,
   "metadata": {},
   "outputs": [],
   "source": [
    "from tensorflow.keras.layers import Conv2D, MaxPooling2D\n",
    "from tensorflow.keras.layers import Dense, Flatten, Input, concatenate\n",
    "from tensorflow.keras.optimizers import SGD\n",
    "from tensorflow.keras.models import Model"
   ]
  },
  {
   "cell_type": "code",
   "execution_count": 9,
   "metadata": {},
   "outputs": [],
   "source": [
    "inputA = Input(shape=(28,28,1,))"
   ]
  },
  {
   "cell_type": "code",
   "execution_count": 10,
   "metadata": {},
   "outputs": [],
   "source": [
    "x = Conv2D(16, (3,3), padding='same', activation = 'relu')(inputA)"
   ]
  },
  {
   "cell_type": "code",
   "execution_count": 11,
   "metadata": {},
   "outputs": [],
   "source": [
    "x = MaxPooling2D(pool_size=(2,2))(x)"
   ]
  },
  {
   "cell_type": "code",
   "execution_count": 12,
   "metadata": {},
   "outputs": [],
   "source": [
    "x = Conv2D(32, (3,3), padding='same', activation = 'relu')(x)"
   ]
  },
  {
   "cell_type": "code",
   "execution_count": 13,
   "metadata": {},
   "outputs": [],
   "source": [
    "x = MaxPooling2D(pool_size=(2,2))(x)"
   ]
  },
  {
   "cell_type": "code",
   "execution_count": 14,
   "metadata": {},
   "outputs": [],
   "source": [
    "x = Conv2D(64, (3,3), padding='same', activation = 'relu')(x)"
   ]
  },
  {
   "cell_type": "code",
   "execution_count": 15,
   "metadata": {},
   "outputs": [],
   "source": [
    "x = MaxPooling2D(pool_size=(2,2))(x)"
   ]
  },
  {
   "cell_type": "code",
   "execution_count": 16,
   "metadata": {},
   "outputs": [],
   "source": [
    "x = Flatten()(x)"
   ]
  },
  {
   "cell_type": "code",
   "execution_count": 17,
   "metadata": {},
   "outputs": [],
   "source": [
    "x = Dense(100, activation='relu')(x)\n",
    "x = Dense(10, activation='softmax')(x)"
   ]
  },
  {
   "cell_type": "code",
   "execution_count": 18,
   "metadata": {},
   "outputs": [],
   "source": [
    "model = Model(inputs = inputA ,outputs = x)"
   ]
  },
  {
   "cell_type": "code",
   "execution_count": 19,
   "metadata": {},
   "outputs": [],
   "source": [
    "model.compile(loss='mse', optimizer=SGD(lr=0.05), metrics=['accuracy'])"
   ]
  },
  {
   "cell_type": "code",
   "execution_count": 20,
   "metadata": {},
   "outputs": [
    {
     "name": "stdout",
     "output_type": "stream",
     "text": [
      "Model: \"model\"\n",
      "_________________________________________________________________\n",
      "Layer (type)                 Output Shape              Param #   \n",
      "=================================================================\n",
      "input_1 (InputLayer)         [(None, 28, 28, 1)]       0         \n",
      "_________________________________________________________________\n",
      "conv2d (Conv2D)              (None, 28, 28, 16)        160       \n",
      "_________________________________________________________________\n",
      "max_pooling2d (MaxPooling2D) (None, 14, 14, 16)        0         \n",
      "_________________________________________________________________\n",
      "conv2d_1 (Conv2D)            (None, 14, 14, 32)        4640      \n",
      "_________________________________________________________________\n",
      "max_pooling2d_1 (MaxPooling2 (None, 7, 7, 32)          0         \n",
      "_________________________________________________________________\n",
      "conv2d_2 (Conv2D)            (None, 7, 7, 64)          18496     \n",
      "_________________________________________________________________\n",
      "max_pooling2d_2 (MaxPooling2 (None, 3, 3, 64)          0         \n",
      "_________________________________________________________________\n",
      "flatten (Flatten)            (None, 576)               0         \n",
      "_________________________________________________________________\n",
      "dense (Dense)                (None, 100)               57700     \n",
      "_________________________________________________________________\n",
      "dense_1 (Dense)              (None, 10)                1010      \n",
      "=================================================================\n",
      "Total params: 82,006\n",
      "Trainable params: 82,006\n",
      "Non-trainable params: 0\n",
      "_________________________________________________________________\n"
     ]
    }
   ],
   "source": [
    "model.summary()"
   ]
  },
  {
   "cell_type": "code",
   "execution_count": 24,
   "metadata": {},
   "outputs": [],
   "source": [
    "import os\n",
    "os.environ[\"KMP_DUPLICATE_LIB_OK\"]=\"TRUE\""
   ]
  },
  {
   "cell_type": "code",
   "execution_count": 25,
   "metadata": {},
   "outputs": [
    {
     "name": "stdout",
     "output_type": "stream",
     "text": [
      "Train on 60000 samples\n",
      "Epoch 1/20\n",
      "60000/60000 [==============================] - 20s 326us/sample - loss: 0.0896 - accuracy: 0.1411\n",
      "Epoch 2/20\n",
      "60000/60000 [==============================] - 19s 309us/sample - loss: 0.0883 - accuracy: 0.3060\n",
      "Epoch 3/20\n",
      "60000/60000 [==============================] - 19s 312us/sample - loss: 0.0811 - accuracy: 0.4356\n",
      "Epoch 4/20\n",
      "60000/60000 [==============================] - 19s 311us/sample - loss: 0.0518 - accuracy: 0.6257\n",
      "Epoch 5/20\n",
      "60000/60000 [==============================] - 19s 311us/sample - loss: 0.0409 - accuracy: 0.7021\n",
      "Epoch 6/20\n",
      "60000/60000 [==============================] - 19s 313us/sample - loss: 0.0375 - accuracy: 0.7306\n",
      "Epoch 7/20\n",
      "60000/60000 [==============================] - 19s 312us/sample - loss: 0.0352 - accuracy: 0.7495\n",
      "Epoch 8/20\n",
      "60000/60000 [==============================] - 19s 310us/sample - loss: 0.0334 - accuracy: 0.7651\n",
      "Epoch 9/20\n",
      "60000/60000 [==============================] - 19s 310us/sample - loss: 0.0319 - accuracy: 0.7771\n",
      "Epoch 10/20\n",
      "60000/60000 [==============================] - 19s 311us/sample - loss: 0.0306 - accuracy: 0.7869\n",
      "Epoch 11/20\n",
      "60000/60000 [==============================] - 19s 312us/sample - loss: 0.0296 - accuracy: 0.7946\n",
      "Epoch 12/20\n",
      "60000/60000 [==============================] - 19s 310us/sample - loss: 0.0286 - accuracy: 0.8015\n",
      "Epoch 13/20\n",
      "60000/60000 [==============================] - 18s 308us/sample - loss: 0.0280 - accuracy: 0.8060\n",
      "Epoch 14/20\n",
      "60000/60000 [==============================] - 18s 308us/sample - loss: 0.0272 - accuracy: 0.8119\n",
      "Epoch 15/20\n",
      "60000/60000 [==============================] - 18s 308us/sample - loss: 0.0265 - accuracy: 0.8165\n",
      "Epoch 16/20\n",
      "60000/60000 [==============================] - 18s 307us/sample - loss: 0.0260 - accuracy: 0.8205\n",
      "Epoch 17/20\n",
      "60000/60000 [==============================] - 18s 307us/sample - loss: 0.0255 - accuracy: 0.8224\n",
      "Epoch 18/20\n",
      "60000/60000 [==============================] - 18s 307us/sample - loss: 0.0249 - accuracy: 0.8273\n",
      "Epoch 19/20\n",
      "60000/60000 [==============================] - 18s 308us/sample - loss: 0.0243 - accuracy: 0.8310\n",
      "Epoch 20/20\n",
      "60000/60000 [==============================] - 18s 308us/sample - loss: 0.0239 - accuracy: 0.8348\n"
     ]
    },
    {
     "data": {
      "text/plain": [
       "<tensorflow.python.keras.callbacks.History at 0x665192cd0>"
      ]
     },
     "execution_count": 25,
     "metadata": {},
     "output_type": "execute_result"
    }
   ],
   "source": [
    "model.fit(x_train, y_train, batch_size=100, epochs=20)"
   ]
  },
  {
   "cell_type": "code",
   "execution_count": 37,
   "metadata": {},
   "outputs": [
    {
     "data": {
      "image/svg+xml": [
       "<svg height=\"780pt\" viewBox=\"0.00 0.00 371.00 802.00\" width=\"361pt\" xmlns=\"http://www.w3.org/2000/svg\" xmlns:xlink=\"http://www.w3.org/1999/xlink\">\n",
       "<g class=\"graph\" id=\"graph0\" transform=\"scale(.9722 .9722) rotate(0) translate(4 798)\">\n",
       "<title>G</title>\n",
       "<polygon fill=\"#ffffff\" points=\"-4,4 -4,-798 367,-798 367,4 -4,4\" stroke=\"transparent\"/>\n",
       "<!-- 27089830480 -->\n",
       "<g class=\"node\" id=\"node1\">\n",
       "<title>27089830480</title>\n",
       "<polygon fill=\"none\" points=\"40.5,-747.5 40.5,-793.5 322.5,-793.5 322.5,-747.5 40.5,-747.5\" stroke=\"#000000\"/>\n",
       "<text fill=\"#000000\" font-family=\"Times,serif\" font-size=\"14.00\" text-anchor=\"middle\" x=\"105\" y=\"-766.8\">input_1: InputLayer</text>\n",
       "<polyline fill=\"none\" points=\"169.5,-747.5 169.5,-793.5 \" stroke=\"#000000\"/>\n",
       "<text fill=\"#000000\" font-family=\"Times,serif\" font-size=\"14.00\" text-anchor=\"middle\" x=\"197.5\" y=\"-778.3\">input:</text>\n",
       "<polyline fill=\"none\" points=\"169.5,-770.5 225.5,-770.5 \" stroke=\"#000000\"/>\n",
       "<text fill=\"#000000\" font-family=\"Times,serif\" font-size=\"14.00\" text-anchor=\"middle\" x=\"197.5\" y=\"-755.3\">output:</text>\n",
       "<polyline fill=\"none\" points=\"225.5,-747.5 225.5,-793.5 \" stroke=\"#000000\"/>\n",
       "<text fill=\"#000000\" font-family=\"Times,serif\" font-size=\"14.00\" text-anchor=\"middle\" x=\"274\" y=\"-778.3\">[(?, 28, 28, 1)]</text>\n",
       "<polyline fill=\"none\" points=\"225.5,-770.5 322.5,-770.5 \" stroke=\"#000000\"/>\n",
       "<text fill=\"#000000\" font-family=\"Times,serif\" font-size=\"14.00\" text-anchor=\"middle\" x=\"274\" y=\"-755.3\">[(?, 28, 28, 1)]</text>\n",
       "</g>\n",
       "<!-- 27014486608 -->\n",
       "<g class=\"node\" id=\"node2\">\n",
       "<title>27014486608</title>\n",
       "<polygon fill=\"none\" points=\"49.5,-664.5 49.5,-710.5 313.5,-710.5 313.5,-664.5 49.5,-664.5\" stroke=\"#000000\"/>\n",
       "<text fill=\"#000000\" font-family=\"Times,serif\" font-size=\"14.00\" text-anchor=\"middle\" x=\"106\" y=\"-683.8\">conv2d: Conv2D</text>\n",
       "<polyline fill=\"none\" points=\"162.5,-664.5 162.5,-710.5 \" stroke=\"#000000\"/>\n",
       "<text fill=\"#000000\" font-family=\"Times,serif\" font-size=\"14.00\" text-anchor=\"middle\" x=\"190.5\" y=\"-695.3\">input:</text>\n",
       "<polyline fill=\"none\" points=\"162.5,-687.5 218.5,-687.5 \" stroke=\"#000000\"/>\n",
       "<text fill=\"#000000\" font-family=\"Times,serif\" font-size=\"14.00\" text-anchor=\"middle\" x=\"190.5\" y=\"-672.3\">output:</text>\n",
       "<polyline fill=\"none\" points=\"218.5,-664.5 218.5,-710.5 \" stroke=\"#000000\"/>\n",
       "<text fill=\"#000000\" font-family=\"Times,serif\" font-size=\"14.00\" text-anchor=\"middle\" x=\"266\" y=\"-695.3\">(?, 28, 28, 1)</text>\n",
       "<polyline fill=\"none\" points=\"218.5,-687.5 313.5,-687.5 \" stroke=\"#000000\"/>\n",
       "<text fill=\"#000000\" font-family=\"Times,serif\" font-size=\"14.00\" text-anchor=\"middle\" x=\"266\" y=\"-672.3\">(?, 28, 28, 16)</text>\n",
       "</g>\n",
       "<!-- 27089830480&#45;&gt;27014486608 -->\n",
       "<g class=\"edge\" id=\"edge1\">\n",
       "<title>27089830480-&gt;27014486608</title>\n",
       "<path d=\"M181.5,-747.3799C181.5,-739.1745 181.5,-729.7679 181.5,-720.8786\" fill=\"none\" stroke=\"#000000\"/>\n",
       "<polygon fill=\"#000000\" points=\"185.0001,-720.784 181.5,-710.784 178.0001,-720.784 185.0001,-720.784\" stroke=\"#000000\"/>\n",
       "</g>\n",
       "<!-- 27088888912 -->\n",
       "<g class=\"node\" id=\"node3\">\n",
       "<title>27088888912</title>\n",
       "<polygon fill=\"none\" points=\"7,-581.5 7,-627.5 356,-627.5 356,-581.5 7,-581.5\" stroke=\"#000000\"/>\n",
       "<text fill=\"#000000\" font-family=\"Times,serif\" font-size=\"14.00\" text-anchor=\"middle\" x=\"106\" y=\"-600.8\">max_pooling2d: MaxPooling2D</text>\n",
       "<polyline fill=\"none\" points=\"205,-581.5 205,-627.5 \" stroke=\"#000000\"/>\n",
       "<text fill=\"#000000\" font-family=\"Times,serif\" font-size=\"14.00\" text-anchor=\"middle\" x=\"233\" y=\"-612.3\">input:</text>\n",
       "<polyline fill=\"none\" points=\"205,-604.5 261,-604.5 \" stroke=\"#000000\"/>\n",
       "<text fill=\"#000000\" font-family=\"Times,serif\" font-size=\"14.00\" text-anchor=\"middle\" x=\"233\" y=\"-589.3\">output:</text>\n",
       "<polyline fill=\"none\" points=\"261,-581.5 261,-627.5 \" stroke=\"#000000\"/>\n",
       "<text fill=\"#000000\" font-family=\"Times,serif\" font-size=\"14.00\" text-anchor=\"middle\" x=\"308.5\" y=\"-612.3\">(?, 28, 28, 16)</text>\n",
       "<polyline fill=\"none\" points=\"261,-604.5 356,-604.5 \" stroke=\"#000000\"/>\n",
       "<text fill=\"#000000\" font-family=\"Times,serif\" font-size=\"14.00\" text-anchor=\"middle\" x=\"308.5\" y=\"-589.3\">(?, 14, 14, 16)</text>\n",
       "</g>\n",
       "<!-- 27014486608&#45;&gt;27088888912 -->\n",
       "<g class=\"edge\" id=\"edge2\">\n",
       "<title>27014486608-&gt;27088888912</title>\n",
       "<path d=\"M181.5,-664.3799C181.5,-656.1745 181.5,-646.7679 181.5,-637.8786\" fill=\"none\" stroke=\"#000000\"/>\n",
       "<polygon fill=\"#000000\" points=\"185.0001,-637.784 181.5,-627.784 178.0001,-637.784 185.0001,-637.784\" stroke=\"#000000\"/>\n",
       "</g>\n",
       "<!-- 27529205136 -->\n",
       "<g class=\"node\" id=\"node4\">\n",
       "<title>27529205136</title>\n",
       "<polygon fill=\"none\" points=\"42.5,-498.5 42.5,-544.5 320.5,-544.5 320.5,-498.5 42.5,-498.5\" stroke=\"#000000\"/>\n",
       "<text fill=\"#000000\" font-family=\"Times,serif\" font-size=\"14.00\" text-anchor=\"middle\" x=\"106\" y=\"-517.8\">conv2d_1: Conv2D</text>\n",
       "<polyline fill=\"none\" points=\"169.5,-498.5 169.5,-544.5 \" stroke=\"#000000\"/>\n",
       "<text fill=\"#000000\" font-family=\"Times,serif\" font-size=\"14.00\" text-anchor=\"middle\" x=\"197.5\" y=\"-529.3\">input:</text>\n",
       "<polyline fill=\"none\" points=\"169.5,-521.5 225.5,-521.5 \" stroke=\"#000000\"/>\n",
       "<text fill=\"#000000\" font-family=\"Times,serif\" font-size=\"14.00\" text-anchor=\"middle\" x=\"197.5\" y=\"-506.3\">output:</text>\n",
       "<polyline fill=\"none\" points=\"225.5,-498.5 225.5,-544.5 \" stroke=\"#000000\"/>\n",
       "<text fill=\"#000000\" font-family=\"Times,serif\" font-size=\"14.00\" text-anchor=\"middle\" x=\"273\" y=\"-529.3\">(?, 14, 14, 16)</text>\n",
       "<polyline fill=\"none\" points=\"225.5,-521.5 320.5,-521.5 \" stroke=\"#000000\"/>\n",
       "<text fill=\"#000000\" font-family=\"Times,serif\" font-size=\"14.00\" text-anchor=\"middle\" x=\"273\" y=\"-506.3\">(?, 14, 14, 32)</text>\n",
       "</g>\n",
       "<!-- 27088888912&#45;&gt;27529205136 -->\n",
       "<g class=\"edge\" id=\"edge3\">\n",
       "<title>27088888912-&gt;27529205136</title>\n",
       "<path d=\"M181.5,-581.3799C181.5,-573.1745 181.5,-563.7679 181.5,-554.8786\" fill=\"none\" stroke=\"#000000\"/>\n",
       "<polygon fill=\"#000000\" points=\"185.0001,-554.784 181.5,-544.784 178.0001,-554.784 185.0001,-554.784\" stroke=\"#000000\"/>\n",
       "</g>\n",
       "<!-- 27089747280 -->\n",
       "<g class=\"node\" id=\"node5\">\n",
       "<title>27089747280</title>\n",
       "<polygon fill=\"none\" points=\"0,-415.5 0,-461.5 363,-461.5 363,-415.5 0,-415.5\" stroke=\"#000000\"/>\n",
       "<text fill=\"#000000\" font-family=\"Times,serif\" font-size=\"14.00\" text-anchor=\"middle\" x=\"106\" y=\"-434.8\">max_pooling2d_1: MaxPooling2D</text>\n",
       "<polyline fill=\"none\" points=\"212,-415.5 212,-461.5 \" stroke=\"#000000\"/>\n",
       "<text fill=\"#000000\" font-family=\"Times,serif\" font-size=\"14.00\" text-anchor=\"middle\" x=\"240\" y=\"-446.3\">input:</text>\n",
       "<polyline fill=\"none\" points=\"212,-438.5 268,-438.5 \" stroke=\"#000000\"/>\n",
       "<text fill=\"#000000\" font-family=\"Times,serif\" font-size=\"14.00\" text-anchor=\"middle\" x=\"240\" y=\"-423.3\">output:</text>\n",
       "<polyline fill=\"none\" points=\"268,-415.5 268,-461.5 \" stroke=\"#000000\"/>\n",
       "<text fill=\"#000000\" font-family=\"Times,serif\" font-size=\"14.00\" text-anchor=\"middle\" x=\"315.5\" y=\"-446.3\">(?, 14, 14, 32)</text>\n",
       "<polyline fill=\"none\" points=\"268,-438.5 363,-438.5 \" stroke=\"#000000\"/>\n",
       "<text fill=\"#000000\" font-family=\"Times,serif\" font-size=\"14.00\" text-anchor=\"middle\" x=\"315.5\" y=\"-423.3\">(?, 7, 7, 32)</text>\n",
       "</g>\n",
       "<!-- 27529205136&#45;&gt;27089747280 -->\n",
       "<g class=\"edge\" id=\"edge4\">\n",
       "<title>27529205136-&gt;27089747280</title>\n",
       "<path d=\"M181.5,-498.3799C181.5,-490.1745 181.5,-480.7679 181.5,-471.8786\" fill=\"none\" stroke=\"#000000\"/>\n",
       "<polygon fill=\"#000000\" points=\"185.0001,-471.784 181.5,-461.784 178.0001,-471.784 185.0001,-471.784\" stroke=\"#000000\"/>\n",
       "</g>\n",
       "<!-- 27088473104 -->\n",
       "<g class=\"node\" id=\"node6\">\n",
       "<title>27088473104</title>\n",
       "<polygon fill=\"none\" points=\"49.5,-332.5 49.5,-378.5 313.5,-378.5 313.5,-332.5 49.5,-332.5\" stroke=\"#000000\"/>\n",
       "<text fill=\"#000000\" font-family=\"Times,serif\" font-size=\"14.00\" text-anchor=\"middle\" x=\"113\" y=\"-351.8\">conv2d_2: Conv2D</text>\n",
       "<polyline fill=\"none\" points=\"176.5,-332.5 176.5,-378.5 \" stroke=\"#000000\"/>\n",
       "<text fill=\"#000000\" font-family=\"Times,serif\" font-size=\"14.00\" text-anchor=\"middle\" x=\"204.5\" y=\"-363.3\">input:</text>\n",
       "<polyline fill=\"none\" points=\"176.5,-355.5 232.5,-355.5 \" stroke=\"#000000\"/>\n",
       "<text fill=\"#000000\" font-family=\"Times,serif\" font-size=\"14.00\" text-anchor=\"middle\" x=\"204.5\" y=\"-340.3\">output:</text>\n",
       "<polyline fill=\"none\" points=\"232.5,-332.5 232.5,-378.5 \" stroke=\"#000000\"/>\n",
       "<text fill=\"#000000\" font-family=\"Times,serif\" font-size=\"14.00\" text-anchor=\"middle\" x=\"273\" y=\"-363.3\">(?, 7, 7, 32)</text>\n",
       "<polyline fill=\"none\" points=\"232.5,-355.5 313.5,-355.5 \" stroke=\"#000000\"/>\n",
       "<text fill=\"#000000\" font-family=\"Times,serif\" font-size=\"14.00\" text-anchor=\"middle\" x=\"273\" y=\"-340.3\">(?, 7, 7, 64)</text>\n",
       "</g>\n",
       "<!-- 27089747280&#45;&gt;27088473104 -->\n",
       "<g class=\"edge\" id=\"edge5\">\n",
       "<title>27089747280-&gt;27088473104</title>\n",
       "<path d=\"M181.5,-415.3799C181.5,-407.1745 181.5,-397.7679 181.5,-388.8786\" fill=\"none\" stroke=\"#000000\"/>\n",
       "<polygon fill=\"#000000\" points=\"185.0001,-388.784 181.5,-378.784 178.0001,-388.784 185.0001,-388.784\" stroke=\"#000000\"/>\n",
       "</g>\n",
       "<!-- 27529341392 -->\n",
       "<g class=\"node\" id=\"node7\">\n",
       "<title>27529341392</title>\n",
       "<polygon fill=\"none\" points=\"7,-249.5 7,-295.5 356,-295.5 356,-249.5 7,-249.5\" stroke=\"#000000\"/>\n",
       "<text fill=\"#000000\" font-family=\"Times,serif\" font-size=\"14.00\" text-anchor=\"middle\" x=\"113\" y=\"-268.8\">max_pooling2d_2: MaxPooling2D</text>\n",
       "<polyline fill=\"none\" points=\"219,-249.5 219,-295.5 \" stroke=\"#000000\"/>\n",
       "<text fill=\"#000000\" font-family=\"Times,serif\" font-size=\"14.00\" text-anchor=\"middle\" x=\"247\" y=\"-280.3\">input:</text>\n",
       "<polyline fill=\"none\" points=\"219,-272.5 275,-272.5 \" stroke=\"#000000\"/>\n",
       "<text fill=\"#000000\" font-family=\"Times,serif\" font-size=\"14.00\" text-anchor=\"middle\" x=\"247\" y=\"-257.3\">output:</text>\n",
       "<polyline fill=\"none\" points=\"275,-249.5 275,-295.5 \" stroke=\"#000000\"/>\n",
       "<text fill=\"#000000\" font-family=\"Times,serif\" font-size=\"14.00\" text-anchor=\"middle\" x=\"315.5\" y=\"-280.3\">(?, 7, 7, 64)</text>\n",
       "<polyline fill=\"none\" points=\"275,-272.5 356,-272.5 \" stroke=\"#000000\"/>\n",
       "<text fill=\"#000000\" font-family=\"Times,serif\" font-size=\"14.00\" text-anchor=\"middle\" x=\"315.5\" y=\"-257.3\">(?, 3, 3, 64)</text>\n",
       "</g>\n",
       "<!-- 27088473104&#45;&gt;27529341392 -->\n",
       "<g class=\"edge\" id=\"edge6\">\n",
       "<title>27088473104-&gt;27529341392</title>\n",
       "<path d=\"M181.5,-332.3799C181.5,-324.1745 181.5,-314.7679 181.5,-305.8786\" fill=\"none\" stroke=\"#000000\"/>\n",
       "<polygon fill=\"#000000\" points=\"185.0001,-305.784 181.5,-295.784 178.0001,-305.784 185.0001,-305.784\" stroke=\"#000000\"/>\n",
       "</g>\n",
       "<!-- 27529255760 -->\n",
       "<g class=\"node\" id=\"node8\">\n",
       "<title>27529255760</title>\n",
       "<polygon fill=\"none\" points=\"64,-166.5 64,-212.5 299,-212.5 299,-166.5 64,-166.5\" stroke=\"#000000\"/>\n",
       "<text fill=\"#000000\" font-family=\"Times,serif\" font-size=\"14.00\" text-anchor=\"middle\" x=\"113\" y=\"-185.8\">flatten: Flatten</text>\n",
       "<polyline fill=\"none\" points=\"162,-166.5 162,-212.5 \" stroke=\"#000000\"/>\n",
       "<text fill=\"#000000\" font-family=\"Times,serif\" font-size=\"14.00\" text-anchor=\"middle\" x=\"190\" y=\"-197.3\">input:</text>\n",
       "<polyline fill=\"none\" points=\"162,-189.5 218,-189.5 \" stroke=\"#000000\"/>\n",
       "<text fill=\"#000000\" font-family=\"Times,serif\" font-size=\"14.00\" text-anchor=\"middle\" x=\"190\" y=\"-174.3\">output:</text>\n",
       "<polyline fill=\"none\" points=\"218,-166.5 218,-212.5 \" stroke=\"#000000\"/>\n",
       "<text fill=\"#000000\" font-family=\"Times,serif\" font-size=\"14.00\" text-anchor=\"middle\" x=\"258.5\" y=\"-197.3\">(?, 3, 3, 64)</text>\n",
       "<polyline fill=\"none\" points=\"218,-189.5 299,-189.5 \" stroke=\"#000000\"/>\n",
       "<text fill=\"#000000\" font-family=\"Times,serif\" font-size=\"14.00\" text-anchor=\"middle\" x=\"258.5\" y=\"-174.3\">(?, 576)</text>\n",
       "</g>\n",
       "<!-- 27529341392&#45;&gt;27529255760 -->\n",
       "<g class=\"edge\" id=\"edge7\">\n",
       "<title>27529341392-&gt;27529255760</title>\n",
       "<path d=\"M181.5,-249.3799C181.5,-241.1745 181.5,-231.7679 181.5,-222.8786\" fill=\"none\" stroke=\"#000000\"/>\n",
       "<polygon fill=\"#000000\" points=\"185.0001,-222.784 181.5,-212.784 178.0001,-222.784 185.0001,-222.784\" stroke=\"#000000\"/>\n",
       "</g>\n",
       "<!-- 27530508880 -->\n",
       "<g class=\"node\" id=\"node9\">\n",
       "<title>27530508880</title>\n",
       "<polygon fill=\"none\" points=\"78,-83.5 78,-129.5 285,-129.5 285,-83.5 78,-83.5\" stroke=\"#000000\"/>\n",
       "<text fill=\"#000000\" font-family=\"Times,serif\" font-size=\"14.00\" text-anchor=\"middle\" x=\"123.5\" y=\"-102.8\">dense: Dense</text>\n",
       "<polyline fill=\"none\" points=\"169,-83.5 169,-129.5 \" stroke=\"#000000\"/>\n",
       "<text fill=\"#000000\" font-family=\"Times,serif\" font-size=\"14.00\" text-anchor=\"middle\" x=\"197\" y=\"-114.3\">input:</text>\n",
       "<polyline fill=\"none\" points=\"169,-106.5 225,-106.5 \" stroke=\"#000000\"/>\n",
       "<text fill=\"#000000\" font-family=\"Times,serif\" font-size=\"14.00\" text-anchor=\"middle\" x=\"197\" y=\"-91.3\">output:</text>\n",
       "<polyline fill=\"none\" points=\"225,-83.5 225,-129.5 \" stroke=\"#000000\"/>\n",
       "<text fill=\"#000000\" font-family=\"Times,serif\" font-size=\"14.00\" text-anchor=\"middle\" x=\"255\" y=\"-114.3\">(?, 576)</text>\n",
       "<polyline fill=\"none\" points=\"225,-106.5 285,-106.5 \" stroke=\"#000000\"/>\n",
       "<text fill=\"#000000\" font-family=\"Times,serif\" font-size=\"14.00\" text-anchor=\"middle\" x=\"255\" y=\"-91.3\">(?, 100)</text>\n",
       "</g>\n",
       "<!-- 27529255760&#45;&gt;27530508880 -->\n",
       "<g class=\"edge\" id=\"edge8\">\n",
       "<title>27529255760-&gt;27530508880</title>\n",
       "<path d=\"M181.5,-166.3799C181.5,-158.1745 181.5,-148.7679 181.5,-139.8786\" fill=\"none\" stroke=\"#000000\"/>\n",
       "<polygon fill=\"#000000\" points=\"185.0001,-139.784 181.5,-129.784 178.0001,-139.784 185.0001,-139.784\" stroke=\"#000000\"/>\n",
       "</g>\n",
       "<!-- 27018903952 -->\n",
       "<g class=\"node\" id=\"node10\">\n",
       "<title>27018903952</title>\n",
       "<polygon fill=\"none\" points=\"71,-.5 71,-46.5 292,-46.5 292,-.5 71,-.5\" stroke=\"#000000\"/>\n",
       "<text fill=\"#000000\" font-family=\"Times,serif\" font-size=\"14.00\" text-anchor=\"middle\" x=\"123.5\" y=\"-19.8\">dense_1: Dense</text>\n",
       "<polyline fill=\"none\" points=\"176,-.5 176,-46.5 \" stroke=\"#000000\"/>\n",
       "<text fill=\"#000000\" font-family=\"Times,serif\" font-size=\"14.00\" text-anchor=\"middle\" x=\"204\" y=\"-31.3\">input:</text>\n",
       "<polyline fill=\"none\" points=\"176,-23.5 232,-23.5 \" stroke=\"#000000\"/>\n",
       "<text fill=\"#000000\" font-family=\"Times,serif\" font-size=\"14.00\" text-anchor=\"middle\" x=\"204\" y=\"-8.3\">output:</text>\n",
       "<polyline fill=\"none\" points=\"232,-.5 232,-46.5 \" stroke=\"#000000\"/>\n",
       "<text fill=\"#000000\" font-family=\"Times,serif\" font-size=\"14.00\" text-anchor=\"middle\" x=\"262\" y=\"-31.3\">(?, 100)</text>\n",
       "<polyline fill=\"none\" points=\"232,-23.5 292,-23.5 \" stroke=\"#000000\"/>\n",
       "<text fill=\"#000000\" font-family=\"Times,serif\" font-size=\"14.00\" text-anchor=\"middle\" x=\"262\" y=\"-8.3\">(?, 10)</text>\n",
       "</g>\n",
       "<!-- 27530508880&#45;&gt;27018903952 -->\n",
       "<g class=\"edge\" id=\"edge9\">\n",
       "<title>27530508880-&gt;27018903952</title>\n",
       "<path d=\"M181.5,-83.3799C181.5,-75.1745 181.5,-65.7679 181.5,-56.8786\" fill=\"none\" stroke=\"#000000\"/>\n",
       "<polygon fill=\"#000000\" points=\"185.0001,-56.784 181.5,-46.784 178.0001,-56.784 185.0001,-56.784\" stroke=\"#000000\"/>\n",
       "</g>\n",
       "</g>\n",
       "</svg>"
      ],
      "text/plain": [
       "<IPython.core.display.SVG object>"
      ]
     },
     "execution_count": 37,
     "metadata": {},
     "output_type": "execute_result"
    }
   ],
   "source": [
    "from IPython.display import SVG\n",
    "from tensorflow.keras.utils import model_to_dot\n",
    "\n",
    "SVG(model_to_dot(model, dpi=70, show_shapes=True).create(prog='dot', format='svg'))"
   ]
  },
  {
   "cell_type": "code",
   "execution_count": 35,
   "metadata": {},
   "outputs": [],
   "source": [
    "import pydot\n"
   ]
  },
  {
   "cell_type": "code",
   "execution_count": 39,
   "metadata": {},
   "outputs": [
    {
     "name": "stdout",
     "output_type": "stream",
     "text": [
      "正確率為： 0.8266\n"
     ]
    }
   ],
   "source": [
    "score = model.evaluate(x_test, y_test_, verbose=0)\n",
    "print(\"正確率為：\", score[1])"
   ]
  },
  {
   "cell_type": "code",
   "execution_count": 31,
   "metadata": {},
   "outputs": [
    {
     "ename": "TypeError",
     "evalue": "plot_model() got an unexpected keyword argument 'show_shape'",
     "output_type": "error",
     "traceback": [
      "\u001b[0;31m---------------------------------------------------------------------------\u001b[0m",
      "\u001b[0;31mTypeError\u001b[0m                                 Traceback (most recent call last)",
      "\u001b[0;32m<ipython-input-31-3fac9e5db509>\u001b[0m in \u001b[0;36m<module>\u001b[0;34m\u001b[0m\n\u001b[1;32m      1\u001b[0m \u001b[0;32mfrom\u001b[0m \u001b[0mtensorflow\u001b[0m\u001b[0;34m.\u001b[0m\u001b[0mkeras\u001b[0m\u001b[0;34m.\u001b[0m\u001b[0mutils\u001b[0m \u001b[0;32mimport\u001b[0m \u001b[0mplot_model\u001b[0m\u001b[0;34m\u001b[0m\u001b[0;34m\u001b[0m\u001b[0m\n\u001b[0;32m----> 2\u001b[0;31m \u001b[0mplot_model\u001b[0m\u001b[0;34m(\u001b[0m\u001b[0mmodel\u001b[0m\u001b[0;34m,\u001b[0m\u001b[0mshow_shape\u001b[0m\u001b[0;34m=\u001b[0m\u001b[0;32mTrue\u001b[0m\u001b[0;34m,\u001b[0m\u001b[0mto_file\u001b[0m\u001b[0;34m=\u001b[0m\u001b[0;34m'model.png'\u001b[0m\u001b[0;34m)\u001b[0m\u001b[0;34m\u001b[0m\u001b[0;34m\u001b[0m\u001b[0m\n\u001b[0m",
      "\u001b[0;31mTypeError\u001b[0m: plot_model() got an unexpected keyword argument 'show_shape'"
     ]
    }
   ],
   "source": [
    "from tensorflow.keras.utils import plot_model\n",
    "plot_model(model,,to_file='model.png')"
   ]
  },
  {
   "cell_type": "code",
   "execution_count": 44,
   "metadata": {},
   "outputs": [
    {
     "name": "stdout",
     "output_type": "stream",
     "text": [
      "Requirement already satisfied: pydot in /Users/ivan/opt/anaconda3/lib/python3.7/site-packages (1.4.1)\r\n",
      "Requirement already satisfied: pyparsing>=2.1.4 in /Users/ivan/opt/anaconda3/lib/python3.7/site-packages (from pydot) (2.4.2)\r\n"
     ]
    }
   ],
   "source": [
    "!pip install pydot"
   ]
  },
  {
   "cell_type": "code",
   "execution_count": 23,
   "metadata": {},
   "outputs": [
    {
     "data": {
      "text/plain": [
       "'2.0.0'"
      ]
     },
     "execution_count": 23,
     "metadata": {},
     "output_type": "execute_result"
    }
   ],
   "source": [
    "tf.__version__"
   ]
  },
  {
   "cell_type": "code",
   "execution_count": null,
   "metadata": {},
   "outputs": [],
   "source": []
  }
 ],
 "metadata": {
  "kernelspec": {
   "display_name": "Python 3",
   "language": "python",
   "name": "python3"
  },
  "language_info": {
   "codemirror_mode": {
    "name": "ipython",
    "version": 3
   },
   "file_extension": ".py",
   "mimetype": "text/x-python",
   "name": "python",
   "nbconvert_exporter": "python",
   "pygments_lexer": "ipython3",
   "version": "3.7.4"
  }
 },
 "nbformat": 4,
 "nbformat_minor": 2
}
