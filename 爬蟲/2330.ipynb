{
 "cells": [
  {
   "cell_type": "code",
   "execution_count": 2,
   "metadata": {},
   "outputs": [],
   "source": [
    "import pandas as pd\n",
    "import numpy as np\n",
    "from urllib.request import urlopen\n",
    "from bs4 import BeautifulSoup\n",
    "import time\n",
    "import matplotlib.pyplot as plt"
   ]
  },
  {
   "cell_type": "code",
   "execution_count": 3,
   "metadata": {},
   "outputs": [],
   "source": [
    "import requests"
   ]
  },
  {
   "cell_type": "code",
   "execution_count": 53,
   "metadata": {},
   "outputs": [],
   "source": [
    "html = 'https://www.twse.com.tw/zh/stockSearch/stockSearch'\n",
    "data = {'stkNo':'035275'}\n",
    "r = requests.post(html,data=data)\n",
    "#print(r.text)"
   ]
  },
  {
   "cell_type": "code",
   "execution_count": 7,
   "metadata": {},
   "outputs": [],
   "source": [
    "r_soup = BeautifulSoup(r.text, features='lxml')"
   ]
  },
  {
   "cell_type": "code",
   "execution_count": 44,
   "metadata": {},
   "outputs": [],
   "source": [
    "names = r_soup.find('thead').find_all('th')"
   ]
  },
  {
   "cell_type": "code",
   "execution_count": 47,
   "metadata": {},
   "outputs": [
    {
     "name": "stdout",
     "output_type": "stream",
     "text": [
      "['標的名稱', '本日漲停', '開盤競價基準', '本日跌停', '履約價格', '每千單位認購(售)股數', '每單位參考履約價值', '交易方式', '行情資訊', '基本資料', '上限價格', '下限價格']\n"
     ]
    }
   ],
   "source": [
    "column=[]\n",
    "for name in names:\n",
    "    column.append(name.text)\n",
    "print(column)"
   ]
  },
  {
   "cell_type": "code",
   "execution_count": 55,
   "metadata": {},
   "outputs": [
    {
     "name": "stdout",
     "output_type": "stream",
     "text": [
      "[<td>\n",
      "<!-- 標的指數/證券 -->\n",
      "<a href=\"/zh/stockSearch/showStock?stkNo=2330\" target=\"_blank\">\r\n",
      "                            台積電\r\n",
      "                        </a>\n",
      "</td>, <td><!-- 本日漲停 -->42.90</td>, <td><!-- 開盤競價基準 -->29.30</td>, <td><!-- 本日跌停 -->15.70</td>, <td>\n",
      "<!-- 履約指數/證券 -->\r\n",
      "                    \r\n",
      "                        \r\n",
      "                        257.47\r\n",
      "                    \r\n",
      "                </td>, <td>\n",
      "<!-- 每千單位權證標的履約配發數量/每千單位認購(售)股數 -->\r\n",
      "                    \r\n",
      "                        419\r\n",
      "                    \r\n",
      "                </td>, <td>\n",
      "<!-- 每單位參考履約價值 -->\n",
      "<!-- 認購權證: 最新每千單位認購股數/1000*(標的證券前一日收盤價-履約價格) -->\r\n",
      "                                    \r\n",
      "\t\t\t\t\t\t\t\t\t28.924\r\n",
      "\t\t\t\t\t\t\t\t\t\r\n",
      "                                \r\n",
      "                            \r\n",
      "                        \r\n",
      "                    \r\n",
      "                </td>, <td>普通交易</td>, <td><!-- 行情資訊 --><a href=\"https://mis.twse.com.tw/stock/fibest.jsp?stock=035275\" target=\"_blank\">五檔資訊</a></td>, <td><!-- 基本資料 --><a href=\"https://mops.twse.com.tw/mops/web/t05st48_q1\" target=\"_blank\">公開資訊觀測站</a></td>, <td>\n",
      "<!-- 上限指數/價格 -->\r\n",
      "                    \r\n",
      "                        無\r\n",
      "                    \r\n",
      "                </td>, <td>\n",
      "<!-- 下限指數/價格 -->\r\n",
      "                    \r\n",
      "                        無\r\n",
      "                    \r\n",
      "                </td>]\n"
     ]
    }
   ],
   "source": [
    "values = r_soup.find_all('tbody')[1].find_all('td')\n",
    "print(values)"
   ]
  },
  {
   "cell_type": "code",
   "execution_count": 88,
   "metadata": {},
   "outputs": [
    {
     "name": "stdout",
     "output_type": "stream",
     "text": [
      "['\\n\\n\\r\\n                            台積電\\r\\n                        \\n', '42.90', '29.30', '15.70', '\\n\\r\\n                    \\r\\n                        \\r\\n                        257.47\\r\\n                    \\r\\n                ', '\\n\\r\\n                    \\r\\n                        419\\r\\n                    \\r\\n                ', '\\n\\n\\r\\n                                    \\r\\n\\t\\t\\t\\t\\t\\t\\t\\t\\t28.924\\r\\n\\t\\t\\t\\t\\t\\t\\t\\t\\t\\r\\n                                \\r\\n                            \\r\\n                        \\r\\n                    \\r\\n                ', '普通交易', '五檔資訊', '公開資訊觀測站', '\\n\\r\\n                    \\r\\n                        無\\r\\n                    \\r\\n                ', '\\n\\r\\n                    \\r\\n                        無\\r\\n                    \\r\\n                ']\n"
     ]
    }
   ],
   "source": [
    "value_ = []\n",
    "for value in values:\n",
    "    value_.append(value.text)\n",
    "print(value_)"
   ]
  },
  {
   "cell_type": "code",
   "execution_count": 76,
   "metadata": {},
   "outputs": [],
   "source": [
    "df = pd.DataFrame(np.arange(len(value_)).reshape(1,len(value_)),columns=column)"
   ]
  },
  {
   "cell_type": "code",
   "execution_count": 77,
   "metadata": {},
   "outputs": [
    {
     "data": {
      "text/html": [
       "<div>\n",
       "<style scoped>\n",
       "    .dataframe tbody tr th:only-of-type {\n",
       "        vertical-align: middle;\n",
       "    }\n",
       "\n",
       "    .dataframe tbody tr th {\n",
       "        vertical-align: top;\n",
       "    }\n",
       "\n",
       "    .dataframe thead th {\n",
       "        text-align: right;\n",
       "    }\n",
       "</style>\n",
       "<table border=\"1\" class=\"dataframe\">\n",
       "  <thead>\n",
       "    <tr style=\"text-align: right;\">\n",
       "      <th></th>\n",
       "      <th>標的名稱</th>\n",
       "      <th>本日漲停</th>\n",
       "      <th>開盤競價基準</th>\n",
       "      <th>本日跌停</th>\n",
       "      <th>履約價格</th>\n",
       "      <th>每千單位認購(售)股數</th>\n",
       "      <th>每單位參考履約價值</th>\n",
       "      <th>交易方式</th>\n",
       "      <th>行情資訊</th>\n",
       "      <th>基本資料</th>\n",
       "      <th>上限價格</th>\n",
       "      <th>下限價格</th>\n",
       "    </tr>\n",
       "  </thead>\n",
       "  <tbody>\n",
       "    <tr>\n",
       "      <td>0</td>\n",
       "      <td>0</td>\n",
       "      <td>1</td>\n",
       "      <td>2</td>\n",
       "      <td>3</td>\n",
       "      <td>4</td>\n",
       "      <td>5</td>\n",
       "      <td>6</td>\n",
       "      <td>7</td>\n",
       "      <td>8</td>\n",
       "      <td>9</td>\n",
       "      <td>10</td>\n",
       "      <td>11</td>\n",
       "    </tr>\n",
       "  </tbody>\n",
       "</table>\n",
       "</div>"
      ],
      "text/plain": [
       "   標的名稱  本日漲停  開盤競價基準  本日跌停  履約價格  每千單位認購(售)股數  每單位參考履約價值  交易方式  行情資訊  基本資料  \\\n",
       "0     0     1       2     3     4            5          6     7     8     9   \n",
       "\n",
       "   上限價格  下限價格  \n",
       "0    10    11  "
      ]
     },
     "execution_count": 77,
     "metadata": {},
     "output_type": "execute_result"
    }
   ],
   "source": [
    "df"
   ]
  },
  {
   "cell_type": "code",
   "execution_count": 89,
   "metadata": {},
   "outputs": [],
   "source": [
    "value_ = pd.Series(value_, index=column)"
   ]
  },
  {
   "cell_type": "code",
   "execution_count": 90,
   "metadata": {},
   "outputs": [
    {
     "data": {
      "text/html": [
       "<div>\n",
       "<style scoped>\n",
       "    .dataframe tbody tr th:only-of-type {\n",
       "        vertical-align: middle;\n",
       "    }\n",
       "\n",
       "    .dataframe tbody tr th {\n",
       "        vertical-align: top;\n",
       "    }\n",
       "\n",
       "    .dataframe thead th {\n",
       "        text-align: right;\n",
       "    }\n",
       "</style>\n",
       "<table border=\"1\" class=\"dataframe\">\n",
       "  <thead>\n",
       "    <tr style=\"text-align: right;\">\n",
       "      <th></th>\n",
       "      <th>標的名稱</th>\n",
       "      <th>本日漲停</th>\n",
       "      <th>開盤競價基準</th>\n",
       "      <th>本日跌停</th>\n",
       "      <th>履約價格</th>\n",
       "      <th>每千單位認購(售)股數</th>\n",
       "      <th>每單位參考履約價值</th>\n",
       "      <th>交易方式</th>\n",
       "      <th>行情資訊</th>\n",
       "      <th>基本資料</th>\n",
       "      <th>上限價格</th>\n",
       "      <th>下限價格</th>\n",
       "    </tr>\n",
       "  </thead>\n",
       "  <tbody>\n",
       "    <tr>\n",
       "      <td>0</td>\n",
       "      <td>0</td>\n",
       "      <td>1</td>\n",
       "      <td>2</td>\n",
       "      <td>3</td>\n",
       "      <td>4</td>\n",
       "      <td>5</td>\n",
       "      <td>6</td>\n",
       "      <td>7</td>\n",
       "      <td>8</td>\n",
       "      <td>9</td>\n",
       "      <td>10</td>\n",
       "      <td>11</td>\n",
       "    </tr>\n",
       "    <tr>\n",
       "      <td>1</td>\n",
       "      <td>\\n\\n\\r\\n                            台積電\\r\\n   ...</td>\n",
       "      <td>42.90</td>\n",
       "      <td>29.30</td>\n",
       "      <td>15.70</td>\n",
       "      <td>\\n\\r\\n                    \\r\\n                ...</td>\n",
       "      <td>\\n\\r\\n                    \\r\\n                ...</td>\n",
       "      <td>\\n\\n\\r\\n                                    \\r...</td>\n",
       "      <td>普通交易</td>\n",
       "      <td>五檔資訊</td>\n",
       "      <td>公開資訊觀測站</td>\n",
       "      <td>\\n\\r\\n                    \\r\\n                ...</td>\n",
       "      <td>\\n\\r\\n                    \\r\\n                ...</td>\n",
       "    </tr>\n",
       "  </tbody>\n",
       "</table>\n",
       "</div>"
      ],
      "text/plain": [
       "                                                標的名稱   本日漲停 開盤競價基準   本日跌停  \\\n",
       "0                                                  0      1      2      3   \n",
       "1  \\n\\n\\r\\n                            台積電\\r\\n   ...  42.90  29.30  15.70   \n",
       "\n",
       "                                                履約價格  \\\n",
       "0                                                  4   \n",
       "1  \\n\\r\\n                    \\r\\n                ...   \n",
       "\n",
       "                                         每千單位認購(售)股數  \\\n",
       "0                                                  5   \n",
       "1  \\n\\r\\n                    \\r\\n                ...   \n",
       "\n",
       "                                           每單位參考履約價值  交易方式  行情資訊     基本資料  \\\n",
       "0                                                  6     7     8        9   \n",
       "1  \\n\\n\\r\\n                                    \\r...  普通交易  五檔資訊  公開資訊觀測站   \n",
       "\n",
       "                                                上限價格  \\\n",
       "0                                                 10   \n",
       "1  \\n\\r\\n                    \\r\\n                ...   \n",
       "\n",
       "                                                下限價格  \n",
       "0                                                 11  \n",
       "1  \\n\\r\\n                    \\r\\n                ...  "
      ]
     },
     "execution_count": 90,
     "metadata": {},
     "output_type": "execute_result"
    }
   ],
   "source": [
    "df.append(value_,ignore_index=True)"
   ]
  },
  {
   "cell_type": "code",
   "execution_count": null,
   "metadata": {},
   "outputs": [],
   "source": []
  }
 ],
 "metadata": {
  "kernelspec": {
   "display_name": "Python 3",
   "language": "python",
   "name": "python3"
  },
  "language_info": {
   "codemirror_mode": {
    "name": "ipython",
    "version": 3
   },
   "file_extension": ".py",
   "mimetype": "text/x-python",
   "name": "python",
   "nbconvert_exporter": "python",
   "pygments_lexer": "ipython3",
   "version": "3.7.4"
  }
 },
 "nbformat": 4,
 "nbformat_minor": 2
}
