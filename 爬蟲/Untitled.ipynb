{
 "cells": [
  {
   "cell_type": "code",
   "execution_count": 1,
   "metadata": {},
   "outputs": [],
   "source": [
    "import pandas as pd\n",
    "import urllib.request as urlopen\n",
    "from bs4 import BeautifulSoup"
   ]
  },
  {
   "cell_type": "code",
   "execution_count": 2,
   "metadata": {},
   "outputs": [],
   "source": [
    "import requests"
   ]
  },
  {
   "cell_type": "code",
   "execution_count": 9,
   "metadata": {},
   "outputs": [],
   "source": [
    "data = {'stkNo':'046900'}\n",
    "html = requests.post('https://www.twse.com.tw/zh/stockSearch/stockSearch',data=data)\n",
    "soup = BeautifulSoup(html.text, features='lxml')\n",
    "table = soup.find_all('table')"
   ]
  },
  {
   "cell_type": "code",
   "execution_count": 10,
   "metadata": {},
   "outputs": [
    {
     "name": "stdout",
     "output_type": "stream",
     "text": [
      "<table class=\"grid\" id=\"csvTable2\" width=\"100%\">\n",
      "<thead>\n",
      "<th>標的名稱</th>\n",
      "<th>本日漲停</th>\n",
      "<th>開盤競價基準</th>\n",
      "<th>本日跌停</th>\n",
      "<th>履約價格</th>\n",
      "<th>每千單位認購(售)股數</th>\n",
      "<th>每單位參考履約價值</th>\n",
      "<th>交易方式</th>\n",
      "<th>行情資訊</th>\n",
      "<th>基本資料</th>\n",
      "<th>上限價格</th>\n",
      "<th>下限價格</th>\n",
      "</thead>\n",
      "<tbody>\n",
      "<tr>\n",
      "<td>\n",
      "<!-- 標的指數/證券 -->\n",
      "<a href=\"/zh/stockSearch/showStock?stkNo=2337\" target=\"_blank\">\r\n",
      "                            旺宏\r\n",
      "                        </a>\n",
      "</td>\n",
      "<td><!-- 本日漲停 -->3.14</td>\n",
      "<td><!-- 開盤競價基準 -->2.06</td>\n",
      "<td><!-- 本日跌停 -->0.98</td>\n",
      "<td>\n",
      "<!-- 履約指數/證券 -->\r\n",
      "                    \r\n",
      "                        \r\n",
      "                        29.00\r\n",
      "                    \r\n",
      "                </td>\n",
      "<td>\n",
      "<!-- 每千單位權證標的履約配發數量/每千單位認購(售)股數 -->\r\n",
      "                    \r\n",
      "                        306\r\n",
      "                    \r\n",
      "                </td>\n",
      "<td>\n",
      "<!-- 每單位參考履約價值 -->\n",
      "<!-- 認購權證: 最新每千單位認購股數/1000*(標的證券前一日收盤價-履約價格) -->\r\n",
      "                                    \r\n",
      "\t\t\t\t\t\t\t\t\t2.020\r\n",
      "\t\t\t\t\t\t\t\t\t\r\n",
      "                                \r\n",
      "                            \r\n",
      "                        \r\n",
      "                    \r\n",
      "                </td>\n",
      "<!-- 交易方式 -->\n",
      "<td>普通交易</td>\n",
      "<td><!-- 行情資訊 --><a href=\"https://mis.twse.com.tw/stock/fibest.jsp?stock=046900\" target=\"_blank\">五檔資訊</a></td>\n",
      "<td><!-- 基本資料 --><a href=\"https://mops.twse.com.tw/mops/web/t05st48_q1\" target=\"_blank\">公開資訊觀測站</a></td>\n",
      "<td>\n",
      "<!-- 上限指數/價格 -->\r\n",
      "                    \r\n",
      "                        無\r\n",
      "                    \r\n",
      "                </td>\n",
      "<td>\n",
      "<!-- 下限指數/價格 -->\r\n",
      "                    \r\n",
      "                        無\r\n",
      "                    \r\n",
      "                </td>\n",
      "</tr>\n",
      "</tbody>\n",
      "</table>\n"
     ]
    }
   ],
   "source": [
    "print(str(table[1]))"
   ]
  },
  {
   "cell_type": "code",
   "execution_count": 25,
   "metadata": {},
   "outputs": [],
   "source": [
    "df = pd.read_html(str(table[1]))"
   ]
  },
  {
   "cell_type": "code",
   "execution_count": 28,
   "metadata": {},
   "outputs": [],
   "source": [
    "df[0].index=['046900']"
   ]
  },
  {
   "cell_type": "code",
   "execution_count": 32,
   "metadata": {},
   "outputs": [],
   "source": [
    "df[0]['time']= time.strftime(\"%Y-%m-%d %H:%M:%S\", time.localtime())"
   ]
  },
  {
   "cell_type": "code",
   "execution_count": 35,
   "metadata": {},
   "outputs": [
    {
     "data": {
      "text/html": [
       "<div>\n",
       "<style scoped>\n",
       "    .dataframe tbody tr th:only-of-type {\n",
       "        vertical-align: middle;\n",
       "    }\n",
       "\n",
       "    .dataframe tbody tr th {\n",
       "        vertical-align: top;\n",
       "    }\n",
       "\n",
       "    .dataframe thead th {\n",
       "        text-align: right;\n",
       "    }\n",
       "</style>\n",
       "<table border=\"1\" class=\"dataframe\">\n",
       "  <thead>\n",
       "    <tr style=\"text-align: right;\">\n",
       "      <th></th>\n",
       "      <th>標的名稱</th>\n",
       "      <th>本日漲停</th>\n",
       "      <th>開盤競價基準</th>\n",
       "      <th>本日跌停</th>\n",
       "      <th>履約價格</th>\n",
       "      <th>每千單位認購(售)股數</th>\n",
       "      <th>每單位參考履約價值</th>\n",
       "      <th>交易方式</th>\n",
       "      <th>行情資訊</th>\n",
       "      <th>基本資料</th>\n",
       "      <th>上限價格</th>\n",
       "      <th>下限價格</th>\n",
       "      <th>time</th>\n",
       "    </tr>\n",
       "  </thead>\n",
       "  <tbody>\n",
       "    <tr>\n",
       "      <td>046900</td>\n",
       "      <td>旺宏</td>\n",
       "      <td>3.14</td>\n",
       "      <td>2.06</td>\n",
       "      <td>0.98</td>\n",
       "      <td>29.0</td>\n",
       "      <td>306</td>\n",
       "      <td>2.02</td>\n",
       "      <td>普通交易</td>\n",
       "      <td>五檔資訊</td>\n",
       "      <td>公開資訊觀測站</td>\n",
       "      <td>無</td>\n",
       "      <td>無</td>\n",
       "      <td>2020-02-21 01:53:38</td>\n",
       "    </tr>\n",
       "  </tbody>\n",
       "</table>\n",
       "</div>"
      ],
      "text/plain": [
       "       標的名稱  本日漲停  開盤競價基準  本日跌停  履約價格  每千單位認購(售)股數  每單位參考履約價值  交易方式  行情資訊  \\\n",
       "046900   旺宏  3.14    2.06  0.98  29.0          306       2.02  普通交易  五檔資訊   \n",
       "\n",
       "           基本資料 上限價格 下限價格                 time  \n",
       "046900  公開資訊觀測站    無    無  2020-02-21 01:53:38  "
      ]
     },
     "execution_count": 35,
     "metadata": {},
     "output_type": "execute_result"
    }
   ],
   "source": [
    "df[0]"
   ]
  },
  {
   "cell_type": "code",
   "execution_count": 3,
   "metadata": {},
   "outputs": [],
   "source": [
    "import time"
   ]
  },
  {
   "cell_type": "code",
   "execution_count": 62,
   "metadata": {},
   "outputs": [
    {
     "name": "stdout",
     "output_type": "stream",
     "text": [
      " 2020-02-21 18:31:34"
     ]
    },
    {
     "data": {
      "text/plain": [
       "<matplotlib.axes._subplots.AxesSubplot at 0x11adda4d0>"
      ]
     },
     "execution_count": 62,
     "metadata": {},
     "output_type": "execute_result"
    },
    {
     "data": {
      "image/png": "[encoded data removed]",
      "text/plain": [
       "<Figure size 432x288 with 1 Axes>"
      ]
     },
     "metadata": {
      "needs_background": "light"
     },
     "output_type": "display_data"
    }
   ],
   "source": [
    "stkno = '046900'\n",
    "data = {'stkNo':stkno}\n",
    "try:\n",
    "    df_=pd.read_csv(stkno+'.csv')\n",
    "except:\n",
    "    df_=0\n",
    "for i in range(3):\n",
    "    html = requests.post('https://www.twse.com.tw/zh/stockSearch/stockSearch',data=data)\n",
    "    soup = BeautifulSoup(html.text, features='lxml')\n",
    "    table = soup.find_all('table')\n",
    "    df = pd.read_html(str(table[1]))\n",
    "    df = df[0]\n",
    "    df['證券代碼'] = stkno\n",
    "    df['time'] = time.strftime(\"%Y-%m-%d %H:%M:%S\", time.localtime())\n",
    "    try:\n",
    "        df_= df_.append(df,ignore_index=True)\n",
    "        df_= df_.dropna(axis=1,how='any')\n",
    "        df_.to_csv(stkno+'.csv')\n",
    "    except:\n",
    "        df_=df\n",
    "    print('\\r',time.strftime(\"%Y-%m-%d %H:%M:%S\", time.localtime()),end='')\n",
    "    time.sleep(3600)\n",
    "df_.plot(x='time',y=u'本日漲停',label=stkno)"
   ]
  },
  {
   "cell_type": "code",
   "execution_count": 5,
   "metadata": {},
   "outputs": [],
   "source": [
    "import matplotlib.pyplot as plt"
   ]
  },
  {
   "cell_type": "code",
   "execution_count": 48,
   "metadata": {},
   "outputs": [],
   "source": [
    "df_=pd.read_csv(stkno+'.csv')"
   ]
  },
  {
   "cell_type": "code",
   "execution_count": 63,
   "metadata": {},
   "outputs": [
    {
     "data": {
      "text/html": [
       "<div>\n",
       "<style scoped>\n",
       "    .dataframe tbody tr th:only-of-type {\n",
       "        vertical-align: middle;\n",
       "    }\n",
       "\n",
       "    .dataframe tbody tr th {\n",
       "        vertical-align: top;\n",
       "    }\n",
       "\n",
       "    .dataframe thead th {\n",
       "        text-align: right;\n",
       "    }\n",
       "</style>\n",
       "<table border=\"1\" class=\"dataframe\">\n",
       "  <thead>\n",
       "    <tr style=\"text-align: right;\">\n",
       "      <th></th>\n",
       "      <th>標的名稱</th>\n",
       "      <th>本日漲停</th>\n",
       "      <th>開盤競價基準</th>\n",
       "      <th>本日跌停</th>\n",
       "      <th>履約價格</th>\n",
       "      <th>每千單位認購(售)股數</th>\n",
       "      <th>每單位參考履約價值</th>\n",
       "      <th>交易方式</th>\n",
       "      <th>行情資訊</th>\n",
       "      <th>基本資料</th>\n",
       "      <th>上限價格</th>\n",
       "      <th>下限價格</th>\n",
       "      <th>證券代碼</th>\n",
       "      <th>time</th>\n",
       "    </tr>\n",
       "  </thead>\n",
       "  <tbody>\n",
       "    <tr>\n",
       "      <td>0</td>\n",
       "      <td>旺宏</td>\n",
       "      <td>3.14</td>\n",
       "      <td>2.06</td>\n",
       "      <td>0.98</td>\n",
       "      <td>29.0</td>\n",
       "      <td>306</td>\n",
       "      <td>2.02</td>\n",
       "      <td>普通交易</td>\n",
       "      <td>五檔資訊</td>\n",
       "      <td>公開資訊觀測站</td>\n",
       "      <td>無</td>\n",
       "      <td>無</td>\n",
       "      <td>046900</td>\n",
       "      <td>2020-02-21 15:54:04</td>\n",
       "    </tr>\n",
       "    <tr>\n",
       "      <td>1</td>\n",
       "      <td>旺宏</td>\n",
       "      <td>3.14</td>\n",
       "      <td>2.06</td>\n",
       "      <td>0.98</td>\n",
       "      <td>29.0</td>\n",
       "      <td>306</td>\n",
       "      <td>2.02</td>\n",
       "      <td>普通交易</td>\n",
       "      <td>五檔資訊</td>\n",
       "      <td>公開資訊觀測站</td>\n",
       "      <td>無</td>\n",
       "      <td>無</td>\n",
       "      <td>046900</td>\n",
       "      <td>2020-02-21 17:31:33</td>\n",
       "    </tr>\n",
       "    <tr>\n",
       "      <td>2</td>\n",
       "      <td>旺宏</td>\n",
       "      <td>3.14</td>\n",
       "      <td>2.06</td>\n",
       "      <td>0.98</td>\n",
       "      <td>29.0</td>\n",
       "      <td>306</td>\n",
       "      <td>2.02</td>\n",
       "      <td>普通交易</td>\n",
       "      <td>五檔資訊</td>\n",
       "      <td>公開資訊觀測站</td>\n",
       "      <td>無</td>\n",
       "      <td>無</td>\n",
       "      <td>046900</td>\n",
       "      <td>2020-02-21 18:31:34</td>\n",
       "    </tr>\n",
       "  </tbody>\n",
       "</table>\n",
       "</div>"
      ],
      "text/plain": [
       "  標的名稱  本日漲停  開盤競價基準  本日跌停  履約價格  每千單位認購(售)股數  每單位參考履約價值  交易方式  行情資訊     基本資料  \\\n",
       "0   旺宏  3.14    2.06  0.98  29.0          306       2.02  普通交易  五檔資訊  公開資訊觀測站   \n",
       "1   旺宏  3.14    2.06  0.98  29.0          306       2.02  普通交易  五檔資訊  公開資訊觀測站   \n",
       "2   旺宏  3.14    2.06  0.98  29.0          306       2.02  普通交易  五檔資訊  公開資訊觀測站   \n",
       "\n",
       "  上限價格 下限價格    證券代碼                 time  \n",
       "0    無    無  046900  2020-02-21 15:54:04  \n",
       "1    無    無  046900  2020-02-21 17:31:33  \n",
       "2    無    無  046900  2020-02-21 18:31:34  "
      ]
     },
     "execution_count": 63,
     "metadata": {},
     "output_type": "execute_result"
    }
   ],
   "source": [
    "df_"
   ]
  },
  {
   "cell_type": "code",
   "execution_count": 2,
   "metadata": {},
   "outputs": [],
   "source": [
    "import tkinter as tk\n",
    "import time\n",
    "import pandas as pd\n",
    "import urllib.request as urlopen\n",
    "from bs4 import BeautifulSoup\n",
    "import requests"
   ]
  },
  {
   "cell_type": "code",
   "execution_count": 6,
   "metadata": {},
   "outputs": [],
   "source": [
    "window = tk.Tk()\n",
    "window.title('get stock')\n",
    "window.geometry('400x600')\n",
    "\n",
    "def post_stkno():\n",
    "    stkno = e.get()\n",
    "    lb.insert('end',stkno)\n",
    "l = tk.Label(window, text='請輸入證券代碼')\n",
    "l.pack()\n",
    "\n",
    "e = tk.Entry(window)\n",
    "e.pack()\n",
    "\n",
    "b = tk.Button(window, text='post',command=post_stkno)\n",
    "b.pack()\n",
    "\n",
    "lb = tk.Listbox(window, width=20, height=22)\n",
    "lb.pack()\n",
    "\n",
    "def del_stk():\n",
    "    lb.delete(lb.curselection()[0])\n",
    "b2 = tk.Button(window, text='delete',command=del_stk)\n",
    "b2.pack()\n",
    "\n",
    "var = tk.StringVar()\n",
    "var.set('')\n",
    "l2 = tk.Label(window, textvariable=var, bg='yellow',width=15,height=2)\n",
    "l2.pack()\n",
    "\n",
    "def update():\n",
    "    F_update = False\n",
    "    time_ = time.time()\n",
    "    for i in range(lb.size()):\n",
    "        stkno = lb.get(i)\n",
    "        data = {'stkNo':stkno}\n",
    "        try:\n",
    "            df_=pd.read_csv(stkno+'.csv')\n",
    "        except:\n",
    "            df_=0\n",
    "        html = requests.post('https://www.twse.com.tw/zh/stockSearch/stockSearch',data=data)\n",
    "        soup = BeautifulSoup(html.text, features='lxml')\n",
    "        table = soup.find_all('table')\n",
    "        try:\n",
    "            df = pd.read_html(str(table[1]))\n",
    "        except:\n",
    "            df = pd.read_html(str(table[0]))\n",
    "        df = df[0]\n",
    "        df['證券代碼'] = stkno\n",
    "        df['time'] = time.strftime(\"%Y-%m-%d %H:%M:%S\", time.localtime())\n",
    "        try:\n",
    "            df_= df_.append(df,ignore_index=True,sort=True)\n",
    "            df_= df_.dropna(axis=1,how='any')\n",
    "            df_.to_csv(stkno+'.csv')\n",
    "        except:\n",
    "            df_=df\n",
    "            df_.to_csv(stkno+'.csv')\n",
    "        var.set(time.strftime(\"%Y-%m-%d %H:%M:%S\", time.localtime()))\n",
    "    window.after(10000,update)\n",
    "    \n",
    "update()\n",
    "\n",
    "b3 = tk.Button(window, text='update', command=update)\n",
    "b3.pack()\n",
    "\n",
    "window.mainloop()"
   ]
  },
  {
   "cell_type": "code",
   "execution_count": null,
   "metadata": {},
   "outputs": [],
   "source": []
  }
 ],
 "metadata": {
  "kernelspec": {
   "display_name": "Python 3",
   "language": "python",
   "name": "python3"
  },
  "language_info": {
   "codemirror_mode": {
    "name": "ipython",
    "version": 3
   },
   "file_extension": ".py",
   "mimetype": "text/x-python",
   "name": "python",
   "nbconvert_exporter": "python",
   "pygments_lexer": "ipython3",
   "version": "3.7.4"
  }
 },
 "nbformat": 4,
 "nbformat_minor": 2
}
