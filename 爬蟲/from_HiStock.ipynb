{
 "cells": [
  {
   "cell_type": "code",
   "execution_count": 142,
   "metadata": {},
   "outputs": [],
   "source": [
    "import numpy as np\n",
    "import pandas as pd\n",
    "from bs4 import BeautifulSoup\n",
    "import requests\n",
    "import re\n",
    "import time"
   ]
  },
  {
   "cell_type": "code",
   "execution_count": 79,
   "metadata": {},
   "outputs": [],
   "source": [
    "stkno = '3028'\n",
    "url = 'https://histock.tw/stock/' + stkno\n",
    "r = requests.get(url)\n",
    "soup = BeautifulSoup(r.text, features='lxml')"
   ]
  },
  {
   "cell_type": "code",
   "execution_count": 95,
   "metadata": {},
   "outputs": [],
   "source": [
    "grid = soup.find_all('div',{'class':'grid'})[0]"
   ]
  },
  {
   "cell_type": "code",
   "execution_count": 120,
   "metadata": {},
   "outputs": [],
   "source": [
    "cards = grid.find_all('div',{'id': re.compile('LBlock_.*')})"
   ]
  },
  {
   "cell_type": "code",
   "execution_count": 121,
   "metadata": {},
   "outputs": [
    {
     "name": "stdout",
     "output_type": "stream",
     "text": [
      "<div class=\"grid-item w398\" id=\"LBlock_0\">\n",
      "<div class=\"grid-hdr\">\n",
      "<img class=\"ctmark\" id=\"block1_imgMark\" src=\"https://histock.tw/images/2017e/stock/mark1.png\"/>\n",
      "<div class=\"ctname handle\">增你強 (3028)走勢圖</div>\n",
      "<div class=\"ctclose\" onclick='closeBlock(\"LBlock_0\")' title=\"關閉視窗\"></div>\n",
      "<div class=\"ctadd hide2\" title=\"新增至自選條件\"></div>\n",
      "<div class=\"ctdelete hide2\" title=\"從自選條件刪除\"></div>\n",
      "<div class=\"grid-ctrl\"><a class=\"toggle\"><div class=\"ctzoom\" title=\"圖表放大\"></div><div class=\"ctzoomout hide2\" title=\"圖表縮小\"></div></a></div>\n",
      "</div>\n",
      "<div id=\"block1_ctl00_WithVolume\">\n",
      "<script type=\"text/javascript\">\r\n",
      "    function initalchart_Realtime(paraurl) {\r\n",
      "        $.ajax({\r\n",
      "            url: paraurl,type: 'get',dataType: \"json\",\r\n",
      "            //complete:function(){$('#loadingIMG').hide();},\r\n",
      "            success:function (data) {setupchart_Realtime(eval(data['data']),eval(data['volume']));}\r\n",
      "        });\r\n",
      "    }\r\n",
      "\r\n",
      "    function setupchart_Realtime(chartData,chartVolume){\r\n",
      "        var chart_Realtime = new Highcharts.StockChart({\r\n",
      "            chart: {\r\n",
      "                renderTo: 'chart_Realtime',\r\n",
      "                alignTicks: false,\r\n",
      "                plotBorderWidth: 1,\r\n",
      "                panning:false,\r\n",
      "                events: {\r\n",
      "                    load: function () {\r\n",
      "                        if (document.getElementById('stocktop')){\r\n",
      "                            document.getElementById('stocktop').outerHTML = '<div id=\"stocktop\">' + mStockTop + '</div>';\r\n",
      "                        }\r\n",
      "                    }\r\n",
      "                }\r\n",
      "            },\r\n",
      "            credits: {enabled: false},\r\n",
      "            legend: {enabled: false },\r\n",
      "            scrollbar: {enabled: false},        \r\n",
      "            navigator: {enabled: false},\r\n",
      "            exporting: {enabled: false},\r\n",
      "            rangeSelector : {enabled: false,inputEnabled : false},\r\n",
      "            title: {\r\n",
      "                text: '增你強 (3028)',\r\n",
      "                floating: true,\r\n",
      "                x: -55,\r\n",
      "                y: 15\r\n",
      "            },\r\n",
      "            subtitle: {\r\n",
      "                text: '嗨投資 histock.tw',\r\n",
      "                floating: true,\r\n",
      "                x: 65,\r\n",
      "                y: 15\r\n",
      "            },\r\n",
      "            plotOptions: {\r\n",
      "                column: {  color : '#FF9900' },\r\n",
      "                line: {\r\n",
      "                    lineWidth: 2,\r\n",
      "                    marker: { states: { hover: { enabled: false }, select: { enabled: false } } }\r\n",
      "                }\r\n",
      "            },\r\n",
      "            yAxis: [{\r\n",
      "                opposite: true,\r\n",
      "                plotLines : [{\r\n",
      "                    value : 18.4,\r\n",
      "                    color : 'green',\r\n",
      "                    dashStyle : 'shortdash',\r\n",
      "                    width : 2,\r\n",
      "                    label : {text : '跌停'}\r\n",
      "                }, {\r\n",
      "                    value : 22.4,\r\n",
      "                    color : 'red',\r\n",
      "                    dashStyle : 'shortdash',\r\n",
      "                    width : 2,\r\n",
      "                    label : {text : '漲停'}\r\n",
      "                }, {\r\n",
      "                    value : 20.4,\r\n",
      "                    color : 'gray',\r\n",
      "                    dashStyle : 'shortdash',\r\n",
      "                    width : 1,\r\n",
      "                    label : {text : '昨收'},\r\n",
      "                    zIndex : 10\r\n",
      "                }],\r\n",
      "                height: 169,\r\n",
      "                     //max: 20.35,\r\n",
      "                    //min: 20.2,\r\n",
      "                labels: {\r\n",
      "                             //formatter: function() {\r\n",
      "                                 //var percent = (this.value - 20.4)*100/20.4;\r\n",
      "                               //if (percent > 0) {\r\n",
      "                                   //return this.value  +'<br /><span style=\"color:red;\">+' + Highcharts.numberFormat(percent, 1, '.') +'%</span>'; \r\n",
      "                               //} else if (percent < 0) {\r\n",
      "                                  //return this.value  +'<br /><span style=\"color:green;\">' + Highcharts.numberFormat(percent, 1, '.') +'%</span>'; \r\n",
      "                    //          } else if (percent = 0) {\r\n",
      "                    //              return this.value  +'<br />0.0%</span>'; \r\n",
      "                    //          }\r\n",
      "                    //}\r\n",
      "                },\r\n",
      "                opposite: true,\r\n",
      "                title: { text: '' }\r\n",
      "            },{\r\n",
      "                top: 180,\r\n",
      "                height: 58,\r\n",
      "                title: { text: '' }\r\n",
      "            }],\r\n",
      "            xAxis: {\r\n",
      "                gridLineWidth: 1,\r\n",
      "                tickPixelInterval:150,\r\n",
      "                type: 'datetime'\r\n",
      "            },\r\n",
      "            tooltip: {  \r\n",
      "                split: false,\r\n",
      "                shared:true,\r\n",
      "                valueDecimals: 2,\r\n",
      "                crosshairs: [{\r\n",
      "                    width: 1,\r\n",
      "                    color: '#aaaaaa',\r\n",
      "                    dashStyle: 'LongDash'\r\n",
      "                }],\r\n",
      "            }, \r\n",
      "            series: [{\r\n",
      "                name: '增你強 (3028)',\r\n",
      "                data: chartData,\r\n",
      "                dataGrouping: {enabled: false}\r\n",
      "            },{\r\n",
      "                type: 'column',\r\n",
      "                name: '成交量(張)',\r\n",
      "                yAxis: 1,\r\n",
      "                data: chartVolume,\r\n",
      "                dataGrouping: {enabled: false}\r\n",
      "            }]\r\n",
      "        });\r\n",
      "        }\r\n",
      "</script>\n",
      "<style>\r\n",
      "    #chart_Realtime {height:275px;}\r\n",
      "</style>\n",
      "<script type=\"text/javascript\">\r\n",
      "        $(document).ready(function () {\r\n",
      "            loadRealtimeInfo('stocktop2017');\r\n",
      "            //setInterval(function(){initalchart_Realtime('/stock/module/stockdata.aspx?no=' + '3028'); }, 30000);   \r\n",
      "         });\r\n",
      "    </script>\n",
      "</div>\n",
      "<script type=\"text/javascript\">\r\n",
      "    var mStockTop = '';\r\n",
      "    function loadRealtimeInfo(mode){\r\n",
      "        $.ajax({\r\n",
      "            type: \"POST\",\r\n",
      "            dataType: 'text',\r\n",
      "            url: \"/stock/module/function.aspx\",\r\n",
      "            data: { m: mode, no: '3028' },\r\n",
      "            error: function (err) {console.log(err);},\r\n",
      "            success: function (data) {\r\n",
      "                var datas = data.split('~');\r\n",
      "                mStockTop = datas[0];\r\n",
      "                initalchart_Realtime('/stock/module/stockdata.aspx?no=' + '3028'); \r\n",
      "                if (document.getElementById('rttime1')){\r\n",
      "                    document.getElementById('rttime1').innerHTML = datas[1];\r\n",
      "                }\r\n",
      "            }\r\n",
      "        });\r\n",
      "    }\r\n",
      "</script>\n",
      "<div class=\"card-body grid-body\">\n",
      "<div class=\"cbchart\">\n",
      "<div class=\"mainchart\" id=\"chart_Realtime\"></div>\n",
      "<div class=\"chartInfo\">\n",
      "<div id=\"stocktop\"></div>\n",
      "</div>\n",
      "</div>\n",
      "</div>\n",
      "<div class=\"card-foot grid-foot\">\n",
      "<a class=\"cfhide\">\n",
      "<div></div>\n",
      "</a>\n",
      "<div class=\"cfdate\">更新時間:<span id=\"rttime1\">--</span></div>\n",
      "</div>\n",
      "</div>\n"
     ]
    }
   ],
   "source": [
    "card = cards[0]\n",
    "print(card)"
   ]
  },
  {
   "cell_type": "code",
   "execution_count": 137,
   "metadata": {},
   "outputs": [],
   "source": [
    "info = card_.find('div',{'id':'stocktop'})"
   ]
  },
  {
   "cell_type": "code",
   "execution_count": 139,
   "metadata": {},
   "outputs": [
    {
     "name": "stdout",
     "output_type": "stream",
     "text": [
      "\n"
     ]
    }
   ],
   "source": [
    "print(info.text)"
   ]
  },
  {
   "cell_type": "markdown",
   "metadata": {},
   "source": [
    "# 更改headers\n",
    "https://www.whoishostingthis.com/tools/user-agent/"
   ]
  },
  {
   "cell_type": "code",
   "execution_count": 135,
   "metadata": {},
   "outputs": [],
   "source": [
    "my_headers = {'User-Agent':\n",
    "              'Mozilla/5.0 (Macintosh; Intel Mac OS X 10_15_3) AppleWebKit/537.36 (KHTML, like Gecko) Chrome/80.0.3987.116 Safari/537.36'}\n",
    "r_ = requests.get(url, headers=my_headers)\n",
    "soup_ = BeautifulSoup(r_.text , features='lxml')\n",
    "grid_ = soup_.find('div',{'class':'grid'})\n",
    "cards_ = grid_.find_all('div',{'id': re.compile('LBlock_.*')})\n",
    "card_=cards_[0]"
   ]
  },
  {
   "cell_type": "code",
   "execution_count": 110,
   "metadata": {},
   "outputs": [],
   "source": [
    "#soup_ = BeautifulSoup(r_.text , features='lxml')\n",
    "#grid_ = soup_.find('div',{'class':'grid'})"
   ]
  },
  {
   "cell_type": "code",
   "execution_count": 111,
   "metadata": {},
   "outputs": [],
   "source": [
    "#cards_ = grid_.find_all('div',{'id': re.compile('LBlock_.*')})"
   ]
  },
  {
   "cell_type": "code",
   "execution_count": 136,
   "metadata": {},
   "outputs": [
    {
     "data": {
      "text/plain": [
       "True"
      ]
     },
     "execution_count": 136,
     "metadata": {},
     "output_type": "execute_result"
    }
   ],
   "source": [
    "hash(card)==hash(card_)"
   ]
  },
  {
   "cell_type": "code",
   "execution_count": 115,
   "metadata": {},
   "outputs": [
    {
     "data": {
      "text/plain": [
       "{'user-agent': 'Mozilla/5.0 (Windows NT 10.0; Win64; x64) AppleWebKit/537.36 (KHTML, like Gecko) Chrome/74.0.3729.169 Safari/537.36', 'Accept-Encoding': 'gzip, deflate', 'Accept': '*/*', 'Connection': 'keep-alive'}"
      ]
     },
     "execution_count": 115,
     "metadata": {},
     "output_type": "execute_result"
    }
   ],
   "source": [
    "r_.request.headers"
   ]
  },
  {
   "cell_type": "code",
   "execution_count": 126,
   "metadata": {},
   "outputs": [
    {
     "data": {
      "text/plain": [
       "{'User-Agent': 'python-requests/2.22.0', 'Accept-Encoding': 'gzip, deflate', 'Accept': '*/*', 'Connection': 'keep-alive'}"
      ]
     },
     "execution_count": 126,
     "metadata": {},
     "output_type": "execute_result"
    }
   ],
   "source": [
    "r.request.headers"
   ]
  },
  {
   "cell_type": "code",
   "execution_count": null,
   "metadata": {},
   "outputs": [],
   "source": []
  },
  {
   "cell_type": "code",
   "execution_count": null,
   "metadata": {},
   "outputs": [],
   "source": []
  },
  {
   "cell_type": "code",
   "execution_count": null,
   "metadata": {},
   "outputs": [],
   "source": []
  }
 ],
 "metadata": {
  "kernelspec": {
   "display_name": "Python 3",
   "language": "python",
   "name": "python3"
  },
  "language_info": {
   "codemirror_mode": {
    "name": "ipython",
    "version": 3
   },
   "file_extension": ".py",
   "mimetype": "text/x-python",
   "name": "python",
   "nbconvert_exporter": "python",
   "pygments_lexer": "ipython3",
   "version": "3.7.4"
  }
 },
 "nbformat": 4,
 "nbformat_minor": 2
}
