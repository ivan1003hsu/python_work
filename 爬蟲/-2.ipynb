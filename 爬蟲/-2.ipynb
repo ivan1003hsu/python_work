{
 "cells": [
  {
   "cell_type": "code",
   "execution_count": 4,
   "metadata": {},
   "outputs": [],
   "source": [
    "from urllib.request import urlopen\n",
    "from bs4 import BeautifulSoup\n",
    "import re\n",
    "import random\n",
    "import time"
   ]
  },
  {
   "cell_type": "code",
   "execution_count": 3,
   "metadata": {},
   "outputs": [
    {
     "name": "stdout",
     "output_type": "stream",
     "text": [
      "1費馬數:    https://zh.wikipedia.org/wiki/%E8%B2%BB%E9%A6%AC%E6%95%B8\n",
      "2冪:    https://zh.wikipedia.org/wiki/%E5%B9%82\n",
      "3实数:    https://zh.wikipedia.org/wiki/%E5%AE%9E%E6%95%B0\n",
      "4可數集:    https://zh.wikipedia.org/wiki/%E5%8F%AF%E6%95%B0%E9%9B%86\n",
      "5一致空间:    https://zh.wikipedia.org/wiki/%E4%B8%80%E8%87%B4%E7%A9%BA%E9%97%B4\n",
      "6安德烈·韦伊:    https://zh.wikipedia.org/wiki/%E5%AE%89%E5%BE%B7%E7%83%88%C2%B7%E9%9F%A6%E4%BC%8A\n",
      "7野口勇:    https://zh.wikipedia.org/wiki/%E9%87%8E%E5%8F%A3%E5%8B%87\n",
      "8沃尔特·雅各布·格林:    https://zh.wikipedia.org/wiki/%E6%B2%83%E5%B0%94%E7%89%B9%C2%B7%E9%9B%85%E5%90%84%E5%B8%83%C2%B7%E6%A0%BC%E6%9E%97\n",
      "9大隅良典:    https://zh.wikipedia.org/wiki/%E5%A4%A7%E9%9A%85%E8%89%AF%E5%85%B8\n",
      "10胡戈·特奥雷尔:    https://zh.wikipedia.org/wiki/%E8%83%A1%E6%88%88%C2%B7%E7%89%B9%E5%A5%A5%E9%9B%B7%E5%B0%94\n",
      "11約瑟夫·里歐納德·戈爾茨坦:    https://zh.wikipedia.org/wiki/%E7%B4%84%E7%91%9F%E5%A4%AB%C2%B7%E9%87%8C%E6%AD%90%E7%B4%8D%E5%BE%B7%C2%B7%E6%88%88%E7%88%BE%E8%8C%A8%E5%9D%A6\n",
      "12珍妮特·罗利:    https://zh.wikipedia.org/wiki/%E7%8F%8D%E5%A6%AE%E7%89%B9%C2%B7%E7%BD%97%E5%88%A9\n",
      "13戴维·布莱克韦尔:    https://zh.wikipedia.org/wiki/%E6%88%B4%E7%BB%B4%C2%B7%E5%B8%83%E8%8E%B1%E5%85%8B%E9%9F%A6%E5%B0%94\n",
      "14卡尔·杰拉西:    https://zh.wikipedia.org/wiki/%E5%8D%A1%E5%B0%94%C2%B7%E6%9D%B0%E6%8B%89%E8%A5%BF\n",
      "15罗伯特·霍夫施塔特:    https://zh.wikipedia.org/wiki/%E7%BE%85%E4%BC%AF%E7%89%B9%C2%B7%E9%9C%8D%E5%A4%AB%E6%96%BD%E5%A1%94%E7%89%B9\n",
      "16阿爾伯特·沙賓:    https://zh.wikipedia.org/wiki/%E9%98%BF%E7%88%BE%E4%BC%AF%E7%89%B9%C2%B7%E6%B2%99%E8%B3%93\n",
      "17保罗·劳特伯:    https://zh.wikipedia.org/wiki/%E4%BF%9D%E7%BD%97%C2%B7%E5%8A%B3%E7%89%B9%E4%BC%AF\n",
      "18戴维·布莱克韦尔:    https://zh.wikipedia.org/wiki/%E6%88%B4%E7%BB%B4%C2%B7%E5%B8%83%E8%8E%B1%E5%85%8B%E9%9F%A6%E5%B0%94\n",
      "19瑪莉-克萊爾·金:    https://zh.wikipedia.org/wiki/%E7%91%AA%E8%8E%89-%E5%85%8B%E8%90%8A%E7%88%BE%C2%B7%E9%87%91\n",
      "20羅伯特·蘭格:    https://zh.wikipedia.org/wiki/%E7%BE%85%E4%BC%AF%E7%89%B9%C2%B7%E8%98%AD%E6%A0%BC\n",
      "Done\n"
     ]
    }
   ],
   "source": [
    "base = 'https://zh.wikipedia.org'\n",
    "url = ['/wiki/%E8%B2%BB%E9%A6%AC%E6%95%B8']\n",
    "stop = False\n",
    "for i in range(20):\n",
    "    html = urlopen( base + url[-1] ).read().decode('utf-8')\n",
    "    soup = BeautifulSoup(html, features='lxml')\n",
    "    title = soup.find('h1')\n",
    "    print( str(i+1) + title.get_text() + ':    ' + base + url[-1])\n",
    "    links = soup.find_all('a',{'href': re.compile('^/wiki/%E.*')})\n",
    "    if len(links) == 0:\n",
    "        print('Stop')\n",
    "        break\n",
    "    while True:\n",
    "        link = random.choice(links)['href']\n",
    "        if link != url[-1]:\n",
    "            break\n",
    "        elif len(links)==1:\n",
    "                stop=True\n",
    "                print('Stop')\n",
    "                break\n",
    "    if stop == True:\n",
    "        break\n",
    "    url.append(link)\n",
    "    time.sleep(1)\n",
    "print('Done')"
   ]
  },
  {
   "cell_type": "code",
   "execution_count": 5,
   "metadata": {},
   "outputs": [],
   "source": [
    "import requests"
   ]
  },
  {
   "cell_type": "code",
   "execution_count": 6,
   "metadata": {},
   "outputs": [
    {
     "name": "stdout",
     "output_type": "stream",
     "text": [
      "Hello there, ivan hsu!\n"
     ]
    }
   ],
   "source": [
    "data = {'firstname':'ivan','lastname':'hsu'}\n",
    "r = requests.post('http://pythonscraping.com/pages/files/processing.php', data=data)\n",
    "print(r.text)"
   ]
  },
  {
   "cell_type": "code",
   "execution_count": 8,
   "metadata": {},
   "outputs": [],
   "source": [
    "import os\n",
    "os.makedirs('./img/', exist_ok=True)\n",
    "\n",
    "IMAGE_URL = 'https://morvanzhou.github.io/static/img/description/learning_step_flowchart.png'\n",
    "r = requests.get(IMAGE_URL, stream=True)    # stream loading\n",
    "\n",
    "with open('./img/image3.png', 'wb') as f:\n",
    "    for chunk in r.iter_content(chunk_size=32):\n",
    "        f.write(chunk)"
   ]
  },
  {
   "cell_type": "code",
   "execution_count": 13,
   "metadata": {},
   "outputs": [],
   "source": [
    "os.makedirs('./img/', exist_ok=True)\n",
    "\n",
    "html = urlopen('http://www.ngchina.com.cn/animals/').read().decode('utf-8')\n",
    "soup = BeautifulSoup(html, 'lxml')\n",
    "image_url = soup.find_all('img', {'src': re.compile('^http://')})\n",
    "k=1\n",
    "for url in image_url:\n",
    "    r = requests.get(url['src'], stream=True)\n",
    "    with open('./img/image'+str(k)+'.png', 'wb') as f:\n",
    "        for chunk in r.iter_content(chunk_size=32):\n",
    "            f.write(chunk)\n",
    "    k = k+1"
   ]
  },
  {
   "cell_type": "code",
   "execution_count": null,
   "metadata": {},
   "outputs": [],
   "source": []
  }
 ],
 "metadata": {
  "kernelspec": {
   "display_name": "Python 3",
   "language": "python",
   "name": "python3"
  },
  "language_info": {
   "codemirror_mode": {
    "name": "ipython",
    "version": 3
   },
   "file_extension": ".py",
   "mimetype": "text/x-python",
   "name": "python",
   "nbconvert_exporter": "python",
   "pygments_lexer": "ipython3",
   "version": "3.7.4"
  }
 },
 "nbformat": 4,
 "nbformat_minor": 2
}
