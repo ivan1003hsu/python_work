{
 "cells": [
  {
   "cell_type": "code",
   "execution_count": 1,
   "metadata": {},
   "outputs": [],
   "source": [
    "import matplotlib.pyplot as plt\n",
    "import numpy as np\n",
    "import sympy as sp"
   ]
  },
  {
   "cell_type": "code",
   "execution_count": 2,
   "metadata": {},
   "outputs": [],
   "source": [
    "t = np.linspace(-10,10,200)\n",
    "n = np.random.randint(10, 20)\n",
    "x=0\n",
    "for i in range(n):\n",
    "    x = 10*np.random.randn()*(t**i) +x"
   ]
  },
  {
   "cell_type": "code",
   "execution_count": 3,
   "metadata": {},
   "outputs": [],
   "source": [
    "m = np.random.randint(10,20)\n",
    "y=0\n",
    "for i in range(n):\n",
    "    y = 10*np.random.randn()*(t**i) +y"
   ]
  },
  {
   "cell_type": "code",
   "execution_count": 4,
   "metadata": {},
   "outputs": [
    {
     "data": {
      "text/plain": [
       "[<matplotlib.lines.Line2D at 0x7fb9257b5610>]"
      ]
     },
     "execution_count": 4,
     "metadata": {},
     "output_type": "execute_result"
    },
    {
     "data": {
      "image/png": "[encoded data removed]",
      "text/plain": [
       "<Figure size 432x288 with 1 Axes>"
      ]
     },
     "metadata": {
      "needs_background": "light"
     },
     "output_type": "display_data"
    }
   ],
   "source": [
    "plt.scatter(x,y)\n",
    "plt.plot(x,y, color='red')"
   ]
  },
  {
   "cell_type": "code",
   "execution_count": 5,
   "metadata": {},
   "outputs": [
    {
     "data": {
      "text/plain": [
       "(11, 15)"
      ]
     },
     "execution_count": 5,
     "metadata": {},
     "output_type": "execute_result"
    }
   ],
   "source": [
    "n,m"
   ]
  },
  {
   "cell_type": "code",
   "execution_count": 6,
   "metadata": {},
   "outputs": [],
   "source": [
    "from ipywidgets import interact_manual"
   ]
  },
  {
   "cell_type": "code",
   "execution_count": 17,
   "metadata": {},
   "outputs": [],
   "source": [
    "def function(r, a):\n",
    "    t = np.linspace(-r,r,10000)\n",
    "    n = np.random.randint(10, 20)\n",
    "    x=0\n",
    "    print('x=', end='')\n",
    "    for i in range(n+1):\n",
    "        randn = np.random.randn()*a\n",
    "        x = randn*(t**i) +x\n",
    "        if i<n:\n",
    "            print('{:.2f}t**{}'.format(randn,i), end='+')\n",
    "        else:\n",
    "            print('{:.2f}t**{}'.format(randn,i))\n",
    "    m = np.random.randint(10,20)\n",
    "    y=0\n",
    "    print('y=',end='')\n",
    "    for i in range(n+1):\n",
    "        randn = np.random.randn()*a\n",
    "        y = randn*(t**i) +y\n",
    "    \n",
    "        if i<n:\n",
    "            print('{:.2f}t**{}'.format(randn,i), end='+')\n",
    "        else:\n",
    "            print('{:.2f}t**{}'.format(randn,i))\n",
    "    print('{}<=t<={}'.format(-r,r))\n",
    "    title = 'm,n:'+str(m)+','+str(n)\n",
    "    plt.title(title)\n",
    "    plt.scatter(x[::100],y[::100],s=15)\n",
    "    plt.plot(x,y, color='red')\n",
    "    plt.show()\n"
   ]
  },
  {
   "cell_type": "code",
   "execution_count": 18,
   "metadata": {},
   "outputs": [
    {
     "data": {
      "application/vnd.jupyter.widget-view+json": {
       "model_id": "c41ce86fbd964243802409c5a563ee95",
       "version_major": 2,
       "version_minor": 0
      },
      "text/plain": [
       "interactive(children=(IntSlider(value=15, description='r', max=30), IntSlider(value=20, description='a', max=3…"
      ]
     },
     "metadata": {},
     "output_type": "display_data"
    }
   ],
   "source": [
    "interact_manual(function, r=(0,30), a=(10,30));"
   ]
  },
  {
   "cell_type": "code",
   "execution_count": null,
   "metadata": {},
   "outputs": [],
   "source": []
  }
 ],
 "metadata": {
  "kernelspec": {
   "display_name": "Python 3",
   "language": "python",
   "name": "python3"
  },
  "language_info": {
   "codemirror_mode": {
    "name": "ipython",
    "version": 3
   },
   "file_extension": ".py",
   "mimetype": "text/x-python",
   "name": "python",
   "nbconvert_exporter": "python",
   "pygments_lexer": "ipython3",
   "version": "3.7.4"
  }
 },
 "nbformat": 4,
 "nbformat_minor": 4
}
