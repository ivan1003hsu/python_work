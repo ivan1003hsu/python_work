{
 "cells": [
  {
   "cell_type": "code",
   "execution_count": 1,
   "metadata": {},
   "outputs": [],
   "source": [
    "import numpy as np\n",
    "import sympy as sp"
   ]
  },
  {
   "cell_type": "code",
   "execution_count": 2,
   "metadata": {},
   "outputs": [],
   "source": [
    "from sympy.abc import x"
   ]
  },
  {
   "cell_type": "markdown",
   "metadata": {},
   "source": [
    "定義內積 和norm\n",
    "\n",
    "##  $1.<f,g>\\  f,g\\ are\\ belong\\ to\\ cotinuous\\ function$"
   ]
  },
  {
   "cell_type": "code",
   "execution_count": 41,
   "metadata": {},
   "outputs": [],
   "source": [
    "def inner_product(f,g):\n",
    "    return sp.integrate(f*g, (x, -1*sp.pi, sp.pi))\n",
    "def norm(f):\n",
    "    return inner_product(f,f)"
   ]
  },
  {
   "cell_type": "code",
   "execution_count": 134,
   "metadata": {
    "scrolled": true
   },
   "outputs": [
    {
     "data": {
      "text/latex": [
       "$\\displaystyle \\frac{2 \\pi^{3}}{3}$"
      ],
      "text/plain": [
       "2*pi**3/3"
      ]
     },
     "execution_count": 134,
     "metadata": {},
     "output_type": "execute_result"
    }
   ],
   "source": [
    "inner_product(1, x**2)"
   ]
  },
  {
   "cell_type": "code",
   "execution_count": 43,
   "metadata": {
    "scrolled": true
   },
   "outputs": [
    {
     "data": {
      "text/latex": [
       "$\\displaystyle 0.632455532033676 \\pi^{2.5}$"
      ],
      "text/plain": [
       "0.632455532033676*pi**2.5"
      ]
     },
     "execution_count": 43,
     "metadata": {},
     "output_type": "execute_result"
    }
   ],
   "source": [
    "norm(x**2)"
   ]
  },
  {
   "cell_type": "markdown",
   "metadata": {},
   "source": [
    "定義orthogonalization 和normalization\n",
    "\n",
    "然後完成 G-S procedure"
   ]
  },
  {
   "cell_type": "code",
   "execution_count": 214,
   "metadata": {},
   "outputs": [],
   "source": [
    "def Orth(b):\n",
    "    w = []\n",
    "    for i in range(len(b)):\n",
    "        if i ==0:\n",
    "            w.append(b[i])\n",
    "        else:\n",
    "            w_i = b[i]\n",
    "            for j in range(i):\n",
    "                c = sp.S(inner_product(w_i, w[j])/inner_product(w[j], w[j])) \n",
    "                w_i = w_i - c*w[j]\n",
    "                        \n",
    "            w_i = sp.expand_func(w_i)\n",
    "            w.append(w_i)\n",
    "    \n",
    "    return w\n",
    "\n",
    "def Nor(w):\n",
    "    return [u/norm(u) for u in w ]\n",
    "\n",
    "def GSP(b):\n",
    "    return Nor(Orth(b))"
   ]
  },
  {
   "cell_type": "code",
   "execution_count": 216,
   "metadata": {},
   "outputs": [
    {
     "data": {
      "text/plain": [
       "[1, x, x**2 - pi**2/3, x**3 - 3*pi**2*x/5]"
      ]
     },
     "execution_count": 216,
     "metadata": {},
     "output_type": "execute_result"
    }
   ],
   "source": [
    "O = Orth([x**i for i in range(4)])\n",
    "O"
   ]
  },
  {
   "cell_type": "code",
   "execution_count": 211,
   "metadata": {},
   "outputs": [
    {
     "data": {
      "text/plain": [
       "[0.707106781186547*pi**(-0.5),\n",
       " 1.22474487139159*pi**(-1.5)*x,\n",
       " 1.58113883008419*pi**(-2.5)*x**2]"
      ]
     },
     "execution_count": 211,
     "metadata": {},
     "output_type": "execute_result"
    }
   ],
   "source": [
    "Nor([x**i for i in range(3)])"
   ]
  },
  {
   "cell_type": "code",
   "execution_count": 217,
   "metadata": {},
   "outputs": [
    {
     "data": {
      "text/plain": [
       "[0.707106781186547*pi**(-0.5),\n",
       " 1.22474487139159*pi**(-1.5)*x,\n",
       " 2.37170824512628*pi**(-2.5)*(x**2 - pi**2/3),\n",
       " 4.67707173346743*pi**(-3.5)*(x**3 - 3*pi**2*x/5),\n",
       " 9.28077650307344*pi**(-4.5)*(x**4 - 6*pi**2*(x**2 - pi**2/3)/7 - pi**4/5),\n",
       " 18.4685120543048*pi**(-5.5)*(x**5 - 3*pi**4*x/7 - 10*pi**2*(x**3 - 3*pi**2*x/5)/9)]"
      ]
     },
     "execution_count": 217,
     "metadata": {},
     "output_type": "execute_result"
    }
   ],
   "source": [
    "GSP([x**i for i in range(6)])"
   ]
  },
  {
   "cell_type": "markdown",
   "metadata": {},
   "source": [
    "## $2.G-S\\ procedure\\ \\{1,X,X_2,...,X_5\\}$"
   ]
  },
  {
   "cell_type": "code",
   "execution_count": 218,
   "metadata": {},
   "outputs": [
    {
     "name": "stdout",
     "output_type": "stream",
     "text": [
      "                   -0.5\n",
      "0.707106781186547⋅π    \n",
      "                  -1.5  \n",
      "1.22474487139159⋅π    ⋅x\n",
      "                       ⎛      2⎞\n",
      "                  -2.5 ⎜ 2   π ⎟\n",
      "2.37170824512628⋅π    ⋅⎜x  - ──⎟\n",
      "                       ⎝     3 ⎠\n",
      "                       ⎛        2  ⎞\n",
      "                  -3.5 ⎜ 3   3⋅π ⋅x⎟\n",
      "4.67707173346743⋅π    ⋅⎜x  - ──────⎟\n",
      "                       ⎝       5   ⎠\n",
      "                       ⎛          ⎛      2⎞     ⎞\n",
      "                       ⎜        2 ⎜ 2   π ⎟     ⎟\n",
      "                       ⎜     6⋅π ⋅⎜x  - ──⎟    4⎟\n",
      "                  -4.5 ⎜ 4        ⎝     3 ⎠   π ⎟\n",
      "9.28077650307344⋅π    ⋅⎜x  - ────────────── - ──⎟\n",
      "                       ⎝           7          5 ⎠\n",
      "                       ⎛                    ⎛        2  ⎞⎞\n",
      "                       ⎜                  2 ⎜ 3   3⋅π ⋅x⎟⎟\n",
      "                       ⎜        4     10⋅π ⋅⎜x  - ──────⎟⎟\n",
      "                  -5.5 ⎜ 5   3⋅π ⋅x         ⎝       5   ⎠⎟\n",
      "18.4685120543048⋅π    ⋅⎜x  - ────── - ───────────────────⎟\n",
      "                       ⎝       7               9         ⎠\n"
     ]
    }
   ],
   "source": [
    "ONB = GSP([x**i for i in range(6)])\n",
    "for i in ONB:\n",
    "    sp.pretty_print(i)"
   ]
  },
  {
   "cell_type": "markdown",
   "metadata": {},
   "source": [
    "定義 正交投影"
   ]
  },
  {
   "cell_type": "code",
   "execution_count": 222,
   "metadata": {},
   "outputs": [],
   "source": [
    "def projection(v, onb):\n",
    "    w = 0\n",
    "    for i in onb:\n",
    "        w =  w + inner_product(v, i)*i\n",
    "    return w"
   ]
  },
  {
   "cell_type": "markdown",
   "metadata": {},
   "source": [
    "## $3. P_U(sin(x)),\\ U=\\mathcal{P}_5(\\mathbb{R}) $"
   ]
  },
  {
   "cell_type": "code",
   "execution_count": 312,
   "metadata": {},
   "outputs": [],
   "source": [
    "f = projection(sp.sin(x), ONB)"
   ]
  },
  {
   "cell_type": "code",
   "execution_count": 313,
   "metadata": {},
   "outputs": [
    {
     "data": {
      "text/latex": [
       "$\\displaystyle - \\frac{9095.625 x^{5}}{\\pi^{8.0}} + \\frac{86.625 x^{5}}{\\pi^{6.0}} + \\frac{81860.625 x^{5}}{\\pi^{10.0}} - \\frac{90956.25 x^{3}}{\\pi^{8.0}} - \\frac{78.75 x^{3}}{\\pi^{4.0}} + \\frac{9843.75 x^{3}}{\\pi^{6.0}} - \\frac{2008.125 x}{\\pi^{4.0}} + \\frac{13.125 x}{\\pi^{2.0}} + \\frac{19490.625 x}{\\pi^{6.0}}$"
      ],
      "text/plain": [
       "-9095.625*pi**(-8.0)*x**5 + 86.625*pi**(-6.0)*x**5 + 81860.625*pi**(-10.0)*x**5 - 90956.25*pi**(-8.0)*x**3 - 78.75*pi**(-4.0)*x**3 + 9843.75*pi**(-6.0)*x**3 - 2008.125*pi**(-4.0)*x + 13.125*pi**(-2.0)*x + 19490.625*pi**(-6.0)*x"
      ]
     },
     "execution_count": 313,
     "metadata": {},
     "output_type": "execute_result"
    }
   ],
   "source": [
    "sp.expand(f)"
   ]
  },
  {
   "cell_type": "markdown",
   "metadata": {},
   "source": [
    "bonus 1: 畫圖，與sinx 做比較"
   ]
  },
  {
   "cell_type": "code",
   "execution_count": 229,
   "metadata": {},
   "outputs": [],
   "source": [
    "import matplotlib.pyplot as plt"
   ]
  },
  {
   "cell_type": "code",
   "execution_count": 231,
   "metadata": {},
   "outputs": [],
   "source": [
    "g = sp.lambdify(x, f, 'numpy')"
   ]
  },
  {
   "cell_type": "code",
   "execution_count": 253,
   "metadata": {},
   "outputs": [],
   "source": [
    "l1 = np.linspace(-1*np.pi, 1*np.pi, 500)\n",
    "l2 = np.linspace(-2*np.pi, 2*np.pi, 500)\n",
    "l3 = np.linspace(-3*np.pi, 3*np.pi, 500)\n",
    "l4 = np.linspace(-4*np.pi, 4*np.pi, 500)"
   ]
  },
  {
   "cell_type": "code",
   "execution_count": 285,
   "metadata": {},
   "outputs": [
    {
     "data": {
      "text/plain": [
       "<Figure size 432x288 with 0 Axes>"
      ]
     },
     "metadata": {},
     "output_type": "display_data"
    },
    {
     "data": {
      "image/png": "[encoded data removed]",
      "text/plain": [
       "<Figure size 1440x2304 with 4 Axes>"
      ]
     },
     "metadata": {
      "needs_background": "light"
     },
     "output_type": "display_data"
    }
   ],
   "source": [
    "fg = plt.figure()\n",
    "plt.figure(figsize=[20,32])\n",
    "\n",
    "fg = plt.subplot(141)\n",
    "ax = plt.gca()\n",
    "ax.set_aspect('equal')\n",
    "plt.ylim(-2,2)\n",
    "fg.plot(l1, g(l1))\n",
    "fg.plot(l1, np.sin(l1), c='r', alpha=0.7)\n",
    "plt.title(\"[-π , π]\")\n",
    "\n",
    "fg = plt.subplot(142)\n",
    "ax = plt.gca()\n",
    "ax.set_aspect('equal')\n",
    "plt.ylim(-4,4)\n",
    "fg.plot(l2, g(l2))\n",
    "fg.plot(l2, np.sin(l2), c='r', alpha=0.7)\n",
    "plt.title(\"[-2π , 2π]\")\n",
    "\n",
    "\n",
    "fg = plt.subplot(143)\n",
    "ax = plt.gca()\n",
    "plt.ylim(-6,6)\n",
    "fg.plot(l3, g(l3))\n",
    "fg.plot(l3, np.sin(l3), c='r', alpha=0.7)\n",
    "ax.set_aspect('equal')\n",
    "plt.title(\"[-3π , 3π]\")\n",
    "\n",
    "\n",
    "fg = plt.subplot(144)\n",
    "ax = plt.gca()\n",
    "plt.ylim(-8,8)\n",
    "fg.plot(l4, g(l4))\n",
    "fg.plot(l4, np.sin(l4), c='r', alpha=0.7)\n",
    "ax.set_aspect('equal')\n",
    "plt.title(\"[-4π , 4π]\")\n",
    "\n",
    "plt.show()"
   ]
  },
  {
   "cell_type": "markdown",
   "metadata": {},
   "source": [
    "bonus 2 :畫圖，與馬克勞林級數做比較"
   ]
  },
  {
   "cell_type": "code",
   "execution_count": 304,
   "metadata": {},
   "outputs": [],
   "source": [
    "M = 0\n",
    "for i in range(6):\n",
    "    m = sp.sin(x)\n",
    "    for j in range(1,i+1):\n",
    "        m = sp.S(sp.diff(m, x)/j)\n",
    "    m = m.subs(x,0) \n",
    "    M = M+ m*x**i"
   ]
  },
  {
   "cell_type": "code",
   "execution_count": 305,
   "metadata": {},
   "outputs": [
    {
     "data": {
      "text/latex": [
       "$\\displaystyle \\frac{x^{5}}{120} - \\frac{x^{3}}{6} + x$"
      ],
      "text/plain": [
       "x**5/120 - x**3/6 + x"
      ]
     },
     "execution_count": 305,
     "metadata": {},
     "output_type": "execute_result"
    }
   ],
   "source": [
    "M"
   ]
  },
  {
   "cell_type": "code",
   "execution_count": 306,
   "metadata": {},
   "outputs": [],
   "source": [
    "h = sp.lambdify(x, M, 'numpy')"
   ]
  },
  {
   "cell_type": "code",
   "execution_count": 311,
   "metadata": {},
   "outputs": [
    {
     "data": {
      "text/plain": [
       "<Figure size 432x288 with 0 Axes>"
      ]
     },
     "metadata": {},
     "output_type": "display_data"
    },
    {
     "data": {
      "image/png": "[encoded data removed]",
      "text/plain": [
       "<Figure size 1440x2304 with 4 Axes>"
      ]
     },
     "metadata": {
      "needs_background": "light"
     },
     "output_type": "display_data"
    }
   ],
   "source": [
    "fg = plt.figure()\n",
    "plt.figure(figsize=[20,32])\n",
    "\n",
    "fg = plt.subplot(141)\n",
    "ax = plt.gca()\n",
    "ax.set_aspect('equal')\n",
    "plt.ylim(-2,2)\n",
    "fg.plot(l1, g(l1))\n",
    "fg.plot(l1, np.sin(l1), c='r', alpha=0.7)\n",
    "fg.plot(l1, h(l1), c='y', alpha=0.7)\n",
    "plt.title(\"[-π , π]\")\n",
    "\n",
    "fg = plt.subplot(142)\n",
    "ax = plt.gca()\n",
    "ax.set_aspect('equal')\n",
    "plt.ylim(-4,4)\n",
    "fg.plot(l2, g(l2))\n",
    "fg.plot(l2, np.sin(l2), c='r', alpha=0.5)\n",
    "fg.plot(l2, h(l2), c='y', alpha=0.7)\n",
    "plt.title(\"[-2π , 2π]\")\n",
    "\n",
    "\n",
    "fg = plt.subplot(143)\n",
    "ax = plt.gca()\n",
    "plt.ylim(-6,6)\n",
    "fg.plot(l3, g(l3))\n",
    "fg.plot(l3, np.sin(l3), c='r', alpha=0.5)\n",
    "fg.plot(l3, h(l3), c='y', alpha=0.7)\n",
    "ax.set_aspect('equal')\n",
    "plt.title(\"[-3π , 3π]\")\n",
    "\n",
    "\n",
    "fg = plt.subplot(144)\n",
    "ax = plt.gca()\n",
    "plt.ylim(-8,8)\n",
    "fg.plot(l4, g(l4))\n",
    "fg.plot(l4, np.sin(l4), c='r', alpha=0.5)\n",
    "fg.plot(l4, h(l4), c='y', alpha=0.7)\n",
    "ax.set_aspect('equal')\n",
    "plt.title(\"[-4π , 4π]\")\n",
    "\n",
    "plt.show()"
   ]
  },
  {
   "cell_type": "code",
   "execution_count": null,
   "metadata": {},
   "outputs": [],
   "source": []
  }
 ],
 "metadata": {
  "kernelspec": {
   "display_name": "Python 3",
   "language": "python",
   "name": "python3"
  },
  "language_info": {
   "codemirror_mode": {
    "name": "ipython",
    "version": 3
   },
   "file_extension": ".py",
   "mimetype": "text/x-python",
   "name": "python",
   "nbconvert_exporter": "python",
   "pygments_lexer": "ipython3",
   "version": "3.7.4"
  }
 },
 "nbformat": 4,
 "nbformat_minor": 4
}
