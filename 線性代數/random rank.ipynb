{
 "cells": [
  {
   "cell_type": "code",
   "execution_count": 1,
   "metadata": {},
   "outputs": [],
   "source": [
    "import numpy as np\n",
    "import sympy as sp\n"
   ]
  },
  {
   "cell_type": "code",
   "execution_count": 6,
   "metadata": {},
   "outputs": [],
   "source": [
    "def std_basis(k, n):\n",
    "    b = [0]*n\n",
    "    b[k] = 1\n",
    "    return b"
   ]
  },
  {
   "cell_type": "code",
   "execution_count": 141,
   "metadata": {},
   "outputs": [],
   "source": [
    "def I_n(r, m, n):\n",
    "    assert r > 0\n",
    "    assert n >= r\n",
    "    assert m >= r\n",
    "    A = []\n",
    "    for i in range(r):\n",
    "        A.append(std_basis(i, n))\n",
    "    for i in range(m-r):\n",
    "        A.append([0]*n)\n",
    "    A = sp.Matrix(A)\n",
    "    return A\n",
    "    "
   ]
  },
  {
   "cell_type": "code",
   "execution_count": 132,
   "metadata": {},
   "outputs": [
    {
     "data": {
      "text/latex": [
       "$\\displaystyle \\left[\\begin{matrix}1 & 0 & 0 & 0 & 0 & 0 & 0\\\\0 & 1 & 0 & 0 & 0 & 0 & 0\\\\0 & 0 & 1 & 0 & 0 & 0 & 0\\\\0 & 0 & 0 & 0 & 0 & 0 & 0\\\\0 & 0 & 0 & 0 & 0 & 0 & 0\\\\0 & 0 & 0 & 0 & 0 & 0 & 0\\end{matrix}\\right]$"
      ],
      "text/plain": [
       "Matrix([\n",
       "[1, 0, 0, 0, 0, 0, 0],\n",
       "[0, 1, 0, 0, 0, 0, 0],\n",
       "[0, 0, 1, 0, 0, 0, 0],\n",
       "[0, 0, 0, 0, 0, 0, 0],\n",
       "[0, 0, 0, 0, 0, 0, 0],\n",
       "[0, 0, 0, 0, 0, 0, 0]])"
      ]
     },
     "execution_count": 132,
     "metadata": {},
     "output_type": "execute_result"
    }
   ],
   "source": [
    "I_n(3, 6, 7)"
   ]
  },
  {
   "cell_type": "markdown",
   "metadata": {},
   "source": [
    "* 用這兩個函式生成任意大小、任意rank的矩陣 \n",
    "* I_n 表 6x7 rank為3 的的矩陣"
   ]
  },
  {
   "cell_type": "code",
   "execution_count": 121,
   "metadata": {},
   "outputs": [],
   "source": [
    "def row_operation(A):\n",
    "    m = A.shape[0]\n",
    "    oper = np.random.randint(3)\n",
    "    \n",
    "    if oper == 0:\n",
    "        #change row\n",
    "        i = np.random.randint(m)\n",
    "        j = np.random.randint(m)\n",
    "        a = A[i, :]\n",
    "        A[i, :] = A[j, :]\n",
    "        A[j, :] = a\n",
    "    \n",
    "    elif oper == 1:\n",
    "        #add one row to another\n",
    "        i = np.random.randint(m)\n",
    "        j = np.random.randint(m)\n",
    "        A[j, :] = A[j, :] + A[i, :]\n",
    "        \n",
    "    elif oper == 2:\n",
    "        #multiply one row\n",
    "        w = np.random.choice([-1,1,2], 1)[0]\n",
    "        i = np.random.randint(m)\n",
    "        A[i, :] = A[i, :]*w\n",
    "        \n",
    "    return A"
   ]
  },
  {
   "cell_type": "code",
   "execution_count": 122,
   "metadata": {},
   "outputs": [],
   "source": [
    "def col_operation(A):\n",
    "    n = A.shape[1]\n",
    "    oper = np.random.randint(3)\n",
    "    \n",
    "    if oper == 0:\n",
    "        #change column\n",
    "        i = np.random.randint(n)\n",
    "        j = np.random.randint(n)\n",
    "        a = A[:, i]\n",
    "        A[:, i] = A[:, j]\n",
    "        A[:, j] = a\n",
    "    \n",
    "    elif oper == 1:\n",
    "        #add one column to another\n",
    "        i = np.random.randint(n)\n",
    "        j = np.random.randint(n)\n",
    "        A[:, j] = A[:, j] + A[:, i]\n",
    "        \n",
    "    elif oper == 2:\n",
    "        #multiply one column\n",
    "        w = np.random.choice([-1,1,2], 1)[0]\n",
    "        i = np.random.randint(n)\n",
    "        A[:, i] = A[:, i]*w\n",
    "        \n",
    "    return A"
   ]
  },
  {
   "cell_type": "markdown",
   "metadata": {},
   "source": [
    "* 隨機進行 基本列運算/基本行運算\n",
    "* (乘上常數倍很容易就爆掉，也很容易選到0，因此用 random.choice"
   ]
  },
  {
   "cell_type": "code",
   "execution_count": 129,
   "metadata": {},
   "outputs": [],
   "source": [
    "def span_Matrix(r, m, n):\n",
    "    A = I_n(r, m, n)\n",
    "    Maxi, mini = (6, -6)\n",
    "    while True:  \n",
    "        #check range\n",
    "        for i in A:\n",
    "            if i >Maxi or i<mini:\n",
    "                return A\n",
    "            \n",
    "        row_operation(A)\n",
    "        col_operation(A)   "
   ]
  },
  {
   "cell_type": "code",
   "execution_count": 133,
   "metadata": {},
   "outputs": [
    {
     "data": {
      "text/latex": [
       "$\\displaystyle \\left[\\begin{matrix}-1 & 0 & 0 & 0 & -4 & -4\\\\1 & 0 & 4 & 0 & 0 & 0\\\\0 & 0 & 2 & 0 & -2 & -2\\\\0 & 0 & 0 & 0 & 0 & 0\\\\2 & 0 & 8 & 0 & 4 & 4\\end{matrix}\\right]$"
      ],
      "text/plain": [
       "Matrix([\n",
       "[-1, 0, 0, 0, -4, -4],\n",
       "[ 1, 0, 4, 0,  0,  0],\n",
       "[ 0, 0, 2, 0, -2, -2],\n",
       "[ 0, 0, 0, 0,  0,  0],\n",
       "[ 2, 0, 8, 0,  4,  4]])"
      ]
     },
     "execution_count": 133,
     "metadata": {},
     "output_type": "execute_result"
    }
   ],
   "source": [
    "span_Matrix(3, 5, 6)"
   ]
  },
  {
   "cell_type": "markdown",
   "metadata": {},
   "source": [
    "* 重複做列運算及行運算，直到數字超出範圍（-6到6)\n",
    "\n",
    "## 最終結果"
   ]
  },
  {
   "cell_type": "code",
   "execution_count": 149,
   "metadata": {},
   "outputs": [
    {
     "name": "stdout",
     "output_type": "stream",
     "text": [
      "輸入rank m n:\n",
      "8 10 16\n"
     ]
    },
    {
     "data": {
      "text/latex": [
       "$\\displaystyle \\left[\\begin{array}{cccccccccccccccc}0 & 0 & 0 & 0 & 0 & 0 & 0 & 2 & 0 & 0 & 0 & 0 & 0 & 0 & 0 & 0\\\\0 & 0 & 0 & 0 & 0 & 0 & 0 & 0 & 0 & 0 & 0 & 0 & 4 & 0 & 0 & 0\\\\0 & 0 & 0 & 0 & 0 & 0 & 0 & 0 & 0 & 0 & 0 & 0 & 0 & 0 & 0 & 0\\\\-4 & 0 & 0 & 0 & 0 & 0 & 0 & 0 & 0 & 0 & 0 & 0 & 0 & 0 & 0 & 0\\\\-2 & -2 & 0 & 0 & 4 & 0 & -1 & -2 & 0 & 0 & 0 & 0 & 0 & 4 & 0 & 0\\\\0 & 0 & 0 & 0 & 0 & 0 & 0 & 0 & 0 & 0 & 0 & 0 & 8 & 0 & 0 & 0\\\\0 & 0 & 0 & 0 & 0 & 0 & 0 & 0 & 0 & 0 & 0 & 0 & 0 & -4 & 0 & 0\\\\2 & 0 & 0 & 1 & 0 & 0 & 0 & 2 & 0 & 0 & 0 & 0 & 4 & 0 & 0 & 0\\\\2 & 0 & 0 & 0 & -4 & 0 & 0 & 2 & 0 & 1 & 0 & 0 & 0 & -6 & 0 & 0\\\\-4 & -4 & 0 & 1 & 0 & 0 & -2 & 2 & 0 & 0 & 0 & 0 & 0 & 0 & 0 & 0\\end{array}\\right]$"
      ],
      "text/plain": [
       "Matrix([\n",
       "[ 0,  0, 0, 0,  0, 0,  0,  2, 0, 0, 0, 0, 0,  0, 0, 0],\n",
       "[ 0,  0, 0, 0,  0, 0,  0,  0, 0, 0, 0, 0, 4,  0, 0, 0],\n",
       "[ 0,  0, 0, 0,  0, 0,  0,  0, 0, 0, 0, 0, 0,  0, 0, 0],\n",
       "[-4,  0, 0, 0,  0, 0,  0,  0, 0, 0, 0, 0, 0,  0, 0, 0],\n",
       "[-2, -2, 0, 0,  4, 0, -1, -2, 0, 0, 0, 0, 0,  4, 0, 0],\n",
       "[ 0,  0, 0, 0,  0, 0,  0,  0, 0, 0, 0, 0, 8,  0, 0, 0],\n",
       "[ 0,  0, 0, 0,  0, 0,  0,  0, 0, 0, 0, 0, 0, -4, 0, 0],\n",
       "[ 2,  0, 0, 1,  0, 0,  0,  2, 0, 0, 0, 0, 4,  0, 0, 0],\n",
       "[ 2,  0, 0, 0, -4, 0,  0,  2, 0, 1, 0, 0, 0, -6, 0, 0],\n",
       "[-4, -4, 0, 1,  0, 0, -2,  2, 0, 0, 0, 0, 0,  0, 0, 0]])"
      ]
     },
     "execution_count": 149,
     "metadata": {},
     "output_type": "execute_result"
    }
   ],
   "source": [
    "r, m, n = list(map(int, input('輸入rank m n:\\n').split(' ')))\n",
    "A = span_Matrix(r, m, n)\n",
    "A"
   ]
  },
  {
   "cell_type": "code",
   "execution_count": 150,
   "metadata": {},
   "outputs": [
    {
     "data": {
      "text/plain": [
       "8"
      ]
     },
     "execution_count": 150,
     "metadata": {},
     "output_type": "execute_result"
    }
   ],
   "source": [
    "A.rank()"
   ]
  },
  {
   "cell_type": "code",
   "execution_count": null,
   "metadata": {},
   "outputs": [],
   "source": []
  }
 ],
 "metadata": {
  "kernelspec": {
   "display_name": "Python 3",
   "language": "python",
   "name": "python3"
  },
  "language_info": {
   "codemirror_mode": {
    "name": "ipython",
    "version": 3
   },
   "file_extension": ".py",
   "mimetype": "text/x-python",
   "name": "python",
   "nbconvert_exporter": "python",
   "pygments_lexer": "ipython3",
   "version": "3.7.4"
  }
 },
 "nbformat": 4,
 "nbformat_minor": 4
}
