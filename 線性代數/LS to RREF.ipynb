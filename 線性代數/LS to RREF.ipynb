{
 "cells": [
  {
   "cell_type": "markdown",
   "metadata": {},
   "source": [
    "## Linear Systeam to Reduce Row Echelon Form\n",
    "( LS to RREF)\n",
    "* input1 : m,n 增廣矩陣\n",
    "* input2 : 各元素\n",
    "\n",
    "* output: rref 的矩陣"
   ]
  },
  {
   "cell_type": "code",
   "execution_count": 1,
   "metadata": {},
   "outputs": [],
   "source": [
    "import numpy as np\n",
    "import sympy as sp\n"
   ]
  },
  {
   "cell_type": "code",
   "execution_count": 37,
   "metadata": {},
   "outputs": [],
   "source": [
    "def To_ref(M):\n",
    "    m,n = M.shape\n",
    "    r=0\n",
    "    for c in range(n-1):\n",
    "                                    #第 0 個 column 到第 n-2個 column  \n",
    "                                    #這邊需要兩個 indicator r,c 指示當標準的數字\n",
    "        if M[r,c] != 0:\n",
    "            M[r,:] = M[r,:]/M[r,c]\n",
    "\n",
    "            for down_row in range(r+1, m):\n",
    "                                    # 要運算的row 的起始為 r+1 到 最後（m-1）\n",
    "                a = M[down_row,c]/M[r,c]\n",
    "                a = a*-1\n",
    "                M[down_row,:] = M[down_row,:]+ a*M[r,:]\n",
    "        r+= 1\n",
    "    return M"
   ]
  },
  {
   "cell_type": "markdown",
   "metadata": {},
   "source": [
    "第一版： bug 出現在當 M\\[r,c\\] 是0的時候，沒有檢查以下(同一個column) 是否是0 ，而是直接跳過\n",
    "\n",
    "解決方法：檢查，並置換row"
   ]
  },
  {
   "cell_type": "code",
   "execution_count": 45,
   "metadata": {},
   "outputs": [],
   "source": [
    "M = sp.Matrix([[0,1,2,3],[4,5,6,7],[8,9,10,11]])"
   ]
  },
  {
   "cell_type": "code",
   "execution_count": 46,
   "metadata": {},
   "outputs": [
    {
     "data": {
      "text/latex": [
       "$\\displaystyle \\left[\\begin{matrix}0 & 1 & 2 & 3\\\\\\frac{4}{5} & 1 & \\frac{6}{5} & \\frac{7}{5}\\\\-1 & 0 & 1 & 2\\end{matrix}\\right]$"
      ],
      "text/plain": [
       "Matrix([\n",
       "[  0, 1,   2,   3],\n",
       "[4/5, 1, 6/5, 7/5],\n",
       "[ -1, 0,   1,   2]])"
      ]
     },
     "execution_count": 46,
     "metadata": {},
     "output_type": "execute_result"
    }
   ],
   "source": [
    "To_ref(M)"
   ]
  },
  {
   "cell_type": "code",
   "execution_count": 53,
   "metadata": {},
   "outputs": [],
   "source": [
    "def check_is_all_zero(M,r,c): \n",
    "                                # 檢查某一column , 指定row 以下的數是否全為0\n",
    "                                # 若非，則回傳 非0 的第一個 row\n",
    "                                # 若真，則回傳 -1\n",
    "    m,n = M.shape\n",
    "    for down_row in range(r, m):\n",
    "        if M[down_row,c]!=0:\n",
    "             return down_row\n",
    "    return -1\n",
    "            \n",
    "def change_row(M, r, k):\n",
    "    a = M[r,:]\n",
    "    M[r,:] = M[k,:]\n",
    "    M[k,:] = a\n",
    "    return M\n",
    "\n",
    "\n",
    "def To_ref(M):\n",
    "    m,n = M.shape\n",
    "    r=0\n",
    "    for c in range(n-1):\n",
    "                                    #第 0 個 column 到第 n-2個 column  \n",
    "                                    #這邊需要兩個 indicator r,c 指示當標準的數字\n",
    "        k = check_is_all_zero(M,r,c)\n",
    "        if k >= 0:\n",
    "            M = change_row(M, r, k)\n",
    "            M[r,:] = M[r,:]/M[r,c]\n",
    "\n",
    "\n",
    "            for down_row in range(r+1, m):\n",
    "                                    # 要運算的row 的起始為 r+1 到 最後（m-1）\n",
    "                a = M[down_row,c]/M[r,c]\n",
    "                a = a*-1\n",
    "                M[down_row,:] = M[down_row,:]+ a*M[r,:]\n",
    "        r+= 1\n",
    "    return M"
   ]
  },
  {
   "cell_type": "code",
   "execution_count": 79,
   "metadata": {},
   "outputs": [
    {
     "data": {
      "text/latex": [
       "$\\displaystyle \\left[\\begin{matrix}1 & \\frac{5}{4} & \\frac{3}{2} & \\frac{7}{4}\\\\0 & 1 & 2 & 3\\\\0 & 0 & 0 & 0\\end{matrix}\\right]$"
      ],
      "text/plain": [
       "Matrix([\n",
       "[1, 5/4, 3/2, 7/4],\n",
       "[0,   1,   2,   3],\n",
       "[0,   0,   0,   0]])"
      ]
     },
     "execution_count": 79,
     "metadata": {},
     "output_type": "execute_result"
    }
   ],
   "source": [
    "M = sp.Matrix([[0,1,2,3],[4,5,6,7],[8,9,10,11]])\n",
    "To_ref(M)"
   ]
  },
  {
   "cell_type": "markdown",
   "metadata": {},
   "source": [
    "第二版： 算是令人滿意，但要完成 rref 還要在上面動點手腳 (見2.\n",
    "\n",
    "我的想法是：\n",
    "* 1.建立另一個「類似轉置」的矩陣，然後用同一個函式解決\n",
    "    * 實際上應該像是：先倒序排列 rows，除最後一個column 之外，再倒序排列columns，運算完再倒序回來\n",
    "    \n",
    "    \n",
    "* 2.讓函式中的迭代方向相反"
   ]
  },
  {
   "cell_type": "code",
   "execution_count": 96,
   "metadata": {},
   "outputs": [],
   "source": [
    "def ref_to_rref(M):\n",
    "    m,n = M.shape\n",
    "    r=m-1\n",
    "    for c in range(n-2, -1, -1):\n",
    "                                    #第 n-2 個 column 到第 0個 column  \n",
    "                                    #這邊需要兩個 indicator r,c 指示當標準的數字\n",
    "        if M[r,c] != 0:\n",
    "            for up_row in range(r-1, -1, -1):\n",
    "                                    # 要運算的row 的起始為 r-1 到 最上 (0）\n",
    "                a = M[up_row,c]/M[r,c]\n",
    "                a = a*-1\n",
    "                M[up_row,:] = M[up_row,:]+ a*M[r,:]\n",
    "        r-= 1\n",
    "    return M"
   ]
  },
  {
   "cell_type": "code",
   "execution_count": 80,
   "metadata": {},
   "outputs": [
    {
     "name": "stdout",
     "output_type": "stream",
     "text": [
      "1 1\n"
     ]
    },
    {
     "data": {
      "text/latex": [
       "$\\displaystyle \\left[\\begin{matrix}1 & 0 & -1 & -2\\\\0 & 1 & 2 & 3\\\\0 & 0 & 0 & 0\\end{matrix}\\right]$"
      ],
      "text/plain": [
       "Matrix([\n",
       "[1, 0, -1, -2],\n",
       "[0, 1,  2,  3],\n",
       "[0, 0,  0,  0]])"
      ]
     },
     "execution_count": 80,
     "metadata": {},
     "output_type": "execute_result"
    }
   ],
   "source": [
    "ref_to_rref(M)"
   ]
  },
  {
   "cell_type": "markdown",
   "metadata": {},
   "source": [
    "Note: 這裡不用且不能去檢查 當作標準的M\\[r,c\\] 以上是否為0 ，只要跳過0即可\n",
    "\n",
    "剩下的就很簡單了："
   ]
  },
  {
   "cell_type": "code",
   "execution_count": 97,
   "metadata": {},
   "outputs": [
    {
     "name": "stdout",
     "output_type": "stream",
     "text": [
      "請輸入增廣矩陣的大小： （格式：m n)3 5\n",
      "請輸入第0 row 的數： （格式：a b c d e...)1 3 5 7 9\n",
      "請輸入第1 row 的數： （格式：a b c d e...)2 4 6 8 10\n",
      "請輸入第2 row 的數： （格式：a b c d e...)2 3 5 7 11\n"
     ]
    },
    {
     "data": {
      "text/latex": [
       "$\\displaystyle \\left[\\begin{matrix}1.0 & 0 & 0 & 0 & 2.0\\\\0 & 1.0 & 0.5 & 0 & -3.5\\\\0 & 0 & 1.0 & 2.0 & 5.0\\end{matrix}\\right]$"
      ],
      "text/plain": [
       "Matrix([\n",
       "[1.0,   0,   0,   0,  2.0],\n",
       "[  0, 1.0, 0.5,   0, -3.5],\n",
       "[  0,   0, 1.0, 2.0,  5.0]])"
      ]
     },
     "execution_count": 97,
     "metadata": {},
     "output_type": "execute_result"
    }
   ],
   "source": [
    "l1 = input('請輸入增廣矩陣的大小： （格式：m n)')\n",
    "m,n = l1.split(' ')\n",
    "m = int(m)\n",
    "n = int(n)\n",
    "l1= list(range(m))\n",
    "for i in range(m):\n",
    "    l2 = []\n",
    "    while n != len(l2):\n",
    "        l2 = input('請輸入第{} row 的數： （格式：a b c d e...)'.format(i))\n",
    "        l2 = list(map(float, l2.split(' ')))\n",
    "        l1[i] = l2\n",
    "M = sp.Matrix(l1)\n",
    "M = ref_to_rref(To_ref(M))\n",
    "M"
   ]
  },
  {
   "cell_type": "markdown",
   "metadata": {},
   "source": [
    "最後這個也不知道屬不屬於 rref，反正就這樣吧\n",
    "\n",
    "# 總耗時 3 hr !!"
   ]
  },
  {
   "cell_type": "code",
   "execution_count": null,
   "metadata": {},
   "outputs": [],
   "source": []
  }
 ],
 "metadata": {
  "kernelspec": {
   "display_name": "Python 3",
   "language": "python",
   "name": "python3"
  },
  "language_info": {
   "codemirror_mode": {
    "name": "ipython",
    "version": 3
   },
   "file_extension": ".py",
   "mimetype": "text/x-python",
   "name": "python",
   "nbconvert_exporter": "python",
   "pygments_lexer": "ipython3",
   "version": "3.7.4"
  }
 },
 "nbformat": 4,
 "nbformat_minor": 4
}
