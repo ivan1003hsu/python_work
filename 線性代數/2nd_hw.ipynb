{
 "cells": [
  {
   "cell_type": "code",
   "execution_count": 1,
   "metadata": {},
   "outputs": [],
   "source": [
    "import numpy as np\n",
    "import sympy as sp"
   ]
  },
  {
   "cell_type": "markdown",
   "metadata": {},
   "source": [
    "定義函數：\n",
    "\n",
    "將 n 個向量（mx1)轉成增廣矩陣（mx(n+1))\n",
    "\n",
    "n+1 的原因是要補上一排 0"
   ]
  },
  {
   "cell_type": "code",
   "execution_count": 24,
   "metadata": {},
   "outputs": [],
   "source": [
    "def vecs_to_Am(vecs):\n",
    "    l = len(vecs[0])\n",
    "    vecs.append([0]*l)\n",
    "    M = sp.Matrix(vecs).transpose()\n",
    "    return M"
   ]
  },
  {
   "cell_type": "code",
   "execution_count": 43,
   "metadata": {},
   "outputs": [
    {
     "name": "stdout",
     "output_type": "stream",
     "text": [
      "輸入第1個向量，空格隔開1 2 3 4 5\n",
      "輸入第2個向量，空格隔開1 3 5 7 9\n",
      "輸入第3個向量，空格隔開2 4 6 8 10\n",
      "輸入第4個向量，空格隔開2 3 5 7 11\n",
      "輸入第5個向量，空格隔開2 4 8 16 32\n",
      "輸入第6個向量，空格隔開1 1 2 3 5\n",
      "輸入第7個向量，空格隔開1 4 9 16 25\n",
      "輸入第8個向量，空格隔開1 2 6 24 120\n",
      "輸入第9個向量，空格隔開end\n",
      "第9個向量格式不符\n",
      "\n",
      "線性獨立的分別是第[1, 2, 4, 5, 6],\n",
      " 矩陣是：\n"
     ]
    },
    {
     "data": {
      "text/latex": [
       "$\\displaystyle \\left[\\begin{matrix}1 & 0 & 2.0 & 0 & 0 & 0 & -1.0 & -52.0 & 0\\\\0 & 1 & 0 & 0 & 0 & 0 & 3.0 & -4.0 & 0\\\\0 & 0 & 0 & 1 & 0 & 0 & -3.0 & 54.0 & 0\\\\0 & 0 & 0 & 0 & 1 & 0 & 0.5 & 3.5 & 0\\\\0 & 0 & 0 & 0 & 0 & 1 & 4.0 & -58.0 & 0\\end{matrix}\\right]$"
      ],
      "text/plain": [
       "Matrix([\n",
       "[1, 0, 2.0, 0, 0, 0, -1.0, -52.0, 0],\n",
       "[0, 1,   0, 0, 0, 0,  3.0,  -4.0, 0],\n",
       "[0, 0,   0, 1, 0, 0, -3.0,  54.0, 0],\n",
       "[0, 0,   0, 0, 1, 0,  0.5,   3.5, 0],\n",
       "[0, 0,   0, 0, 0, 1,  4.0, -58.0, 0]])"
      ]
     },
     "execution_count": 43,
     "metadata": {},
     "output_type": "execute_result"
    }
   ],
   "source": [
    "n=1\n",
    "vecs=[]\n",
    "while n>0:\n",
    "    in1 = input('輸入第{}個向量，空格隔開'.format(n))\n",
    "    v = in1.split(' ')\n",
    "    if n >1:\n",
    "        if len(vecs[0]) != len(v):\n",
    "            print('第{}個向量格式不符'.format(n))\n",
    "            break\n",
    "    try:\n",
    "        v = list(map(float, v))\n",
    "        vecs.append(v)\n",
    "    except:\n",
    "        print('第{}個向量格式不符'.format(n))\n",
    "    n +=1\n",
    "M = vecs_to_Am(vecs)\n",
    "a,b = M.rref()\n",
    "b = list(map(lambda i: i+1,b))\n",
    "print('\\n線性獨立的分別是第{},\\n 矩陣是：'.format(b))\n",
    "a"
   ]
  },
  {
   "cell_type": "code",
   "execution_count": null,
   "metadata": {},
   "outputs": [],
   "source": []
  },
  {
   "cell_type": "code",
   "execution_count": null,
   "metadata": {},
   "outputs": [],
   "source": []
  }
 ],
 "metadata": {
  "kernelspec": {
   "display_name": "Python 3",
   "language": "python",
   "name": "python3"
  },
  "language_info": {
   "codemirror_mode": {
    "name": "ipython",
    "version": 3
   },
   "file_extension": ".py",
   "mimetype": "text/x-python",
   "name": "python",
   "nbconvert_exporter": "python",
   "pygments_lexer": "ipython3",
   "version": "3.7.4"
  }
 },
 "nbformat": 4,
 "nbformat_minor": 4
}
