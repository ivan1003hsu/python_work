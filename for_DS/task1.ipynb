{
 "cells": [
  {
   "cell_type": "code",
   "execution_count": 131,
   "metadata": {},
   "outputs": [
    {
     "name": "stdout",
     "output_type": "stream",
     "text": [
      ">>10000\n",
      "n = 10000, 耗時：0.01930379867553711\n"
     ]
    }
   ],
   "source": [
    "import numpy as np\n",
    "import time\n",
    "\n",
    "n = int(input('>>'))\n",
    "s=0\n",
    "t = time.time()\n",
    "for i in range(n):\n",
    "    s += np.log2(i+1)\n",
    "t = time.time() - t\n",
    "print('n = {}, 耗時：{}'.format(n,t))"
   ]
  },
  {
   "cell_type": "code",
   "execution_count": 1,
   "metadata": {
    "scrolled": true
   },
   "outputs": [
    {
     "name": "stdout",
     "output_type": "stream",
     "text": [
      "10000000 , 11.551244020462036,20000000 , 23.519715070724487,30000000 , 34.81110620498657,40000000 , 47.01997900009155,50000000 , 57.300926208496094,60000000 , 69.78514623641968,70000000 , 80.41218376159668,80000000 , 91.90315890312195,90000000 , 105.51998686790466,"
     ]
    }
   ],
   "source": [
    "import time\n",
    "import numpy as np\n",
    "t_=[]\n",
    "for j in range(10000000,100000000,10000000): #10^7 ,10^8, 10^7\n",
    "    n = j\n",
    "    s = 0\n",
    "    t = time.time()\n",
    "    for i in range(n):\n",
    "        s = s + np.log2(i+1)\n",
    "    t = time.time() - t\n",
    "    t_.append(t)\n",
    "    print(n,',',t,end=',')"
   ]
  },
  {
   "cell_type": "code",
   "execution_count": 2,
   "metadata": {},
   "outputs": [],
   "source": [
    "import matplotlib.pyplot as plt"
   ]
  },
  {
   "cell_type": "code",
   "execution_count": 9,
   "metadata": {},
   "outputs": [
    {
     "data": {
      "text/plain": [
       "[<matplotlib.lines.Line2D at 0x1a202b4610>]"
      ]
     },
     "execution_count": 9,
     "metadata": {},
     "output_type": "execute_result"
    },
    {
     "data": {
      "image/png": "[encoded data removed]",
      "text/plain": [
       "<Figure size 432x288 with 1 Axes>"
      ]
     },
     "metadata": {
      "needs_background": "light"
     },
     "output_type": "display_data"
    }
   ],
   "source": [
    "n_ = range(10000000,100000000,10000000)\n",
    "n_ = np.array(n_)\n",
    "t_ = np.array(t_)\n",
    "plt.plot(n_,t_)"
   ]
  },
  {
   "cell_type": "code",
   "execution_count": 16,
   "metadata": {},
   "outputs": [
    {
     "data": {
      "text/plain": [
       "[<matplotlib.lines.Line2D at 0x1a206bcc90>]"
      ]
     },
     "execution_count": 16,
     "metadata": {},
     "output_type": "execute_result"
    },
    {
     "data": {
      "image/png": "[encoded data removed]",
      "text/plain": [
       "<Figure size 432x288 with 1 Axes>"
      ]
     },
     "metadata": {
      "needs_background": "light"
     },
     "output_type": "display_data"
    }
   ],
   "source": [
    "from sklearn.linear_model import LinearRegression\n",
    "x_ = (n_/10**7).reshape(-1,1)\n",
    "y_ = t_.reshape(-1,1)\n",
    "lr = LinearRegression()\n",
    "\n",
    "lr.fit(x_, y_)\n",
    "y = lr.predict(x_)\n",
    "x = x_*10**7\n",
    "plt.plot(x, y, color='red')\n",
    "plt.plot(x, y_)"
   ]
  },
  {
   "cell_type": "code",
   "execution_count": 17,
   "metadata": {},
   "outputs": [
    {
     "name": "stdout",
     "output_type": "stream",
     "text": [
      "[[11.58321042]] [0.06433082]\n"
     ]
    }
   ],
   "source": [
    "print(lr.coef_, lr.intercept_) "
   ]
  },
  {
   "cell_type": "code",
   "execution_count": 18,
   "metadata": {},
   "outputs": [
    {
     "data": {
      "text/plain": [
       "0.9995441910275968"
      ]
     },
     "execution_count": 18,
     "metadata": {},
     "output_type": "execute_result"
    }
   ],
   "source": [
    "lr.score(x_,y_)"
   ]
  },
  {
   "cell_type": "markdown",
   "metadata": {},
   "source": [
    "$$ 時間 \\approx 11.6/10^7 * n  - 0.06433082 $$"
   ]
  },
  {
   "cell_type": "code",
   "execution_count": null,
   "metadata": {},
   "outputs": [],
   "source": []
  }
 ],
 "metadata": {
  "kernelspec": {
   "display_name": "Python 3",
   "language": "python",
   "name": "python3"
  },
  "language_info": {
   "codemirror_mode": {
    "name": "ipython",
    "version": 3
   },
   "file_extension": ".py",
   "mimetype": "text/x-python",
   "name": "python",
   "nbconvert_exporter": "python",
   "pygments_lexer": "ipython3",
   "version": "3.7.4"
  }
 },
 "nbformat": 4,
 "nbformat_minor": 2
}
