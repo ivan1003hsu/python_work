{
 "cells": [
  {
   "cell_type": "markdown",
   "metadata": {},
   "source": [
    "insert_sort:\n",
    "\n",
    "https://www.geeksforgeeks.org/python-program-for-insertion-sort/"
   ]
  },
  {
   "cell_type": "code",
   "execution_count": 1,
   "metadata": {},
   "outputs": [],
   "source": [
    "def insertionSort(arr): \n",
    "  \n",
    "    # Traverse through 1 to len(arr) \n",
    "    for i in range(1, len(arr)): \n",
    "  \n",
    "        key = arr[i] \n",
    "  \n",
    "        # Move elements of arr[0..i-1], that are \n",
    "        # greater than key, to one position ahead \n",
    "        # of their current position \n",
    "        j = i-1\n",
    "        while j >=0 and key < arr[j] : \n",
    "                arr[j+1] = arr[j] \n",
    "                j -= 1\n",
    "        arr[j+1] = key "
   ]
  },
  {
   "cell_type": "markdown",
   "metadata": {},
   "source": [
    "merge sort:\n",
    "\n",
    "https://www.educative.io/edpresso/merge-sort-in-python"
   ]
  },
  {
   "cell_type": "code",
   "execution_count": 3,
   "metadata": {},
   "outputs": [],
   "source": [
    "def MergeSort(myList):\n",
    "    if len(myList) > 1:\n",
    "        mid = len(myList) // 2\n",
    "        left = myList[:mid]\n",
    "        right = myList[mid:]\n",
    "\n",
    "        # Recursive call on each half\n",
    "        MergeSort(left)\n",
    "        MergeSort(right)\n",
    "\n",
    "        # Two iterators for traversing the two halves\n",
    "        i = 0\n",
    "        j = 0\n",
    "        \n",
    "        # Iterator for the main list\n",
    "        k = 0\n",
    "        \n",
    "        while i < len(left) and j < len(right):\n",
    "            if left[i] < right[j]:\n",
    "              # The value from the left half has been used\n",
    "              myList[k] = left[i]\n",
    "              # Move the iterator forward\n",
    "              i += 1\n",
    "            else:\n",
    "                myList[k] = right[j]\n",
    "                j += 1\n",
    "            # Move to the next slot\n",
    "            k += 1\n",
    "\n",
    "        # For all the remaining values\n",
    "        while i < len(left):\n",
    "            myList[k] = left[i]\n",
    "            i += 1\n",
    "            k += 1\n",
    "\n",
    "        while j < len(right):\n",
    "            myList[k]=right[j]\n",
    "            j += 1\n",
    "            k += 1"
   ]
  },
  {
   "cell_type": "markdown",
   "metadata": {},
   "source": [
    "randomized quick sort:\n",
    "\n",
    "https://www.codementor.io/@garethdwyer/quicksort-tutorial-python-implementation-with-line-by-line-explanation-p9h7jd3r6"
   ]
  },
  {
   "cell_type": "code",
   "execution_count": 4,
   "metadata": {},
   "outputs": [],
   "source": [
    "def partition(xs, start, end):\n",
    "    follower = leader = start\n",
    "    while leader < end:\n",
    "        if xs[leader] <= xs[end]:\n",
    "            xs[follower], xs[leader] = xs[leader], xs[follower]\n",
    "            follower += 1\n",
    "        leader += 1\n",
    "    xs[follower], xs[end] = xs[end], xs[follower]\n",
    "    return follower\n",
    "\n",
    "def _quicksort(xs, start, end):\n",
    "    if start >= end:\n",
    "        return\n",
    "    p = partition(xs, start, end)\n",
    "    _quicksort(xs, start, p-1)\n",
    "    _quicksort(xs, p+1, end)\n",
    "    \n",
    "def quicksort(xs):\n",
    "    _quicksort(xs, 0, len(xs)-1)"
   ]
  },
  {
   "cell_type": "markdown",
   "metadata": {},
   "source": [
    "counting sort:\n",
    "\n",
    "https://en.wikibooks.org/wiki/Algorithm_Implementation/Sorting/Counting_sort"
   ]
  },
  {
   "cell_type": "code",
   "execution_count": 6,
   "metadata": {},
   "outputs": [],
   "source": [
    "def counting_sort(array, maxval):\n",
    "    \"\"\"in-place counting sort\"\"\"\n",
    "    m = maxval + 1\n",
    "    count = [0] * m               # init with zeros\n",
    "    for a in array:\n",
    "        count[a] += 1             # count occurences\n",
    "    i = 0\n",
    "    for a in range(m):            # emit\n",
    "        for c in range(count[a]): # - emit 'count[a]' copies of 'a'\n",
    "            array[i] = a\n",
    "            i += 1\n",
    "    return (array,count)"
   ]
  },
  {
   "cell_type": "markdown",
   "metadata": {},
   "source": [
    "O(nlogn)的sort\n",
    "\n",
    "這邊選用的是heap sort:\n",
    "\n",
    "https://www.programiz.com/dsa/heap-sort"
   ]
  },
  {
   "cell_type": "code",
   "execution_count": 7,
   "metadata": {},
   "outputs": [],
   "source": [
    "def heapify(arr, n, i):\n",
    "      # Find largest among root and children\n",
    "    largest = i\n",
    "    l = 2 * i + 1\n",
    "    r = 2 * i + 2\n",
    "  \n",
    "    if l < n and arr[i] < arr[l]:\n",
    "        largest = l\n",
    "  \n",
    "    if r < n and arr[largest] < arr[r]:\n",
    "        largest = r\n",
    "  \n",
    "      # If root is not largest, swap with largest and continue heapifying\n",
    "    if largest != i:\n",
    "        arr[i], arr[largest] = arr[largest], arr[i]\n",
    "        heapify(arr, n, largest)\n",
    "  \n",
    "  \n",
    "def heapSort(arr):\n",
    "    n = len(arr)\n",
    "  \n",
    "      # Build max heap\n",
    "    for i in range(n, -1, -1):\n",
    "        heapify(arr, n, i)\n",
    "  \n",
    "    for i in range(n-1, 0, -1):\n",
    "          # Swap\n",
    "        arr[i], arr[0] = arr[0], arr[i]"
   ]
  },
  {
   "cell_type": "code",
   "execution_count": 8,
   "metadata": {},
   "outputs": [],
   "source": [
    "#insert sort:insertionSort(arr)\n",
    "#merge sort: MergeSort(arr)\n",
    "#quick sort: quicksort(arr)\n",
    "#counting sort: counting_sort(array, maxval)\n",
    "#heap sort: heapSort(arr)"
   ]
  },
  {
   "cell_type": "markdown",
   "metadata": {},
   "source": [
    "生成Input Array （IA)\n",
    "* Uniformly Randomly : IA1\n",
    "* Almost Sorted : IA2  \n",
    "\n",
    "(選取不重複位置 參考http://kailotus.blogspot.com/2018/07/python29numpy.html及https://docs.scipy.org/doc/numpy-1.15.0/reference/generated/numpy.random.choice.html ）\n"
   ]
  },
  {
   "cell_type": "code",
   "execution_count": 1,
   "metadata": {},
   "outputs": [],
   "source": [
    "import numpy as np\n",
    "def IA1(k):\n",
    "    return np.random.randint(1,1001,size=2**k)\n",
    "def IA2(k):\n",
    "    l = list(range(1,2**k+1,1))  #加上list參考https://blog.csdn.net/wanglin_lin/article/details/50819657\n",
    "    loc = np.random.choice(2**k,100,replace=False) #選取位置\n",
    "    r_numbers = np.random.randint(1,1001,100) #生成隨機數\n",
    "    for i in range(100):\n",
    "        l[loc[i]]=r_numbers[i]\n",
    "    return l"
   ]
  },
  {
   "cell_type": "code",
   "execution_count": 3,
   "metadata": {},
   "outputs": [],
   "source": [
    "import time"
   ]
  },
  {
   "cell_type": "markdown",
   "metadata": {},
   "source": [
    "insert sort:\n",
    "* IA1:"
   ]
  },
  {
   "cell_type": "code",
   "execution_count": 56,
   "metadata": {},
   "outputs": [
    {
     "name": "stdout",
     "output_type": "stream",
     "text": [
      "Input Array Size:2^ 17  times: 9   time: 2020-04-29 19:58:16"
     ]
    },
    {
     "ename": "KeyboardInterrupt",
     "evalue": "",
     "output_type": "error",
     "traceback": [
      "\u001b[0;31m---------------------------------------------------------------------------\u001b[0m",
      "\u001b[0;31mKeyboardInterrupt\u001b[0m                         Traceback (most recent call last)",
      "\u001b[0;32m<ipython-input-56-61a000edbca7>\u001b[0m in \u001b[0;36m<module>\u001b[0;34m\u001b[0m\n\u001b[1;32m      5\u001b[0m         \u001b[0minput_array\u001b[0m \u001b[0;34m=\u001b[0m \u001b[0mIA1\u001b[0m\u001b[0;34m(\u001b[0m\u001b[0mk\u001b[0m\u001b[0;34m)\u001b[0m\u001b[0;34m\u001b[0m\u001b[0;34m\u001b[0m\u001b[0m\n\u001b[1;32m      6\u001b[0m         \u001b[0mt\u001b[0m \u001b[0;34m=\u001b[0m \u001b[0mtime\u001b[0m\u001b[0;34m.\u001b[0m\u001b[0mperf_counter\u001b[0m\u001b[0;34m(\u001b[0m\u001b[0;34m)\u001b[0m\u001b[0;34m\u001b[0m\u001b[0;34m\u001b[0m\u001b[0m\n\u001b[0;32m----> 7\u001b[0;31m         \u001b[0minsertionSort\u001b[0m\u001b[0;34m(\u001b[0m\u001b[0minput_array\u001b[0m\u001b[0;34m)\u001b[0m\u001b[0;34m\u001b[0m\u001b[0;34m\u001b[0m\u001b[0m\n\u001b[0m\u001b[1;32m      8\u001b[0m         \u001b[0mt\u001b[0m \u001b[0;34m=\u001b[0m \u001b[0mtime\u001b[0m\u001b[0;34m.\u001b[0m\u001b[0mperf_counter\u001b[0m\u001b[0;34m(\u001b[0m\u001b[0;34m)\u001b[0m \u001b[0;34m-\u001b[0m \u001b[0mt\u001b[0m\u001b[0;34m\u001b[0m\u001b[0;34m\u001b[0m\u001b[0m\n\u001b[1;32m      9\u001b[0m         \u001b[0mk_t_list\u001b[0m\u001b[0;34m.\u001b[0m\u001b[0mappend\u001b[0m\u001b[0;34m(\u001b[0m\u001b[0mt\u001b[0m\u001b[0;34m)\u001b[0m\u001b[0;34m\u001b[0m\u001b[0;34m\u001b[0m\u001b[0m\n",
      "\u001b[0;32m<ipython-input-2-4997dcd6bc89>\u001b[0m in \u001b[0;36minsertionSort\u001b[0;34m(arr)\u001b[0m\n\u001b[1;32m     10\u001b[0m         \u001b[0;31m# of their current position\u001b[0m\u001b[0;34m\u001b[0m\u001b[0;34m\u001b[0m\u001b[0;34m\u001b[0m\u001b[0m\n\u001b[1;32m     11\u001b[0m         \u001b[0mj\u001b[0m \u001b[0;34m=\u001b[0m \u001b[0mi\u001b[0m\u001b[0;34m-\u001b[0m\u001b[0;36m1\u001b[0m\u001b[0;34m\u001b[0m\u001b[0;34m\u001b[0m\u001b[0m\n\u001b[0;32m---> 12\u001b[0;31m         \u001b[0;32mwhile\u001b[0m \u001b[0mj\u001b[0m \u001b[0;34m>=\u001b[0m\u001b[0;36m0\u001b[0m \u001b[0;32mand\u001b[0m \u001b[0mkey\u001b[0m \u001b[0;34m<\u001b[0m \u001b[0marr\u001b[0m\u001b[0;34m[\u001b[0m\u001b[0mj\u001b[0m\u001b[0;34m]\u001b[0m \u001b[0;34m:\u001b[0m\u001b[0;34m\u001b[0m\u001b[0;34m\u001b[0m\u001b[0m\n\u001b[0m\u001b[1;32m     13\u001b[0m                 \u001b[0marr\u001b[0m\u001b[0;34m[\u001b[0m\u001b[0mj\u001b[0m\u001b[0;34m+\u001b[0m\u001b[0;36m1\u001b[0m\u001b[0;34m]\u001b[0m \u001b[0;34m=\u001b[0m \u001b[0marr\u001b[0m\u001b[0;34m[\u001b[0m\u001b[0mj\u001b[0m\u001b[0;34m]\u001b[0m\u001b[0;34m\u001b[0m\u001b[0;34m\u001b[0m\u001b[0m\n\u001b[1;32m     14\u001b[0m                 \u001b[0mj\u001b[0m \u001b[0;34m-=\u001b[0m \u001b[0;36m1\u001b[0m\u001b[0;34m\u001b[0m\u001b[0;34m\u001b[0m\u001b[0m\n",
      "\u001b[0;31mKeyboardInterrupt\u001b[0m: "
     ]
    }
   ],
   "source": [
    "t_list =[]\n",
    "for k in range(10,31):\n",
    "    k_t_list =[]\n",
    "    for times in range(10):\n",
    "        input_array = IA1(k)\n",
    "        t = time.perf_counter()\n",
    "        insertionSort(input_array)\n",
    "        t = time.perf_counter() - t\n",
    "        k_t_list.append(t)\n",
    "        print('\\rInput Array Size:2^', k,' times:',times,'  time:',time.strftime(\"%Y-%m-%d %H:%M:%S\", time.localtime()),end='')\n",
    "    t_list.append(np.mean(k_t_list))"
   ]
  },
  {
   "cell_type": "code",
   "execution_count": 59,
   "metadata": {},
   "outputs": [
    {
     "data": {
      "text/plain": [
       "[0.11104481229995145,\n",
       " 0.4331117374011228,\n",
       " 1.6777930880994973,\n",
       " 6.651376927700039,\n",
       " 26.77242170790014,\n",
       " 112.91499589580053,\n",
       " 452.2491459711993,\n",
       " 1960.5597292209]"
      ]
     },
     "execution_count": 59,
     "metadata": {},
     "output_type": "execute_result"
    }
   ],
   "source": [
    "t_list"
   ]
  },
  {
   "cell_type": "markdown",
   "metadata": {},
   "source": [
    "* IA2:"
   ]
  },
  {
   "cell_type": "code",
   "execution_count": 8,
   "metadata": {},
   "outputs": [
    {
     "name": "stdout",
     "output_type": "stream",
     "text": [
      "Input Array Size:2^ 27  times: 0   time: 2020-04-30 17:55:17"
     ]
    },
    {
     "ename": "KeyboardInterrupt",
     "evalue": "",
     "output_type": "error",
     "traceback": [
      "\u001b[0;31m---------------------------------------------------------------------------\u001b[0m",
      "\u001b[0;31mKeyboardInterrupt\u001b[0m                         Traceback (most recent call last)",
      "\u001b[0;32m<ipython-input-8-1ec43529da7d>\u001b[0m in \u001b[0;36m<module>\u001b[0;34m\u001b[0m\n\u001b[1;32m      5\u001b[0m         \u001b[0minput_array\u001b[0m \u001b[0;34m=\u001b[0m \u001b[0mIA2\u001b[0m\u001b[0;34m(\u001b[0m\u001b[0mk\u001b[0m\u001b[0;34m)\u001b[0m\u001b[0;34m\u001b[0m\u001b[0;34m\u001b[0m\u001b[0m\n\u001b[1;32m      6\u001b[0m         \u001b[0mt\u001b[0m \u001b[0;34m=\u001b[0m \u001b[0mtime\u001b[0m\u001b[0;34m.\u001b[0m\u001b[0mperf_counter\u001b[0m\u001b[0;34m(\u001b[0m\u001b[0;34m)\u001b[0m\u001b[0;34m\u001b[0m\u001b[0;34m\u001b[0m\u001b[0m\n\u001b[0;32m----> 7\u001b[0;31m         \u001b[0minsertionSort\u001b[0m\u001b[0;34m(\u001b[0m\u001b[0minput_array\u001b[0m\u001b[0;34m)\u001b[0m\u001b[0;34m\u001b[0m\u001b[0;34m\u001b[0m\u001b[0m\n\u001b[0m\u001b[1;32m      8\u001b[0m         \u001b[0mt\u001b[0m \u001b[0;34m=\u001b[0m \u001b[0mtime\u001b[0m\u001b[0;34m.\u001b[0m\u001b[0mperf_counter\u001b[0m\u001b[0;34m(\u001b[0m\u001b[0;34m)\u001b[0m \u001b[0;34m-\u001b[0m \u001b[0mt\u001b[0m\u001b[0;34m\u001b[0m\u001b[0;34m\u001b[0m\u001b[0m\n\u001b[1;32m      9\u001b[0m         \u001b[0mk_t2_list\u001b[0m\u001b[0;34m.\u001b[0m\u001b[0mappend\u001b[0m\u001b[0;34m(\u001b[0m\u001b[0mt\u001b[0m\u001b[0;34m)\u001b[0m\u001b[0;34m\u001b[0m\u001b[0;34m\u001b[0m\u001b[0m\n",
      "\u001b[0;32m<ipython-input-1-4997dcd6bc89>\u001b[0m in \u001b[0;36minsertionSort\u001b[0;34m(arr)\u001b[0m\n\u001b[1;32m     12\u001b[0m         \u001b[0;32mwhile\u001b[0m \u001b[0mj\u001b[0m \u001b[0;34m>=\u001b[0m\u001b[0;36m0\u001b[0m \u001b[0;32mand\u001b[0m \u001b[0mkey\u001b[0m \u001b[0;34m<\u001b[0m \u001b[0marr\u001b[0m\u001b[0;34m[\u001b[0m\u001b[0mj\u001b[0m\u001b[0;34m]\u001b[0m \u001b[0;34m:\u001b[0m\u001b[0;34m\u001b[0m\u001b[0;34m\u001b[0m\u001b[0m\n\u001b[1;32m     13\u001b[0m                 \u001b[0marr\u001b[0m\u001b[0;34m[\u001b[0m\u001b[0mj\u001b[0m\u001b[0;34m+\u001b[0m\u001b[0;36m1\u001b[0m\u001b[0;34m]\u001b[0m \u001b[0;34m=\u001b[0m \u001b[0marr\u001b[0m\u001b[0;34m[\u001b[0m\u001b[0mj\u001b[0m\u001b[0;34m]\u001b[0m\u001b[0;34m\u001b[0m\u001b[0;34m\u001b[0m\u001b[0m\n\u001b[0;32m---> 14\u001b[0;31m                 \u001b[0mj\u001b[0m \u001b[0;34m-=\u001b[0m \u001b[0;36m1\u001b[0m\u001b[0;34m\u001b[0m\u001b[0;34m\u001b[0m\u001b[0m\n\u001b[0m\u001b[1;32m     15\u001b[0m         \u001b[0marr\u001b[0m\u001b[0;34m[\u001b[0m\u001b[0mj\u001b[0m\u001b[0;34m+\u001b[0m\u001b[0;36m1\u001b[0m\u001b[0;34m]\u001b[0m \u001b[0;34m=\u001b[0m \u001b[0mkey\u001b[0m\u001b[0;34m\u001b[0m\u001b[0;34m\u001b[0m\u001b[0m\n",
      "\u001b[0;31mKeyboardInterrupt\u001b[0m: "
     ]
    }
   ],
   "source": [
    "t2_list =[]\n",
    "for k in range(10,31):\n",
    "    k_t2_list =[]\n",
    "    for times in range(10):\n",
    "        input_array = IA2(k)\n",
    "        t = time.perf_counter()\n",
    "        insertionSort(input_array)\n",
    "        t = time.perf_counter() - t\n",
    "        k_t2_list.append(t)\n",
    "        print('\\rInput Array Size:2^', k,' times:',times,'  time:',time.strftime(\"%Y-%m-%d %H:%M:%S\", time.localtime()),end='')\n",
    "    t2_list.append(np.mean(k_t2_list))"
   ]
  },
  {
   "cell_type": "code",
   "execution_count": 9,
   "metadata": {},
   "outputs": [
    {
     "data": {
      "text/plain": [
       "[0.010955637200095226,\n",
       " 0.02149550799986173,\n",
       " 0.0511182591000761,\n",
       " 0.11659919700014143,\n",
       " 0.23849487000006775,\n",
       " 0.5110194178998426,\n",
       " 1.0475040402998275,\n",
       " 2.114727476600092,\n",
       " 4.12154043720002,\n",
       " 8.22727074839986,\n",
       " 16.33302428850002,\n",
       " 33.244736350999844,\n",
       " 66.26131491539964,\n",
       " 127.77551541439989,\n",
       " 246.5236643469998,\n",
       " 508.0927207718003,\n",
       " 1004.2916336185001]"
      ]
     },
     "execution_count": 9,
     "metadata": {},
     "output_type": "execute_result"
    }
   ],
   "source": [
    "t2_list"
   ]
  },
  {
   "cell_type": "markdown",
   "metadata": {},
   "source": [
    "# 以下是結果以及估計"
   ]
  },
  {
   "cell_type": "code",
   "execution_count": 74,
   "metadata": {},
   "outputs": [],
   "source": [
    "insert_sort_t1 = [0.11104481229995145,\n",
    " 0.4331117374011228,\n",
    " 1.6777930880994973,\n",
    " 6.651376927700039,\n",
    " 26.77242170790014,\n",
    " 112.91499589580053,\n",
    " 452.2491459711993,\n",
    " 1960.5597292209]"
   ]
  },
  {
   "cell_type": "code",
   "execution_count": 76,
   "metadata": {},
   "outputs": [
    {
     "name": "stdout",
     "output_type": "stream",
     "text": [
      "3.90033292353372\n",
      "3.87381117437975\n",
      "3.9643606681168997\n",
      "4.02509465316946\n",
      "4.217586183564448\n",
      "4.005217751489279\n",
      "4.3351319658340595\n",
      "\n",
      " 4.045933617155374\n"
     ]
    }
   ],
   "source": [
    "esti=[]\n",
    "for i in range(len(insert_sort_t1)-1):\n",
    "    e=insert_sort_t1[i+1]/insert_sort_t1[i]\n",
    "    print(e)\n",
    "    esti.append(e)\n",
    "print('\\n',np.mean(esti))\n"
   ]
  },
  {
   "cell_type": "code",
   "execution_count": 77,
   "metadata": {},
   "outputs": [
    {
     "name": "stdout",
     "output_type": "stream",
     "text": [
      "[0.11104481229995145, 0.4331117374011228, 1.6777930880994973, 6.651376927700039, 26.77242170790014, 112.91499589580053, 452.2491459711993, 1960.5597292209, 7920.661306052436, 31999.47167645184, 129277.86557286544, 522282.5769143764, 2110021.610734081, 8524487.307365688, 34438928.721757375, 139133272.0358998, 562098419.0250351, 2270877612.861142, 9174345555.959015, 37064356046.07442, 149739998426.14066]\n"
     ]
    }
   ],
   "source": [
    "### 每一項大約是前一項的4.04倍時間，由此估計\n",
    "while len(insert_sort_t1) <21:\n",
    "    insert_sort_t1.append(insert_sort_t1[-1]*4.04)\n",
    "print(insert_sort_t1)"
   ]
  },
  {
   "cell_type": "code",
   "execution_count": 2,
   "metadata": {},
   "outputs": [],
   "source": [
    "insert_sort_t2=[0.010955637200095226,\n",
    " 0.02149550799986173,\n",
    " 0.0511182591000761,\n",
    " 0.11659919700014143,\n",
    " 0.23849487000006775,\n",
    " 0.5110194178998426,\n",
    " 1.0475040402998275,\n",
    " 2.114727476600092,\n",
    " 4.12154043720002,\n",
    " 8.22727074839986,\n",
    " 16.33302428850002,\n",
    " 33.244736350999844,\n",
    " 66.26131491539964,\n",
    " 127.77551541439989,\n",
    " 246.5236643469998,\n",
    " 508.0927207718003,\n",
    " 1004.2916336185001]"
   ]
  },
  {
   "cell_type": "code",
   "execution_count": 3,
   "metadata": {},
   "outputs": [
    {
     "name": "stdout",
     "output_type": "stream",
     "text": [
      "1.9620500028674637\n",
      "2.378090301490196\n",
      "2.280969638889127\n",
      "2.0454246352981182\n",
      "2.1426851567067144\n",
      "2.0498321660746233\n",
      "2.0188251264355914\n",
      "1.9489700128294254\n",
      "1.9961640250190242\n",
      "1.9852299490297758\n",
      "2.0354305340993863\n",
      "1.9931370252363818\n",
      "1.928357678647634\n",
      "1.9293497940311761\n",
      "2.0610302143514434\n",
      "1.976591264863953\n",
      "\n",
      " 2.0457585953668773\n"
     ]
    }
   ],
   "source": [
    "esti=[]\n",
    "for i in range(len(insert_sort_t2)-1):\n",
    "    e=insert_sort_t2[i+1]/insert_sort_t2[i]\n",
    "    esti.append(e)\n",
    "    print(e)\n",
    "print('\\n',np.mean(esti))"
   ]
  },
  {
   "cell_type": "code",
   "execution_count": 4,
   "metadata": {},
   "outputs": [],
   "source": [
    "#每一項大約是前一項的2.05倍時間，由此估計\n",
    "while len(insert_sort_t2)<21:\n",
    "    insert_sort_t2.append(insert_sort_t2[-1]*2.05)"
   ]
  },
  {
   "cell_type": "code",
   "execution_count": 5,
   "metadata": {},
   "outputs": [
    {
     "name": "stdout",
     "output_type": "stream",
     "text": [
      "[0.010955637200095226, 0.02149550799986173, 0.0511182591000761, 0.11659919700014143, 0.23849487000006775, 0.5110194178998426, 1.0475040402998275, 2.114727476600092, 4.12154043720002, 8.22727074839986, 16.33302428850002, 33.244736350999844, 66.26131491539964, 127.77551541439989, 246.5236643469998, 508.0927207718003, 1004.2916336185001, 2058.797848917925, 4220.5355902817455, 8652.097960077577, 17736.80081815903]\n"
     ]
    }
   ],
   "source": [
    "print(insert_sort_t2)"
   ]
  },
  {
   "cell_type": "markdown",
   "metadata": {},
   "source": [
    "Merge Sort:"
   ]
  },
  {
   "cell_type": "code",
   "execution_count": 82,
   "metadata": {},
   "outputs": [],
   "source": [
    "merge_sort_t1 = [0.004334678799204994,\n",
    " 0.007593626099696849,\n",
    " 0.017308408099779626,\n",
    " 0.03206946829886874,\n",
    " 0.06931184739951277,\n",
    " 0.14182110219917377,\n",
    " 0.2976302872019005,\n",
    " 0.6204911262990208,\n",
    " 1.277689768300479,\n",
    " 2.685589613900811,\n",
    " 5.648546846001409,\n",
    " 11.846195226701093,\n",
    " 24.51738291789952,\n",
    " 51.197063904801325,\n",
    " 105.84754689860056,\n",
    " 205.14401403480005,\n",
    " 452.0907693533998,\n",
    " 968.5186775522991]"
   ]
  },
  {
   "cell_type": "code",
   "execution_count": 83,
   "metadata": {},
   "outputs": [
    {
     "name": "stdout",
     "output_type": "stream",
     "text": [
      "1.7518313239471321\n",
      "2.2793337297013623\n",
      "1.8528259857286964\n",
      "2.1613032917654507\n",
      "2.046130748495541\n",
      "2.098631886134322\n",
      "2.084771452974154\n",
      "2.0591588084770573\n",
      "2.1019105580481026\n",
      "2.1032799712823254\n",
      "2.0972111145872825\n",
      "2.0696419777582102\n",
      "2.0881944894462467\n",
      "2.067453459741742\n",
      "1.938108345877143\n",
      "2.203772659321702\n",
      "2.142310224421342\n",
      "\n",
      " 2.0674041192769304\n"
     ]
    }
   ],
   "source": [
    "esti=[]\n",
    "for i in range(len(merge_sort_t1)-1):\n",
    "    print(merge_sort_t1[i+1]/merge_sort_t1[i])\n",
    "    esti.append(merge_sort_t1[i+1]/merge_sort_t1[i])\n",
    "print('\\n',np.mean(esti))"
   ]
  },
  {
   "cell_type": "code",
   "execution_count": 84,
   "metadata": {},
   "outputs": [
    {
     "name": "stdout",
     "output_type": "stream",
     "text": [
      "[0.004334678799204994, 0.007593626099696849, 0.017308408099779626, 0.03206946829886874, 0.06931184739951277, 0.14182110219917377, 0.2976302872019005, 0.6204911262990208, 1.277689768300479, 2.685589613900811, 5.648546846001409, 11.846195226701093, 24.51738291789952, 51.197063904801325, 105.84754689860056, 205.14401403480005, 452.0907693533998, 968.5186775522991, 2002.3195035682681, 4139.603589785575, 8558.233513696267]\n"
     ]
    }
   ],
   "source": [
    "# 每一項大約是前一項的2.07倍，由此估計\n",
    "while len(merge_sort_t1)<21:\n",
    "    merge_sort_t1.append(merge_sort_t1[-1]*2.0674041192769304)\n",
    "print(merge_sort_t1)"
   ]
  },
  {
   "cell_type": "code",
   "execution_count": 6,
   "metadata": {},
   "outputs": [],
   "source": [
    "merge_sort_t2 = [0.004334678799204994,\n",
    " 0.007593626099696849,\n",
    " 0.017308408099779626,\n",
    " 0.03206946829886874,\n",
    " 0.06931184739951277,\n",
    " 0.14182110219917377,\n",
    " 0.2976302872019005,\n",
    " 0.6204911262990208,\n",
    " 1.277689768300479,\n",
    " 2.685589613900811,\n",
    " 5.648546846001409,\n",
    " 11.846195226701093,\n",
    " 24.51738291789952,\n",
    " 51.197063904801325,\n",
    " 105.84754689860056,\n",
    " 205.14401403480005,\n",
    " 452.0907693533998,\n",
    " 968.5186775522991,\n",
    " 2170.8771864609953]"
   ]
  },
  {
   "cell_type": "code",
   "execution_count": 7,
   "metadata": {},
   "outputs": [
    {
     "name": "stdout",
     "output_type": "stream",
     "text": [
      "1.7518313239471321\n",
      "2.2793337297013623\n",
      "1.8528259857286964\n",
      "2.1613032917654507\n",
      "2.046130748495541\n",
      "2.098631886134322\n",
      "2.084771452974154\n",
      "2.0591588084770573\n",
      "2.1019105580481026\n",
      "2.1032799712823254\n",
      "2.0972111145872825\n",
      "2.0696419777582102\n",
      "2.0881944894462467\n",
      "2.067453459741742\n",
      "1.938108345877143\n",
      "2.203772659321702\n",
      "2.142310224421342\n",
      "2.2414407040113793\n",
      "\n",
      " 2.077072818428844\n"
     ]
    }
   ],
   "source": [
    "esti=[]\n",
    "for i in range(len(merge_sort_t2)-1):\n",
    "    print(merge_sort_t2[i+1]/merge_sort_t2[i])\n",
    "    esti.append(merge_sort_t2[i+1]/merge_sort_t2[i])\n",
    "print('\\n',np.mean(esti))"
   ]
  },
  {
   "cell_type": "code",
   "execution_count": 8,
   "metadata": {},
   "outputs": [
    {
     "name": "stdout",
     "output_type": "stream",
     "text": [
      "[0.004334678799204994, 0.007593626099696849, 0.017308408099779626, 0.03206946829886874, 0.06931184739951277, 0.14182110219917377, 0.2976302872019005, 0.6204911262990208, 1.277689768300479, 2.685589613900811, 5.648546846001409, 11.846195226701093, 24.51738291789952, 51.197063904801325, 105.84754689860056, 205.14401403480005, 452.0907693533998, 968.5186775522991, 2170.8771864609953, 4509.069996145418, 9365.666725386702]\n"
     ]
    }
   ],
   "source": [
    "# 每一項大約是前一項的2.07倍，由此估計\n",
    "while len(merge_sort_t2)<21:\n",
    "    merge_sort_t2.append(merge_sort_t2[-1]*2.077072818428844)\n",
    "print(merge_sort_t2)"
   ]
  },
  {
   "cell_type": "markdown",
   "metadata": {},
   "source": [
    "randomized quick sort:"
   ]
  },
  {
   "cell_type": "code",
   "execution_count": 9,
   "metadata": {},
   "outputs": [],
   "source": [
    "quick_sort_t1 =[0.009217152999999811, 0.015907415300000238, 0.03961968159999998, 0.09077790220000015, 0.22798511989999995, 0.641183891500001, 2.1102529995999992, 6.826125175100003, 25.2229301996, 96.91113049500004, 370.95127869349994, 1493.26335268]\n",
    "quick_sort_t2 =[0.008711552800059507, 0.024860434799938956, 0.07312618949990793, 0.2005704572999548, 0.939666980300035, 3.3200218112999664, 16.254383205699924, 76.53295124040001, 220.9134366721999, 290.8255714950001]"
   ]
  },
  {
   "cell_type": "code",
   "execution_count": 89,
   "metadata": {},
   "outputs": [
    {
     "name": "stdout",
     "output_type": "stream",
     "text": [
      "1.7258491098065274\n",
      "2.4906423106964075\n",
      "2.2912325019795263\n",
      "2.5114605468377915\n",
      "2.812393597359514\n",
      "3.2911821827950525\n",
      "3.2347425528568863\n",
      "3.695058258176533\n",
      "3.8421836689115887\n",
      "3.8277468934555308\n",
      "4.025497251119641\n",
      "\n",
      " 3.067998988545\n"
     ]
    }
   ],
   "source": [
    "esti=[]\n",
    "for i in range(len(quick_sort_t1)-1):\n",
    "    e = quick_sort_t1[i+1]/quick_sort_t1[i]\n",
    "    print(e)\n",
    "    esti.append(e)\n",
    "print('\\n', np.mean(esti))"
   ]
  },
  {
   "cell_type": "code",
   "execution_count": 90,
   "metadata": {},
   "outputs": [
    {
     "name": "stdout",
     "output_type": "stream",
     "text": [
      "[0.009217152999999811, 0.015907415300000238, 0.03961968159999998, 0.09077790220000015, 0.22798511989999995, 0.641183891500001, 2.1102529995999992, 6.826125175100003, 25.2229301996, 96.91113049500004, 370.95127869349994, 1493.26335268, 4629.116393308001, 14350.260819254803, 44485.80853968989, 137906.00647303867, 427508.6200664199, 1325276.7222059018, 4108357.8388382955, 12735909.300398717, 39481318.83123602]\n"
     ]
    }
   ],
   "source": [
    "# 非等比，以3.1倍估計\n",
    "while len(quick_sort_t1)<21:\n",
    "    quick_sort_t1.append(quick_sort_t1[-1]*3.1)\n",
    "print(quick_sort_t1)"
   ]
  },
  {
   "cell_type": "code",
   "execution_count": 10,
   "metadata": {},
   "outputs": [
    {
     "name": "stdout",
     "output_type": "stream",
     "text": [
      "2.8537317480035407\n",
      "2.941468646400645\n",
      "2.742799244314615\n",
      "4.684972019058396\n",
      "3.5331898224623\n",
      "4.895866391713692\n",
      "4.708450039098513\n",
      "2.886514019017533\n",
      "1.3164684587589779\n",
      "\n",
      " 3.395940043203135\n"
     ]
    }
   ],
   "source": [
    "esti=[]\n",
    "for i in range(len(quick_sort_t2)-1):\n",
    "    e = quick_sort_t2[i+1]/quick_sort_t2[i]\n",
    "    print(e)\n",
    "    esti.append(e)\n",
    "print('\\n', np.mean(esti))"
   ]
  },
  {
   "cell_type": "code",
   "execution_count": 11,
   "metadata": {},
   "outputs": [
    {
     "name": "stdout",
     "output_type": "stream",
     "text": [
      "[0.009217152999999811, 0.015907415300000238, 0.03961968159999998, 0.09077790220000015, 0.22798511989999995, 0.641183891500001, 2.1102529995999992, 6.826125175100003, 25.2229301996, 96.91113049500004, 370.95127869349994, 1493.26335268]\n"
     ]
    }
   ],
   "source": [
    "# 非等比，以3.4倍估計\n",
    "while len(quick_sort_t2)<21:\n",
    "    quick_sort_t2.append(quick_sort_t2[-1]*3.4)\n",
    "print(quick_sort_t1)"
   ]
  },
  {
   "cell_type": "markdown",
   "metadata": {},
   "source": [
    "counting sort:"
   ]
  },
  {
   "cell_type": "code",
   "execution_count": 12,
   "metadata": {},
   "outputs": [],
   "source": [
    "counting_sort_t1 =[0.0006077960000766325, 0.0008107888999802527, 0.0014599437999095245, 0.002500399500149797, 0.0044796993999625554, 0.009337729600065358, 0.018479183499948704, 0.03930181949999678, 0.07639867759999106, 0.1434719720998146, 0.29027379210001525, 0.5807049019998886, 1.1874465218998012, 2.483402233599918, 5.189256940699943, 9.838835436499902, 20.46858005180011, 41.483181031, 81.2485930908002, 152.03360202090008, 316.51653277799977]\n",
    "counting_sort_t2 =[0.0004125277000071037, 0.0008275051999930838, 0.0015365468000254623, 0.0030097737000119194, 0.005810135300021102, 0.01255176060001304, 0.026172687999996926, 0.05241030370001454, 0.10703198030000749, 0.18631167969998613, 0.3759044530999972, 0.7607669684999792, 1.6147267847999955, 3.1719614363000117, 6.362521748799997, 13.033897683999976, 27.597216825099984, 71.2921011993, 146.22544593779998, 360.16917701599994]"
   ]
  },
  {
   "cell_type": "code",
   "execution_count": 94,
   "metadata": {},
   "outputs": [
    {
     "name": "stdout",
     "output_type": "stream",
     "text": [
      "1.3339819608520398\n",
      "1.8006460127230188\n",
      "1.7126683234688564\n",
      "1.7915934632422459\n",
      "2.0844545060642705\n",
      "1.9789803615452048\n",
      "2.1268158033121907\n",
      "1.9438967094130926\n",
      "1.8779378990171343\n",
      "2.0232090480924696\n",
      "2.000541963498392\n",
      "2.044836401088326\n",
      "2.091380275068482\n",
      "2.089575691964182\n",
      "1.8960008241898327\n",
      "2.08038646279886\n",
      "2.0266760530538983\n",
      "1.9585911945876058\n",
      "1.8712151957018304\n",
      "2.081885376460976\n",
      "\n",
      " 1.9407636763071452\n"
     ]
    }
   ],
   "source": [
    "esti=[]\n",
    "for i in range(len(counting_sort_t1)-1):\n",
    "    e = counting_sort_t1[i+1]/counting_sort_t1[i]\n",
    "    print(e)\n",
    "    esti.append(e)\n",
    "print('\\n',np.mean(esti))"
   ]
  },
  {
   "cell_type": "code",
   "execution_count": 95,
   "metadata": {},
   "outputs": [
    {
     "name": "stdout",
     "output_type": "stream",
     "text": [
      "[0.0006077960000766325, 0.0008107888999802527, 0.0014599437999095245, 0.002500399500149797, 0.0044796993999625554, 0.009337729600065358, 0.018479183499948704, 0.03930181949999678, 0.07639867759999106, 0.1434719720998146, 0.29027379210001525, 0.5807049019998886, 1.1874465218998012, 2.483402233599918, 5.189256940699943, 9.838835436499902, 20.46858005180011, 41.483181031, 81.2485930908002, 152.03360202090008, 316.51653277799977]\n"
     ]
    }
   ],
   "source": [
    "#每一項約為前一項的1.96倍，以此估計\n",
    "while len(counting_sort_t1)<21:\n",
    "    counting_sort_t1.append(counting_sort_t1[-1]*1.96)\n",
    "print(counting_sort_t1)"
   ]
  },
  {
   "cell_type": "code",
   "execution_count": 13,
   "metadata": {},
   "outputs": [
    {
     "name": "stdout",
     "output_type": "stream",
     "text": [
      "2.0059385102596363\n",
      "1.8568424706434528\n",
      "1.9587907768003188\n",
      "1.9304226427382538\n",
      "2.160321567721057\n",
      "2.085180623981128\n",
      "2.002480742521391\n",
      "2.042193476165218\n",
      "1.7407103856040034\n",
      "2.017610778375829\n",
      "2.023830689490666\n",
      "2.1224985464126913\n",
      "1.9643951324514008\n",
      "2.0058635253213133\n",
      "2.0485427317334097\n",
      "2.117341833899579\n",
      "2.583307644793334\n",
      "2.0510749925720484\n",
      "2.4631087613109783\n",
      "\n",
      " 2.062129254357669\n"
     ]
    }
   ],
   "source": [
    "esti=[]\n",
    "for i in range(len(counting_sort_t2)-1):\n",
    "    e = counting_sort_t2[i+1]/counting_sort_t2[i]\n",
    "    print(e)\n",
    "    esti.append(e)\n",
    "print('\\n',np.mean(esti))"
   ]
  },
  {
   "cell_type": "code",
   "execution_count": 14,
   "metadata": {},
   "outputs": [
    {
     "name": "stdout",
     "output_type": "stream",
     "text": [
      "[0.0004125277000071037, 0.0008275051999930838, 0.0015365468000254623, 0.0030097737000119194, 0.005810135300021102, 0.01255176060001304, 0.026172687999996926, 0.05241030370001454, 0.10703198030000749, 0.18631167969998613, 0.3759044530999972, 0.7607669684999792, 1.6147267847999955, 3.1719614363000117, 6.362521748799997, 13.033897683999976, 27.597216825099984, 71.2921011993, 146.22544593779998, 360.16917701599994, 756.3552717335999]\n"
     ]
    }
   ],
   "source": [
    "#每一項約為前一項的2.10倍，以此估計\n",
    "while len(counting_sort_t2)<21:\n",
    "    counting_sort_t2.append(counting_sort_t2[-1]*2.10)\n",
    "print(counting_sort_t2)"
   ]
  },
  {
   "cell_type": "markdown",
   "metadata": {},
   "source": [
    "heap sort:"
   ]
  },
  {
   "cell_type": "code",
   "execution_count": 15,
   "metadata": {},
   "outputs": [],
   "source": [
    "heap_sort_t1 =[0.0018512337999979423, 0.004900777199998885, 0.008002158299998997, 0.016858857900000145, 0.03072926879999969, 0.06344248450000052, 0.12509867019999987, 0.2639236454999995, 0.47547874410000046, 0.9543037771000001, 1.8930732759000022, 3.700271837299998, 8.3235329414, 16.5633070623, 32.473208187799976, 66.46183938019996, 130.43147843100002, 227.5264324279, 457.1115706385999,961.2732569649997,2127.3495343065006]\n",
    "heap_sort_t2 =[0.008506654800112302, 0.002067025000178546, 0.00413054770015151, 0.00821582450025744, 0.016514085399830947, 0.03413094150000688, 0.07082082980050472, 0.13619635649993142, 0.2543175205000807, 0.4963451625999369, 0.9892298198999925, 2.111108250699908, 4.29422633109989, 8.700336049999896, 17.094593835700106, 34.963781478500096, 69.1076045717,155.95840201070024, 558.9273108634445, 1240.150363713]"
   ]
  },
  {
   "cell_type": "code",
   "execution_count": 99,
   "metadata": {},
   "outputs": [
    {
     "data": {
      "text/plain": [
       "21"
      ]
     },
     "execution_count": 99,
     "metadata": {},
     "output_type": "execute_result"
    }
   ],
   "source": [
    "len(heap_sort_t1) #不用估計"
   ]
  },
  {
   "cell_type": "code",
   "execution_count": 16,
   "metadata": {},
   "outputs": [
    {
     "data": {
      "text/plain": [
       "20"
      ]
     },
     "execution_count": 16,
     "metadata": {},
     "output_type": "execute_result"
    }
   ],
   "source": [
    "len(heap_sort_t2)"
   ]
  },
  {
   "cell_type": "code",
   "execution_count": 17,
   "metadata": {},
   "outputs": [
    {
     "name": "stdout",
     "output_type": "stream",
     "text": [
      "0.24298917127226768\n",
      "1.998305632391829\n",
      "1.989039976455442\n",
      "2.0100338559220057\n",
      "2.0667775825088244\n",
      "2.0749743982447844\n",
      "1.9231115603076538\n",
      "1.8672857852861047\n",
      "1.9516750620403258\n",
      "1.993028026541541\n",
      "2.1340928146639713\n",
      "2.034109965548285\n",
      "2.0260543760793017\n",
      "1.964819949190389\n",
      "2.045312208909125\n",
      "1.9765483494454281\n",
      "2.256747328709556\n",
      "3.583823017275445\n",
      "2.2188043769004335\n",
      "\n",
      " 2.018817549352248\n"
     ]
    }
   ],
   "source": [
    "esti=[]\n",
    "for i in range(len(heap_sort_t2)-1):\n",
    "    e = heap_sort_t2[i+1]/heap_sort_t2[i]\n",
    "    print(e)\n",
    "    esti.append(e)\n",
    "print('\\n',np.mean(esti))"
   ]
  },
  {
   "cell_type": "code",
   "execution_count": 18,
   "metadata": {},
   "outputs": [
    {
     "name": "stdout",
     "output_type": "stream",
     "text": [
      "[0.008506654800112302, 0.002067025000178546, 0.00413054770015151, 0.00821582450025744, 0.016514085399830947, 0.03413094150000688, 0.07082082980050472, 0.13619635649993142, 0.2543175205000807, 0.4963451625999369, 0.9892298198999925, 2.111108250699908, 4.29422633109989, 8.700336049999896, 17.094593835700106, 34.963781478500096, 69.1076045717, 155.95840201070024, 558.9273108634445, 1240.150363713, 2505.10373470026]\n"
     ]
    }
   ],
   "source": [
    "#每一項約為前一項的 2.02倍，以此估計\n",
    "while len(heap_sort_t2)<21:\n",
    "    heap_sort_t2.append(heap_sort_t2[-1]*2.02)\n",
    "print(heap_sort_t2)"
   ]
  },
  {
   "cell_type": "code",
   "execution_count": 19,
   "metadata": {},
   "outputs": [],
   "source": [
    "import matplotlib.pyplot as plt"
   ]
  },
  {
   "cell_type": "code",
   "execution_count": 20,
   "metadata": {},
   "outputs": [],
   "source": [
    "n=[]\n",
    "for k in range(10,31):\n",
    "    n.append(2**k)"
   ]
  },
  {
   "cell_type": "code",
   "execution_count": 1,
   "metadata": {},
   "outputs": [
    {
     "ename": "NameError",
     "evalue": "name 'plt' is not defined",
     "output_type": "error",
     "traceback": [
      "\u001b[0;31m---------------------------------------------------------------------------\u001b[0m",
      "\u001b[0;31mNameError\u001b[0m                                 Traceback (most recent call last)",
      "\u001b[0;32m<ipython-input-1-05e6877026e4>\u001b[0m in \u001b[0;36m<module>\u001b[0;34m\u001b[0m\n\u001b[0;32m----> 1\u001b[0;31m \u001b[0mplt\u001b[0m\u001b[0;34m.\u001b[0m\u001b[0mplot\u001b[0m\u001b[0;34m(\u001b[0m\u001b[0mn\u001b[0m\u001b[0;34m,\u001b[0m \u001b[0minsert_sort_t1\u001b[0m\u001b[0;34m,\u001b[0m\u001b[0mcolor\u001b[0m\u001b[0;34m=\u001b[0m\u001b[0;34m'green'\u001b[0m\u001b[0;34m,\u001b[0m \u001b[0mlabel\u001b[0m\u001b[0;34m=\u001b[0m\u001b[0;34m'Insertion Sort'\u001b[0m\u001b[0;34m)\u001b[0m\u001b[0;34m\u001b[0m\u001b[0;34m\u001b[0m\u001b[0m\n\u001b[0m\u001b[1;32m      2\u001b[0m \u001b[0mplt\u001b[0m\u001b[0;34m.\u001b[0m\u001b[0mplot\u001b[0m\u001b[0;34m(\u001b[0m\u001b[0mn\u001b[0m\u001b[0;34m,\u001b[0m\u001b[0mmerge_sort_t1\u001b[0m\u001b[0;34m,\u001b[0m\u001b[0mcolor\u001b[0m\u001b[0;34m=\u001b[0m\u001b[0;34m'red'\u001b[0m\u001b[0;34m,\u001b[0m \u001b[0mlabel\u001b[0m\u001b[0;34m=\u001b[0m \u001b[0;34m'merge sort'\u001b[0m\u001b[0;34m)\u001b[0m\u001b[0;34m\u001b[0m\u001b[0;34m\u001b[0m\u001b[0m\n\u001b[1;32m      3\u001b[0m \u001b[0mplt\u001b[0m\u001b[0;34m.\u001b[0m\u001b[0mplot\u001b[0m\u001b[0;34m(\u001b[0m\u001b[0mn\u001b[0m\u001b[0;34m,\u001b[0m\u001b[0mquick_sort_t1\u001b[0m\u001b[0;34m,\u001b[0m\u001b[0mcolor\u001b[0m\u001b[0;34m=\u001b[0m\u001b[0;34m'blue'\u001b[0m\u001b[0;34m,\u001b[0m \u001b[0mlabel\u001b[0m\u001b[0;34m=\u001b[0m\u001b[0;34m'quick sort'\u001b[0m\u001b[0;34m)\u001b[0m\u001b[0;34m\u001b[0m\u001b[0;34m\u001b[0m\u001b[0m\n\u001b[1;32m      4\u001b[0m \u001b[0mplt\u001b[0m\u001b[0;34m.\u001b[0m\u001b[0mplot\u001b[0m\u001b[0;34m(\u001b[0m\u001b[0mn\u001b[0m\u001b[0;34m,\u001b[0m\u001b[0mcounting_sort_t1\u001b[0m\u001b[0;34m,\u001b[0m\u001b[0mcolor\u001b[0m\u001b[0;34m=\u001b[0m\u001b[0;34m'orange'\u001b[0m\u001b[0;34m)\u001b[0m\u001b[0;34m\u001b[0m\u001b[0;34m\u001b[0m\u001b[0m\n\u001b[1;32m      5\u001b[0m \u001b[0mplt\u001b[0m\u001b[0;34m.\u001b[0m\u001b[0mplot\u001b[0m\u001b[0;34m(\u001b[0m\u001b[0mn\u001b[0m\u001b[0;34m,\u001b[0m\u001b[0mheap_sort_t1\u001b[0m\u001b[0;34m,\u001b[0m\u001b[0mcolor\u001b[0m\u001b[0;34m=\u001b[0m\u001b[0;34m'brown'\u001b[0m\u001b[0;34m)\u001b[0m\u001b[0;34m\u001b[0m\u001b[0;34m\u001b[0m\u001b[0m\n",
      "\u001b[0;31mNameError\u001b[0m: name 'plt' is not defined"
     ]
    }
   ],
   "source": [
    "plt.plot(n, insert_sort_t1,color='green', label='Insertion Sort')\n",
    "plt.plot(n,merge_sort_t1,color='red', label= 'merge sort')\n",
    "plt.plot(n,quick_sort_t1,color='blue', label='quick sort')\n",
    "plt.plot(n,counting_sort_t1,color='orange')\n",
    "plt.plot(n,heap_sort_t1,color='brown')\n",
    "plt.xlim((0,max(n)))\n",
    "plt.ylim((0,10000))\n",
    "plt.grid(True)"
   ]
  },
  {
   "cell_type": "code",
   "execution_count": 22,
   "metadata": {},
   "outputs": [
    {
     "data": {
      "image/png": "[encoded data removed]",
      "text/plain": [
       "<Figure size 432x288 with 1 Axes>"
      ]
     },
     "metadata": {
      "needs_background": "light"
     },
     "output_type": "display_data"
    }
   ],
   "source": [
    "plt.plot(n, insert_sort_t2,color='green', label='Insertion Sort')\n",
    "plt.plot(n,merge_sort_t2,color='red', label= 'merge sort')\n",
    "plt.plot(n,quick_sort_t2,color='blue', label='quick sort')\n",
    "plt.plot(n,counting_sort_t2,color='orange')\n",
    "plt.plot(n,heap_sort_t2,color='brown')\n",
    "plt.xlim((0,max(n)))\n",
    "#plt.ylim((0,10000))\n",
    "plt.grid(True)"
   ]
  },
  {
   "cell_type": "code",
   "execution_count": null,
   "metadata": {},
   "outputs": [],
   "source": []
  }
 ],
 "metadata": {
  "kernelspec": {
   "display_name": "Python 3",
   "language": "python",
   "name": "python3"
  },
  "language_info": {
   "codemirror_mode": {
    "name": "ipython",
    "version": 3
   },
   "file_extension": ".py",
   "mimetype": "text/x-python",
   "name": "python",
   "nbconvert_exporter": "python",
   "pygments_lexer": "ipython3",
   "version": "3.7.4"
  }
 },
 "nbformat": 4,
 "nbformat_minor": 2
}
