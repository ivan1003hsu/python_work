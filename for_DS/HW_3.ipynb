{
 "cells": [
  {
   "cell_type": "markdown",
   "metadata": {},
   "source": [
    "binary search tree:\n",
    "\n",
    "(Node -> Node1)\n",
    "\n",
    "https://www.tutorialspoint.com/python_data_structure/python_binary_search_tree.htm"
   ]
  },
  {
   "cell_type": "code",
   "execution_count": 1,
   "metadata": {},
   "outputs": [],
   "source": [
    "class Node1:\n",
    "\n",
    "    def __init__(self, data):\n",
    "\n",
    "        self.left = None\n",
    "        self.right = None\n",
    "        self.data = data\n",
    "\n",
    "# Insert method to create nodes\n",
    "    def insert(self, data):\n",
    "\n",
    "        if self.data:\n",
    "            if data < self.data:\n",
    "                if self.left is None:\n",
    "                    self.left = Node1(data)\n",
    "                else:\n",
    "                    self.left.insert(data)\n",
    "            elif data > self.data:\n",
    "                if self.right is None:\n",
    "                    self.right = Node1(data)\n",
    "                else:\n",
    "                    self.right.insert(data)\n",
    "        else:\n",
    "            self.data = data\n",
    "# findval method to compare the value with nodes\n",
    "    def findval(self, lkpval):\n",
    "        if lkpval < self.data:\n",
    "            if self.left is None:\n",
    "                return str(lkpval)+\" Not Found\"\n",
    "            return self.left.findval(lkpval)\n",
    "        elif lkpval > self.data:\n",
    "            if self.right is None:\n",
    "                return str(lkpval)+\" Not Found\"\n",
    "            return self.right.findval(lkpval)\n",
    "        else:\n",
    "            pass\n",
    "            #print(str(self.data) + ' is found')\n",
    "# Print the tree\n",
    "    def PrintTree(self):\n",
    "        if self.left:\n",
    "            self.left.PrintTree()\n",
    "        print( self.data),\n",
    "        if self.right:\n",
    "            self.right.PrintTree()\n"
   ]
  },
  {
   "cell_type": "markdown",
   "metadata": {},
   "source": [
    "skip list:\n",
    "\n",
    "(Node -> Node2)\n",
    "\n",
    "\n",
    "https://www.geeksforgeeks.org/skip-list-set-2-insertion/"
   ]
  },
  {
   "cell_type": "code",
   "execution_count": 2,
   "metadata": {},
   "outputs": [],
   "source": [
    "import random \n",
    "  \n",
    "class Node2(object): \n",
    "    ''' \n",
    "    Class to implement node \n",
    "    '''\n",
    "    def __init__(self, key, level): \n",
    "        self.key = key \n",
    "  \n",
    "        # list to hold references to node of different level  \n",
    "        self.forward = [None]*(level+1) \n",
    "\n",
    "class SkipList(object): \n",
    "    ''' \n",
    "    Class for Skip list \n",
    "    '''\n",
    "    def __init__(self, max_lvl, P): \n",
    "        # Maximum level for this skip list \n",
    "        self.MAXLVL = max_lvl \n",
    "  \n",
    "        # P is the fraction of the nodes with level  \n",
    "        # i references also having level i+1 references \n",
    "        self.P = P \n",
    "  \n",
    "        # create header node and initialize key to -1 \n",
    "        self.header = self.createNode(self.MAXLVL, -1) \n",
    "  \n",
    "        # current level of skip list \n",
    "        self.level = 0\n",
    "      \n",
    "    # create  new node \n",
    "    def createNode(self, lvl, key): \n",
    "        n = Node2(key, lvl) \n",
    "        return n \n",
    "      \n",
    "    # create random level for node \n",
    "    def randomLevel(self): \n",
    "        lvl = 0\n",
    "        while random.random()<self.P and lvl<self.MAXLVL:\n",
    "            lvl += 1\n",
    "        return lvl \n",
    "  \n",
    "    # insert given key in skip list \n",
    "    def insertElement(self, key): \n",
    "        # create update array and initialize it \n",
    "        update = [None]*(self.MAXLVL+1) \n",
    "        current = self.header \n",
    "  \n",
    "        ''' \n",
    "        start from highest level of skip list \n",
    "        move the current reference forward while key  \n",
    "        is greater than key of node next to current \n",
    "        Otherwise inserted current in update and  \n",
    "        move one level down and continue search \n",
    "        '''\n",
    "        for i in range(self.level, -1, -1): \n",
    "            while current.forward[i] and current.forward[i].key < key: \n",
    "                current = current.forward[i] \n",
    "            update[i] = current \n",
    "  \n",
    "        '''  \n",
    "        reached level 0 and forward reference to  \n",
    "        right, which is desired position to  \n",
    "        insert key. \n",
    "        ''' \n",
    "        current = current.forward[0] \n",
    "  \n",
    "        ''' \n",
    "        if current is NULL that means we have reached \n",
    "           to end of the level or current's key is not equal \n",
    "           to key to insert that means we have to insert \n",
    "           node between update[0] and current node \n",
    "       '''\n",
    "        if current == None or current.key != key: \n",
    "            # Generate a random level for node \n",
    "            rlevel = self.randomLevel() \n",
    "  \n",
    "            ''' \n",
    "            If random level is greater than list's current \n",
    "            level (node with highest level inserted in  \n",
    "            list so far), initialize update value with reference \n",
    "            to header for further use \n",
    "            '''\n",
    "            if rlevel > self.level: \n",
    "                for i in range(self.level+1, rlevel+1): \n",
    "                    update[i] = self.header \n",
    "                self.level = rlevel \n",
    "  \n",
    "            # create new node with random level generated \n",
    "            n = self.createNode(rlevel, key) \n",
    "  \n",
    "            # insert node by rearranging references  \n",
    "            for i in range(rlevel+1): \n",
    "                n.forward[i] = update[i].forward[i] \n",
    "                update[i].forward[i] = n \n",
    "  \n",
    "            #print(\"Successfully inserted key {}\".format(key)) \n",
    "  \n",
    "    # Display skip list level wise \n",
    "    def displayList(self): \n",
    "        print(\"\\n*****Skip List******\") \n",
    "        head = self.header \n",
    "        for lvl in range(self.level+1): \n",
    "            print(\"Level {}: \".format(lvl), end=\" \") \n",
    "            node = head.forward[lvl] \n",
    "            while(node != None): \n",
    "                print(node.key, end=\" \") \n",
    "                node = node.forward[lvl] \n",
    "            print(\"\") \n",
    "            \n",
    "    def searchElement(self, key):  \n",
    "        current = self.header \n",
    "  \n",
    "        ''' \n",
    "        start from highest level of skip list \n",
    "        move the current reference forward while key  \n",
    "        is greater than key of node next to current \n",
    "        Otherwise inserted current in update and  \n",
    "        move one level down and continue search \n",
    "        '''\n",
    "        for i in range(self.level, -1, -1): \n",
    "            while(current.forward[i] and current.forward[i].key < key): \n",
    "                current = current.forward[i] \n",
    "  \n",
    "        # reached level 0 and advance reference to  \n",
    "        # right, which is prssibly our desired node \n",
    "        current = current.forward[0] \n",
    "  \n",
    "        # If current node have key equal to \n",
    "        # search key, we have found our target node \n",
    "        if current and current.key == key: \n",
    "            pass\n",
    "            #print(\"Found key \", key) \n",
    "  "
   ]
  },
  {
   "cell_type": "markdown",
   "metadata": {},
   "source": [
    "sorted array:\n",
    "\n",
    "https://www.geeksforgeeks.org/search-insert-and-delete-in-a-sorted-array/"
   ]
  },
  {
   "cell_type": "code",
   "execution_count": 3,
   "metadata": {},
   "outputs": [],
   "source": [
    "def binarySearch(arr, low, high, key): \n",
    "  \n",
    "    if (high < low): \n",
    "        return -1\n",
    "    # low + (high - low)/2 \n",
    "    mid = (low + high)/2\n",
    "  \n",
    "    if (key == arr[int(mid)]): \n",
    "        return mid \n",
    "  \n",
    "    if (key > arr[int(mid)]): \n",
    "        return binarySearch(arr, \n",
    "           (mid + 1), high, key) \n",
    "  \n",
    "    return (binarySearch(arr, low, \n",
    "           (mid -1), key)) \n",
    "  \n",
    "# This code is contributed by \n",
    "# Smitha Dinesh Semwal \n",
    "\n",
    "def insertSorted(arr, n, key, capacity): \n",
    "      \n",
    "    # Cannot insert more elements if n is  \n",
    "    # already more than or equal to capcity \n",
    "    if (n >= capacity): \n",
    "        return n \n",
    "  \n",
    "    i = n - 1\n",
    "    while i >= 0 and arr[i] > key: \n",
    "        arr[i + 1] = arr[i] \n",
    "        i -= 1\n",
    "  \n",
    "    arr[i + 1] = key \n",
    "  \n",
    "    return (n + 1) \n",
    "  "
   ]
  },
  {
   "cell_type": "code",
   "execution_count": 4,
   "metadata": {},
   "outputs": [],
   "source": [
    "import numpy as np\n",
    "def random_array(k):\n",
    "    return np.random.randint(1,2**30,size=2**k)"
   ]
  },
  {
   "cell_type": "code",
   "execution_count": 5,
   "metadata": {},
   "outputs": [],
   "source": [
    "import time"
   ]
  },
  {
   "cell_type": "markdown",
   "metadata": {},
   "source": [
    "## 測試"
   ]
  },
  {
   "cell_type": "markdown",
   "metadata": {},
   "source": [
    "bst"
   ]
  },
  {
   "cell_type": "code",
   "execution_count": 60,
   "metadata": {},
   "outputs": [
    {
     "name": "stdout",
     "output_type": "stream",
     "text": [
      "k= 10  times: 10   time: 2020-06-21 17:30:28 [0.005364991000533337, 0.004426077000971418, 0.004481361000216566, 0.004933000000164611, 0.004153821999352658, 0.004382578999866382, 0.004944320999129559, 0.005581010000241804, 0.005910677000429132, 0.0049043380004150094] \n",
      "insert: k= 10 [0.004908217600132048]\n",
      "k= 10  times: 10   time: 2020-06-21 17:30:34 [0.5788098820012237, 0.5268568730007246, 0.5336021209986939, 0.5147303450012259, 0.5369332720001694, 0.5414270330002182, 0.5270007489998534, 0.5106768130008277, 0.516971265000393, 0.5699135810009466]\n",
      "search: k= 10 [0.5356921934004276]\n",
      "k= 11  times: 10   time: 2020-06-21 17:30:34 [0.008918207999158767, 0.010283240000717342, 0.009335734999694978, 0.009573679999448359, 0.010046635999970022, 0.009207125000102678, 0.009859660000074655, 0.009661272999437642, 0.009323612999651232, 0.011850725999465794] \n",
      "insert: k= 11 [0.004908217600132048, 0.009805989599772146]\n",
      "k= 11  times: 10   time: 2020-06-21 17:30:41 [0.7529063680012769, 0.7397155970011227, 0.7312442939983157, 0.7065276690009341, 0.6915482149997842, 0.7330545800014079, 0.7744427929992526, 0.735881683000116, 0.7166688289999001, 0.7427455090000876]\n",
      "search: k= 11 [0.5356921934004276, 0.7324735537002198]\n",
      "k= 12  times: 10   time: 2020-06-21 17:30:41 [0.021991199999320088, 0.019774512998992577, 0.021150496000700514, 0.02051666999977897, 0.019767460000366555, 0.019976628000222263, 0.019516948999807937, 0.018582016000436852, 0.022263453000050504, 0.021592855999188032] \n",
      "insert: k= 12 [0.004908217600132048, 0.009805989599772146, 0.02051322409988643]\n",
      "k= 12  times: 10   time: 2020-06-21 17:30:48 [0.6767590710005607, 0.6577993680002692, 0.6143646970012924, 0.6445872789990972, 0.6567319780006073, 0.6442201270001533, 0.6737532049992296, 0.6749322819996451, 0.6696228540004086, 0.6553539309988992]\n",
      "search: k= 12 [0.5356921934004276, 0.7324735537002198, 0.6568124792000163]\n",
      "k= 13  times: 10   time: 2020-06-21 17:30:49 [0.04641881299903616, 0.05154062399924442, 0.049543535000339034, 0.04855039799986116, 0.05068001899962837, 0.050700712999969255, 0.05553458299982594, 0.060558290000699344, 0.06830617800005712, 0.052856803999020485] \n",
      "insert: k= 13 [0.004908217600132048, 0.009805989599772146, 0.02051322409988643, 0.05346899569976813]\n",
      "k= 13  times: 10   time: 2020-06-21 17:30:56 [0.7513684530003957, 0.7535342409992154, 0.7347778280000057, 0.7256172209999932, 0.7530007119985385, 0.7112718089992995, 0.7224760690005496, 0.7747535460002837, 0.7155462150003586, 0.6778764059999958]\n",
      "search: k= 13 [0.5356921934004276, 0.7324735537002198, 0.6568124792000163, 0.7320222499998635]\n",
      "k= 14  times: 10   time: 2020-06-21 17:30:57 [0.11386947800019698, 0.12202580600023794, 0.1262259940012882, 0.11253798500001722, 0.11349337800129433, 0.1164225289994647, 0.10220823399868095, 0.10358557099971222, 0.09832403200016415, 0.09702924599878315] \n",
      "insert: k= 14 [0.004908217600132048, 0.009805989599772146, 0.02051322409988643, 0.05346899569976813, 0.11057222529998398]\n",
      "k= 14  times: 10   time: 2020-06-21 17:31:05 [0.7992294770010631, 0.846563918999891, 0.8256273429997236, 0.7981908920010028, 0.7697388679989672, 0.8151650420004444, 0.8657830729989655, 0.8772167939987412, 0.8120131689993286, 0.8416167449995555]\n",
      "search: k= 14 [0.5356921934004276, 0.7324735537002198, 0.6568124792000163, 0.7320222499998635, 0.8251145321997683]\n",
      "k= 15  times: 10   time: 2020-06-21 17:31:12 [0.2313052939989575, 4.114220346998991, 0.23411476100045547, 0.25209391899988987, 0.23942122099833796, 0.2652908439995372, 0.25801120400137734, 0.28686126499997044, 0.22823375599909923, 0.23732912100058456] \n",
      "insert: k= 15 [0.004908217600132048, 0.009805989599772146, 0.02051322409988643, 0.05346899569976813, 0.11057222529998398, 0.63468817319972]\n",
      "k= 15  times: 10   time: 2020-06-21 17:31:21 [0.9652777100000094, 0.9433121889996983, 0.9753374310002982, 0.9102979080016667, 0.9202453130001231, 0.8897481449985207, 0.9066421130009985, 0.9453600790002383, 0.9333078550007485, 0.9198411540000961]\n",
      "search: k= 15 [0.5356921934004276, 0.7324735537002198, 0.6568124792000163, 0.7320222499998635, 0.8251145321997683, 0.9309369897002397]\n",
      "k= 16  times: 10   time: 2020-06-21 17:31:30 [0.532364755999879, 0.518606704999911, 0.5117159300007188, 0.5061620529995707, 0.5586075039991556, 4.395857292000073, 0.5354736340013915, 0.5300094859994715, 0.5296303869999974, 0.5122897929995816] \n",
      "insert: k= 16 [0.004908217600132048, 0.009805989599772146, 0.02051322409988643, 0.05346899569976813, 0.11057222529998398, 0.63468817319972, 0.9130717539999751]\n",
      "k= 16  times: 10   time: 2020-06-21 17:31:41 [1.0396509239999432, 1.0351844760007225, 1.0548505829992791, 1.0332186300001922, 1.0614725100003852, 1.0068932869999117, 0.9650530649996654, 0.9669155379997392, 0.9793808459999127, 0.9661161450003419]\n",
      "search: k= 16 [0.5356921934004276, 0.7324735537002198, 0.6568124792000163, 0.7320222499998635, 0.8251145321997683, 0.9309369897002397, 1.0108736004000094]\n",
      "k= 17  times: 10   time: 2020-06-21 17:32:00 [1.1744384900011937, 1.141799776998596, 4.911890167999445, 1.199174903000312, 1.1746610499994858, 1.2652104349999718, 1.2208963809989655, 5.173076797998874, 1.116708032999668, 1.0857493809999141] \n",
      "insert: k= 17 [0.004908217600132048, 0.009805989599772146, 0.02051322409988643, 0.05346899569976813, 0.11057222529998398, 0.63468817319972, 0.9130717539999751, 1.9463605415996426]\n",
      "k= 17  times: 10   time: 2020-06-21 17:32:11 [1.0567186970001785, 1.0731538090003596, 1.0558495320001384, 1.0673499639997317, 1.0571595629990043, 1.056720127000517, 1.2498409190011444, 1.07528570499926, 1.069969869000488, 1.0796513250006683]\n",
      "search: k= 17 [0.5356921934004276, 0.7324735537002198, 0.6568124792000163, 0.7320222499998635, 0.8251145321997683, 0.9309369897002397, 1.0108736004000094, 1.084169951000149]\n",
      "k= 18  times: 10   time: 2020-06-21 17:32:53 [2.425221834000695, 6.466323292001107, 2.557828601999063, 6.516145273000802, 2.539942160999999, 2.4707709169997543, 6.383266899001683, 2.4959585570013587, 2.4666396170014195, 6.728251949998594] \n",
      "insert: k= 18 [0.004908217600132048, 0.009805989599772146, 0.02051322409988643, 0.05346899569976813, 0.11057222529998398, 0.63468817319972, 0.9130717539999751, 1.9463605415996426, 4.105034910200447]\n",
      "k= 18  times: 10   time: 2020-06-21 17:33:07 [1.4150852769998892, 1.3510242470001685, 1.3404572439994809, 1.3554266139999527, 1.5129064949996973, 1.5368464769999264, 1.3905713429994648, 1.2780669530002342, 1.2736777530008112, 1.6461025279986643]\n",
      "search: k= 18 [0.5356921934004276, 0.7324735537002198, 0.6568124792000163, 0.7320222499998635, 0.8251145321997683, 0.9309369897002397, 1.0108736004000094, 1.084169951000149, 1.410016493099829]\n",
      "k= 19  times: 10   time: 2020-06-21 17:34:42 [10.487628382999901, 5.9967412629994215, 10.087488950999614, 10.250161273999765, 10.107257788000425, 9.963326333001532, 6.092214426998908, 9.744118505999722, 9.88261402399985, 9.969445547998475] \n",
      "insert: k= 19 [0.004908217600132048, 0.009805989599772146, 0.02051322409988643, 0.05346899569976813, 0.11057222529998398, 0.63468817319972, 0.9130717539999751, 1.9463605415996426, 4.105034910200447, 9.258099649699762]\n",
      "k= 19  times: 10   time: 2020-06-21 17:34:55 [1.433467136001127, 1.3548955769983877, 1.325321979000364, 1.3533930810008314, 1.5478390119988035, 1.3433248050005204, 1.36733137200099, 1.3395048620004673, 1.328841366999768, 1.3220261609985755]\n",
      "search: k= 19 [0.5356921934004276, 0.7324735537002198, 0.6568124792000163, 0.7320222499998635, 0.8251145321997683, 0.9309369897002397, 1.0108736004000094, 1.084169951000149, 1.410016493099829, 1.3715945351999834]\n",
      "k= 20  times: 10   time: 2020-06-21 17:38:09 [17.37790790100007, 16.51937197299958, 22.422761379000804, 18.295661530999496, 21.937764127000264, 17.844274611999936, 17.98365576299875, 22.11418931299886, 17.6929223620009, 18.37476482100101] \n",
      "insert: k= 20 [0.004908217600132048, 0.009805989599772146, 0.02051322409988643, 0.05346899569976813, 0.11057222529998398, 0.63468817319972, 0.9130717539999751, 1.9463605415996426, 4.105034910200447, 9.258099649699762, 19.056327378199967]\n"
     ]
    },
    {
     "name": "stdout",
     "output_type": "stream",
     "text": [
      "k= 20  times: 10   time: 2020-06-21 17:38:26 [1.697833060999983, 1.657754172998466, 1.6407101420008985, 1.6878596919996198, 1.632334345000345, 1.6742622640012996, 1.6552261150009144, 1.774038974001087, 1.6721672029998444, 1.7057656460001454]\n",
      "search: k= 20 [0.5356921934004276, 0.7324735537002198, 0.6568124792000163, 0.7320222499998635, 0.8251145321997683, 0.9309369897002397, 1.0108736004000094, 1.084169951000149, 1.410016493099829, 1.3715945351999834, 1.6797951615002602]\n",
      "k= 21  times: 10   time: 2020-06-21 17:45:27 [43.754872908000834, 45.12338902800002, 39.812946198000645, 41.67296625800009, 38.96538501699979, 41.84931334099929, 39.14185341200027, 42.01018087600096, 43.147798645000876, 39.91750802000024] \n",
      "insert: k= 21 [0.004908217600132048, 0.009805989599772146, 0.02051322409988643, 0.05346899569976813, 0.11057222529998398, 0.63468817319972, 0.9130717539999751, 1.9463605415996426, 4.105034910200447, 9.258099649699762, 19.056327378199967, 41.5396213703003]\n",
      "k= 21  times: 10   time: 2020-06-21 17:45:45 [1.796386887999688, 1.8188968160011427, 1.849141098000473, 1.8154162530008762, 1.8778789660009352, 1.7083761430003506, 1.692607429000418, 1.6607497870008956, 1.6604393469988281, 1.659518794998803]\n",
      "search: k= 21 [0.5356921934004276, 0.7324735537002198, 0.6568124792000163, 0.7320222499998635, 0.8251145321997683, 0.9309369897002397, 1.0108736004000094, 1.084169951000149, 1.410016493099829, 1.3715945351999834, 1.6797951615002602, 1.753941152200241]\n",
      "k= 22  times: 10   time: 2020-06-21 18:00:24 [80.92271577099928, 92.69711043999996, 80.70125942199957, 88.05551309699877, 83.31775754699993, 87.17723804699926, 87.32149217000006, 92.16995393099933, 84.16823605599893, 93.82917483900019] \n",
      "insert: k= 22 [0.004908217600132048, 0.009805989599772146, 0.02051322409988643, 0.05346899569976813, 0.11057222529998398, 0.63468817319972, 0.9130717539999751, 1.9463605415996426, 4.105034910200447, 9.258099649699762, 19.056327378199967, 41.5396213703003, 87.03604513199953]\n",
      "k= 22  times: 10   time: 2020-06-21 18:00:46 [2.1346271429993067, 2.1477022409999336, 2.1046321379999426, 2.106116127999485, 2.118008421999548, 2.11357835400122, 2.1102474279996386, 2.109047432999432, 2.100512955999875, 2.0994582250004896]\n",
      "search: k= 22 [0.5356921934004276, 0.7324735537002198, 0.6568124792000163, 0.7320222499998635, 0.8251145321997683, 0.9309369897002397, 1.0108736004000094, 1.084169951000149, 1.410016493099829, 1.3715945351999834, 1.6797951615002602, 1.753941152200241, 2.1143930467998873]\n",
      "k= 23  times: 10   time: 2020-06-21 18:32:01 [179.62877056400066, 178.56257585000094, 191.6942264820009, 184.74379371400028, 190.16763892199924, 193.19083864499953, 194.77825977499924, 167.71129638099956, 192.89895533399977, 187.7346809970004] \n",
      "insert: k= 23 [0.004908217600132048, 0.009805989599772146, 0.02051322409988643, 0.05346899569976813, 0.11057222529998398, 0.63468817319972, 0.9130717539999751, 1.9463605415996426, 4.105034910200447, 9.258099649699762, 19.056327378199967, 41.5396213703003, 87.03604513199953, 186.11110366640006]\n",
      "k= 23  times: 10   time: 2020-06-21 18:32:23 [2.373915557000146, 2.3433920860006765, 2.3598173869995662, 2.43555718099924, 2.0873237119994883, 2.0812534550004784, 2.0485122709997086, 2.021078252000734, 2.0219856849998905, 2.0213996230013436]\n",
      "search: k= 23 [0.5356921934004276, 0.7324735537002198, 0.6568124792000163, 0.7320222499998635, 0.8251145321997683, 0.9309369897002397, 1.0108736004000094, 1.084169951000149, 1.410016493099829, 1.3715945351999834, 1.6797951615002602, 1.753941152200241, 2.1143930467998873, 2.1794235209001274]\n",
      "k= 24  times: 10   time: 2020-06-21 19:39:57 [393.893518629, 385.5659004440022, 405.34601164500054, 398.0536152229979, 397.01884669300125, 400.71943709199695, 417.80771231900144, 395.2779884640004, 431.08957349900083, 406.8304904849974] \n",
      "insert: k= 24 [0.004908217600132048, 0.009805989599772146, 0.02051322409988643, 0.05346899569976813, 0.11057222529998398, 0.63468817319972, 0.9130717539999751, 1.9463605415996426, 4.105034910200447, 9.258099649699762, 19.056327378199967, 41.5396213703003, 87.03604513199953, 186.11110366640006, 403.1603094492999]\n",
      "k= 24  times: 10   time: 2020-06-21 19:40:21 [3.225796647999232, 2.8322118630021578, 2.4894852049983456, 2.3362839849978627, 2.2897443340007158, 2.2830933820005157, 2.3219246810003824, 2.19323017699935, 2.2617584620020352, 2.2784071059977578]\n",
      "search: k= 24 [0.5356921934004276, 0.7324735537002198, 0.6568124792000163, 0.7320222499998635, 0.8251145321997683, 0.9309369897002397, 1.0108736004000094, 1.084169951000149, 1.410016493099829, 1.3715945351999834, 1.6797951615002602, 1.753941152200241, 2.1143930467998873, 2.1794235209001274, 2.4511935842998356]\n",
      "k= 25  times: 2   time: 2020-06-21 21:07:26 [2050.2626485850014, 3026.998055464999] "
     ]
    },
    {
     "ename": "KeyboardInterrupt",
     "evalue": "",
     "output_type": "error",
     "traceback": [
      "\u001b[0;31m---------------------------------------------------------------------------\u001b[0m",
      "\u001b[0;31mKeyboardInterrupt\u001b[0m                         Traceback (most recent call last)",
      "\u001b[0;32m<ipython-input-60-ce2983f4c963>\u001b[0m in \u001b[0;36m<module>\u001b[0;34m\u001b[0m\n\u001b[1;32m     11\u001b[0m         \u001b[0mt\u001b[0m \u001b[0;34m=\u001b[0m \u001b[0mtime\u001b[0m\u001b[0;34m.\u001b[0m\u001b[0mperf_counter\u001b[0m\u001b[0;34m(\u001b[0m\u001b[0;34m)\u001b[0m\u001b[0;34m\u001b[0m\u001b[0;34m\u001b[0m\u001b[0m\n\u001b[1;32m     12\u001b[0m         \u001b[0;32mfor\u001b[0m \u001b[0mi\u001b[0m \u001b[0;32min\u001b[0m \u001b[0minsert_array\u001b[0m\u001b[0;34m:\u001b[0m\u001b[0;34m\u001b[0m\u001b[0;34m\u001b[0m\u001b[0m\n\u001b[0;32m---> 13\u001b[0;31m             \u001b[0mbst\u001b[0m\u001b[0;34m.\u001b[0m\u001b[0minsert\u001b[0m\u001b[0;34m(\u001b[0m\u001b[0mi\u001b[0m\u001b[0;34m)\u001b[0m\u001b[0;34m\u001b[0m\u001b[0;34m\u001b[0m\u001b[0m\n\u001b[0m\u001b[1;32m     14\u001b[0m         \u001b[0mt\u001b[0m \u001b[0;34m=\u001b[0m \u001b[0mtime\u001b[0m\u001b[0;34m.\u001b[0m\u001b[0mperf_counter\u001b[0m\u001b[0;34m(\u001b[0m\u001b[0;34m)\u001b[0m \u001b[0;34m-\u001b[0m \u001b[0mt\u001b[0m\u001b[0;34m\u001b[0m\u001b[0;34m\u001b[0m\u001b[0m\n\u001b[1;32m     15\u001b[0m         \u001b[0mt_insert_\u001b[0m\u001b[0;34m.\u001b[0m\u001b[0mappend\u001b[0m\u001b[0;34m(\u001b[0m\u001b[0mt\u001b[0m\u001b[0;34m)\u001b[0m\u001b[0;34m\u001b[0m\u001b[0;34m\u001b[0m\u001b[0m\n",
      "\u001b[0;32m<ipython-input-40-95bf773b70a8>\u001b[0m in \u001b[0;36minsert\u001b[0;34m(self, data)\u001b[0m\n\u001b[1;32m     20\u001b[0m                     \u001b[0mself\u001b[0m\u001b[0;34m.\u001b[0m\u001b[0mright\u001b[0m \u001b[0;34m=\u001b[0m \u001b[0mNode1\u001b[0m\u001b[0;34m(\u001b[0m\u001b[0mdata\u001b[0m\u001b[0;34m)\u001b[0m\u001b[0;34m\u001b[0m\u001b[0;34m\u001b[0m\u001b[0m\n\u001b[1;32m     21\u001b[0m                 \u001b[0;32melse\u001b[0m\u001b[0;34m:\u001b[0m\u001b[0;34m\u001b[0m\u001b[0;34m\u001b[0m\u001b[0m\n\u001b[0;32m---> 22\u001b[0;31m                     \u001b[0mself\u001b[0m\u001b[0;34m.\u001b[0m\u001b[0mright\u001b[0m\u001b[0;34m.\u001b[0m\u001b[0minsert\u001b[0m\u001b[0;34m(\u001b[0m\u001b[0mdata\u001b[0m\u001b[0;34m)\u001b[0m\u001b[0;34m\u001b[0m\u001b[0;34m\u001b[0m\u001b[0m\n\u001b[0m\u001b[1;32m     23\u001b[0m         \u001b[0;32melse\u001b[0m\u001b[0;34m:\u001b[0m\u001b[0;34m\u001b[0m\u001b[0;34m\u001b[0m\u001b[0m\n\u001b[1;32m     24\u001b[0m             \u001b[0mself\u001b[0m\u001b[0;34m.\u001b[0m\u001b[0mdata\u001b[0m \u001b[0;34m=\u001b[0m \u001b[0mdata\u001b[0m\u001b[0;34m\u001b[0m\u001b[0;34m\u001b[0m\u001b[0m\n",
      "\u001b[0;32m<ipython-input-40-95bf773b70a8>\u001b[0m in \u001b[0;36minsert\u001b[0;34m(self, data)\u001b[0m\n\u001b[1;32m     15\u001b[0m                     \u001b[0mself\u001b[0m\u001b[0;34m.\u001b[0m\u001b[0mleft\u001b[0m \u001b[0;34m=\u001b[0m \u001b[0mNode1\u001b[0m\u001b[0;34m(\u001b[0m\u001b[0mdata\u001b[0m\u001b[0;34m)\u001b[0m\u001b[0;34m\u001b[0m\u001b[0;34m\u001b[0m\u001b[0m\n\u001b[1;32m     16\u001b[0m                 \u001b[0;32melse\u001b[0m\u001b[0;34m:\u001b[0m\u001b[0;34m\u001b[0m\u001b[0;34m\u001b[0m\u001b[0m\n\u001b[0;32m---> 17\u001b[0;31m                     \u001b[0mself\u001b[0m\u001b[0;34m.\u001b[0m\u001b[0mleft\u001b[0m\u001b[0;34m.\u001b[0m\u001b[0minsert\u001b[0m\u001b[0;34m(\u001b[0m\u001b[0mdata\u001b[0m\u001b[0;34m)\u001b[0m\u001b[0;34m\u001b[0m\u001b[0;34m\u001b[0m\u001b[0m\n\u001b[0m\u001b[1;32m     18\u001b[0m             \u001b[0;32melif\u001b[0m \u001b[0mdata\u001b[0m \u001b[0;34m>\u001b[0m \u001b[0mself\u001b[0m\u001b[0;34m.\u001b[0m\u001b[0mdata\u001b[0m\u001b[0;34m:\u001b[0m\u001b[0;34m\u001b[0m\u001b[0;34m\u001b[0m\u001b[0m\n\u001b[1;32m     19\u001b[0m                 \u001b[0;32mif\u001b[0m \u001b[0mself\u001b[0m\u001b[0;34m.\u001b[0m\u001b[0mright\u001b[0m \u001b[0;32mis\u001b[0m \u001b[0;32mNone\u001b[0m\u001b[0;34m:\u001b[0m\u001b[0;34m\u001b[0m\u001b[0;34m\u001b[0m\u001b[0m\n",
      "\u001b[0;32m<ipython-input-40-95bf773b70a8>\u001b[0m in \u001b[0;36minsert\u001b[0;34m(self, data)\u001b[0m\n\u001b[1;32m     15\u001b[0m                     \u001b[0mself\u001b[0m\u001b[0;34m.\u001b[0m\u001b[0mleft\u001b[0m \u001b[0;34m=\u001b[0m \u001b[0mNode1\u001b[0m\u001b[0;34m(\u001b[0m\u001b[0mdata\u001b[0m\u001b[0;34m)\u001b[0m\u001b[0;34m\u001b[0m\u001b[0;34m\u001b[0m\u001b[0m\n\u001b[1;32m     16\u001b[0m                 \u001b[0;32melse\u001b[0m\u001b[0;34m:\u001b[0m\u001b[0;34m\u001b[0m\u001b[0;34m\u001b[0m\u001b[0m\n\u001b[0;32m---> 17\u001b[0;31m                     \u001b[0mself\u001b[0m\u001b[0;34m.\u001b[0m\u001b[0mleft\u001b[0m\u001b[0;34m.\u001b[0m\u001b[0minsert\u001b[0m\u001b[0;34m(\u001b[0m\u001b[0mdata\u001b[0m\u001b[0;34m)\u001b[0m\u001b[0;34m\u001b[0m\u001b[0;34m\u001b[0m\u001b[0m\n\u001b[0m\u001b[1;32m     18\u001b[0m             \u001b[0;32melif\u001b[0m \u001b[0mdata\u001b[0m \u001b[0;34m>\u001b[0m \u001b[0mself\u001b[0m\u001b[0;34m.\u001b[0m\u001b[0mdata\u001b[0m\u001b[0;34m:\u001b[0m\u001b[0;34m\u001b[0m\u001b[0;34m\u001b[0m\u001b[0m\n\u001b[1;32m     19\u001b[0m                 \u001b[0;32mif\u001b[0m \u001b[0mself\u001b[0m\u001b[0;34m.\u001b[0m\u001b[0mright\u001b[0m \u001b[0;32mis\u001b[0m \u001b[0;32mNone\u001b[0m\u001b[0;34m:\u001b[0m\u001b[0;34m\u001b[0m\u001b[0;34m\u001b[0m\u001b[0m\n",
      "\u001b[0;32m<ipython-input-40-95bf773b70a8>\u001b[0m in \u001b[0;36minsert\u001b[0;34m(self, data)\u001b[0m\n\u001b[1;32m     20\u001b[0m                     \u001b[0mself\u001b[0m\u001b[0;34m.\u001b[0m\u001b[0mright\u001b[0m \u001b[0;34m=\u001b[0m \u001b[0mNode1\u001b[0m\u001b[0;34m(\u001b[0m\u001b[0mdata\u001b[0m\u001b[0;34m)\u001b[0m\u001b[0;34m\u001b[0m\u001b[0;34m\u001b[0m\u001b[0m\n\u001b[1;32m     21\u001b[0m                 \u001b[0;32melse\u001b[0m\u001b[0;34m:\u001b[0m\u001b[0;34m\u001b[0m\u001b[0;34m\u001b[0m\u001b[0m\n\u001b[0;32m---> 22\u001b[0;31m                     \u001b[0mself\u001b[0m\u001b[0;34m.\u001b[0m\u001b[0mright\u001b[0m\u001b[0;34m.\u001b[0m\u001b[0minsert\u001b[0m\u001b[0;34m(\u001b[0m\u001b[0mdata\u001b[0m\u001b[0;34m)\u001b[0m\u001b[0;34m\u001b[0m\u001b[0;34m\u001b[0m\u001b[0m\n\u001b[0m\u001b[1;32m     23\u001b[0m         \u001b[0;32melse\u001b[0m\u001b[0;34m:\u001b[0m\u001b[0;34m\u001b[0m\u001b[0;34m\u001b[0m\u001b[0m\n\u001b[1;32m     24\u001b[0m             \u001b[0mself\u001b[0m\u001b[0;34m.\u001b[0m\u001b[0mdata\u001b[0m \u001b[0;34m=\u001b[0m \u001b[0mdata\u001b[0m\u001b[0;34m\u001b[0m\u001b[0;34m\u001b[0m\u001b[0m\n",
      "\u001b[0;32m<ipython-input-40-95bf773b70a8>\u001b[0m in \u001b[0;36minsert\u001b[0;34m(self, data)\u001b[0m\n\u001b[1;32m     20\u001b[0m                     \u001b[0mself\u001b[0m\u001b[0;34m.\u001b[0m\u001b[0mright\u001b[0m \u001b[0;34m=\u001b[0m \u001b[0mNode1\u001b[0m\u001b[0;34m(\u001b[0m\u001b[0mdata\u001b[0m\u001b[0;34m)\u001b[0m\u001b[0;34m\u001b[0m\u001b[0;34m\u001b[0m\u001b[0m\n\u001b[1;32m     21\u001b[0m                 \u001b[0;32melse\u001b[0m\u001b[0;34m:\u001b[0m\u001b[0;34m\u001b[0m\u001b[0;34m\u001b[0m\u001b[0m\n\u001b[0;32m---> 22\u001b[0;31m                     \u001b[0mself\u001b[0m\u001b[0;34m.\u001b[0m\u001b[0mright\u001b[0m\u001b[0;34m.\u001b[0m\u001b[0minsert\u001b[0m\u001b[0;34m(\u001b[0m\u001b[0mdata\u001b[0m\u001b[0;34m)\u001b[0m\u001b[0;34m\u001b[0m\u001b[0;34m\u001b[0m\u001b[0m\n\u001b[0m\u001b[1;32m     23\u001b[0m         \u001b[0;32melse\u001b[0m\u001b[0;34m:\u001b[0m\u001b[0;34m\u001b[0m\u001b[0;34m\u001b[0m\u001b[0m\n\u001b[1;32m     24\u001b[0m             \u001b[0mself\u001b[0m\u001b[0;34m.\u001b[0m\u001b[0mdata\u001b[0m \u001b[0;34m=\u001b[0m \u001b[0mdata\u001b[0m\u001b[0;34m\u001b[0m\u001b[0;34m\u001b[0m\u001b[0m\n",
      "\u001b[0;32m<ipython-input-40-95bf773b70a8>\u001b[0m in \u001b[0;36minsert\u001b[0;34m(self, data)\u001b[0m\n\u001b[1;32m     15\u001b[0m                     \u001b[0mself\u001b[0m\u001b[0;34m.\u001b[0m\u001b[0mleft\u001b[0m \u001b[0;34m=\u001b[0m \u001b[0mNode1\u001b[0m\u001b[0;34m(\u001b[0m\u001b[0mdata\u001b[0m\u001b[0;34m)\u001b[0m\u001b[0;34m\u001b[0m\u001b[0;34m\u001b[0m\u001b[0m\n\u001b[1;32m     16\u001b[0m                 \u001b[0;32melse\u001b[0m\u001b[0;34m:\u001b[0m\u001b[0;34m\u001b[0m\u001b[0;34m\u001b[0m\u001b[0m\n\u001b[0;32m---> 17\u001b[0;31m                     \u001b[0mself\u001b[0m\u001b[0;34m.\u001b[0m\u001b[0mleft\u001b[0m\u001b[0;34m.\u001b[0m\u001b[0minsert\u001b[0m\u001b[0;34m(\u001b[0m\u001b[0mdata\u001b[0m\u001b[0;34m)\u001b[0m\u001b[0;34m\u001b[0m\u001b[0;34m\u001b[0m\u001b[0m\n\u001b[0m\u001b[1;32m     18\u001b[0m             \u001b[0;32melif\u001b[0m \u001b[0mdata\u001b[0m \u001b[0;34m>\u001b[0m \u001b[0mself\u001b[0m\u001b[0;34m.\u001b[0m\u001b[0mdata\u001b[0m\u001b[0;34m:\u001b[0m\u001b[0;34m\u001b[0m\u001b[0;34m\u001b[0m\u001b[0m\n\u001b[1;32m     19\u001b[0m                 \u001b[0;32mif\u001b[0m \u001b[0mself\u001b[0m\u001b[0;34m.\u001b[0m\u001b[0mright\u001b[0m \u001b[0;32mis\u001b[0m \u001b[0;32mNone\u001b[0m\u001b[0;34m:\u001b[0m\u001b[0;34m\u001b[0m\u001b[0;34m\u001b[0m\u001b[0m\n",
      "\u001b[0;32m<ipython-input-40-95bf773b70a8>\u001b[0m in \u001b[0;36minsert\u001b[0;34m(self, data)\u001b[0m\n\u001b[1;32m     15\u001b[0m                     \u001b[0mself\u001b[0m\u001b[0;34m.\u001b[0m\u001b[0mleft\u001b[0m \u001b[0;34m=\u001b[0m \u001b[0mNode1\u001b[0m\u001b[0;34m(\u001b[0m\u001b[0mdata\u001b[0m\u001b[0;34m)\u001b[0m\u001b[0;34m\u001b[0m\u001b[0;34m\u001b[0m\u001b[0m\n\u001b[1;32m     16\u001b[0m                 \u001b[0;32melse\u001b[0m\u001b[0;34m:\u001b[0m\u001b[0;34m\u001b[0m\u001b[0;34m\u001b[0m\u001b[0m\n\u001b[0;32m---> 17\u001b[0;31m                     \u001b[0mself\u001b[0m\u001b[0;34m.\u001b[0m\u001b[0mleft\u001b[0m\u001b[0;34m.\u001b[0m\u001b[0minsert\u001b[0m\u001b[0;34m(\u001b[0m\u001b[0mdata\u001b[0m\u001b[0;34m)\u001b[0m\u001b[0;34m\u001b[0m\u001b[0;34m\u001b[0m\u001b[0m\n\u001b[0m\u001b[1;32m     18\u001b[0m             \u001b[0;32melif\u001b[0m \u001b[0mdata\u001b[0m \u001b[0;34m>\u001b[0m \u001b[0mself\u001b[0m\u001b[0;34m.\u001b[0m\u001b[0mdata\u001b[0m\u001b[0;34m:\u001b[0m\u001b[0;34m\u001b[0m\u001b[0;34m\u001b[0m\u001b[0m\n\u001b[1;32m     19\u001b[0m                 \u001b[0;32mif\u001b[0m \u001b[0mself\u001b[0m\u001b[0;34m.\u001b[0m\u001b[0mright\u001b[0m \u001b[0;32mis\u001b[0m \u001b[0;32mNone\u001b[0m\u001b[0;34m:\u001b[0m\u001b[0;34m\u001b[0m\u001b[0;34m\u001b[0m\u001b[0m\n",
      "\u001b[0;32m<ipython-input-40-95bf773b70a8>\u001b[0m in \u001b[0;36minsert\u001b[0;34m(self, data)\u001b[0m\n\u001b[1;32m     15\u001b[0m                     \u001b[0mself\u001b[0m\u001b[0;34m.\u001b[0m\u001b[0mleft\u001b[0m \u001b[0;34m=\u001b[0m \u001b[0mNode1\u001b[0m\u001b[0;34m(\u001b[0m\u001b[0mdata\u001b[0m\u001b[0;34m)\u001b[0m\u001b[0;34m\u001b[0m\u001b[0;34m\u001b[0m\u001b[0m\n\u001b[1;32m     16\u001b[0m                 \u001b[0;32melse\u001b[0m\u001b[0;34m:\u001b[0m\u001b[0;34m\u001b[0m\u001b[0;34m\u001b[0m\u001b[0m\n\u001b[0;32m---> 17\u001b[0;31m                     \u001b[0mself\u001b[0m\u001b[0;34m.\u001b[0m\u001b[0mleft\u001b[0m\u001b[0;34m.\u001b[0m\u001b[0minsert\u001b[0m\u001b[0;34m(\u001b[0m\u001b[0mdata\u001b[0m\u001b[0;34m)\u001b[0m\u001b[0;34m\u001b[0m\u001b[0;34m\u001b[0m\u001b[0m\n\u001b[0m\u001b[1;32m     18\u001b[0m             \u001b[0;32melif\u001b[0m \u001b[0mdata\u001b[0m \u001b[0;34m>\u001b[0m \u001b[0mself\u001b[0m\u001b[0;34m.\u001b[0m\u001b[0mdata\u001b[0m\u001b[0;34m:\u001b[0m\u001b[0;34m\u001b[0m\u001b[0;34m\u001b[0m\u001b[0m\n\u001b[1;32m     19\u001b[0m                 \u001b[0;32mif\u001b[0m \u001b[0mself\u001b[0m\u001b[0;34m.\u001b[0m\u001b[0mright\u001b[0m \u001b[0;32mis\u001b[0m \u001b[0;32mNone\u001b[0m\u001b[0;34m:\u001b[0m\u001b[0;34m\u001b[0m\u001b[0;34m\u001b[0m\u001b[0m\n",
      "\u001b[0;32m<ipython-input-40-95bf773b70a8>\u001b[0m in \u001b[0;36minsert\u001b[0;34m(self, data)\u001b[0m\n\u001b[1;32m     20\u001b[0m                     \u001b[0mself\u001b[0m\u001b[0;34m.\u001b[0m\u001b[0mright\u001b[0m \u001b[0;34m=\u001b[0m \u001b[0mNode1\u001b[0m\u001b[0;34m(\u001b[0m\u001b[0mdata\u001b[0m\u001b[0;34m)\u001b[0m\u001b[0;34m\u001b[0m\u001b[0;34m\u001b[0m\u001b[0m\n\u001b[1;32m     21\u001b[0m                 \u001b[0;32melse\u001b[0m\u001b[0;34m:\u001b[0m\u001b[0;34m\u001b[0m\u001b[0;34m\u001b[0m\u001b[0m\n\u001b[0;32m---> 22\u001b[0;31m                     \u001b[0mself\u001b[0m\u001b[0;34m.\u001b[0m\u001b[0mright\u001b[0m\u001b[0;34m.\u001b[0m\u001b[0minsert\u001b[0m\u001b[0;34m(\u001b[0m\u001b[0mdata\u001b[0m\u001b[0;34m)\u001b[0m\u001b[0;34m\u001b[0m\u001b[0;34m\u001b[0m\u001b[0m\n\u001b[0m\u001b[1;32m     23\u001b[0m         \u001b[0;32melse\u001b[0m\u001b[0;34m:\u001b[0m\u001b[0;34m\u001b[0m\u001b[0;34m\u001b[0m\u001b[0m\n\u001b[1;32m     24\u001b[0m             \u001b[0mself\u001b[0m\u001b[0;34m.\u001b[0m\u001b[0mdata\u001b[0m \u001b[0;34m=\u001b[0m \u001b[0mdata\u001b[0m\u001b[0;34m\u001b[0m\u001b[0;34m\u001b[0m\u001b[0m\n",
      "\u001b[0;32m<ipython-input-40-95bf773b70a8>\u001b[0m in \u001b[0;36minsert\u001b[0;34m(self, data)\u001b[0m\n\u001b[1;32m     20\u001b[0m                     \u001b[0mself\u001b[0m\u001b[0;34m.\u001b[0m\u001b[0mright\u001b[0m \u001b[0;34m=\u001b[0m \u001b[0mNode1\u001b[0m\u001b[0;34m(\u001b[0m\u001b[0mdata\u001b[0m\u001b[0;34m)\u001b[0m\u001b[0;34m\u001b[0m\u001b[0;34m\u001b[0m\u001b[0m\n\u001b[1;32m     21\u001b[0m                 \u001b[0;32melse\u001b[0m\u001b[0;34m:\u001b[0m\u001b[0;34m\u001b[0m\u001b[0;34m\u001b[0m\u001b[0m\n\u001b[0;32m---> 22\u001b[0;31m                     \u001b[0mself\u001b[0m\u001b[0;34m.\u001b[0m\u001b[0mright\u001b[0m\u001b[0;34m.\u001b[0m\u001b[0minsert\u001b[0m\u001b[0;34m(\u001b[0m\u001b[0mdata\u001b[0m\u001b[0;34m)\u001b[0m\u001b[0;34m\u001b[0m\u001b[0;34m\u001b[0m\u001b[0m\n\u001b[0m\u001b[1;32m     23\u001b[0m         \u001b[0;32melse\u001b[0m\u001b[0;34m:\u001b[0m\u001b[0;34m\u001b[0m\u001b[0;34m\u001b[0m\u001b[0m\n\u001b[1;32m     24\u001b[0m             \u001b[0mself\u001b[0m\u001b[0;34m.\u001b[0m\u001b[0mdata\u001b[0m \u001b[0;34m=\u001b[0m \u001b[0mdata\u001b[0m\u001b[0;34m\u001b[0m\u001b[0;34m\u001b[0m\u001b[0m\n",
      "\u001b[0;32m<ipython-input-40-95bf773b70a8>\u001b[0m in \u001b[0;36minsert\u001b[0;34m(self, data)\u001b[0m\n\u001b[1;32m     15\u001b[0m                     \u001b[0mself\u001b[0m\u001b[0;34m.\u001b[0m\u001b[0mleft\u001b[0m \u001b[0;34m=\u001b[0m \u001b[0mNode1\u001b[0m\u001b[0;34m(\u001b[0m\u001b[0mdata\u001b[0m\u001b[0;34m)\u001b[0m\u001b[0;34m\u001b[0m\u001b[0;34m\u001b[0m\u001b[0m\n\u001b[1;32m     16\u001b[0m                 \u001b[0;32melse\u001b[0m\u001b[0;34m:\u001b[0m\u001b[0;34m\u001b[0m\u001b[0;34m\u001b[0m\u001b[0m\n\u001b[0;32m---> 17\u001b[0;31m                     \u001b[0mself\u001b[0m\u001b[0;34m.\u001b[0m\u001b[0mleft\u001b[0m\u001b[0;34m.\u001b[0m\u001b[0minsert\u001b[0m\u001b[0;34m(\u001b[0m\u001b[0mdata\u001b[0m\u001b[0;34m)\u001b[0m\u001b[0;34m\u001b[0m\u001b[0;34m\u001b[0m\u001b[0m\n\u001b[0m\u001b[1;32m     18\u001b[0m             \u001b[0;32melif\u001b[0m \u001b[0mdata\u001b[0m \u001b[0;34m>\u001b[0m \u001b[0mself\u001b[0m\u001b[0;34m.\u001b[0m\u001b[0mdata\u001b[0m\u001b[0;34m:\u001b[0m\u001b[0;34m\u001b[0m\u001b[0;34m\u001b[0m\u001b[0m\n\u001b[1;32m     19\u001b[0m                 \u001b[0;32mif\u001b[0m \u001b[0mself\u001b[0m\u001b[0;34m.\u001b[0m\u001b[0mright\u001b[0m \u001b[0;32mis\u001b[0m \u001b[0;32mNone\u001b[0m\u001b[0;34m:\u001b[0m\u001b[0;34m\u001b[0m\u001b[0;34m\u001b[0m\u001b[0m\n",
      "\u001b[0;32m<ipython-input-40-95bf773b70a8>\u001b[0m in \u001b[0;36minsert\u001b[0;34m(self, data)\u001b[0m\n\u001b[1;32m     20\u001b[0m                     \u001b[0mself\u001b[0m\u001b[0;34m.\u001b[0m\u001b[0mright\u001b[0m \u001b[0;34m=\u001b[0m \u001b[0mNode1\u001b[0m\u001b[0;34m(\u001b[0m\u001b[0mdata\u001b[0m\u001b[0;34m)\u001b[0m\u001b[0;34m\u001b[0m\u001b[0;34m\u001b[0m\u001b[0m\n\u001b[1;32m     21\u001b[0m                 \u001b[0;32melse\u001b[0m\u001b[0;34m:\u001b[0m\u001b[0;34m\u001b[0m\u001b[0;34m\u001b[0m\u001b[0m\n\u001b[0;32m---> 22\u001b[0;31m                     \u001b[0mself\u001b[0m\u001b[0;34m.\u001b[0m\u001b[0mright\u001b[0m\u001b[0;34m.\u001b[0m\u001b[0minsert\u001b[0m\u001b[0;34m(\u001b[0m\u001b[0mdata\u001b[0m\u001b[0;34m)\u001b[0m\u001b[0;34m\u001b[0m\u001b[0;34m\u001b[0m\u001b[0m\n\u001b[0m\u001b[1;32m     23\u001b[0m         \u001b[0;32melse\u001b[0m\u001b[0;34m:\u001b[0m\u001b[0;34m\u001b[0m\u001b[0;34m\u001b[0m\u001b[0m\n\u001b[1;32m     24\u001b[0m             \u001b[0mself\u001b[0m\u001b[0;34m.\u001b[0m\u001b[0mdata\u001b[0m \u001b[0;34m=\u001b[0m \u001b[0mdata\u001b[0m\u001b[0;34m\u001b[0m\u001b[0;34m\u001b[0m\u001b[0m\n",
      "\u001b[0;32m<ipython-input-40-95bf773b70a8>\u001b[0m in \u001b[0;36minsert\u001b[0;34m(self, data)\u001b[0m\n\u001b[1;32m     20\u001b[0m                     \u001b[0mself\u001b[0m\u001b[0;34m.\u001b[0m\u001b[0mright\u001b[0m \u001b[0;34m=\u001b[0m \u001b[0mNode1\u001b[0m\u001b[0;34m(\u001b[0m\u001b[0mdata\u001b[0m\u001b[0;34m)\u001b[0m\u001b[0;34m\u001b[0m\u001b[0;34m\u001b[0m\u001b[0m\n\u001b[1;32m     21\u001b[0m                 \u001b[0;32melse\u001b[0m\u001b[0;34m:\u001b[0m\u001b[0;34m\u001b[0m\u001b[0;34m\u001b[0m\u001b[0m\n\u001b[0;32m---> 22\u001b[0;31m                     \u001b[0mself\u001b[0m\u001b[0;34m.\u001b[0m\u001b[0mright\u001b[0m\u001b[0;34m.\u001b[0m\u001b[0minsert\u001b[0m\u001b[0;34m(\u001b[0m\u001b[0mdata\u001b[0m\u001b[0;34m)\u001b[0m\u001b[0;34m\u001b[0m\u001b[0;34m\u001b[0m\u001b[0m\n\u001b[0m\u001b[1;32m     23\u001b[0m         \u001b[0;32melse\u001b[0m\u001b[0;34m:\u001b[0m\u001b[0;34m\u001b[0m\u001b[0;34m\u001b[0m\u001b[0m\n\u001b[1;32m     24\u001b[0m             \u001b[0mself\u001b[0m\u001b[0;34m.\u001b[0m\u001b[0mdata\u001b[0m \u001b[0;34m=\u001b[0m \u001b[0mdata\u001b[0m\u001b[0;34m\u001b[0m\u001b[0;34m\u001b[0m\u001b[0m\n",
      "\u001b[0;32m<ipython-input-40-95bf773b70a8>\u001b[0m in \u001b[0;36minsert\u001b[0;34m(self, data)\u001b[0m\n\u001b[1;32m     15\u001b[0m                     \u001b[0mself\u001b[0m\u001b[0;34m.\u001b[0m\u001b[0mleft\u001b[0m \u001b[0;34m=\u001b[0m \u001b[0mNode1\u001b[0m\u001b[0;34m(\u001b[0m\u001b[0mdata\u001b[0m\u001b[0;34m)\u001b[0m\u001b[0;34m\u001b[0m\u001b[0;34m\u001b[0m\u001b[0m\n\u001b[1;32m     16\u001b[0m                 \u001b[0;32melse\u001b[0m\u001b[0;34m:\u001b[0m\u001b[0;34m\u001b[0m\u001b[0;34m\u001b[0m\u001b[0m\n\u001b[0;32m---> 17\u001b[0;31m                     \u001b[0mself\u001b[0m\u001b[0;34m.\u001b[0m\u001b[0mleft\u001b[0m\u001b[0;34m.\u001b[0m\u001b[0minsert\u001b[0m\u001b[0;34m(\u001b[0m\u001b[0mdata\u001b[0m\u001b[0;34m)\u001b[0m\u001b[0;34m\u001b[0m\u001b[0;34m\u001b[0m\u001b[0m\n\u001b[0m\u001b[1;32m     18\u001b[0m             \u001b[0;32melif\u001b[0m \u001b[0mdata\u001b[0m \u001b[0;34m>\u001b[0m \u001b[0mself\u001b[0m\u001b[0;34m.\u001b[0m\u001b[0mdata\u001b[0m\u001b[0;34m:\u001b[0m\u001b[0;34m\u001b[0m\u001b[0;34m\u001b[0m\u001b[0m\n\u001b[1;32m     19\u001b[0m                 \u001b[0;32mif\u001b[0m \u001b[0mself\u001b[0m\u001b[0;34m.\u001b[0m\u001b[0mright\u001b[0m \u001b[0;32mis\u001b[0m \u001b[0;32mNone\u001b[0m\u001b[0;34m:\u001b[0m\u001b[0;34m\u001b[0m\u001b[0;34m\u001b[0m\u001b[0m\n",
      "\u001b[0;32m<ipython-input-40-95bf773b70a8>\u001b[0m in \u001b[0;36minsert\u001b[0;34m(self, data)\u001b[0m\n\u001b[1;32m     20\u001b[0m                     \u001b[0mself\u001b[0m\u001b[0;34m.\u001b[0m\u001b[0mright\u001b[0m \u001b[0;34m=\u001b[0m \u001b[0mNode1\u001b[0m\u001b[0;34m(\u001b[0m\u001b[0mdata\u001b[0m\u001b[0;34m)\u001b[0m\u001b[0;34m\u001b[0m\u001b[0;34m\u001b[0m\u001b[0m\n\u001b[1;32m     21\u001b[0m                 \u001b[0;32melse\u001b[0m\u001b[0;34m:\u001b[0m\u001b[0;34m\u001b[0m\u001b[0;34m\u001b[0m\u001b[0m\n\u001b[0;32m---> 22\u001b[0;31m                     \u001b[0mself\u001b[0m\u001b[0;34m.\u001b[0m\u001b[0mright\u001b[0m\u001b[0;34m.\u001b[0m\u001b[0minsert\u001b[0m\u001b[0;34m(\u001b[0m\u001b[0mdata\u001b[0m\u001b[0;34m)\u001b[0m\u001b[0;34m\u001b[0m\u001b[0;34m\u001b[0m\u001b[0m\n\u001b[0m\u001b[1;32m     23\u001b[0m         \u001b[0;32melse\u001b[0m\u001b[0;34m:\u001b[0m\u001b[0;34m\u001b[0m\u001b[0;34m\u001b[0m\u001b[0m\n\u001b[1;32m     24\u001b[0m             \u001b[0mself\u001b[0m\u001b[0;34m.\u001b[0m\u001b[0mdata\u001b[0m \u001b[0;34m=\u001b[0m \u001b[0mdata\u001b[0m\u001b[0;34m\u001b[0m\u001b[0;34m\u001b[0m\u001b[0m\n",
      "\u001b[0;32m<ipython-input-40-95bf773b70a8>\u001b[0m in \u001b[0;36minsert\u001b[0;34m(self, data)\u001b[0m\n\u001b[1;32m     20\u001b[0m                     \u001b[0mself\u001b[0m\u001b[0;34m.\u001b[0m\u001b[0mright\u001b[0m \u001b[0;34m=\u001b[0m \u001b[0mNode1\u001b[0m\u001b[0;34m(\u001b[0m\u001b[0mdata\u001b[0m\u001b[0;34m)\u001b[0m\u001b[0;34m\u001b[0m\u001b[0;34m\u001b[0m\u001b[0m\n\u001b[1;32m     21\u001b[0m                 \u001b[0;32melse\u001b[0m\u001b[0;34m:\u001b[0m\u001b[0;34m\u001b[0m\u001b[0;34m\u001b[0m\u001b[0m\n\u001b[0;32m---> 22\u001b[0;31m                     \u001b[0mself\u001b[0m\u001b[0;34m.\u001b[0m\u001b[0mright\u001b[0m\u001b[0;34m.\u001b[0m\u001b[0minsert\u001b[0m\u001b[0;34m(\u001b[0m\u001b[0mdata\u001b[0m\u001b[0;34m)\u001b[0m\u001b[0;34m\u001b[0m\u001b[0;34m\u001b[0m\u001b[0m\n\u001b[0m\u001b[1;32m     23\u001b[0m         \u001b[0;32melse\u001b[0m\u001b[0;34m:\u001b[0m\u001b[0;34m\u001b[0m\u001b[0;34m\u001b[0m\u001b[0m\n\u001b[1;32m     24\u001b[0m             \u001b[0mself\u001b[0m\u001b[0;34m.\u001b[0m\u001b[0mdata\u001b[0m \u001b[0;34m=\u001b[0m \u001b[0mdata\u001b[0m\u001b[0;34m\u001b[0m\u001b[0;34m\u001b[0m\u001b[0m\n",
      "\u001b[0;32m<ipython-input-40-95bf773b70a8>\u001b[0m in \u001b[0;36minsert\u001b[0;34m(self, data)\u001b[0m\n\u001b[1;32m     20\u001b[0m                     \u001b[0mself\u001b[0m\u001b[0;34m.\u001b[0m\u001b[0mright\u001b[0m \u001b[0;34m=\u001b[0m \u001b[0mNode1\u001b[0m\u001b[0;34m(\u001b[0m\u001b[0mdata\u001b[0m\u001b[0;34m)\u001b[0m\u001b[0;34m\u001b[0m\u001b[0;34m\u001b[0m\u001b[0m\n\u001b[1;32m     21\u001b[0m                 \u001b[0;32melse\u001b[0m\u001b[0;34m:\u001b[0m\u001b[0;34m\u001b[0m\u001b[0;34m\u001b[0m\u001b[0m\n\u001b[0;32m---> 22\u001b[0;31m                     \u001b[0mself\u001b[0m\u001b[0;34m.\u001b[0m\u001b[0mright\u001b[0m\u001b[0;34m.\u001b[0m\u001b[0minsert\u001b[0m\u001b[0;34m(\u001b[0m\u001b[0mdata\u001b[0m\u001b[0;34m)\u001b[0m\u001b[0;34m\u001b[0m\u001b[0;34m\u001b[0m\u001b[0m\n\u001b[0m\u001b[1;32m     23\u001b[0m         \u001b[0;32melse\u001b[0m\u001b[0;34m:\u001b[0m\u001b[0;34m\u001b[0m\u001b[0;34m\u001b[0m\u001b[0m\n\u001b[1;32m     24\u001b[0m             \u001b[0mself\u001b[0m\u001b[0;34m.\u001b[0m\u001b[0mdata\u001b[0m \u001b[0;34m=\u001b[0m \u001b[0mdata\u001b[0m\u001b[0;34m\u001b[0m\u001b[0;34m\u001b[0m\u001b[0m\n",
      "\u001b[0;32m<ipython-input-40-95bf773b70a8>\u001b[0m in \u001b[0;36minsert\u001b[0;34m(self, data)\u001b[0m\n\u001b[1;32m     15\u001b[0m                     \u001b[0mself\u001b[0m\u001b[0;34m.\u001b[0m\u001b[0mleft\u001b[0m \u001b[0;34m=\u001b[0m \u001b[0mNode1\u001b[0m\u001b[0;34m(\u001b[0m\u001b[0mdata\u001b[0m\u001b[0;34m)\u001b[0m\u001b[0;34m\u001b[0m\u001b[0;34m\u001b[0m\u001b[0m\n\u001b[1;32m     16\u001b[0m                 \u001b[0;32melse\u001b[0m\u001b[0;34m:\u001b[0m\u001b[0;34m\u001b[0m\u001b[0;34m\u001b[0m\u001b[0m\n\u001b[0;32m---> 17\u001b[0;31m                     \u001b[0mself\u001b[0m\u001b[0;34m.\u001b[0m\u001b[0mleft\u001b[0m\u001b[0;34m.\u001b[0m\u001b[0minsert\u001b[0m\u001b[0;34m(\u001b[0m\u001b[0mdata\u001b[0m\u001b[0;34m)\u001b[0m\u001b[0;34m\u001b[0m\u001b[0;34m\u001b[0m\u001b[0m\n\u001b[0m\u001b[1;32m     18\u001b[0m             \u001b[0;32melif\u001b[0m \u001b[0mdata\u001b[0m \u001b[0;34m>\u001b[0m \u001b[0mself\u001b[0m\u001b[0;34m.\u001b[0m\u001b[0mdata\u001b[0m\u001b[0;34m:\u001b[0m\u001b[0;34m\u001b[0m\u001b[0;34m\u001b[0m\u001b[0m\n\u001b[1;32m     19\u001b[0m                 \u001b[0;32mif\u001b[0m \u001b[0mself\u001b[0m\u001b[0;34m.\u001b[0m\u001b[0mright\u001b[0m \u001b[0;32mis\u001b[0m \u001b[0;32mNone\u001b[0m\u001b[0;34m:\u001b[0m\u001b[0;34m\u001b[0m\u001b[0;34m\u001b[0m\u001b[0m\n",
      "\u001b[0;32m<ipython-input-40-95bf773b70a8>\u001b[0m in \u001b[0;36minsert\u001b[0;34m(self, data)\u001b[0m\n\u001b[1;32m     15\u001b[0m                     \u001b[0mself\u001b[0m\u001b[0;34m.\u001b[0m\u001b[0mleft\u001b[0m \u001b[0;34m=\u001b[0m \u001b[0mNode1\u001b[0m\u001b[0;34m(\u001b[0m\u001b[0mdata\u001b[0m\u001b[0;34m)\u001b[0m\u001b[0;34m\u001b[0m\u001b[0;34m\u001b[0m\u001b[0m\n\u001b[1;32m     16\u001b[0m                 \u001b[0;32melse\u001b[0m\u001b[0;34m:\u001b[0m\u001b[0;34m\u001b[0m\u001b[0;34m\u001b[0m\u001b[0m\n\u001b[0;32m---> 17\u001b[0;31m                     \u001b[0mself\u001b[0m\u001b[0;34m.\u001b[0m\u001b[0mleft\u001b[0m\u001b[0;34m.\u001b[0m\u001b[0minsert\u001b[0m\u001b[0;34m(\u001b[0m\u001b[0mdata\u001b[0m\u001b[0;34m)\u001b[0m\u001b[0;34m\u001b[0m\u001b[0;34m\u001b[0m\u001b[0m\n\u001b[0m\u001b[1;32m     18\u001b[0m             \u001b[0;32melif\u001b[0m \u001b[0mdata\u001b[0m \u001b[0;34m>\u001b[0m \u001b[0mself\u001b[0m\u001b[0;34m.\u001b[0m\u001b[0mdata\u001b[0m\u001b[0;34m:\u001b[0m\u001b[0;34m\u001b[0m\u001b[0;34m\u001b[0m\u001b[0m\n\u001b[1;32m     19\u001b[0m                 \u001b[0;32mif\u001b[0m \u001b[0mself\u001b[0m\u001b[0;34m.\u001b[0m\u001b[0mright\u001b[0m \u001b[0;32mis\u001b[0m \u001b[0;32mNone\u001b[0m\u001b[0;34m:\u001b[0m\u001b[0;34m\u001b[0m\u001b[0;34m\u001b[0m\u001b[0m\n",
      "\u001b[0;32m<ipython-input-40-95bf773b70a8>\u001b[0m in \u001b[0;36minsert\u001b[0;34m(self, data)\u001b[0m\n\u001b[1;32m     20\u001b[0m                     \u001b[0mself\u001b[0m\u001b[0;34m.\u001b[0m\u001b[0mright\u001b[0m \u001b[0;34m=\u001b[0m \u001b[0mNode1\u001b[0m\u001b[0;34m(\u001b[0m\u001b[0mdata\u001b[0m\u001b[0;34m)\u001b[0m\u001b[0;34m\u001b[0m\u001b[0;34m\u001b[0m\u001b[0m\n\u001b[1;32m     21\u001b[0m                 \u001b[0;32melse\u001b[0m\u001b[0;34m:\u001b[0m\u001b[0;34m\u001b[0m\u001b[0;34m\u001b[0m\u001b[0m\n\u001b[0;32m---> 22\u001b[0;31m                     \u001b[0mself\u001b[0m\u001b[0;34m.\u001b[0m\u001b[0mright\u001b[0m\u001b[0;34m.\u001b[0m\u001b[0minsert\u001b[0m\u001b[0;34m(\u001b[0m\u001b[0mdata\u001b[0m\u001b[0;34m)\u001b[0m\u001b[0;34m\u001b[0m\u001b[0;34m\u001b[0m\u001b[0m\n\u001b[0m\u001b[1;32m     23\u001b[0m         \u001b[0;32melse\u001b[0m\u001b[0;34m:\u001b[0m\u001b[0;34m\u001b[0m\u001b[0;34m\u001b[0m\u001b[0m\n\u001b[1;32m     24\u001b[0m             \u001b[0mself\u001b[0m\u001b[0;34m.\u001b[0m\u001b[0mdata\u001b[0m \u001b[0;34m=\u001b[0m \u001b[0mdata\u001b[0m\u001b[0;34m\u001b[0m\u001b[0;34m\u001b[0m\u001b[0m\n",
      "\u001b[0;32m<ipython-input-40-95bf773b70a8>\u001b[0m in \u001b[0;36minsert\u001b[0;34m(self, data)\u001b[0m\n\u001b[1;32m     15\u001b[0m                     \u001b[0mself\u001b[0m\u001b[0;34m.\u001b[0m\u001b[0mleft\u001b[0m \u001b[0;34m=\u001b[0m \u001b[0mNode1\u001b[0m\u001b[0;34m(\u001b[0m\u001b[0mdata\u001b[0m\u001b[0;34m)\u001b[0m\u001b[0;34m\u001b[0m\u001b[0;34m\u001b[0m\u001b[0m\n\u001b[1;32m     16\u001b[0m                 \u001b[0;32melse\u001b[0m\u001b[0;34m:\u001b[0m\u001b[0;34m\u001b[0m\u001b[0;34m\u001b[0m\u001b[0m\n\u001b[0;32m---> 17\u001b[0;31m                     \u001b[0mself\u001b[0m\u001b[0;34m.\u001b[0m\u001b[0mleft\u001b[0m\u001b[0;34m.\u001b[0m\u001b[0minsert\u001b[0m\u001b[0;34m(\u001b[0m\u001b[0mdata\u001b[0m\u001b[0;34m)\u001b[0m\u001b[0;34m\u001b[0m\u001b[0;34m\u001b[0m\u001b[0m\n\u001b[0m\u001b[1;32m     18\u001b[0m             \u001b[0;32melif\u001b[0m \u001b[0mdata\u001b[0m \u001b[0;34m>\u001b[0m \u001b[0mself\u001b[0m\u001b[0;34m.\u001b[0m\u001b[0mdata\u001b[0m\u001b[0;34m:\u001b[0m\u001b[0;34m\u001b[0m\u001b[0;34m\u001b[0m\u001b[0m\n\u001b[1;32m     19\u001b[0m                 \u001b[0;32mif\u001b[0m \u001b[0mself\u001b[0m\u001b[0;34m.\u001b[0m\u001b[0mright\u001b[0m \u001b[0;32mis\u001b[0m \u001b[0;32mNone\u001b[0m\u001b[0;34m:\u001b[0m\u001b[0;34m\u001b[0m\u001b[0;34m\u001b[0m\u001b[0m\n",
      "\u001b[0;32m<ipython-input-40-95bf773b70a8>\u001b[0m in \u001b[0;36minsert\u001b[0;34m(self, data)\u001b[0m\n\u001b[1;32m     10\u001b[0m     \u001b[0;32mdef\u001b[0m \u001b[0minsert\u001b[0m\u001b[0;34m(\u001b[0m\u001b[0mself\u001b[0m\u001b[0;34m,\u001b[0m \u001b[0mdata\u001b[0m\u001b[0;34m)\u001b[0m\u001b[0;34m:\u001b[0m\u001b[0;34m\u001b[0m\u001b[0;34m\u001b[0m\u001b[0m\n\u001b[1;32m     11\u001b[0m \u001b[0;34m\u001b[0m\u001b[0m\n\u001b[0;32m---> 12\u001b[0;31m         \u001b[0;32mif\u001b[0m \u001b[0mself\u001b[0m\u001b[0;34m.\u001b[0m\u001b[0mdata\u001b[0m\u001b[0;34m:\u001b[0m\u001b[0;34m\u001b[0m\u001b[0;34m\u001b[0m\u001b[0m\n\u001b[0m\u001b[1;32m     13\u001b[0m             \u001b[0;32mif\u001b[0m \u001b[0mdata\u001b[0m \u001b[0;34m<\u001b[0m \u001b[0mself\u001b[0m\u001b[0;34m.\u001b[0m\u001b[0mdata\u001b[0m\u001b[0;34m:\u001b[0m\u001b[0;34m\u001b[0m\u001b[0;34m\u001b[0m\u001b[0m\n\u001b[1;32m     14\u001b[0m                 \u001b[0;32mif\u001b[0m \u001b[0mself\u001b[0m\u001b[0;34m.\u001b[0m\u001b[0mleft\u001b[0m \u001b[0;32mis\u001b[0m \u001b[0;32mNone\u001b[0m\u001b[0;34m:\u001b[0m\u001b[0;34m\u001b[0m\u001b[0;34m\u001b[0m\u001b[0m\n",
      "\u001b[0;31mKeyboardInterrupt\u001b[0m: "
     ]
    }
   ],
   "source": [
    "t_insert = []\n",
    "t_search = []\n",
    "for k in range(10,31):\n",
    "    \n",
    "    #insert part\n",
    "    t_insert_ =[]\n",
    "    for times in range(10):   \n",
    "        insert_array = random_array(k)\n",
    "        '這個binary tree無法創建空的資料結構，所以先包含了一個資料，影響應該不大'\n",
    "        bst = Node1(np.random.randint(1,2**30))\n",
    "        t = time.perf_counter()\n",
    "        for i in insert_array:\n",
    "            bst.insert(i)\n",
    "        t = time.perf_counter() - t\n",
    "        t_insert_.append(t)\n",
    "        print('\\rk=', k,' times:',times+1,'  time:',time.strftime(\"%Y-%m-%d %H:%M:%S\", time.localtime()),t_insert_,end=' ')\n",
    "    t_insert.append(np.mean(t_insert_))\n",
    "    print('\\ninsert: k=',k, t_insert)\n",
    "    \n",
    "    #search part\n",
    "    t_search_=[]\n",
    "    for times in range(10):\n",
    "        search_array = random_array(17) #這邊要十萬筆資料（2**16.6)\n",
    "        t = time.perf_counter()\n",
    "        for i in search_array:\n",
    "            bst.findval(i)\n",
    "        t = time.perf_counter() - t\n",
    "        t_search_.append(t)\n",
    "        print('\\rk=', k,' times:',times+1,'  time:',time.strftime(\"%Y-%m-%d %H:%M:%S\", time.localtime()),t_search_,end='')\n",
    "    t_search.append(np.mean(t_search_))\n",
    "    print('\\nsearch: k=',k, t_search)  \n",
    "        \n",
    "        \n",
    "        "
   ]
  },
  {
   "cell_type": "markdown",
   "metadata": {},
   "source": [
    "skip list"
   ]
  },
  {
   "cell_type": "code",
   "execution_count": 6,
   "metadata": {},
   "outputs": [
    {
     "name": "stdout",
     "output_type": "stream",
     "text": [
      "k= 10  times: 10   time: 2020-06-21 21:57:42 [0.010376948000001107, 0.007773701999999716, 0.00776964499999977, 0.007988767999998814, 0.009093074000000811, 0.0068114379999997254, 0.007084009999999807, 0.00844910699999879, 0.006273698999999411, 0.006313587000001064] \n",
      "insert: k= 10 [0.007793397799999902]\n",
      "k= 10  times: 10   time: 2020-06-21 21:57:47 [0.5623563860000012, 0.5172636209999997, 0.5061161829999996, 0.4998082430000004, 0.5174867019999994, 0.5097910890000001, 0.4992338039999993, 0.5098357700000005, 0.5102343510000011, 0.5013131519999998]\n",
      "search: k= 10 [0.5133439301000001]\n",
      "k= 11  times: 10   time: 2020-06-21 21:57:47 [0.01315076700000084, 0.012637360999999458, 0.016012413000000336, 0.013975347000000582, 0.030572001999999543, 0.01385203300000093, 0.013312862000001147, 0.01278820699999983, 0.016555525000001126, 0.014819875000000593] \n",
      "insert: k= 11 [0.007793397799999902, 0.01576763920000044]\n",
      "k= 11  times: 10   time: 2020-06-21 21:57:53 [0.6016547770000003, 0.5579929329999977, 0.557272035999997, 0.564950734, 0.5825479780000009, 0.5683954769999993, 0.572422422999999, 0.5548061020000006, 0.5529926610000011, 0.5468767569999997]\n",
      "search: k= 11 [0.5133439301000001, 0.5659911877999996]\n",
      "k= 12  times: 10   time: 2020-06-21 21:57:53 [0.027748041999998918, 0.035736577000001546, 0.027400946000000204, 0.028118790000000615, 0.03262311399999973, 0.04271175999999954, 0.02847120199999864, 0.028147313000001617, 0.03330143399999841, 0.03363410900000119] \n",
      "insert: k= 12 [0.007793397799999902, 0.01576763920000044, 0.03178932870000004]\n",
      "k= 12  times: 10   time: 2020-06-21 21:58:00 [0.6597663550000021, 0.6735942470000005, 0.6612291089999971, 0.6646345179999997, 0.648254755, 0.6385823459999997, 0.653892576999997, 0.6466652679999996, 0.6484287070000008, 0.6245589259999988]\n",
      "search: k= 12 [0.5133439301000001, 0.5659911877999996, 0.6519606807999996]\n",
      "k= 13  times: 10   time: 2020-06-21 21:58:00 [0.060098104000001484, 0.08041809199999861, 0.05882046600000024, 0.06573171600000194, 0.0672162159999985, 0.08131719500000045, 0.06223710699999785, 0.07172335599999968, 0.07337358999999921, 0.0891791959999999] \n",
      "insert: k= 13 [0.007793397799999902, 0.01576763920000044, 0.03178932870000004, 0.07101150379999979]\n",
      "k= 13  times: 10   time: 2020-06-21 21:58:08 [0.7521178420000005, 0.7486776040000009, 0.7447074059999998, 0.7419288720000026, 0.7513169450000028, 0.7488602439999994, 0.7416628470000006, 0.743215327999998, 0.7357486659999992, 0.7458578569999972]\n",
      "search: k= 13 [0.5133439301000001, 0.5659911877999996, 0.6519606807999996, 0.7454093611000001]\n",
      "k= 14  times: 10   time: 2020-06-21 21:58:09 [0.13069696699999866, 0.1728688160000047, 0.13121802200000587, 0.16983120999999812, 0.13126763300000022, 0.16654151899999903, 0.12990244500000614, 0.15938114699999772, 0.14846725299999974, 0.16381253799999484] \n",
      "insert: k= 14 [0.007793397799999902, 0.01576763920000044, 0.03178932870000004, 0.07101150379999979, 0.1503987550000005]\n",
      "k= 14  times: 10   time: 2020-06-21 21:58:18 [0.8262601870000026, 0.928630493, 0.9313180620000026, 0.8915627890000053, 0.8139934740000001, 0.8166940349999976, 0.818120633999996, 0.812414485000005, 0.8163348920000004, 0.8402956159999988]\n",
      "search: k= 14 [0.5133439301000001, 0.5659911877999996, 0.6519606807999996, 0.7454093611000001, 0.8495624667000008]\n",
      "k= 15  times: 10   time: 2020-06-21 21:58:21 [0.33786789199999845, 0.3453851790000044, 0.362189764, 0.34408525699999615, 0.3411800899999946, 0.339692436, 0.3303547499999979, 0.32721931100000035, 0.31890572100000014, 0.344952506999995] \n",
      "insert: k= 15 [0.007793397799999902, 0.01576763920000044, 0.03178932870000004, 0.07101150379999979, 0.1503987550000005, 0.3391832906999987]\n",
      "k= 15  times: 10   time: 2020-06-21 21:58:31 [0.9453236650000036, 0.926668504999995, 0.9186681250000035, 0.9125734189999974, 0.9205926609999935, 0.920698048999995, 0.9328783650000005, 0.9700260079999978, 0.9260742780000015, 0.9300109469999995]\n",
      "search: k= 15 [0.5133439301000001, 0.5659911877999996, 0.6519606807999996, 0.7454093611000001, 0.8495624667000008, 0.9303514021999988]\n",
      "k= 16  times: 10   time: 2020-06-21 21:58:39 [0.7523921360000045, 0.8191873370000025, 0.8324893220000007, 0.8137976869999974, 0.8091826809999958, 0.7949123590000013, 0.7434002940000042, 0.7926590089999905, 0.7636753009999921, 0.7749875530000025] \n",
      "insert: k= 16 [0.007793397799999902, 0.01576763920000044, 0.03178932870000004, 0.07101150379999979, 0.1503987550000005, 0.3391832906999987, 0.7896683678999992]\n",
      "k= 16  times: 10   time: 2020-06-21 21:58:49 [1.117840120000011, 1.079791169999993, 1.13349350499999, 1.0868065169999994, 1.065104556999998, 1.067296361000004, 1.057419042999996, 1.0591812870000012, 1.0711638400000112, 1.0844480610000033]\n",
      "search: k= 16 [0.5133439301000001, 0.5659911877999996, 0.6519606807999996, 0.7454093611000001, 0.8495624667000008, 0.9303514021999988, 1.0822544461000008]\n",
      "k= 17  times: 10   time: 2020-06-21 21:59:10 [1.9462731579999968, 2.0507067249999977, 2.211365425000011, 1.9557870919999942, 2.0294542150000012, 2.2224218430000064, 1.9414088730000003, 2.2586268909999916, 2.252797946000001, 1.9901494899999932] \n",
      "insert: k= 17 [0.007793397799999902, 0.01576763920000044, 0.03178932870000004, 0.07101150379999979, 0.1503987550000005, 0.3391832906999987, 0.7896683678999992, 2.0858991657999995]\n",
      "k= 17  times: 10   time: 2020-06-21 21:59:23 [1.259802325999999, 1.2228379350000012, 1.2324763889999986, 1.2173929389999927, 1.2089357669999998, 1.213584204, 1.2334689260000005, 1.2282921980000054, 1.2153187849999938, 1.208789637999999]\n",
      "search: k= 17 [0.5133439301000001, 0.5659911877999996, 0.6519606807999996, 0.7454093611000001, 0.8495624667000008, 0.9303514021999988, 1.0822544461000008, 1.224089910699999]\n",
      "k= 18  times: 10   time: 2020-06-21 22:00:10 [4.534000938999995, 4.58608202500001, 4.544542117999995, 4.776461812999997, 4.645473965000008, 4.52345846099999, 4.844018221999988, 4.862820158000005, 4.904877209999995, 4.797821417999984] \n",
      "insert: k= 18 [0.007793397799999902, 0.01576763920000044, 0.03178932870000004, 0.07101150379999979, 0.1503987550000005, 0.3391832906999987, 0.7896683678999992, 2.0858991657999995, 4.701955632899997]\n",
      "k= 18  times: 10   time: 2020-06-21 22:00:24 [1.412953334000008, 1.6800531540000065, 1.3982259969999973, 1.3784158090000176, 1.375900520000016, 1.3828862419999837, 1.406743430000006, 1.6059454509999966, 1.62445460699999, 1.5714854439999897]\n",
      "search: k= 18 [0.5133439301000001, 0.5659911877999996, 0.6519606807999996, 0.7454093611000001, 0.8495624667000008, 0.9303514021999988, 1.0822544461000008, 1.224089910699999, 1.4837063988000012]\n",
      "k= 19  times: 10   time: 2020-06-21 22:02:22 [12.116963997, 11.72713385999998, 11.964722300999995, 11.912220552999997, 12.403776590999996, 11.271018174000005, 11.446722792999992, 11.455080423000027, 11.531008563, 11.757134727999983] \n",
      "insert: k= 19 [0.007793397799999902, 0.01576763920000044, 0.03178932870000004, 0.07101150379999979, 0.1503987550000005, 0.3391832906999987, 0.7896683678999992, 2.0858991657999995, 4.701955632899997, 11.758578198299997]\n",
      "k= 19  times: 10   time: 2020-06-21 22:02:40 [1.7628741940000054, 1.7009313109999766, 1.7166550260000122, 1.6942951069999594, 1.6932152229999815, 1.806199294999999, 1.8192193930000258, 1.7629880509999794, 1.7700655040000015, 1.73722481599998]\n",
      "search: k= 19 [0.5133439301000001, 0.5659911877999996, 0.6519606807999996, 0.7454093611000001, 0.8495624667000008, 0.9303514021999988, 1.0822544461000008, 1.224089910699999, 1.4837063988000012, 1.7463667919999921]\n",
      "k= 20  times: 10   time: 2020-06-21 22:07:14 [27.66432541399996, 28.430698483000015, 25.738681477, 27.33513854900002, 29.186402192999992, 26.529274621000013, 28.657931766000047, 26.04427986999997, 28.693790691000004, 25.884134619000065] \n",
      "insert: k= 20 [0.007793397799999902, 0.01576763920000044, 0.03178932870000004, 0.07101150379999979, 0.1503987550000005, 0.3391832906999987, 0.7896683678999992, 2.0858991657999995, 4.701955632899997, 11.758578198299997, 27.416465768300007]\n",
      "k= 20  times: 10   time: 2020-06-21 22:07:34 [2.256667026999935, 2.2331546169999683, 2.156411958000035, 1.864392376000069, 1.97800299000005, 1.8785441669999727, 1.9551132010000174, 2.0604607610000585, 2.0699334059999046, 2.047598611000012]\n",
      "search: k= 20 [0.5133439301000001, 0.5659911877999996, 0.6519606807999996, 0.7454093611000001, 0.8495624667000008, 0.9303514021999988, 1.0822544461000008, 1.224089910699999, 1.4837063988000012, 1.7463667919999921, 2.050027911400002]\n"
     ]
    },
    {
     "name": "stdout",
     "output_type": "stream",
     "text": [
      "k= 21  times: 10   time: 2020-06-21 22:18:11 [64.60745164399998, 63.01794510000002, 66.77054178200001, 63.06775454199999, 61.767594439999925, 61.023856631999934, 64.99995476800007, 63.50462851599991, 63.04765721600006, 64.24579507099997] \n",
      "insert: k= 21 [0.007793397799999902, 0.01576763920000044, 0.03178932870000004, 0.07101150379999979, 0.1503987550000005, 0.3391832906999987, 0.7896683678999992, 2.0858991657999995, 4.701955632899997, 11.758578198299997, 27.416465768300007, 63.605317971099986]\n",
      "k= 21  times: 10   time: 2020-06-21 22:18:34 [2.4960057880000477, 2.4689622959999724, 2.4525569670001914, 2.445455988000049, 2.3248012679998737, 2.324992849000182, 2.2363600430001043, 2.2213545229999454, 2.205339189999904, 2.1869723410000006]\n",
      "search: k= 21 [0.5133439301000001, 0.5659911877999996, 0.6519606807999996, 0.7454093611000001, 0.8495624667000008, 0.9303514021999988, 1.0822544461000008, 1.224089910699999, 1.4837063988000012, 1.7463667919999921, 2.050027911400002, 2.336280125300027]\n",
      "k= 22  times: 10   time: 2020-06-21 22:42:06 [145.65110392499992, 136.02798824599995, 140.73702125499995, 141.32065653600012, 133.23775820799983, 140.5944625310001, 139.83276788600006, 146.09618395200005, 143.79683472499983, 144.27394375600034] \n",
      "insert: k= 22 [0.007793397799999902, 0.01576763920000044, 0.03178932870000004, 0.07101150379999979, 0.1503987550000005, 0.3391832906999987, 0.7896683678999992, 2.0858991657999995, 4.701955632899997, 11.758578198299997, 27.416465768300007, 63.605317971099986, 141.15687210200002]\n",
      "k= 22  times: 10   time: 2020-06-21 22:42:33 [2.694595591000052, 2.756880135999836, 2.688797828999668, 2.6881187530002535, 2.6823004879997825, 2.755746416999955, 2.5303839980001612, 2.749636358999851, 2.8041740740000023, 2.8530393399996683]\n",
      "search: k= 22 [0.5133439301000001, 0.5659911877999996, 0.6519606807999996, 0.7454093611000001, 0.8495624667000008, 0.9303514021999988, 1.0822544461000008, 1.224089910699999, 1.4837063988000012, 1.7463667919999921, 2.050027911400002, 2.336280125300027, 2.720367298499923]\n",
      "k= 23  times: 10   time: 2020-06-21 23:35:22 [317.17032395000024, 315.68067519999977, 338.81246117499995, 302.73342999099987, 307.9428048059999, 337.9419381179996, 299.12256370399973, 340.5287722570001, 295.8619154580001, 311.7776166880003] \n",
      "insert: k= 23 [0.007793397799999902, 0.01576763920000044, 0.03178932870000004, 0.07101150379999979, 0.1503987550000005, 0.3391832906999987, 0.7896683678999992, 2.0858991657999995, 4.701955632899997, 11.758578198299997, 27.416465768300007, 63.605317971099986, 141.15687210200002, 316.7572501347]\n",
      "k= 23  times: 10   time: 2020-06-21 23:35:49 [2.7631760920003217, 2.7520493229994827, 2.754093646000001, 2.7830649919997086, 2.769371700999727, 2.759533322000607, 2.7563064450005186, 2.7782622659997287, 2.7616976389999763, 2.766617906000647]\n",
      "search: k= 23 [0.5133439301000001, 0.5659911877999996, 0.6519606807999996, 0.7454093611000001, 0.8495624667000008, 0.9303514021999988, 1.0822544461000008, 1.224089910699999, 1.4837063988000012, 1.7463667919999921, 2.050027911400002, 2.336280125300027, 2.720367298499923, 2.764417333200072]\n",
      "k= 24  times: 1   time: 2020-06-21 23:48:44 [774.2227475509999] "
     ]
    },
    {
     "ename": "KeyboardInterrupt",
     "evalue": "",
     "output_type": "error",
     "traceback": [
      "\u001b[0;31m---------------------------------------------------------------------------\u001b[0m",
      "\u001b[0;31mKeyboardInterrupt\u001b[0m                         Traceback (most recent call last)",
      "\u001b[0;32m<ipython-input-6-697e8b27dbb2>\u001b[0m in \u001b[0;36m<module>\u001b[0;34m\u001b[0m\n\u001b[1;32m     10\u001b[0m         \u001b[0mt\u001b[0m \u001b[0;34m=\u001b[0m \u001b[0mtime\u001b[0m\u001b[0;34m.\u001b[0m\u001b[0mperf_counter\u001b[0m\u001b[0;34m(\u001b[0m\u001b[0;34m)\u001b[0m\u001b[0;34m\u001b[0m\u001b[0;34m\u001b[0m\u001b[0m\n\u001b[1;32m     11\u001b[0m         \u001b[0;32mfor\u001b[0m \u001b[0mi\u001b[0m \u001b[0;32min\u001b[0m \u001b[0minsert_array\u001b[0m\u001b[0;34m:\u001b[0m\u001b[0;34m\u001b[0m\u001b[0;34m\u001b[0m\u001b[0m\n\u001b[0;32m---> 12\u001b[0;31m             \u001b[0msl\u001b[0m\u001b[0;34m.\u001b[0m\u001b[0minsertElement\u001b[0m\u001b[0;34m(\u001b[0m\u001b[0mi\u001b[0m\u001b[0;34m)\u001b[0m\u001b[0;34m\u001b[0m\u001b[0;34m\u001b[0m\u001b[0m\n\u001b[0m\u001b[1;32m     13\u001b[0m         \u001b[0mt\u001b[0m \u001b[0;34m=\u001b[0m \u001b[0mtime\u001b[0m\u001b[0;34m.\u001b[0m\u001b[0mperf_counter\u001b[0m\u001b[0;34m(\u001b[0m\u001b[0;34m)\u001b[0m \u001b[0;34m-\u001b[0m \u001b[0mt\u001b[0m\u001b[0;34m\u001b[0m\u001b[0;34m\u001b[0m\u001b[0m\n\u001b[1;32m     14\u001b[0m         \u001b[0mt_insert_\u001b[0m\u001b[0;34m.\u001b[0m\u001b[0mappend\u001b[0m\u001b[0;34m(\u001b[0m\u001b[0mt\u001b[0m\u001b[0;34m)\u001b[0m\u001b[0;34m\u001b[0m\u001b[0;34m\u001b[0m\u001b[0m\n",
      "\u001b[0;32m<ipython-input-2-a73f4c9460ae>\u001b[0m in \u001b[0;36minsertElement\u001b[0;34m(self, key)\u001b[0m\n\u001b[1;32m     55\u001b[0m         '''\n\u001b[1;32m     56\u001b[0m         \u001b[0;32mfor\u001b[0m \u001b[0mi\u001b[0m \u001b[0;32min\u001b[0m \u001b[0mrange\u001b[0m\u001b[0;34m(\u001b[0m\u001b[0mself\u001b[0m\u001b[0;34m.\u001b[0m\u001b[0mlevel\u001b[0m\u001b[0;34m,\u001b[0m \u001b[0;34m-\u001b[0m\u001b[0;36m1\u001b[0m\u001b[0;34m,\u001b[0m \u001b[0;34m-\u001b[0m\u001b[0;36m1\u001b[0m\u001b[0;34m)\u001b[0m\u001b[0;34m:\u001b[0m\u001b[0;34m\u001b[0m\u001b[0;34m\u001b[0m\u001b[0m\n\u001b[0;32m---> 57\u001b[0;31m             \u001b[0;32mwhile\u001b[0m \u001b[0mcurrent\u001b[0m\u001b[0;34m.\u001b[0m\u001b[0mforward\u001b[0m\u001b[0;34m[\u001b[0m\u001b[0mi\u001b[0m\u001b[0;34m]\u001b[0m \u001b[0;32mand\u001b[0m \u001b[0mcurrent\u001b[0m\u001b[0;34m.\u001b[0m\u001b[0mforward\u001b[0m\u001b[0;34m[\u001b[0m\u001b[0mi\u001b[0m\u001b[0;34m]\u001b[0m\u001b[0;34m.\u001b[0m\u001b[0mkey\u001b[0m \u001b[0;34m<\u001b[0m \u001b[0mkey\u001b[0m\u001b[0;34m:\u001b[0m\u001b[0;34m\u001b[0m\u001b[0;34m\u001b[0m\u001b[0m\n\u001b[0m\u001b[1;32m     58\u001b[0m                 \u001b[0mcurrent\u001b[0m \u001b[0;34m=\u001b[0m \u001b[0mcurrent\u001b[0m\u001b[0;34m.\u001b[0m\u001b[0mforward\u001b[0m\u001b[0;34m[\u001b[0m\u001b[0mi\u001b[0m\u001b[0;34m]\u001b[0m\u001b[0;34m\u001b[0m\u001b[0;34m\u001b[0m\u001b[0m\n\u001b[1;32m     59\u001b[0m             \u001b[0mupdate\u001b[0m\u001b[0;34m[\u001b[0m\u001b[0mi\u001b[0m\u001b[0;34m]\u001b[0m \u001b[0;34m=\u001b[0m \u001b[0mcurrent\u001b[0m\u001b[0;34m\u001b[0m\u001b[0;34m\u001b[0m\u001b[0m\n",
      "\u001b[0;31mKeyboardInterrupt\u001b[0m: "
     ]
    }
   ],
   "source": [
    "t_insert = []\n",
    "t_search = []\n",
    "for k in range(10,31):\n",
    "    \n",
    "    #insert part\n",
    "    t_insert_ =[]\n",
    "    for times in range(10):   \n",
    "        insert_array = random_array(k)\n",
    "        sl = SkipList(k, 0.5)\n",
    "        t = time.perf_counter()\n",
    "        for i in insert_array:\n",
    "            sl.insertElement(i)\n",
    "        t = time.perf_counter() - t\n",
    "        t_insert_.append(t)\n",
    "        print('\\rk=', k,' times:',times+1,'  time:',time.strftime(\"%Y-%m-%d %H:%M:%S\", time.localtime()),t_insert_,end=' ')\n",
    "    t_insert.append(np.mean(t_insert_))\n",
    "    print('\\ninsert: k=',k, t_insert)\n",
    "    \n",
    "    #search part\n",
    "    t_search_=[]\n",
    "    for times in range(10):\n",
    "        search_array = random_array(17)\n",
    "        t = time.perf_counter()\n",
    "        for i in search_array:\n",
    "            sl.searchElement(i)\n",
    "        t = time.perf_counter() - t\n",
    "        t_search_.append(t)\n",
    "        print('\\rk=', k,' times:',times+1,'  time:',time.strftime(\"%Y-%m-%d %H:%M:%S\", time.localtime()),t_search_,end='')\n",
    "    t_search.append(np.mean(t_search_))\n",
    "    print('\\nsearch: k=',k, t_search)  "
   ]
  },
  {
   "cell_type": "markdown",
   "metadata": {},
   "source": [
    "sorted array"
   ]
  },
  {
   "cell_type": "code",
   "execution_count": 24,
   "metadata": {},
   "outputs": [],
   "source": [
    "from array import array"
   ]
  },
  {
   "cell_type": "code",
   "execution_count": 8,
   "metadata": {},
   "outputs": [
    {
     "name": "stdout",
     "output_type": "stream",
     "text": [
      "k= 10  times: 10   time: 2020-06-21 23:53:43 [0.0005982510001558694, 0.0006462610008384218, 0.0006439740000132588, 0.0007529649992648046, 0.0007028600002740859, 0.000582586999371415, 0.0007270290006999858, 0.0008161080004356336, 0.0005903190003664349, 0.0009369630006403895] \n",
      "insert: k= 10 [0.00069973170020603]\n",
      "k= 10  times: 10   time: 2020-06-21 23:53:54 [1.0870302949997495, 1.0322399940005198, 1.0197278900004676, 1.0279579600000943, 1.0439905240000371, 1.027595440999903, 1.0281165679998594, 1.0097225499994238, 1.0238079750006364, 1.0436099190001187]\n",
      "search: k= 10 [1.034379911600081]\n",
      "k= 11  times: 10   time: 2020-06-21 23:53:54 [0.001047558000209392, 0.0015533139994658995, 0.0014616770004067803, 0.0011049640006604022, 0.0013420459999906598, 0.0011062769999625743, 0.0011170019997734926, 0.0011033999999199295, 0.0011066570004913956, 0.0011441099995863624] \n",
      "insert: k= 11 [0.00069973170020603, 0.0012087005000466888]\n",
      "k= 11  times: 10   time: 2020-06-21 23:54:05 [1.1438700070002596, 1.1154775280001559, 1.1136694390006596, 1.1606296719992315, 1.1364990279998892, 1.149906288999773, 1.1639188970002579, 1.1716870069994911, 1.1427240479997636, 1.173092877000272]\n",
      "search: k= 11 [1.034379911600081, 1.1471474791999754]\n",
      "k= 12  times: 10   time: 2020-06-21 23:54:05 [0.002258827999867208, 0.0020994759997847723, 0.0021417130001282203, 0.0021414980001281947, 0.0022653360001640976, 0.002143984000213095, 0.0022495829998661065, 0.0022167429997352883, 0.0021347550000427873, 0.0023321250000662985] \n",
      "insert: k= 12 [0.00069973170020603, 0.0012087005000466888, 0.002198404099999607]\n",
      "k= 12  times: 10   time: 2020-06-21 23:54:18 [1.3591614830002072, 1.2607008919994769, 1.280542241999683, 1.2326585139999224, 1.2601247049997255, 1.2945977819999825, 1.2632253740002852, 1.2831271929999275, 1.2912419949998366, 1.2563477769999736]\n",
      "search: k= 12 [1.034379911600081, 1.1471474791999754, 1.278172795699902]\n",
      "k= 13  times: 10   time: 2020-06-21 23:54:18 [0.004865168999458547, 0.004293056999813416, 0.004254779999428138, 0.004628942000636016, 0.004326154999944265, 0.004265321999810112, 0.004272596000191697, 0.004712603000371018, 0.0044665209998129285, 0.004329194000092684] \n",
      "insert: k= 13 [0.00069973170020603, 0.0012087005000466888, 0.002198404099999607, 0.004441433899955882]\n",
      "k= 13  times: 10   time: 2020-06-21 23:54:32 [1.3634923769996021, 1.366213303999757, 1.285674009000104, 1.3326780500001405, 1.370146289999866, 1.3618671410004026, 1.4069812389998333, 1.377021130000685, 1.3742132520001178, 1.3717555889998039]\n",
      "search: k= 13 [1.034379911600081, 1.1471474791999754, 1.278172795699902, 1.3610042381000311]\n",
      "k= 14  times: 10   time: 2020-06-21 23:54:32 [0.009353765999549069, 0.008919539999624249, 0.008744301000660926, 0.0092373570005293, 0.00989533299980394, 0.008858803999828524, 0.00931067500005156, 0.009712200000649318, 0.008332672000506136, 0.010010205999606114] \n",
      "insert: k= 14 [0.00069973170020603, 0.0012087005000466888, 0.002198404099999607, 0.004441433899955882, 0.009237485400080913]\n",
      "k= 14  times: 10   time: 2020-06-21 23:54:46 [1.4708684410006754, 1.4898609470001247, 1.509308921000411, 1.4527846539995153, 1.4716464389994144, 1.4741197670000474, 1.4694536130000415, 1.4280010379998203, 1.488079634999849, 1.443815554000139]\n",
      "search: k= 14 [1.034379911600081, 1.1471474791999754, 1.278172795699902, 1.3610042381000311, 1.4697939009000038]\n",
      "k= 15  times: 10   time: 2020-06-21 23:54:47 [0.02064183799939201, 0.019783079999797337, 0.01855707600043388, 0.018502410000110103, 0.019147578999763937, 0.01875603600001341, 0.017941654000424023, 0.018992868000168528, 0.019134362999466248, 0.018122340000445547] \n",
      "insert: k= 15 [0.00069973170020603, 0.0012087005000466888, 0.002198404099999607, 0.004441433899955882, 0.009237485400080913, 0.0189579244000015]\n",
      "k= 15  times: 10   time: 2020-06-21 23:55:02 [1.603520796000339, 1.5091230449997965, 1.5137802509998437, 1.518476424000255, 1.5442434440001307, 1.5432314780000524, 1.4689734710000266, 1.5139579749993572, 1.509887957000501, 1.4306838809998226]\n",
      "search: k= 15 [1.034379911600081, 1.1471474791999754, 1.278172795699902, 1.3610042381000311, 1.4697939009000038, 1.5155878722000125]\n",
      "k= 16  times: 10   time: 2020-06-21 23:55:02 [0.03643482900042727, 0.034215441000014835, 0.03295226799946249, 0.03361622000011266, 0.03453530899969337, 0.033740748000127496, 0.03415528500045184, 0.03581282300001476, 0.03575617900060024, 0.03694658700078435] \n",
      "insert: k= 16 [0.00069973170020603, 0.0012087005000466888, 0.002198404099999607, 0.004441433899955882, 0.009237485400080913, 0.0189579244000015, 0.03481656890016893]\n",
      "k= 16  times: 10   time: 2020-06-21 23:55:18 [1.5892107099998611, 1.6079183330002706, 1.6085738540004968, 1.6482763089998116, 1.6265821460001462, 1.5987009029995534, 1.6174486190002426, 1.613780399999996, 1.6366080249999868, 1.599815815000511]\n",
      "search: k= 16 [1.034379911600081, 1.1471474791999754, 1.278172795699902, 1.3610042381000311, 1.4697939009000038, 1.5155878722000125, 1.6146915114000877]\n",
      "k= 17  times: 10   time: 2020-06-21 23:55:19 [0.07588895600019896, 0.07337059499968746, 0.07348412900046242, 0.07455730099991342, 0.08234413700029108, 0.07479041799979314, 0.07629387399992993, 0.0716817219999939, 0.07718975900024816, 0.08231418099967414] \n",
      "insert: k= 17 [0.00069973170020603, 0.0012087005000466888, 0.002198404099999607, 0.004441433899955882, 0.009237485400080913, 0.0189579244000015, 0.03481656890016893, 0.07619150720001926]\n",
      "k= 17  times: 10   time: 2020-06-21 23:55:36 [1.7320245440005237, 1.7538982790001683, 1.7187408780000624, 1.7416609319998315, 1.6831317500000296, 1.7094496909994632, 1.7043376430001445, 1.7013885090000258, 1.7131497509999463, 1.718953564000003]\n",
      "search: k= 17 [1.034379911600081, 1.1471474791999754, 1.278172795699902, 1.3610042381000311, 1.4697939009000038, 1.5155878722000125, 1.6146915114000877, 1.7176735541000199]\n",
      "k= 18  times: 10   time: 2020-06-21 23:55:38 [0.14416397500008316, 0.1424861810000948, 0.14259854099964286, 0.14190431099996204, 0.14503702699948917, 0.14335803699941607, 0.14435512999989442, 0.14532940600020083, 0.13914514499992947, 0.14584177799952158] \n",
      "insert: k= 18 [0.00069973170020603, 0.0012087005000466888, 0.002198404099999607, 0.004441433899955882, 0.009237485400080913, 0.0189579244000015, 0.03481656890016893, 0.07619150720001926, 0.14342195309982345]\n",
      "k= 18  times: 10   time: 2020-06-21 23:55:56 [1.842982242999824, 1.8430501490001916, 1.8357435829993847, 1.9128097009997873, 1.8748961829996915, 1.875928682000449, 1.8610916739999084, 1.8782928399996308, 1.835995687999457, 1.79665796900008]\n",
      "search: k= 18 [1.034379911600081, 1.1471474791999754, 1.278172795699902, 1.3610042381000311, 1.4697939009000038, 1.5155878722000125, 1.6146915114000877, 1.7176735541000199, 1.8557448711998403]\n",
      "k= 19  times: 10   time: 2020-06-21 23:55:59 [0.2827644250000958, 0.2875664739995045, 0.28932357499979844, 0.2895456859996557, 0.2925651650002692, 0.29370956499951717, 0.3099888489996374, 0.2924086900002294, 0.290286436000315, 0.3114913750005144] \n",
      "insert: k= 19 [0.00069973170020603, 0.0012087005000466888, 0.002198404099999607, 0.004441433899955882, 0.009237485400080913, 0.0189579244000015, 0.03481656890016893, 0.07619150720001926, 0.14342195309982345, 0.2939650239999537]\n",
      "k= 19  times: 10   time: 2020-06-21 23:56:18 [1.9964534780001486, 1.9407188650002354, 1.9035099259999697, 1.8280019570001969, 1.8504587759998685, 1.8737915869996868, 1.8985457159997168, 1.8873835679996773, 1.9692142019994208, 1.962110309000309]\n",
      "search: k= 19 [1.034379911600081, 1.1471474791999754, 1.278172795699902, 1.3610042381000311, 1.4697939009000038, 1.5155878722000125, 1.6146915114000877, 1.7176735541000199, 1.8557448711998403, 1.911018838399923]\n",
      "k= 20  times: 10   time: 2020-06-21 23:56:25 [0.5793680959995982, 0.5968517569999676, 0.6366972800005897, 0.5784709910003585, 0.5997141540001394, 0.6177824719998171, 0.5769196339997507, 0.6565302549997796, 0.5725027110001975, 0.566590279000593] \n",
      "insert: k= 20 [0.00069973170020603, 0.0012087005000466888, 0.002198404099999607, 0.004441433899955882, 0.009237485400080913, 0.0189579244000015, 0.03481656890016893, 0.07619150720001926, 0.14342195309982345, 0.2939650239999537, 0.5981427629000791]\n"
     ]
    },
    {
     "name": "stdout",
     "output_type": "stream",
     "text": [
      "k= 20  times: 10   time: 2020-06-21 23:56:46 [2.1286616839997805, 2.0195159380000405, 2.0291230429993448, 2.0223210500007553, 2.0261049800001274, 2.0428739839999253, 2.115548923999995, 2.0739821349998238, 2.3026142250000703, 2.39399302000038]\n",
      "search: k= 20 [1.034379911600081, 1.1471474791999754, 1.278172795699902, 1.3610042381000311, 1.4697939009000038, 1.5155878722000125, 1.6146915114000877, 1.7176735541000199, 1.8557448711998403, 1.911018838399923, 2.1154738983000243]\n",
      "k= 21  times: 10   time: 2020-06-21 23:56:59 [1.321792835999986, 1.4097582909998891, 1.2603521060000276, 1.3459105299998555, 1.2427762249999432, 1.260772559000543, 1.3535595390003436, 1.2427884720000293, 1.1865669429998889, 1.212769992000176] \n",
      "insert: k= 21 [0.00069973170020603, 0.0012087005000466888, 0.002198404099999607, 0.004441433899955882, 0.009237485400080913, 0.0189579244000015, 0.03481656890016893, 0.07619150720001926, 0.14342195309982345, 0.2939650239999537, 0.5981427629000791, 1.2837047493000682]\n",
      "k= 21  times: 10   time: 2020-06-21 23:57:21 [2.212759955000365, 2.236736347999795, 2.423813627000527, 2.1446333880003294, 2.1659260830001585, 2.1588387110004987, 2.1812467669997204, 2.1844823960000213, 2.1671999870004583, 2.1442535240003053]\n",
      "search: k= 21 [1.034379911600081, 1.1471474791999754, 1.278172795699902, 1.3610042381000311, 1.4697939009000038, 1.5155878722000125, 1.6146915114000877, 1.7176735541000199, 1.8557448711998403, 1.911018838399923, 2.1154738983000243, 2.201989078600218]\n",
      "k= 22  times: 10   time: 2020-06-21 23:57:45 [2.3785304539997014, 2.3691195109995533, 2.3725571810000474, 2.399839716000315, 2.372529233000023, 2.3897636370002147, 2.4356901809997, 2.426837016000718, 2.3801106780001646, 2.4350080719996186] \n",
      "insert: k= 22 [0.00069973170020603, 0.0012087005000466888, 0.002198404099999607, 0.004441433899955882, 0.009237485400080913, 0.0189579244000015, 0.03481656890016893, 0.07619150720001926, 0.14342195309982345, 0.2939650239999537, 0.5981427629000791, 1.2837047493000682, 2.3959985679000058]\n",
      "k= 22  times: 10   time: 2020-06-21 23:58:08 [2.4443090779996055, 2.733596373000182, 2.2882507559997975, 2.2818606279997766, 2.1970863979995556, 2.1162954480005283, 2.2014882170005876, 2.2323842260002493, 2.251768996999999, 2.1878413319991523]\n",
      "search: k= 22 [1.034379911600081, 1.1471474791999754, 1.278172795699902, 1.3610042381000311, 1.4697939009000038, 1.5155878722000125, 1.6146915114000877, 1.7176735541000199, 1.8557448711998403, 1.911018838399923, 2.1154738983000243, 2.201989078600218, 2.2934881452999436]\n",
      "k= 23  times: 10   time: 2020-06-21 23:58:58 [4.889075583000704, 5.109311178000098, 5.024571571999331, 4.8844774409999445, 5.024503495000317, 4.821170590999827, 4.915530518999731, 5.034360701999503, 4.985295710000173, 4.834787483999207] \n",
      "insert: k= 23 [0.00069973170020603, 0.0012087005000466888, 0.002198404099999607, 0.004441433899955882, 0.009237485400080913, 0.0189579244000015, 0.03481656890016893, 0.07619150720001926, 0.14342195309982345, 0.2939650239999537, 0.5981427629000791, 1.2837047493000682, 2.3959985679000058, 4.952308427499884]\n",
      "k= 23  times: 10   time: 2020-06-21 23:59:21 [2.373346786000184, 2.373608597999919, 2.3192774590006593, 2.345116178999888, 2.2145557179992466, 2.1600225210004282, 2.2633760839999013, 2.2935270520001723, 2.2614692739998645, 2.368894346000161]\n",
      "search: k= 23 [1.034379911600081, 1.1471474791999754, 1.278172795699902, 1.3610042381000311, 1.4697939009000038, 1.5155878722000125, 1.6146915114000877, 1.7176735541000199, 1.8557448711998403, 1.911018838399923, 2.1154738983000243, 2.201989078600218, 2.2934881452999436, 2.2973194017000425]\n",
      "k= 24  times: 10   time: 2020-06-22 00:00:55 [9.306161659999816, 9.241628957999637, 9.352746530000331, 9.544419212999856, 9.698564056999203, 9.59883736699976, 9.103283419000036, 9.2241915959994, 9.042695432000073, 8.988892444999692] \n",
      "insert: k= 24 [0.00069973170020603, 0.0012087005000466888, 0.002198404099999607, 0.004441433899955882, 0.009237485400080913, 0.0189579244000015, 0.03481656890016893, 0.07619150720001926, 0.14342195309982345, 0.2939650239999537, 0.5981427629000791, 1.2837047493000682, 2.3959985679000058, 4.952308427499884, 9.31014206769978]\n",
      "k= 24  times: 10   time: 2020-06-22 00:01:19 [2.31052303100023, 2.332165060999614, 2.325938727999528, 2.321999364000476, 2.3629108509994694, 2.325757751999845, 2.380711578000046, 2.3892448719998356, 2.347346663999815, 2.39441716500005]\n",
      "search: k= 24 [1.034379911600081, 1.1471474791999754, 1.278172795699902, 1.3610042381000311, 1.4697939009000038, 1.5155878722000125, 1.6146915114000877, 1.7176735541000199, 1.8557448711998403, 1.911018838399923, 2.1154738983000243, 2.201989078600218, 2.2934881452999436, 2.2973194017000425, 2.349101506599891]\n",
      "k= 25  times: 10   time: 2020-06-22 00:04:31 [19.023831846000576, 18.80682146199979, 18.964834225999766, 18.85138644899962, 18.496248449999257, 18.65472163800041, 18.71334561799995, 18.955542046999653, 19.21864042800007, 18.830025031999867] \n",
      "insert: k= 25 [0.00069973170020603, 0.0012087005000466888, 0.002198404099999607, 0.004441433899955882, 0.009237485400080913, 0.0189579244000015, 0.03481656890016893, 0.07619150720001926, 0.14342195309982345, 0.2939650239999537, 0.5981427629000791, 1.2837047493000682, 2.3959985679000058, 4.952308427499884, 9.31014206769978, 18.851539719599895]\n",
      "k= 25  times: 10   time: 2020-06-22 00:04:56 [2.4774980230004076, 2.5070513649998247, 2.539580184999977, 2.4678084199995283, 2.504965054999957, 2.498200607000399, 2.545753825999782, 2.5389058589998967, 2.533336323000185, 2.5130694870003936]\n",
      "search: k= 25 [1.034379911600081, 1.1471474791999754, 1.278172795699902, 1.3610042381000311, 1.4697939009000038, 1.5155878722000125, 1.6146915114000877, 1.7176735541000199, 1.8557448711998403, 1.911018838399923, 2.1154738983000243, 2.201989078600218, 2.2934881452999436, 2.2973194017000425, 2.349101506599891, 2.5126169150000353]\n",
      "k= 26  times: 10   time: 2020-06-22 00:11:02 [37.70296802499979, 36.464416931000414, 35.46397792500011, 35.787837316999685, 35.61227092199988, 35.920903569000075, 35.90164866300074, 35.87074726799983, 35.973584700000174, 35.89478769999914] \n",
      "insert: k= 26 [0.00069973170020603, 0.0012087005000466888, 0.002198404099999607, 0.004441433899955882, 0.009237485400080913, 0.0189579244000015, 0.03481656890016893, 0.07619150720001926, 0.14342195309982345, 0.2939650239999537, 0.5981427629000791, 1.2837047493000682, 2.3959985679000058, 4.952308427499884, 9.31014206769978, 18.851539719599895, 36.05931430199998]\n",
      "k= 26  times: 10   time: 2020-06-22 00:11:27 [2.5071496289992865, 2.480941814000289, 2.4788015590002033, 2.455076328999894, 2.458989866999218, 2.483389871000327, 2.4960264849996747, 2.4986174670002583, 2.4776798309994774, 2.4650659119997727]\n",
      "search: k= 26 [1.034379911600081, 1.1471474791999754, 1.278172795699902, 1.3610042381000311, 1.4697939009000038, 1.5155878722000125, 1.6146915114000877, 1.7176735541000199, 1.8557448711998403, 1.911018838399923, 2.1154738983000243, 2.201989078600218, 2.2934881452999436, 2.2973194017000425, 2.349101506599891, 2.5126169150000353, 2.48017387639984]\n",
      "k= 27  times: 10   time: 2020-06-22 00:24:07 [75.89059817299949, 73.93070575900038, 75.03304020999894, 74.49378135000006, 73.06305741600045, 74.45591161699849, 74.81006993399933, 75.83284924600048, 74.02230187699934, 75.38829228299983] \n",
      "insert: k= 27 [0.00069973170020603, 0.0012087005000466888, 0.002198404099999607, 0.004441433899955882, 0.009237485400080913, 0.0189579244000015, 0.03481656890016893, 0.07619150720001926, 0.14342195309982345, 0.2939650239999537, 0.5981427629000791, 1.2837047493000682, 2.3959985679000058, 4.952308427499884, 9.31014206769978, 18.851539719599895, 36.05931430199998, 74.69206078649968]\n",
      "k= 27  times: 10   time: 2020-06-22 00:24:33 [2.550119965000704, 2.5753944360003516, 2.589343554998777, 2.558023219000461, 2.551882354000554, 2.545298282000658, 2.6276279619996785, 2.5364018350010156, 2.553518017000897, 2.5578153719998227]\n",
      "search: k= 27 [1.034379911600081, 1.1471474791999754, 1.278172795699902, 1.3610042381000311, 1.4697939009000038, 1.5155878722000125, 1.6146915114000877, 1.7176735541000199, 1.8557448711998403, 1.911018838399923, 2.1154738983000243, 2.201989078600218, 2.2934881452999436, 2.2973194017000425, 2.349101506599891, 2.5126169150000353, 2.48017387639984, 2.564542499700292]\n"
     ]
    },
    {
     "name": "stdout",
     "output_type": "stream",
     "text": [
      "k= 28  times: 10   time: 2020-06-22 00:49:25 [145.6722993759995, 156.6124398409993, 150.20003142600035, 143.13788258500063, 145.27903854200122, 145.10013251599958, 145.0419813490007, 145.26352738199967, 144.0235656219993, 145.1427261480003] \n",
      "insert: k= 28 [0.00069973170020603, 0.0012087005000466888, 0.002198404099999607, 0.004441433899955882, 0.009237485400080913, 0.0189579244000015, 0.03481656890016893, 0.07619150720001926, 0.14342195309982345, 0.2939650239999537, 0.5981427629000791, 1.2837047493000682, 2.3959985679000058, 4.952308427499884, 9.31014206769978, 18.851539719599895, 36.05931430199998, 74.69206078649968, 146.54736247870005]\n",
      "k= 28  times: 10   time: 2020-06-22 00:49:52 [2.7489653800002998, 2.714353765000851, 2.6733553689991822, 2.6464128449988493, 2.6644902160005586, 2.648535307000202, 2.7174106359998405, 2.670459615999789, 2.6484881670003233, 2.654993756999829]\n",
      "search: k= 28 [1.034379911600081, 1.1471474791999754, 1.278172795699902, 1.3610042381000311, 1.4697939009000038, 1.5155878722000125, 1.6146915114000877, 1.7176735541000199, 1.8557448711998403, 1.911018838399923, 2.1154738983000243, 2.201989078600218, 2.2934881452999436, 2.2973194017000425, 2.349101506599891, 2.5126169150000353, 2.48017387639984, 2.564542499700292, 2.6787465057999724]\n",
      "k= 29  times: 10   time: 2020-06-22 01:42:16 [305.98703965800087, 305.5146293710004, 308.79507313299837, 315.02411621600004, 301.9567935110008, 304.60660521799946, 314.81065950500124, 309.3196048539994, 307.7816576749992, 311.7509511160006] \n",
      "insert: k= 29 [0.00069973170020603, 0.0012087005000466888, 0.002198404099999607, 0.004441433899955882, 0.009237485400080913, 0.0189579244000015, 0.03481656890016893, 0.07619150720001926, 0.14342195309982345, 0.2939650239999537, 0.5981427629000791, 1.2837047493000682, 2.3959985679000058, 4.952308427499884, 9.31014206769978, 18.851539719599895, 36.05931430199998, 74.69206078649968, 146.54736247870005, 308.55471302570004]\n",
      "k= 29  times: 10   time: 2020-06-22 01:42:44 [2.8490200960004586, 2.8109716330000083, 2.843566732999534, 2.8553097950007214, 3.0022626150002907, 2.923947159000818, 2.8538242089998676, 2.775020900000527, 2.7595953500003816, 2.743200634000459]\n",
      "search: k= 29 [1.034379911600081, 1.1471474791999754, 1.278172795699902, 1.3610042381000311, 1.4697939009000038, 1.5155878722000125, 1.6146915114000877, 1.7176735541000199, 1.8557448711998403, 1.911018838399923, 2.1154738983000243, 2.201989078600218, 2.2934881452999436, 2.2973194017000425, 2.349101506599891, 2.5126169150000353, 2.48017387639984, 2.564542499700292, 2.6787465057999724, 2.8416719124003067]\n",
      "k= 30  times: 1   time: 2020-06-22 01:53:43 [647.7037981899994] "
     ]
    },
    {
     "ename": "KeyboardInterrupt",
     "evalue": "",
     "output_type": "error",
     "traceback": [
      "\u001b[0;31m---------------------------------------------------------------------------\u001b[0m",
      "\u001b[0;31mKeyboardInterrupt\u001b[0m                         Traceback (most recent call last)",
      "\u001b[0;32m<ipython-input-8-dce56c79002c>\u001b[0m in \u001b[0;36m<module>\u001b[0;34m\u001b[0m\n\u001b[1;32m     10\u001b[0m         \u001b[0mt\u001b[0m \u001b[0;34m=\u001b[0m \u001b[0mtime\u001b[0m\u001b[0;34m.\u001b[0m\u001b[0mperf_counter\u001b[0m\u001b[0;34m(\u001b[0m\u001b[0;34m)\u001b[0m\u001b[0;34m\u001b[0m\u001b[0;34m\u001b[0m\u001b[0m\n\u001b[1;32m     11\u001b[0m         \u001b[0;32mfor\u001b[0m \u001b[0mi\u001b[0m \u001b[0;32min\u001b[0m \u001b[0minsert_array\u001b[0m\u001b[0;34m:\u001b[0m\u001b[0;34m\u001b[0m\u001b[0;34m\u001b[0m\u001b[0m\n\u001b[0;32m---> 12\u001b[0;31m             \u001b[0minsertSorted\u001b[0m\u001b[0;34m(\u001b[0m\u001b[0msn\u001b[0m\u001b[0;34m,\u001b[0m \u001b[0mlen\u001b[0m\u001b[0;34m(\u001b[0m\u001b[0msn\u001b[0m\u001b[0;34m)\u001b[0m\u001b[0;34m,\u001b[0m \u001b[0mi\u001b[0m\u001b[0;34m,\u001b[0m \u001b[0;36m2\u001b[0m\u001b[0;34m**\u001b[0m\u001b[0mk\u001b[0m\u001b[0;34m)\u001b[0m\u001b[0;34m\u001b[0m\u001b[0;34m\u001b[0m\u001b[0m\n\u001b[0m\u001b[1;32m     13\u001b[0m         \u001b[0mt\u001b[0m \u001b[0;34m=\u001b[0m \u001b[0mtime\u001b[0m\u001b[0;34m.\u001b[0m\u001b[0mperf_counter\u001b[0m\u001b[0;34m(\u001b[0m\u001b[0;34m)\u001b[0m \u001b[0;34m-\u001b[0m \u001b[0mt\u001b[0m\u001b[0;34m\u001b[0m\u001b[0;34m\u001b[0m\u001b[0m\n\u001b[1;32m     14\u001b[0m         \u001b[0mt_insert_\u001b[0m\u001b[0;34m.\u001b[0m\u001b[0mappend\u001b[0m\u001b[0;34m(\u001b[0m\u001b[0mt\u001b[0m\u001b[0;34m)\u001b[0m\u001b[0;34m\u001b[0m\u001b[0;34m\u001b[0m\u001b[0m\n",
      "\u001b[0;31mKeyboardInterrupt\u001b[0m: "
     ]
    }
   ],
   "source": [
    "t_insert = []\n",
    "t_search = []\n",
    "for k in range(10,31):\n",
    "    \n",
    "    #insert part\n",
    "    t_insert_ =[]\n",
    "    for times in range(10):   \n",
    "        insert_array = random_array(k)\n",
    "        sn = np.empty(2**k, dtype=np.int)\n",
    "        t = time.perf_counter()\n",
    "        for i in insert_array:\n",
    "            insertSorted(sn, len(sn), i, 2**k)\n",
    "        t = time.perf_counter() - t\n",
    "        t_insert_.append(t)\n",
    "        print('\\rk=', k,' times:',times+1,'  time:',time.strftime(\"%Y-%m-%d %H:%M:%S\", time.localtime()),t_insert_,end=' ')\n",
    "    t_insert.append(np.mean(t_insert_))\n",
    "    print('\\ninsert: k=',k, t_insert)\n",
    "    \n",
    "    #search part\n",
    "    t_search_=[]\n",
    "    for times in range(10):\n",
    "        search_array = random_array(17)\n",
    "        t = time.perf_counter()\n",
    "        for i in search_array:\n",
    "            binarySearch(sn,0, 2**k-1, i)\n",
    "        t = time.perf_counter() - t\n",
    "        t_search_.append(t)\n",
    "        print('\\rk=', k,' times:',times+1,'  time:',time.strftime(\"%Y-%m-%d %H:%M:%S\", time.localtime()),t_search_,end='')\n",
    "    t_search.append(np.mean(t_search_))\n",
    "    print('\\nsearch: k=',k, t_search)  "
   ]
  },
  {
   "cell_type": "markdown",
   "metadata": {},
   "source": [
    "## 結果與估計"
   ]
  },
  {
   "cell_type": "code",
   "execution_count": 21,
   "metadata": {},
   "outputs": [],
   "source": [
    "bst_insert = [0.004908217600132048, 0.009805989599772146, 0.02051322409988643, 0.05346899569976813, 0.11057222529998398, 0.63468817319972, 0.9130717539999751, 1.9463605415996426, 4.105034910200447, 9.258099649699762, 19.056327378199967, 41.5396213703003, 87.03604513199953, 186.11110366640006, 403.1603094492999]\n",
    "bst_search = [0.5356921934004276, 0.7324735537002198, 0.6568124792000163, 0.7320222499998635, 0.8251145321997683, 0.9309369897002397, 1.0108736004000094, 1.084169951000149, 1.410016493099829, 1.3715945351999834, 1.6797951615002602, 1.753941152200241, 2.1143930467998873, 2.1794235209001274, 2.4511935842998356]"
   ]
  },
  {
   "cell_type": "code",
   "execution_count": 22,
   "metadata": {},
   "outputs": [],
   "source": [
    "sl_insert = [0.007793397799999902, 0.01576763920000044, 0.03178932870000004, 0.07101150379999979, 0.1503987550000005, 0.3391832906999987, 0.7896683678999992, 2.0858991657999995, 4.701955632899997, 11.758578198299997, 27.416465768300007, 63.605317971099986, 141.15687210200002, 316.7572501347]\n",
    "sl_search = [0.5133439301000001, 0.5659911877999996, 0.6519606807999996, 0.7454093611000001, 0.8495624667000008, 0.9303514021999988, 1.0822544461000008, 1.224089910699999, 1.4837063988000012, 1.7463667919999921, 2.050027911400002, 2.336280125300027, 2.720367298499923, 2.764417333200072]"
   ]
  },
  {
   "cell_type": "code",
   "execution_count": 23,
   "metadata": {},
   "outputs": [],
   "source": [
    "sn_insert = [0.00069973170020603, 0.0012087005000466888, 0.002198404099999607, 0.004441433899955882, 0.009237485400080913, 0.0189579244000015, 0.03481656890016893, 0.07619150720001926, 0.14342195309982345, 0.2939650239999537, 0.5981427629000791, 1.2837047493000682, 2.3959985679000058, 4.952308427499884, 9.31014206769978, 18.851539719599895, 36.05931430199998, 74.69206078649968, 146.54736247870005, 308.55471302570004]\n",
    "sn_search = [1.034379911600081, 1.1471474791999754, 1.278172795699902, 1.3610042381000311, 1.4697939009000038, 1.5155878722000125, 1.6146915114000877, 1.7176735541000199, 1.8557448711998403, 1.911018838399923, 2.1154738983000243, 2.201989078600218, 2.2934881452999436, 2.2973194017000425, 2.349101506599891, 2.5126169150000353, 2.48017387639984, 2.564542499700292, 2.6787465057999724, 2.8416719124003067]"
   ]
  },
  {
   "cell_type": "markdown",
   "metadata": {},
   "source": [
    "估計方法：假設等比或等差 看（公）差和（公）比\n"
   ]
  },
  {
   "cell_type": "code",
   "execution_count": 24,
   "metadata": {},
   "outputs": [],
   "source": [
    "def checkway(t_list):\n",
    "    print('比值：')\n",
    "    r=[]\n",
    "    for i in range(len(t_list)-1):\n",
    "        e = t_list[i+1]/t_list[i]\n",
    "        print(e)\n",
    "        r.append(e)\n",
    "    print('平均比值',np.mean(r))\n",
    "    print('差：')\n",
    "    d=[]\n",
    "    for i in range(len(t_list)-1):\n",
    "        e = t_list[i+1]-t_list[i]\n",
    "        print(e)\n",
    "        d.append(e)\n",
    "    print('平均差',np.mean(d))"
   ]
  },
  {
   "cell_type": "code",
   "execution_count": 25,
   "metadata": {},
   "outputs": [],
   "source": [
    "def estim(t_list,way,r):\n",
    "    if way=='r':\n",
    "        while len(t_list)<21:\n",
    "            t_list.append(t_list[-1]*r)\n",
    "        print(t_list)\n",
    "    elif way=='d':\n",
    "        while len(t_list)<21:\n",
    "            t_list.append(t_list[-1]+r)\n",
    "        print(t_list)\n",
    "    else:\n",
    "        print('error')"
   ]
  },
  {
   "cell_type": "code",
   "execution_count": 26,
   "metadata": {},
   "outputs": [
    {
     "name": "stdout",
     "output_type": "stream",
     "text": [
      "比值：\n",
      "1.9978718138960123\n",
      "2.091907592922909\n",
      "2.6065622565915496\n",
      "2.0679689949827034\n",
      "5.740032557704272\n",
      "1.4386147285474231\n",
      "2.131662197492198\n",
      "2.1090824759664875\n",
      "2.2553035119615323\n",
      "2.058341139028241\n",
      "2.1798335296139353\n",
      "2.0952536942050206\n",
      "2.138322155885444\n",
      "2.1662345851860385\n",
      "平均比值 2.36264223099884\n",
      "差：\n",
      "0.0048977719996400985\n",
      "0.010707234500114283\n",
      "0.0329557715998817\n",
      "0.05710322960021585\n",
      "0.524115947899736\n",
      "0.27838358080025505\n",
      "1.0332887875996675\n",
      "2.1586743686008045\n",
      "5.153064739499315\n",
      "9.798227728500205\n",
      "22.483293992100336\n",
      "45.496423761699226\n",
      "99.07505853440053\n",
      "217.04920578289986\n",
      "平均差 28.796814373692843\n"
     ]
    }
   ],
   "source": [
    "checkway(bst_insert)"
   ]
  },
  {
   "cell_type": "code",
   "execution_count": 27,
   "metadata": {},
   "outputs": [
    {
     "name": "stdout",
     "output_type": "stream",
     "text": [
      "[0.004908217600132048, 0.009805989599772146, 0.02051322409988643, 0.05346899569976813, 0.11057222529998398, 0.63468817319972, 0.9130717539999751, 1.9463605415996426, 4.105034910200447, 9.258099649699762, 19.056327378199967, 41.5396213703003, 87.03604513199953, 186.11110366640006, 403.1603094492999, 952.5235729674768, 2250.472419514866, 5317.061178043961, 12562.313284051106, 29680.25188393687, 70123.81652767214]\n"
     ]
    }
   ],
   "source": [
    "estim(bst_insert,'r',2.36264223099884)"
   ]
  },
  {
   "cell_type": "code",
   "execution_count": 28,
   "metadata": {},
   "outputs": [
    {
     "name": "stdout",
     "output_type": "stream",
     "text": [
      "比值：\n",
      "1.3673403546366392\n",
      "0.8967047013260913\n",
      "1.1145072196122874\n",
      "1.1271713833833905\n",
      "1.1282518406485305\n",
      "1.0858668326472978\n",
      "1.0725079283613064\n",
      "1.300549320518509\n",
      "0.9727507032095934\n",
      "1.2247024309231007\n",
      "1.0441399001493488\n",
      "1.20550968551452\n",
      "1.0307560953242176\n",
      "1.124698141868022\n",
      "平均比值 1.1211040384373467\n",
      "差：\n",
      "0.1967813602997922\n",
      "-0.07566107450020354\n",
      "0.07520977079984725\n",
      "0.09309228219990473\n",
      "0.10582245750047148\n",
      "0.07993661069976965\n",
      "0.07329635060013961\n",
      "0.3258465420996799\n",
      "-0.03842195789984548\n",
      "0.3082006263002768\n",
      "0.07414599069998085\n",
      "0.3604518945996462\n",
      "0.0650304741002401\n",
      "0.2717700633997082\n",
      "平均差 0.13682152792138627\n"
     ]
    }
   ],
   "source": [
    "checkway(bst_search)"
   ]
  },
  {
   "cell_type": "markdown",
   "metadata": {},
   "source": [
    "* 用公差是因為全距較小"
   ]
  },
  {
   "cell_type": "code",
   "execution_count": 29,
   "metadata": {},
   "outputs": [
    {
     "name": "stdout",
     "output_type": "stream",
     "text": [
      "[0.5356921934004276, 0.7324735537002198, 0.6568124792000163, 0.7320222499998635, 0.8251145321997683, 0.9309369897002397, 1.0108736004000094, 1.084169951000149, 1.410016493099829, 1.3715945351999834, 1.6797951615002602, 1.753941152200241, 2.1143930467998873, 2.1794235209001274, 2.4511935842998356, 2.588015112221222, 2.7248366401426085, 2.861658168063995, 2.9984796959853814, 3.135301223906768, 3.2721227518281544]\n"
     ]
    }
   ],
   "source": [
    "estim(bst_search, 'd', 0.13682152792138627)"
   ]
  },
  {
   "cell_type": "code",
   "execution_count": 30,
   "metadata": {},
   "outputs": [
    {
     "name": "stdout",
     "output_type": "stream",
     "text": [
      "比值：\n",
      "2.023204718229658\n",
      "2.0161121330071503\n",
      "2.2338157710137394\n",
      "2.1179491624848668\n",
      "2.2552267184658383\n",
      "2.328146431595435\n",
      "2.6414875542591703\n",
      "2.254162478221553\n",
      "2.5007845918460374\n",
      "2.331614018798953\n",
      "2.319967807252638\n",
      "2.2192621089660576\n",
      "2.2440087076016466\n",
      "平均比值 2.268134015518673\n",
      "差：\n",
      "0.007974241400000538\n",
      "0.016021689499999603\n",
      "0.03922217509999975\n",
      "0.0793872512000007\n",
      "0.1887845356999982\n",
      "0.45048507720000047\n",
      "1.2962307979000003\n",
      "2.6160564670999977\n",
      "7.0566225654\n",
      "15.65788757000001\n",
      "36.18885220279998\n",
      "77.55155413090003\n",
      "175.60037803269995\n",
      "平均差 24.36534282591538\n"
     ]
    }
   ],
   "source": [
    "checkway(sl_insert)"
   ]
  },
  {
   "cell_type": "code",
   "execution_count": 32,
   "metadata": {},
   "outputs": [
    {
     "name": "stdout",
     "output_type": "stream",
     "text": [
      "[0.007793397799999902, 0.01576763920000044, 0.03178932870000004, 0.07101150379999979, 0.1503987550000005, 0.3391832906999987, 0.7896683678999992, 2.0858991657999995, 4.701955632899997, 11.758578198299997, 27.416465768300007, 63.605317971099986, 141.15687210200002, 316.7572501347, 718.4478936926697, 1629.5361060620876, 3696.0062716752645, 8383.037546357016, 19013.85261226254, 43125.965875931244, 97815.4701552972]\n"
     ]
    }
   ],
   "source": [
    "estim(sl_insert,'r', 2.268134015518673)"
   ]
  },
  {
   "cell_type": "code",
   "execution_count": 33,
   "metadata": {},
   "outputs": [
    {
     "name": "stdout",
     "output_type": "stream",
     "text": [
      "比值：\n",
      "1.1025574758227759\n",
      "1.1518919284488551\n",
      "1.1433348406614532\n",
      "1.1397260499201431\n",
      "1.0950947560263704\n",
      "1.1632749126198954\n",
      "1.1310555619439724\n",
      "1.2120893946029994\n",
      "1.1770298985112058\n",
      "1.17388163860597\n",
      "1.1396333251406991\n",
      "1.1644011645010124\n",
      "1.0161926791005167\n",
      "平均比值 1.139243355838913\n",
      "差：\n",
      "0.05264725769999945\n",
      "0.08596949300000001\n",
      "0.09344868030000053\n",
      "0.10415310560000068\n",
      "0.080788935499998\n",
      "0.15190304390000198\n",
      "0.14183546459999818\n",
      "0.25961648810000226\n",
      "0.2626603931999909\n",
      "0.30366111940001006\n",
      "0.286252213900025\n",
      "0.3840871731998958\n",
      "0.0440500347001489\n",
      "平均差 0.17315949254615934\n"
     ]
    }
   ],
   "source": [
    "checkway(sl_search)"
   ]
  },
  {
   "cell_type": "code",
   "execution_count": 35,
   "metadata": {},
   "outputs": [
    {
     "name": "stdout",
     "output_type": "stream",
     "text": [
      "[0.5133439301000001, 0.5659911877999996, 0.6519606807999996, 0.7454093611000001, 0.8495624667000008, 0.9303514021999988, 1.0822544461000008, 1.224089910699999, 1.4837063988000012, 1.7463667919999921, 2.050027911400002, 2.336280125300027, 2.720367298499923, 2.764417333200072, 3.1493440796141083, 3.5878693179509895, 4.0874562820939575, 4.656607411657567, 5.305009054481121, 6.043696317982891, 6.885240874970111]\n"
     ]
    }
   ],
   "source": [
    "estim(sl_search,'r', 1.139243355838913)"
   ]
  },
  {
   "cell_type": "code",
   "execution_count": 36,
   "metadata": {},
   "outputs": [
    {
     "name": "stdout",
     "output_type": "stream",
     "text": [
      "比值：\n",
      "1.7273770785156615\n",
      "1.818816241008164\n",
      "2.0202991342477374\n",
      "2.079843043520848\n",
      "2.0522819337647284\n",
      "1.8365179734637076\n",
      "2.188369204860091\n",
      "1.8823876619648652\n",
      "2.0496515187974778\n",
      "2.034741258538884\n",
      "2.1461511012455627\n",
      "1.8664716861150579\n",
      "2.0669079246739193\n",
      "1.8799600638766958\n",
      "2.0248391036913005\n",
      "1.912804727802112\n",
      "2.071366642220287\n",
      "1.9620206074858757\n",
      "2.105494823017009\n",
      "平均比值 1.9855948278321045\n",
      "差：\n",
      "0.0005089687998406588\n",
      "0.000989703599952918\n",
      "0.0022430297999562754\n",
      "0.004796051500125031\n",
      "0.009720438999920589\n",
      "0.01585864450016743\n",
      "0.041374938299850325\n",
      "0.06723044589980419\n",
      "0.15054307090013028\n",
      "0.30417773890012534\n",
      "0.6855619863999891\n",
      "1.1122938185999376\n",
      "2.556309859599878\n",
      "4.357833640199897\n",
      "9.541397651900114\n",
      "17.207774582400088\n",
      "38.6327464844997\n",
      "71.85530169220037\n",
      "162.007350547\n",
      "平均差 16.239684910210517\n"
     ]
    }
   ],
   "source": [
    "checkway(sn_insert)"
   ]
  },
  {
   "cell_type": "code",
   "execution_count": 38,
   "metadata": {},
   "outputs": [
    {
     "name": "stdout",
     "output_type": "stream",
     "text": [
      "[0.00069973170020603, 0.0012087005000466888, 0.002198404099999607, 0.004441433899955882, 0.009237485400080913, 0.0189579244000015, 0.03481656890016893, 0.07619150720001926, 0.14342195309982345, 0.2939650239999537, 0.5981427629000791, 1.2837047493000682, 2.3959985679000058, 4.952308427499884, 9.31014206769978, 18.851539719599895, 36.05931430199998, 74.69206078649968, 146.54736247870005, 308.55471302570004, 612.6646422870493]\n"
     ]
    }
   ],
   "source": [
    "estim(sn_insert,'r',1.9855948278321045)"
   ]
  },
  {
   "cell_type": "code",
   "execution_count": 39,
   "metadata": {},
   "outputs": [
    {
     "name": "stdout",
     "output_type": "stream",
     "text": [
      "比值：\n",
      "1.1090194872650363\n",
      "1.1142183711124085\n",
      "1.0648045731209388\n",
      "1.0799333754844465\n",
      "1.0311567297101774\n",
      "1.0653895699602145\n",
      "1.063778153271294\n",
      "1.0803827460522109\n",
      "1.0297853266674233\n",
      "1.106987464378577\n",
      "1.0408963591419003\n",
      "1.0415529157655452\n",
      "1.0016704932214062\n",
      "1.022540228782088\n",
      "1.0696076384697475\n",
      "0.987087948661607\n",
      "1.0340172211727832\n",
      "1.0445319218195943\n",
      "1.060821509705219\n",
      "平均比值 1.0551674754611902\n",
      "差：\n",
      "0.11276756759989448\n",
      "0.13102531649992666\n",
      "0.08283144240012907\n",
      "0.10878966279997271\n",
      "0.04579397130000862\n",
      "0.09910363920007526\n",
      "0.10298204269993216\n",
      "0.13807131709982046\n",
      "0.0552739672000826\n",
      "0.20445505990010138\n",
      "0.08651518030019378\n",
      "0.09149906669972552\n",
      "0.003831256400098848\n",
      "0.05178210489984858\n",
      "0.16351540840014422\n",
      "-0.03244303860019526\n",
      "0.08436862330045214\n",
      "0.11420400609968029\n",
      "0.16292540660033428\n",
      "平均差 0.09512063162106452\n"
     ]
    }
   ],
   "source": [
    "checkway(sn_search)"
   ]
  },
  {
   "cell_type": "code",
   "execution_count": 40,
   "metadata": {},
   "outputs": [
    {
     "name": "stdout",
     "output_type": "stream",
     "text": [
      "[1.034379911600081, 1.1471474791999754, 1.278172795699902, 1.3610042381000311, 1.4697939009000038, 1.5155878722000125, 1.6146915114000877, 1.7176735541000199, 1.8557448711998403, 1.911018838399923, 2.1154738983000243, 2.201989078600218, 2.2934881452999436, 2.2973194017000425, 2.349101506599891, 2.5126169150000353, 2.48017387639984, 2.564542499700292, 2.6787465057999724, 2.8416719124003067, 2.998439777896404]\n"
     ]
    }
   ],
   "source": [
    "estim(sn_search,'r', 1.0551674754611902)"
   ]
  },
  {
   "cell_type": "code",
   "execution_count": null,
   "metadata": {},
   "outputs": [],
   "source": []
  },
  {
   "cell_type": "code",
   "execution_count": 42,
   "metadata": {},
   "outputs": [],
   "source": [
    "import matplotlib.pyplot as plt\n",
    "n=[]\n",
    "for k in range(10,31):\n",
    "    n.append(2**k)"
   ]
  },
  {
   "cell_type": "code",
   "execution_count": 43,
   "metadata": {},
   "outputs": [
    {
     "data": {
      "image/png": "[encoded data removed]",
      "text/plain": [
       "<Figure size 432x288 with 1 Axes>"
      ]
     },
     "metadata": {
      "needs_background": "light"
     },
     "output_type": "display_data"
    }
   ],
   "source": [
    "plt.title('Insert')\n",
    "plt.plot(n, bst_insert,color='green', label='Binary Tree')\n",
    "plt.plot(n, sl_insert,color='red', label= 'Skip List')\n",
    "plt.plot(n, sn_insert,color='blue', label='Sorted Array')\n",
    "plt.xlim((0,max(n)))\n",
    "#plt.ylim((0,10000))\n",
    "plt.grid(True)"
   ]
  },
  {
   "cell_type": "code",
   "execution_count": 44,
   "metadata": {},
   "outputs": [
    {
     "data": {
      "image/png": "[encoded data removed]",
      "text/plain": [
       "<Figure size 432x288 with 1 Axes>"
      ]
     },
     "metadata": {
      "needs_background": "light"
     },
     "output_type": "display_data"
    }
   ],
   "source": [
    "plt.title('Search')\n",
    "plt.plot(n, bst_search,color='green', label='Binary Tree')\n",
    "plt.plot(n, sl_search,color='red', label= 'Skip List')\n",
    "plt.plot(n, sn_search,color='blue', label='Sorted Array')\n",
    "plt.xlim((0,max(n)))\n",
    "#plt.ylim((0,10000))\n",
    "plt.grid(True)"
   ]
  },
  {
   "cell_type": "code",
   "execution_count": null,
   "metadata": {},
   "outputs": [],
   "source": []
  }
 ],
 "metadata": {
  "kernelspec": {
   "display_name": "Python 3",
   "language": "python",
   "name": "python3"
  },
  "language_info": {
   "codemirror_mode": {
    "name": "ipython",
    "version": 3
   },
   "file_extension": ".py",
   "mimetype": "text/x-python",
   "name": "python",
   "nbconvert_exporter": "python",
   "pygments_lexer": "ipython3",
   "version": "3.7.4"
  }
 },
 "nbformat": 4,
 "nbformat_minor": 4
}
