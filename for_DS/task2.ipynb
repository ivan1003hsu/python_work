{
 "cells": [
  {
   "cell_type": "code",
   "execution_count": 53,
   "metadata": {},
   "outputs": [
    {
     "name": "stdout",
     "output_type": "stream",
     "text": [
      ">>3\n",
      "(1,1)\n",
      "(1,2)\n",
      "(1,3)\n",
      "(2,1)\n",
      "(2,2)\n",
      "(2,3)\n",
      "(3,1)\n",
      "(3,2)\n",
      "(3,3)\n"
     ]
    }
   ],
   "source": [
    "n = int(input('>>'))\n",
    "for i in range(n):\n",
    "    for j in range(n):\n",
    "        print('({},{})'.format(i+1,j+1))"
   ]
  },
  {
   "cell_type": "code",
   "execution_count": 55,
   "metadata": {},
   "outputs": [
    {
     "name": "stdout",
     "output_type": "stream",
     "text": [
      "2.1457672119140625e-06\n",
      "5.245208740234375e-06\n",
      "9.059906005859375e-06\n",
      "3.5762786865234375e-05\n",
      "0.00026798248291015625\n",
      "0.0027430057525634766\n",
      "0.0323178768157959\n",
      "0.3205997943878174\n",
      "2.932102918624878\n",
      "29.517899990081787\n",
      "302.06975197792053\n"
     ]
    }
   ],
   "source": [
    "import time\n",
    "import numpy as np\n",
    "x = np.arange(0,5.5,0.5)\n",
    "x_ = 10**x\n",
    "x_ = list(map(int,x_))\n",
    "\n",
    "for u in x_:\n",
    "    t = time.time()\n",
    "    n = u\n",
    "    for i in range(n):\n",
    "        for j in range(n):\n",
    "            #print('({},{})'.format(i+1,j+1), end='\\r')\n",
    "            #time.sleep(0)\n",
    "            #print('                       ',end='\\r')\n",
    "            pass\n",
    "    t = time.time() - t\n",
    "    print(t)"
   ]
  },
  {
   "cell_type": "code",
   "execution_count": 46,
   "metadata": {},
   "outputs": [
    {
     "name": "stdout",
     "output_type": "stream",
     "text": [
      "                         \r"
     ]
    }
   ],
   "source": [
    "l1 = list(map(int,list('123456789')))\n",
    "for i in l1:\n",
    "    print(l1[:-i],end='\\r')\n",
    "    time.sleep(2)\n",
    "    print('                         ',end='\\r')\n"
   ]
  },
  {
   "cell_type": "code",
   "execution_count": 34,
   "metadata": {},
   "outputs": [
    {
     "data": {
      "text/plain": [
       "[123456789]"
      ]
     },
     "execution_count": 34,
     "metadata": {},
     "output_type": "execute_result"
    }
   ],
   "source": []
  },
  {
   "cell_type": "code",
   "execution_count": null,
   "metadata": {},
   "outputs": [],
   "source": []
  }
 ],
 "metadata": {
  "kernelspec": {
   "display_name": "Python 3",
   "language": "python",
   "name": "python3"
  }
 },
 "nbformat": 4,
 "nbformat_minor": 2
}
